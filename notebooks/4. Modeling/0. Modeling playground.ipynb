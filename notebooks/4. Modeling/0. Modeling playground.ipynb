{
 "cells": [
  {
   "cell_type": "markdown",
   "metadata": {},
   "source": [
    "# MBTI Project - Modeling (step 5)\n",
    "<br>"
   ]
  },
  {
   "cell_type": "markdown",
   "metadata": {},
   "source": [
    "<div class=\"span5 alert alert-info\">\n",
    "<h3>Introduction</h3>\n",
    "    <p>This notebook contains the <b>Modeling</b> step which comes after the <b>Feature Engineering & Preprocessing</b> step. The main goal of this step involves selecting, training and deploying a model to make predictive insights.<p>\n",
    "</div>"
   ]
  },
  {
   "cell_type": "markdown",
   "metadata": {},
   "source": [
    "<div class=\"span5 alert alert-danger\">\n",
    "\n",
    "<h3>Disclaimer</h3>\n",
    "    <p>The purpose of this notebook is to go over certain aspects of Natural Language Processing. There might be some parts of the notebook that do not have particular use for the future of this project but they are useful for learning purposes so I left them inside. I also would like to mention that some of the code here is recycled from online articles and notebooks on GitHub, I will try to mention every source as best as possible.\n",
    "</div>"
   ]
  },
  {
   "cell_type": "markdown",
   "metadata": {},
   "source": [
    "<a id=top><a>"
   ]
  },
  {
   "cell_type": "markdown",
   "metadata": {},
   "source": [
    "<br>\n",
    "\n",
    "### Table of Contents\n",
    "\n",
    "- [Summarized goals](#goals)\n",
    "- [Importing Libraries](#importing)\n",
    "- [Review of our Dataset](#review)\n",
    "- [Models Introduction](#model)\n",
    "- [Parameters and Models](#parameters)\n",
    "- [Stopwords](#stopwords)\n",
    "- [Train Test Split](#train_test)\n",
    "- [CountVectorizer and tf-id](#cv)\n",
    "- [Report Function](#report)\n",
    "- [Let's Start Modeling](#modeling) Every model is created with CountVectorizer, TF-IDF words, TF-IDF n_grams, TF-IDF characters\n",
    "    - [MACHINE LEARNING](#ml)\n",
    "        - [Multinomial Naive Bayes Models](#nb)  \n",
    "        - [Logistic Regression](#lr)  \n",
    "        - [Support Vector Machines](#svm)  \n",
    "        - [K-Nearest Neightbors](#knn)  \n",
    "        - [Random Forest](#NB)      \n",
    "        - [Stocastic Gradient Descent](#sgd)\n",
    "        - [Boosting](#boost)\n",
    "            - [Gradient Boosting Classifier](#gbc)\n",
    "            - [Catboost](#cb)\n",
    "            - [Adaboost](#ab)        \n",
    "            - [LightGBM](#lgbm)        \n",
    "    - [DEEP LEARNING](#dl)\n",
    "        - [Shallow Neural Network](#snn)\n",
    "        - [Deep Neural Network](#dnn)\n",
    "        - [Transformers](#trans)\n",
    "            - [Analytics Vidya Example](#vidya)\n",
    "            - [Paperspace Example](#paperspace)         \n",
    "        \n",
    "        \n",
    "**Best models - Tunning**\n",
    "- [Logistic Regression Models](#logistic)\n",
    "    - [1st Model Logistic Regression with ContVectorizer](#logistic_cv)\n",
    "    - [2nd Model Logistic Regression with with TF-IDF](#logistic_tf)\n",
    "    - [3rd Model Logistic Regression with Google's trained Word2Vec model](#logistic_wv)        \n",
    "- [Multinomial Naive Bayes Models](#naive_bayes)\n",
    "    - [1st Model MultinomialNB](#multinomial)\n",
    "    - [2nd Model MultinomialNB with Cross Validation](#multinomial2)    "
   ]
  },
  {
   "cell_type": "markdown",
   "metadata": {},
   "source": [
    "<a id=goals></a>"
   ]
  },
  {
   "cell_type": "markdown",
   "metadata": {},
   "source": [
    "## Summarized Goals\n",
    "***"
   ]
  },
  {
   "cell_type": "markdown",
   "metadata": {},
   "source": [
    "Find the best model that classifies each post into the pair of attributes of the MBTI:\n",
    " - Introversion vs. Extraversion (I vs. E)\n",
    " - Intuition vs. Sensing (N vs. S)\n",
    " - Thinking vs. Feeling (T vs. F)\n",
    " - Judging vs. Perceiving (J vs. P)"
   ]
  },
  {
   "cell_type": "markdown",
   "metadata": {},
   "source": [
    "<a id=importing></a>"
   ]
  },
  {
   "cell_type": "markdown",
   "metadata": {},
   "source": [
    "## Imports\n",
    "***"
   ]
  },
  {
   "cell_type": "code",
   "execution_count": 1,
   "metadata": {},
   "outputs": [
    {
     "name": "stderr",
     "output_type": "stream",
     "text": [
      "/Users/diego/.pyenv/versions/venv-MBTI/lib/python3.8/site-packages/tqdm/std.py:668: FutureWarning: The Panel class is removed from pandas. Accessing it from the top-level namespace will also be removed in the next version\n",
      "  from pandas import Panel\n"
     ]
    }
   ],
   "source": [
    "# data wrangiling libraries\n",
    "import pandas as pd\n",
    "import numpy as np\n",
    "\n",
    "# visualization libraries\n",
    "import matplotlib.pyplot as plt\n",
    "import matplotlib.ticker as mtick\n",
    "import matplotlib.transforms\n",
    "from matplotlib.patches import Patch\n",
    "import seaborn as sns\n",
    "\n",
    "%matplotlib inline\n",
    "sns.set() #\n",
    "\n",
    "# natural language processing libraries\n",
    "import nltk\n",
    "import nltk.corpus \n",
    "import textstat\n",
    "\n",
    "# other libraries\n",
    "import os\n",
    "import re\n",
    "import random\n",
    "import string\n",
    "import pickle\n",
    "import itertools\n",
    "from tqdm import tqdm, tqdm_pandas\n",
    "tqdm.pandas(desc=\"Progress!\")\n",
    "import time\n",
    "import warnings\n",
    "pd.options.mode.chained_assignment = None  # default='warn'"
   ]
  },
  {
   "cell_type": "code",
   "execution_count": 2,
   "metadata": {},
   "outputs": [],
   "source": [
    "df = pd.read_csv('../../data/mbti_nlp.csv', index_col=0)"
   ]
  },
  {
   "cell_type": "markdown",
   "metadata": {},
   "source": [
    "<a id=review></a>"
   ]
  },
  {
   "cell_type": "markdown",
   "metadata": {},
   "source": [
    "<br>\n",
    "\n",
    "\n",
    "## Reviewing our Dataset\n",
    "***"
   ]
  },
  {
   "cell_type": "code",
   "execution_count": 3,
   "metadata": {},
   "outputs": [
    {
     "data": {
      "text/plain": [
       "Index(['type', 'type_label', 'posts', 'I', 'J', 'N', 'T', 'NF', 'NT', 'SP',\n",
       "       'SJ', 'text_clean', 'pos_tags', 'syllabel_count', 'lexicon_count',\n",
       "       'sentence_count', 'flesch_reading', 'Flesch_Kincaid_Grade_Level',\n",
       "       'Fog_Scale', 'Automated_Readability', 'Coleman_Liau',\n",
       "       'Linsear_Write_Formula', 'Dale_Chall_Readability_Score',\n",
       "       'readability_consensus', 'text_clean_joined'],\n",
       "      dtype='object')"
      ]
     },
     "execution_count": 3,
     "metadata": {},
     "output_type": "execute_result"
    }
   ],
   "source": [
    "df.columns"
   ]
  },
  {
   "cell_type": "code",
   "execution_count": 4,
   "metadata": {},
   "outputs": [
    {
     "data": {
      "text/html": [
       "<div>\n",
       "<style scoped>\n",
       "    .dataframe tbody tr th:only-of-type {\n",
       "        vertical-align: middle;\n",
       "    }\n",
       "\n",
       "    .dataframe tbody tr th {\n",
       "        vertical-align: top;\n",
       "    }\n",
       "\n",
       "    .dataframe thead th {\n",
       "        text-align: right;\n",
       "    }\n",
       "</style>\n",
       "<table border=\"1\" class=\"dataframe\">\n",
       "  <thead>\n",
       "    <tr style=\"text-align: right;\">\n",
       "      <th></th>\n",
       "      <th>type</th>\n",
       "      <th>type_label</th>\n",
       "      <th>posts</th>\n",
       "      <th>I</th>\n",
       "      <th>J</th>\n",
       "      <th>N</th>\n",
       "      <th>T</th>\n",
       "      <th>NF</th>\n",
       "      <th>NT</th>\n",
       "      <th>SP</th>\n",
       "      <th>...</th>\n",
       "      <th>sentence_count</th>\n",
       "      <th>flesch_reading</th>\n",
       "      <th>Flesch_Kincaid_Grade_Level</th>\n",
       "      <th>Fog_Scale</th>\n",
       "      <th>Automated_Readability</th>\n",
       "      <th>Coleman_Liau</th>\n",
       "      <th>Linsear_Write_Formula</th>\n",
       "      <th>Dale_Chall_Readability_Score</th>\n",
       "      <th>readability_consensus</th>\n",
       "      <th>text_clean_joined</th>\n",
       "    </tr>\n",
       "  </thead>\n",
       "  <tbody>\n",
       "    <tr>\n",
       "      <th>0</th>\n",
       "      <td>INFJ</td>\n",
       "      <td>8</td>\n",
       "      <td>'http://www.youtube.com/watch?v=qsXHcwe3krw|||...</td>\n",
       "      <td>1</td>\n",
       "      <td>1</td>\n",
       "      <td>1</td>\n",
       "      <td>0</td>\n",
       "      <td>1</td>\n",
       "      <td>0</td>\n",
       "      <td>0</td>\n",
       "      <td>...</td>\n",
       "      <td>15</td>\n",
       "      <td>25.36</td>\n",
       "      <td>18.9</td>\n",
       "      <td>18.08</td>\n",
       "      <td>31.6</td>\n",
       "      <td>20.43</td>\n",
       "      <td>11.333333</td>\n",
       "      <td>9.00</td>\n",
       "      <td>18th and 19th grade</td>\n",
       "      <td>and intj moment sportscenter not top ten play ...</td>\n",
       "    </tr>\n",
       "    <tr>\n",
       "      <th>1</th>\n",
       "      <td>ENTP</td>\n",
       "      <td>3</td>\n",
       "      <td>'I'm finding the lack of me in these posts ver...</td>\n",
       "      <td>0</td>\n",
       "      <td>0</td>\n",
       "      <td>1</td>\n",
       "      <td>1</td>\n",
       "      <td>0</td>\n",
       "      <td>1</td>\n",
       "      <td>0</td>\n",
       "      <td>...</td>\n",
       "      <td>65</td>\n",
       "      <td>70.23</td>\n",
       "      <td>7.9</td>\n",
       "      <td>8.98</td>\n",
       "      <td>11.2</td>\n",
       "      <td>8.99</td>\n",
       "      <td>12.400000</td>\n",
       "      <td>6.53</td>\n",
       "      <td>8th and 9th grade</td>\n",
       "      <td>i m finding the lack of me in these post very ...</td>\n",
       "    </tr>\n",
       "    <tr>\n",
       "      <th>2</th>\n",
       "      <td>INTP</td>\n",
       "      <td>11</td>\n",
       "      <td>'Good one  _____   https://www.youtube.com/wat...</td>\n",
       "      <td>1</td>\n",
       "      <td>0</td>\n",
       "      <td>1</td>\n",
       "      <td>1</td>\n",
       "      <td>0</td>\n",
       "      <td>1</td>\n",
       "      <td>0</td>\n",
       "      <td>...</td>\n",
       "      <td>30</td>\n",
       "      <td>52.02</td>\n",
       "      <td>12.8</td>\n",
       "      <td>13.18</td>\n",
       "      <td>17.4</td>\n",
       "      <td>11.03</td>\n",
       "      <td>11.600000</td>\n",
       "      <td>7.45</td>\n",
       "      <td>12th and 13th grade</td>\n",
       "      <td>good one course to which i say i know that s m...</td>\n",
       "    </tr>\n",
       "    <tr>\n",
       "      <th>3</th>\n",
       "      <td>INTJ</td>\n",
       "      <td>10</td>\n",
       "      <td>'Dear INTP,   I enjoyed our conversation the o...</td>\n",
       "      <td>1</td>\n",
       "      <td>1</td>\n",
       "      <td>1</td>\n",
       "      <td>1</td>\n",
       "      <td>0</td>\n",
       "      <td>1</td>\n",
       "      <td>0</td>\n",
       "      <td>...</td>\n",
       "      <td>43</td>\n",
       "      <td>54.86</td>\n",
       "      <td>11.7</td>\n",
       "      <td>12.89</td>\n",
       "      <td>13.8</td>\n",
       "      <td>8.71</td>\n",
       "      <td>13.000000</td>\n",
       "      <td>7.34</td>\n",
       "      <td>11th and 12th grade</td>\n",
       "      <td>dear intp i enjoyed our conversation the other...</td>\n",
       "    </tr>\n",
       "    <tr>\n",
       "      <th>4</th>\n",
       "      <td>ENTJ</td>\n",
       "      <td>2</td>\n",
       "      <td>'You're fired.|||That's another silly misconce...</td>\n",
       "      <td>0</td>\n",
       "      <td>1</td>\n",
       "      <td>1</td>\n",
       "      <td>1</td>\n",
       "      <td>0</td>\n",
       "      <td>1</td>\n",
       "      <td>0</td>\n",
       "      <td>...</td>\n",
       "      <td>54</td>\n",
       "      <td>61.77</td>\n",
       "      <td>9.1</td>\n",
       "      <td>10.23</td>\n",
       "      <td>12.5</td>\n",
       "      <td>10.55</td>\n",
       "      <td>6.555556</td>\n",
       "      <td>7.26</td>\n",
       "      <td>10th and 11th grade</td>\n",
       "      <td>you re fired that s another silly misconceptio...</td>\n",
       "    </tr>\n",
       "  </tbody>\n",
       "</table>\n",
       "<p>5 rows × 25 columns</p>\n",
       "</div>"
      ],
      "text/plain": [
       "   type  type_label                                              posts  I  J  \\\n",
       "0  INFJ           8  'http://www.youtube.com/watch?v=qsXHcwe3krw|||...  1  1   \n",
       "1  ENTP           3  'I'm finding the lack of me in these posts ver...  0  0   \n",
       "2  INTP          11  'Good one  _____   https://www.youtube.com/wat...  1  0   \n",
       "3  INTJ          10  'Dear INTP,   I enjoyed our conversation the o...  1  1   \n",
       "4  ENTJ           2  'You're fired.|||That's another silly misconce...  0  1   \n",
       "\n",
       "   N  T  NF  NT  SP  ...  sentence_count flesch_reading  \\\n",
       "0  1  0   1   0   0  ...              15          25.36   \n",
       "1  1  1   0   1   0  ...              65          70.23   \n",
       "2  1  1   0   1   0  ...              30          52.02   \n",
       "3  1  1   0   1   0  ...              43          54.86   \n",
       "4  1  1   0   1   0  ...              54          61.77   \n",
       "\n",
       "  Flesch_Kincaid_Grade_Level  Fog_Scale  Automated_Readability  Coleman_Liau  \\\n",
       "0                       18.9      18.08                   31.6         20.43   \n",
       "1                        7.9       8.98                   11.2          8.99   \n",
       "2                       12.8      13.18                   17.4         11.03   \n",
       "3                       11.7      12.89                   13.8          8.71   \n",
       "4                        9.1      10.23                   12.5         10.55   \n",
       "\n",
       "   Linsear_Write_Formula  Dale_Chall_Readability_Score  readability_consensus  \\\n",
       "0              11.333333                          9.00    18th and 19th grade   \n",
       "1              12.400000                          6.53      8th and 9th grade   \n",
       "2              11.600000                          7.45    12th and 13th grade   \n",
       "3              13.000000                          7.34    11th and 12th grade   \n",
       "4               6.555556                          7.26    10th and 11th grade   \n",
       "\n",
       "                                   text_clean_joined  \n",
       "0  and intj moment sportscenter not top ten play ...  \n",
       "1  i m finding the lack of me in these post very ...  \n",
       "2  good one course to which i say i know that s m...  \n",
       "3  dear intp i enjoyed our conversation the other...  \n",
       "4  you re fired that s another silly misconceptio...  \n",
       "\n",
       "[5 rows x 25 columns]"
      ]
     },
     "execution_count": 4,
     "metadata": {},
     "output_type": "execute_result"
    }
   ],
   "source": [
    "df.head()"
   ]
  },
  {
   "cell_type": "markdown",
   "metadata": {},
   "source": [
    "<a id=model></a>"
   ]
  },
  {
   "cell_type": "code",
   "execution_count": 5,
   "metadata": {},
   "outputs": [
    {
     "data": {
      "text/html": [
       "<div>\n",
       "<style scoped>\n",
       "    .dataframe tbody tr th:only-of-type {\n",
       "        vertical-align: middle;\n",
       "    }\n",
       "\n",
       "    .dataframe tbody tr th {\n",
       "        vertical-align: top;\n",
       "    }\n",
       "\n",
       "    .dataframe thead th {\n",
       "        text-align: right;\n",
       "    }\n",
       "</style>\n",
       "<table border=\"1\" class=\"dataframe\">\n",
       "  <thead>\n",
       "    <tr style=\"text-align: right;\">\n",
       "      <th></th>\n",
       "      <th>type_label</th>\n",
       "      <th>I</th>\n",
       "      <th>J</th>\n",
       "      <th>N</th>\n",
       "      <th>T</th>\n",
       "      <th>NF</th>\n",
       "      <th>NT</th>\n",
       "      <th>SP</th>\n",
       "      <th>SJ</th>\n",
       "      <th>syllabel_count</th>\n",
       "      <th>lexicon_count</th>\n",
       "      <th>sentence_count</th>\n",
       "      <th>flesch_reading</th>\n",
       "      <th>Flesch_Kincaid_Grade_Level</th>\n",
       "      <th>Fog_Scale</th>\n",
       "      <th>Automated_Readability</th>\n",
       "      <th>Coleman_Liau</th>\n",
       "      <th>Linsear_Write_Formula</th>\n",
       "      <th>Dale_Chall_Readability_Score</th>\n",
       "    </tr>\n",
       "  </thead>\n",
       "  <tbody>\n",
       "    <tr>\n",
       "      <th>count</th>\n",
       "      <td>8675.000000</td>\n",
       "      <td>8675.000000</td>\n",
       "      <td>8675.000000</td>\n",
       "      <td>8675.000000</td>\n",
       "      <td>8675.000000</td>\n",
       "      <td>8675.000000</td>\n",
       "      <td>8675.000000</td>\n",
       "      <td>8675.000000</td>\n",
       "      <td>8675.000000</td>\n",
       "      <td>8675.000000</td>\n",
       "      <td>8675.000000</td>\n",
       "      <td>8675.000000</td>\n",
       "      <td>8675.000000</td>\n",
       "      <td>8675.000000</td>\n",
       "      <td>8675.000000</td>\n",
       "      <td>8675.000000</td>\n",
       "      <td>8675.000000</td>\n",
       "      <td>8675.000000</td>\n",
       "      <td>8675.000000</td>\n",
       "    </tr>\n",
       "    <tr>\n",
       "      <th>mean</th>\n",
       "      <td>8.230432</td>\n",
       "      <td>0.769568</td>\n",
       "      <td>0.395850</td>\n",
       "      <td>0.862017</td>\n",
       "      <td>0.458905</td>\n",
       "      <td>0.480346</td>\n",
       "      <td>0.381671</td>\n",
       "      <td>0.085879</td>\n",
       "      <td>0.052104</td>\n",
       "      <td>1749.386282</td>\n",
       "      <td>1219.609222</td>\n",
       "      <td>43.757925</td>\n",
       "      <td>15.017684</td>\n",
       "      <td>28.055424</td>\n",
       "      <td>29.633759</td>\n",
       "      <td>36.306190</td>\n",
       "      <td>9.750409</td>\n",
       "      <td>13.645152</td>\n",
       "      <td>9.159010</td>\n",
       "    </tr>\n",
       "    <tr>\n",
       "      <th>std</th>\n",
       "      <td>3.762924</td>\n",
       "      <td>0.421134</td>\n",
       "      <td>0.489061</td>\n",
       "      <td>0.344902</td>\n",
       "      <td>0.498337</td>\n",
       "      <td>0.499642</td>\n",
       "      <td>0.485825</td>\n",
       "      <td>0.280201</td>\n",
       "      <td>0.222249</td>\n",
       "      <td>418.831239</td>\n",
       "      <td>310.454862</td>\n",
       "      <td>24.590076</td>\n",
       "      <td>157.747792</td>\n",
       "      <td>59.769048</td>\n",
       "      <td>61.113524</td>\n",
       "      <td>77.207695</td>\n",
       "      <td>11.518357</td>\n",
       "      <td>10.564567</td>\n",
       "      <td>7.618835</td>\n",
       "    </tr>\n",
       "    <tr>\n",
       "      <th>min</th>\n",
       "      <td>0.000000</td>\n",
       "      <td>0.000000</td>\n",
       "      <td>0.000000</td>\n",
       "      <td>0.000000</td>\n",
       "      <td>0.000000</td>\n",
       "      <td>0.000000</td>\n",
       "      <td>0.000000</td>\n",
       "      <td>0.000000</td>\n",
       "      <td>0.000000</td>\n",
       "      <td>6.000000</td>\n",
       "      <td>4.000000</td>\n",
       "      <td>1.000000</td>\n",
       "      <td>-1727.450000</td>\n",
       "      <td>3.700000</td>\n",
       "      <td>1.600000</td>\n",
       "      <td>4.900000</td>\n",
       "      <td>4.170000</td>\n",
       "      <td>2.000000</td>\n",
       "      <td>0.200000</td>\n",
       "    </tr>\n",
       "    <tr>\n",
       "      <th>25%</th>\n",
       "      <td>8.000000</td>\n",
       "      <td>1.000000</td>\n",
       "      <td>0.000000</td>\n",
       "      <td>1.000000</td>\n",
       "      <td>0.000000</td>\n",
       "      <td>0.000000</td>\n",
       "      <td>0.000000</td>\n",
       "      <td>0.000000</td>\n",
       "      <td>0.000000</td>\n",
       "      <td>1503.500000</td>\n",
       "      <td>1042.000000</td>\n",
       "      <td>25.000000</td>\n",
       "      <td>40.295000</td>\n",
       "      <td>9.400000</td>\n",
       "      <td>10.780000</td>\n",
       "      <td>12.000000</td>\n",
       "      <td>8.030000</td>\n",
       "      <td>7.571429</td>\n",
       "      <td>6.700000</td>\n",
       "    </tr>\n",
       "    <tr>\n",
       "      <th>50%</th>\n",
       "      <td>9.000000</td>\n",
       "      <td>1.000000</td>\n",
       "      <td>0.000000</td>\n",
       "      <td>1.000000</td>\n",
       "      <td>0.000000</td>\n",
       "      <td>0.000000</td>\n",
       "      <td>0.000000</td>\n",
       "      <td>0.000000</td>\n",
       "      <td>0.000000</td>\n",
       "      <td>1821.000000</td>\n",
       "      <td>1271.000000</td>\n",
       "      <td>45.000000</td>\n",
       "      <td>57.230000</td>\n",
       "      <td>11.700000</td>\n",
       "      <td>13.060000</td>\n",
       "      <td>15.200000</td>\n",
       "      <td>8.990000</td>\n",
       "      <td>11.200000</td>\n",
       "      <td>7.170000</td>\n",
       "    </tr>\n",
       "    <tr>\n",
       "      <th>75%</th>\n",
       "      <td>11.000000</td>\n",
       "      <td>1.000000</td>\n",
       "      <td>1.000000</td>\n",
       "      <td>1.000000</td>\n",
       "      <td>1.000000</td>\n",
       "      <td>1.000000</td>\n",
       "      <td>1.000000</td>\n",
       "      <td>0.000000</td>\n",
       "      <td>0.000000</td>\n",
       "      <td>2059.000000</td>\n",
       "      <td>1449.000000</td>\n",
       "      <td>61.000000</td>\n",
       "      <td>65.860000</td>\n",
       "      <td>17.400000</td>\n",
       "      <td>18.500000</td>\n",
       "      <td>23.100000</td>\n",
       "      <td>10.110000</td>\n",
       "      <td>15.000000</td>\n",
       "      <td>7.990000</td>\n",
       "    </tr>\n",
       "    <tr>\n",
       "      <th>max</th>\n",
       "      <td>15.000000</td>\n",
       "      <td>1.000000</td>\n",
       "      <td>1.000000</td>\n",
       "      <td>1.000000</td>\n",
       "      <td>1.000000</td>\n",
       "      <td>1.000000</td>\n",
       "      <td>1.000000</td>\n",
       "      <td>1.000000</td>\n",
       "      <td>1.000000</td>\n",
       "      <td>2614.000000</td>\n",
       "      <td>1881.000000</td>\n",
       "      <td>135.000000</td>\n",
       "      <td>92.020000</td>\n",
       "      <td>698.600000</td>\n",
       "      <td>717.520000</td>\n",
       "      <td>894.000000</td>\n",
       "      <td>697.100000</td>\n",
       "      <td>92.000000</td>\n",
       "      <td>94.180000</td>\n",
       "    </tr>\n",
       "  </tbody>\n",
       "</table>\n",
       "</div>"
      ],
      "text/plain": [
       "        type_label            I            J            N            T  \\\n",
       "count  8675.000000  8675.000000  8675.000000  8675.000000  8675.000000   \n",
       "mean      8.230432     0.769568     0.395850     0.862017     0.458905   \n",
       "std       3.762924     0.421134     0.489061     0.344902     0.498337   \n",
       "min       0.000000     0.000000     0.000000     0.000000     0.000000   \n",
       "25%       8.000000     1.000000     0.000000     1.000000     0.000000   \n",
       "50%       9.000000     1.000000     0.000000     1.000000     0.000000   \n",
       "75%      11.000000     1.000000     1.000000     1.000000     1.000000   \n",
       "max      15.000000     1.000000     1.000000     1.000000     1.000000   \n",
       "\n",
       "                NF           NT           SP           SJ  syllabel_count  \\\n",
       "count  8675.000000  8675.000000  8675.000000  8675.000000     8675.000000   \n",
       "mean      0.480346     0.381671     0.085879     0.052104     1749.386282   \n",
       "std       0.499642     0.485825     0.280201     0.222249      418.831239   \n",
       "min       0.000000     0.000000     0.000000     0.000000        6.000000   \n",
       "25%       0.000000     0.000000     0.000000     0.000000     1503.500000   \n",
       "50%       0.000000     0.000000     0.000000     0.000000     1821.000000   \n",
       "75%       1.000000     1.000000     0.000000     0.000000     2059.000000   \n",
       "max       1.000000     1.000000     1.000000     1.000000     2614.000000   \n",
       "\n",
       "       lexicon_count  sentence_count  flesch_reading  \\\n",
       "count    8675.000000     8675.000000     8675.000000   \n",
       "mean     1219.609222       43.757925       15.017684   \n",
       "std       310.454862       24.590076      157.747792   \n",
       "min         4.000000        1.000000    -1727.450000   \n",
       "25%      1042.000000       25.000000       40.295000   \n",
       "50%      1271.000000       45.000000       57.230000   \n",
       "75%      1449.000000       61.000000       65.860000   \n",
       "max      1881.000000      135.000000       92.020000   \n",
       "\n",
       "       Flesch_Kincaid_Grade_Level    Fog_Scale  Automated_Readability  \\\n",
       "count                 8675.000000  8675.000000            8675.000000   \n",
       "mean                    28.055424    29.633759              36.306190   \n",
       "std                     59.769048    61.113524              77.207695   \n",
       "min                      3.700000     1.600000               4.900000   \n",
       "25%                      9.400000    10.780000              12.000000   \n",
       "50%                     11.700000    13.060000              15.200000   \n",
       "75%                     17.400000    18.500000              23.100000   \n",
       "max                    698.600000   717.520000             894.000000   \n",
       "\n",
       "       Coleman_Liau  Linsear_Write_Formula  Dale_Chall_Readability_Score  \n",
       "count   8675.000000            8675.000000                   8675.000000  \n",
       "mean       9.750409              13.645152                      9.159010  \n",
       "std       11.518357              10.564567                      7.618835  \n",
       "min        4.170000               2.000000                      0.200000  \n",
       "25%        8.030000               7.571429                      6.700000  \n",
       "50%        8.990000              11.200000                      7.170000  \n",
       "75%       10.110000              15.000000                      7.990000  \n",
       "max      697.100000              92.000000                     94.180000  "
      ]
     },
     "execution_count": 5,
     "metadata": {},
     "output_type": "execute_result"
    }
   ],
   "source": [
    "df.describe()"
   ]
  },
  {
   "cell_type": "markdown",
   "metadata": {},
   "source": [
    "<br>\n",
    "\n",
    "## Models Introduction\n",
    "***"
   ]
  },
  {
   "cell_type": "markdown",
   "metadata": {},
   "source": [
    "<br>\n",
    "<div class=\"span5 alert alert-danger\">\n",
    "    <p>NOTE: After playing around with the code below I saw that 16 categories were too many for the model to classify. I decided to start small by only comparing each individual attribute which allows us to have only two groups (Extraverts vs Introverts / Innutition vs. Sensing / Thinking vs. Feeling / Perceiving vs. Judging).<p>\n",
    "</div>"
   ]
  },
  {
   "cell_type": "code",
   "execution_count": 6,
   "metadata": {},
   "outputs": [],
   "source": [
    "# This piece generates four dataframes one for each pair of attributes\n",
    "I = df[['I','text_clean_joined']]\n",
    "N = df[['N','text_clean_joined']]\n",
    "T = df[['T','text_clean_joined']]\n",
    "J = df[['J','text_clean_joined']]"
   ]
  },
  {
   "cell_type": "markdown",
   "metadata": {},
   "source": [
    "Here I will write down what my final goal and the process I plan to follow. I guess I will have to go back and forth again and again but I need a road map.\n",
    "\n",
    "**Goal:** Use machine learning and deep learning models to classify each observation into:\n",
    " - Extraverts (E) vs Introverts (I)\n",
    " - Innutition (N) vs. Sensing (S)\n",
    " - Thinking (T) vs. Feeling (F)\n",
    " - Perceiving (P) vs. Judging (J)\n",
    " \n",
    " \n",
    "**Process:**\n",
    " - Train/Test Split\n",
    " - Consider the possibilities among:\n",
    "  - Using CountVectorizer vs. TF-IDF n-grams(2,3)\n",
    "  - Using GridSearchCV vs RandomizedSearchCV vs. Auto-Tuning\n",
    "  - Deciding metrics for evaluation\n",
    "  - Decide on pretrained models (fastText)\n",
    "  - Creating Machine Learning and Deep Learning models\n",
    "     - Machine Learning:\n",
    "        - Logistic Regression\n",
    "        - Multinomial Naive Bayes\n",
    "        - SVM\n",
    "        - k-NN\n",
    "        - Stochastic Gradient Descent\n",
    "        - Gradient Boosting (XGBoostm, Adaboost, Catboost, LightGBM)\n",
    "        - ExtraTrees Classifier.\n",
    "     - Deep Learning:\n",
    "        - Shallow Network\n",
    "        - Deep Neaural Network\n",
    "        - RNN\n",
    "        - CNN\n",
    "        - LSTM / CNN-LSTM\n",
    "        - GRU / CNN-GRU\n",
    "        - Bidirectional RNN / Bidirectional LSTM / Bidirectional GRU \n",
    "        - RCNN \n",
    "        - Transformers \n",
    " - Save results\n",
    " - Final model selection\n",
    " - Conclusion\n",
    "      "
   ]
  },
  {
   "cell_type": "markdown",
   "metadata": {},
   "source": [
    "**Note** I will be using `Christophe Pere's` notebook as the basis for this model. All credits go to him, [here is the original notebook](https://github.com/Christophe-pere/Model-Selection/blob/master/Text_Classification_Compare_Models.ipynb) and here is his [TowardsDataScience article](https://towardsdatascience.com/model-selection-in-text-classification-ac13eedf6146)"
   ]
  },
  {
   "cell_type": "code",
   "execution_count": 7,
   "metadata": {},
   "outputs": [
    {
     "name": "stdout",
     "output_type": "stream",
     "text": [
      "0.23.2\n"
     ]
    }
   ],
   "source": [
    "import glob\n",
    "import sklearn\n",
    "from sklearn.utils import class_weight\n",
    "from sklearn.model_selection import train_test_split\n",
    "from sklearn import model_selection, preprocessing, linear_model, naive_bayes, metrics, svm\n",
    "from sklearn.feature_extraction.text import TfidfVectorizer, CountVectorizer\n",
    "from sklearn.feature_extraction.text import TfidfTransformer\n",
    "from sklearn import decomposition, ensemble\n",
    "from sklearn.pipeline import Pipeline\n",
    "from sklearn.metrics import accuracy_score\n",
    "from sklearn import tree\n",
    "from sklearn.metrics import classification_report\n",
    "from sklearn.metrics import confusion_matrix\n",
    "from sklearn.metrics import cohen_kappa_score\n",
    "from sklearn.metrics import precision_score\n",
    "from sklearn.model_selection import cross_validate\n",
    "from sklearn.linear_model import SGDClassifier\n",
    "from sklearn.metrics import matthews_corrcoef\n",
    "from sklearn.metrics import roc_auc_score\n",
    "from sklearn.neighbors import KNeighborsClassifier\n",
    "from sklearn.model_selection import StratifiedKFold\n",
    "from sklearn.metrics import balanced_accuracy_score, recall_score, f1_score\n",
    "from sklearn.metrics import make_scorer\n",
    "from sklearn.ensemble import AdaBoostClassifier\n",
    "from sklearn.ensemble import ExtraTreesClassifier\n",
    "\n",
    "print(sklearn.__version__)"
   ]
  },
  {
   "cell_type": "code",
   "execution_count": 8,
   "metadata": {},
   "outputs": [
    {
     "name": "stdout",
     "output_type": "stream",
     "text": [
      "2.3.1\n"
     ]
    }
   ],
   "source": [
    "import tensorflow as tf\n",
    "from tensorflow import keras\n",
    "from tensorflow.keras.preprocessing.text import Tokenizer\n",
    "from tensorflow.keras.preprocessing import sequence\n",
    "from tensorflow.keras.preprocessing.text import text_to_word_sequence\n",
    "from tensorflow.keras.utils import to_categorical\n",
    "\n",
    "print(tf.__version__)"
   ]
  },
  {
   "cell_type": "code",
   "execution_count": 9,
   "metadata": {},
   "outputs": [],
   "source": [
    "from lightgbm import LGBMClassifier\n",
    "from catboost import CatBoostClassifier\n",
    "from xgboost import XGBClassifier"
   ]
  },
  {
   "cell_type": "code",
   "execution_count": 10,
   "metadata": {},
   "outputs": [],
   "source": [
    "import fasttext\n",
    "import fasttext.util"
   ]
  },
  {
   "cell_type": "code",
   "execution_count": 11,
   "metadata": {},
   "outputs": [],
   "source": [
    "# Functions to extract the true, false positive and true false negative\n",
    "def tn(y_true, y_pred): return confusion_matrix(y_true, y_pred)[0, 0]\n",
    "def fp(y_true, y_pred): return confusion_matrix(y_true, y_pred)[0, 1]\n",
    "def fn(y_true, y_pred): return confusion_matrix(y_true, y_pred)[1, 0]\n",
    "def tp(y_true, y_pred): return confusion_matrix(y_true, y_pred)[1, 1]"
   ]
  },
  {
   "cell_type": "markdown",
   "metadata": {},
   "source": [
    "<a id=parameters></a>"
   ]
  },
  {
   "cell_type": "markdown",
   "metadata": {},
   "source": [
    "## Parameters & Models\n",
    "***"
   ]
  },
  {
   "cell_type": "code",
   "execution_count": 12,
   "metadata": {},
   "outputs": [],
   "source": [
    "TEXT           = \"text_clean_joined\"\n",
    "LABEL          = \"T\"\n",
    "NAME_SAVE_FILE = \"model_selection_results\" # put just the name the .csv will be added at the end\n",
    "\n",
    "# global parameters\n",
    "num_gpu                = len(tf.config.experimental.list_physical_devices('GPU'))   # detect the number of gpu\n",
    "CV_splits              = 5        # Number of splits for cross-validation and k-folds\n",
    "save_results           = True     # if you want an output file containing all the results\n",
    "lang                   = False    # test if you want to use Google API detection (you will need to \"import from googletrans import Translator\")\n",
    "sample                 = True     # use just a sample of data\n",
    "nb_sample              = 6000     # default value of rows if sample selected\n",
    "save_model             = True     # concat all the data representation\n",
    "root_dir               = \"models/\"       # Place here the path where you want your models stored or use /path/to/your/folder/"
   ]
  },
  {
   "cell_type": "code",
   "execution_count": 13,
   "metadata": {},
   "outputs": [],
   "source": [
    "# These are the names how the files will be saved as \n",
    "NAME_ENCODER                  = \"encoder.sav\"\n",
    "NAME_COUNT_VECT_MODEL         = \"count_vect_model.sav\"\n",
    "NAME_TF_IDF_MODEL             = \"TF_IDF_model.sav\"\n",
    "NAME_TF_IDF_NGRAM_MODEL       = \"TF_IDF_ngram_model.sav\"\n",
    "NAME_TF_IDF_NGRAM_CHAR_MODEL  = \"TF_IDF_ngram_chars_model.sav\"\n",
    "NAME_TOKEN_EMBEDDINGS         = \"token_embeddings.sav\""
   ]
  },
  {
   "cell_type": "code",
   "execution_count": 16,
   "metadata": {},
   "outputs": [],
   "source": [
    "# models \n",
    "multinomial_naive_bayes= True\n",
    "logistic_regression    = True\n",
    "svm_model              = True\n",
    "k_nn_model             = True\n",
    "sgd                    = True\n",
    "random_forest          = True\n",
    "gradient_boosting      = True\n",
    "xgboost_classifier     = True\n",
    "adaboost_classifier    = True \n",
    "catboost_classifier    = True \n",
    "lightgbm_classifier    = False \n",
    "extratrees_classifier  = True\n",
    "shallow_network        = True\n",
    "deep_nn                = True\n",
    "rnn                    = True\n",
    "lstm                   = True\n",
    "cnn                    = True\n",
    "gru                    = True\n",
    "cnn_lstm               = True\n",
    "cnn_gru                = True\n",
    "bidirectional_rnn      = True\n",
    "bidirectional_lstm     = True\n",
    "bidirectional_gru      = True\n",
    "rcnn                   = True\n",
    "transformers           = False\n",
    "pre_trained            = False"
   ]
  },
  {
   "cell_type": "code",
   "execution_count": 14,
   "metadata": {},
   "outputs": [
    {
     "name": "stdout",
     "output_type": "stream",
     "text": [
      "The folder can not be created\n"
     ]
    }
   ],
   "source": [
    "if save_model:\n",
    "    # will create the folder to save all the models\n",
    "    try:\n",
    "        dir_name =  NAME_SAVE_FILE\n",
    "        os.makedirs(os.path.join(root_dir,dir_name))\n",
    "        print(\"The folder is created\")\n",
    "    except:\n",
    "        print(\"The folder can not be created\")"
   ]
  },
  {
   "cell_type": "code",
   "execution_count": 15,
   "metadata": {},
   "outputs": [],
   "source": [
    "# Here you can put all the metrics you want (included in sklearn.metrics).\n",
    "score_metrics = {'acc': accuracy_score,\n",
    "               'balanced_accuracy': balanced_accuracy_score,\n",
    "               'prec': precision_score,\n",
    "               'recall': recall_score,\n",
    "               'f1-score': f1_score,\n",
    "               'tp': tp, 'tn': tn,\n",
    "               'fp': fp, 'fn': fn,\n",
    "               'cohens_kappa':cohen_kappa_score,\n",
    "               'matthews_corrcoef':matthews_corrcoef,\n",
    "               \"roc_auc\":roc_auc_score}"
   ]
  },
  {
   "cell_type": "markdown",
   "metadata": {},
   "source": [
    "`Christophe Pere` has a set of functions to clean the text but we have already done that so I will not add them"
   ]
  },
  {
   "cell_type": "markdown",
   "metadata": {},
   "source": [
    "<a id='stopwords'></a>"
   ]
  },
  {
   "cell_type": "markdown",
   "metadata": {},
   "source": [
    "## Stopwords\n",
    "***"
   ]
  },
  {
   "cell_type": "code",
   "execution_count": 17,
   "metadata": {},
   "outputs": [],
   "source": [
    "# we will do add a remove stop words function\n",
    "def remove_stop_words( x, stop_word):\n",
    "        '''\n",
    "        Function to remove a list of words\n",
    "        @param x : (str) text \n",
    "        @param stop_word: (list) list of stopwords to delete \n",
    "        @return: (str) new string without stopwords \n",
    "        '''\n",
    "        x_new = text_to_word_sequence(x)    # tokenize text \n",
    "        x_ = []\n",
    "        for i in x_new:\n",
    "            if i not in stop_word:\n",
    "                x_.append(i)\n",
    "        return \" \".join(x_)"
   ]
  },
  {
   "cell_type": "code",
   "execution_count": 18,
   "metadata": {},
   "outputs": [],
   "source": [
    "# MBTI types are rarely discussed in day to day converstaions, we will take them out since they would have low prediction power\n",
    "types = [x.lower() for x in df['type'].unique()] \n",
    "types_plural = [x+'s' for x in types]\n",
    "\n",
    "# some words that appear a lot but do not add value\n",
    "additional_stop_words = ['ll','type','fe','ni','na','wa','ve','don','nt','nf', 'ti','se','op','ne'] \n",
    "\n",
    "# We put these together and include the normal stopwords from the English language\n",
    "stop_words = sklearn.feature_extraction.text.ENGLISH_STOP_WORDS.union(additional_stop_words + types + types_plural)"
   ]
  },
  {
   "cell_type": "code",
   "execution_count": 19,
   "metadata": {},
   "outputs": [
    {
     "name": "stderr",
     "output_type": "stream",
     "text": [
      "Progress!: 100%|██████████| 8675/8675 [00:04<00:00, 2156.89it/s]\n",
      "Progress!: 100%|██████████| 8675/8675 [00:02<00:00, 3304.43it/s]\n",
      "Progress!: 100%|██████████| 8675/8675 [00:02<00:00, 3234.90it/s]\n",
      "Progress!: 100%|██████████| 8675/8675 [00:02<00:00, 3247.86it/s]\n"
     ]
    }
   ],
   "source": [
    "I[TEXT] = I.loc[:,TEXT].progress_apply(lambda x : remove_stop_words(x, stop_words))\n",
    "N[TEXT] = N.loc[:,TEXT].progress_apply(lambda x : remove_stop_words(x, stop_words))\n",
    "T[TEXT] = T.loc[:,TEXT].progress_apply(lambda x : remove_stop_words(x, stop_words))\n",
    "J[TEXT] = J.loc[:,TEXT].progress_apply(lambda x : remove_stop_words(x, stop_words))"
   ]
  },
  {
   "cell_type": "markdown",
   "metadata": {},
   "source": [
    "<a id='train_test'></a>"
   ]
  },
  {
   "cell_type": "markdown",
   "metadata": {},
   "source": [
    "## Train Test Split\n",
    "***"
   ]
  },
  {
   "cell_type": "markdown",
   "metadata": {},
   "source": [
    "To keep the code simple (for the time being), I will start by focusing on the `Thinking / Feeling` and later implement the same process for the rest."
   ]
  },
  {
   "cell_type": "code",
   "execution_count": 37,
   "metadata": {},
   "outputs": [],
   "source": [
    "df = T.copy()\n",
    "X_train, X_test, y_train, y_test = train_test_split(df[TEXT], df[LABEL], test_size=0.25, random_state=42, stratify=df[LABEL])"
   ]
  },
  {
   "cell_type": "markdown",
   "metadata": {},
   "source": [
    "**Personal note on stratify:** if variable y is a binary categorical variable with values 0 and 1 and there are 25% of zeros and 75% of ones, stratify=y will make sure that your random split has 25% of 0's and 75% of 1's."
   ]
  },
  {
   "cell_type": "code",
   "execution_count": 38,
   "metadata": {},
   "outputs": [],
   "source": [
    "class_weights = class_weight.compute_class_weight(class_weight='balanced',\n",
    "                                                 classes=np.unique(y_train),\n",
    "                                                 y=y_train)"
   ]
  },
  {
   "cell_type": "code",
   "execution_count": 39,
   "metadata": {},
   "outputs": [
    {
     "name": "stdout",
     "output_type": "stream",
     "text": [
      "Class weight: 0.9241\tclass: 0\n",
      "Class weight: 1.0894\tclass: 1\n"
     ]
    }
   ],
   "source": [
    "print(*[f'Class weight: {round(i[0],4)}\\tclass: {i[1]}' for i in zip(class_weights, np.unique(y_train))], sep='\\n')"
   ]
  },
  {
   "cell_type": "code",
   "execution_count": 40,
   "metadata": {},
   "outputs": [
    {
     "name": "stdout",
     "output_type": "stream",
     "text": [
      "\n",
      "The dataset is balanced (ratio=0.848)\n"
     ]
    }
   ],
   "source": [
    "# Determined if the dataset is balanced or imbalanced \n",
    "ratio = np.min(df[LABEL].value_counts()) / np.max(df[LABEL].value_counts())\n",
    "if ratio > 0.1:      # Ratio 1:10 -> limite blanced / imbalanced \n",
    "    balanced = True\n",
    "    print(f\"\\nThe dataset is balanced (ratio={round(ratio, 3)})\")\n",
    "else:\n",
    "    balanced = False\n",
    "    print(f\"\\nThe dataset is imbalanced (ratio={round(ratio, 3)})\")\n",
    "    #from imblearn.over_sampling import ADASYN\n",
    "    # put class for debalanced data \n",
    "    # in progress"
   ]
  },
  {
   "cell_type": "markdown",
   "metadata": {},
   "source": [
    "<a id='cv'></a>"
   ]
  },
  {
   "cell_type": "markdown",
   "metadata": {},
   "source": [
    "## CountVectorizer & TF-IDF\n",
    "***"
   ]
  },
  {
   "cell_type": "markdown",
   "metadata": {},
   "source": [
    "This section transforms our data into something interpretable by the machine"
   ]
  },
  {
   "cell_type": "code",
   "execution_count": 41,
   "metadata": {},
   "outputs": [
    {
     "name": "stdout",
     "output_type": "stream",
     "text": [
      "CPU times: user 7.07 s, sys: 135 ms, total: 7.21 s\n",
      "Wall time: 7.31 s\n"
     ]
    }
   ],
   "source": [
    "%%time\n",
    "# create a count vectorizer object \n",
    "count_vect = CountVectorizer(analyzer='word', token_pattern=r'\\w{1,}')\n",
    "count_vect.fit(df[TEXT])\n",
    "\n",
    "# transform the training and validation data using count vectorizer object\n",
    "x_train_count =  count_vect.transform(X_train)\n",
    "x_test_count =  count_vect.transform(X_test)\n",
    "\n",
    "if save_model:\n",
    "    # save the model to disk\n",
    "    filename = NAME_COUNT_VECT_MODEL\n",
    "    pickle.dump(count_vect, open(os.path.join(root_dir, dir_name,filename), 'wb'))"
   ]
  },
  {
   "cell_type": "code",
   "execution_count": 54,
   "metadata": {},
   "outputs": [
    {
     "name": "stdout",
     "output_type": "stream",
     "text": [
      "word level tf-idf done\n",
      "ngram level tf-idf done\n",
      "characters level tf-idf done\n",
      "CPU times: user 3min, sys: 6.05 s, total: 3min 6s\n",
      "Wall time: 3min 21s\n"
     ]
    }
   ],
   "source": [
    "%%time\n",
    "# word level tf-idf\n",
    "tfidf_vect = TfidfVectorizer(analyzer='word', token_pattern=r'\\w{1,}', max_features=10000)\n",
    "tfidf_vect.fit(df[TEXT])\n",
    "x_train_tfidf =  tfidf_vect.transform(X_train)\n",
    "x_test_tfidf =  tfidf_vect.transform(X_test)\n",
    "print(\"word level tf-idf done\")\n",
    "\n",
    "# ngram level tf-idf \n",
    "tfidf_vect_ngram = TfidfVectorizer(analyzer='word', token_pattern=r'\\w{1,}', ngram_range=(2,3), max_features=10000)\n",
    "tfidf_vect_ngram.fit(df[TEXT])\n",
    "x_train_tfidf_ngram =  tfidf_vect_ngram.transform(X_train)\n",
    "x_test_tfidf_ngram =  tfidf_vect_ngram.transform(X_test)\n",
    "print(\"ngram level tf-idf done\")\n",
    "\n",
    "# characters level tf-idf\n",
    "tfidf_vect_ngram_chars = TfidfVectorizer(analyzer='char',  ngram_range=(2,3), max_features=10000) \n",
    "tfidf_vect_ngram_chars.fit(df[TEXT])\n",
    "x_train_tfidf_ngram_chars =  tfidf_vect_ngram_chars.transform(X_train) \n",
    "x_test_tfidf_ngram_chars =  tfidf_vect_ngram_chars.transform(X_test) \n",
    "print(\"characters level tf-idf done\")\n",
    "\n",
    "if save_model:\n",
    "    # save the model tf-idf to disk\n",
    "    filename = NAME_TF_IDF_MODEL\n",
    "    pickle.dump(tfidf_vect, open(os.path.join(root_dir, dir_name,filename), 'wb'))\n",
    "\n",
    "    # save the model ngram to disk\n",
    "    filename = NAME_TF_IDF_NGRAM_MODEL\n",
    "    pickle.dump(tfidf_vect_ngram, open(os.path.join(root_dir, dir_name,filename), 'wb'))\n",
    "    \n",
    "    # save the model ngram char to disk\n",
    "    filename = NAME_TF_IDF_NGRAM_CHAR_MODEL\n",
    "    pickle.dump(tfidf_vect_ngram_chars, open(os.path.join(root_dir, dir_name,filename), 'wb'))"
   ]
  },
  {
   "cell_type": "markdown",
   "metadata": {},
   "source": [
    "I had to download the pretrained fasttext model in english, this is the [link](https://fasttext.cc/docs/en/english-vectors.html). The zip file is 5.4GB so it is not included in the data folder."
   ]
  },
  {
   "cell_type": "markdown",
   "metadata": {},
   "source": [
    "<a id='report'></a>"
   ]
  },
  {
   "cell_type": "markdown",
   "metadata": {},
   "source": [
    "## Report Function\n",
    "***"
   ]
  },
  {
   "cell_type": "markdown",
   "metadata": {},
   "source": [
    "The followign function will generate, for each model we create, a set of metrics that evaluate how well that model did"
   ]
  },
  {
   "cell_type": "code",
   "execution_count": 50,
   "metadata": {},
   "outputs": [],
   "source": [
    "def report(clf, x, y, X_test, y_test, name='classifier', cv=5, dict_scoring=None, fit_params=None, save=save_model):\n",
    "    '''\n",
    "    Function create a metric report automatically with cross_validate function.\n",
    "    @param clf: (model) classifier\n",
    "    @param x: (list or matrix or tensor) training x data\n",
    "    @param y: (list) label data \n",
    "    @param name: (string) name of the model (default classifier)\n",
    "    @param cv: (int) number of fold for cross-validation (default 5)\n",
    "    @param dict_scoring: (dict) dictionary of metrics and names\n",
    "    @param fit_aparams: (dict) add parameters for model fitting \n",
    "    @param save: (bool) determine if the model need to be saved\n",
    "    @return: (pandas.dataframe) dataframe containing all the results of the metrics \n",
    "    for each fold and the mean and std for each of them\n",
    "    '''\n",
    "    \n",
    "    '''{'acc': accuracy_score,\n",
    "               'balanced_accuracy': balanced_accuracy_score,\n",
    "               'prec': precision_score,\n",
    "               'recall': recall_score,\n",
    "               'f1-score': f1_score,\n",
    "               'tp': tp, 'tn': tn,\n",
    "               'fp': fp, 'fn': fn,\n",
    "               'cohens_kappa':cohen_kappa_score,\n",
    "               'matthews_corrcoef':matthews_corrcoef,\n",
    "               \"roc_auc\":roc_auc_score}'''\n",
    "    \n",
    "    \n",
    "    if dict_scoring!=None:\n",
    "        score = dict_scoring.copy() # save the original dictionary\n",
    "        for i in score.keys():\n",
    "            if len(set(y))>2:\n",
    "                if i in [\"prec\", \"recall\", \"f1-score\"]:\n",
    "                    score[i] = make_scorer(score[i], average = 'weighted') # make each function scorer\n",
    "                elif i==\"roc_auc\":\n",
    "                    score[i] = make_scorer(score[i], average = 'weighted', multi_class=\"ovo\",needs_proba=True) # make each function scorer\n",
    "                else:\n",
    "                    score[i] = make_scorer(score[i]) # make each function scorer\n",
    "                    \n",
    "            else:\n",
    "                score[i] = make_scorer(score[i]) # make each function scorer\n",
    "            \n",
    "    try:\n",
    "        scores = cross_validate(clf, x, y, scoring=score,\n",
    "                         cv=cv, return_train_score=False, n_jobs=-1,  fit_params=fit_params)\n",
    "    except:\n",
    "        scores = cross_validate(clf, x, y, scoring=score,\n",
    "                         cv=cv, return_train_score=False,  fit_params=fit_params)\n",
    "        \n",
    "    # Train test on the overall data\n",
    "    fit_start = time.time()\n",
    "    _model = clf\n",
    "    _model.fit(x, y)\n",
    "        \n",
    "    fit_end = time.time() - fit_start\n",
    "\n",
    "    \n",
    "    score_start = time.time()\n",
    "    y_pred = _model.predict(X_test)#>0.5).astype(int)\n",
    "    score_end = time.time() - score_start\n",
    "    \n",
    "    # this saves the model for reuse\n",
    "    if save:\n",
    "        filename= name+\".sav\"\n",
    "        pickle.dump(_model, open(os.path.join(root_dir, dir_name,filename), 'wb'))\n",
    "    \n",
    "    # initialisation \n",
    "    index = []\n",
    "    value = []\n",
    "    index.append(\"Model\")\n",
    "    value.append(name)\n",
    "    for i in scores:  # loop on each metric generate text and values\n",
    "        if i == \"estimator\":\n",
    "            continue\n",
    "        for j in enumerate(scores[i]):\n",
    "            index.append(i+\"_cv\"+str(j[0]+1))\n",
    "            value.append(j[1])\n",
    "        \n",
    "        \n",
    "        index.append(i+\"_mean\")\n",
    "        value.append(np.mean(scores[i]))\n",
    "        index.append(i+\"_std\")\n",
    "        value.append(np.std(scores[i]))\n",
    "    \n",
    "     # add metrics averall dataset on the dictionary \n",
    "    \n",
    "    for i in scores:    # compute metrics \n",
    "        if i == \"fit_time\":\n",
    "            \n",
    "            scores[i] = np.append(scores[i] ,fit_end)\n",
    "            index.append(i.split(\"test_\")[-1]+'_overall')\n",
    "            value.append(fit_end)\n",
    "            continue\n",
    "        if i == \"score_time\":\n",
    "            \n",
    "            scores[i] = np.append(scores[i] ,score_end)\n",
    "            index.append(i.split(\"test_\")[-1]+'_overall')\n",
    "            value.append(score_end)\n",
    "            continue\n",
    "              \n",
    "        \n",
    "        scores[i] = np.append(scores[i] ,score[i.split(\"test_\")[-1]](_model, X_test, y_test))\n",
    "        index.append(i.split(\"test_\")[-1]+'_overall')\n",
    "        value.append(scores[i][-1])\n",
    "    \n",
    "    return pd.DataFrame(data=value, index=index).T"
   ]
  },
  {
   "cell_type": "markdown",
   "metadata": {},
   "source": [
    "<a id='modeling'></a>"
   ]
  },
  {
   "cell_type": "markdown",
   "metadata": {},
   "source": [
    "## Let's Start Modeling!\n",
    "***"
   ]
  },
  {
   "cell_type": "code",
   "execution_count": 51,
   "metadata": {},
   "outputs": [],
   "source": [
    "# We start by creating the empty dataframe we will use to put the results of each model we create\n",
    "df_results = pd.DataFrame()"
   ]
  },
  {
   "cell_type": "markdown",
   "metadata": {},
   "source": [
    "<a id='ml'></a>"
   ]
  },
  {
   "cell_type": "markdown",
   "metadata": {},
   "source": [
    "## Machine Learning Models"
   ]
  },
  {
   "cell_type": "markdown",
   "metadata": {},
   "source": [
    "<a id='nb'></a>"
   ]
  },
  {
   "cell_type": "markdown",
   "metadata": {},
   "source": [
    "<br>\n",
    "<div class=\"span5 alert alert-info\">\n",
    "    <H5>Multinomial Naïve Bayes</H5>\n",
    "</div>"
   ]
  },
  {
   "cell_type": "code",
   "execution_count": 55,
   "metadata": {},
   "outputs": [
    {
     "name": "stdout",
     "output_type": "stream",
     "text": [
      "CPU times: user 837 ms, sys: 343 ms, total: 1.18 s\n",
      "Wall time: 7.94 s\n"
     ]
    }
   ],
   "source": [
    "%%time\n",
    "if multinomial_naive_bayes:\n",
    "    df_results = df_results.append(report(naive_bayes.MultinomialNB(),x_train_count, y_train, x_test_count, y_test, name='NB_Count_Vectors', cv=CV_splits, dict_scoring=score_metrics, save=save_model))\n",
    "    df_results = df_results.append(report(naive_bayes.MultinomialNB(),x_train_tfidf, y_train, x_test_tfidf, y_test, name='NB_WordLevel_TF-IDF', cv=CV_splits, dict_scoring=score_metrics, save=save_model))\n",
    "    df_results = df_results.append(report(naive_bayes.MultinomialNB(),x_train_tfidf_ngram,y_train, x_test_tfidf_ngram, y_test, name='NB_N-Gram_TF-IDF', cv=CV_splits, dict_scoring=score_metrics, save=save_model))\n",
    "    df_results = df_results.append(report(naive_bayes.MultinomialNB(),x_train_tfidf_ngram_chars,y_train, x_test_tfidf_ngram_chars, y_test, name='NB_CharLevel_TF-IDF', cv=CV_splits, dict_scoring=score_metrics, save=save_model))"
   ]
  },
  {
   "cell_type": "markdown",
   "metadata": {},
   "source": [
    "<a id='lr'></a>"
   ]
  },
  {
   "cell_type": "markdown",
   "metadata": {},
   "source": [
    "<br>\n",
    "<div class=\"span5 alert alert-info\">\n",
    "    <H5>Logistic Regression</H5>\n",
    "</div>"
   ]
  },
  {
   "cell_type": "code",
   "execution_count": 61,
   "metadata": {},
   "outputs": [
    {
     "name": "stdout",
     "output_type": "stream",
     "text": [
      "CPU times: user 36 s, sys: 4.44 s, total: 40.5 s\n",
      "Wall time: 1min\n"
     ]
    }
   ],
   "source": [
    "%%time\n",
    "if logistic_regression:\n",
    "    df_results = df_results.append(report(linear_model.LogisticRegression(max_iter=1000), x_train_count, y_train, x_test_count, y_test, name='LR_Count_Vectors', cv=CV_splits, dict_scoring=score_metrics, save=save_model))\n",
    "    df_results = df_results.append(report(linear_model.LogisticRegression(max_iter=1000), x_train_tfidf, y_train, x_test_tfidf, y_test, name='LR_WordLevel_TF-IDF', cv=CV_splits, dict_scoring=score_metrics, save=save_model))\n",
    "    df_results = df_results.append(report(linear_model.LogisticRegression(max_iter=1000), x_train_tfidf_ngram,y_train, x_test_tfidf_ngram, y_test, name='LR_N-Gram_TF-IDF', cv=CV_splits, dict_scoring=score_metrics, save=save_model))\n",
    "    df_results = df_results.append(report(linear_model.LogisticRegression(max_iter=1000), x_train_tfidf_ngram_chars,y_train, x_test_tfidf_ngram_chars, y_test, name='LR_CharLevel_TF-IDF', cv=CV_splits, dict_scoring=score_metrics, save=save_model))"
   ]
  },
  {
   "cell_type": "markdown",
   "metadata": {},
   "source": [
    "<a id='svm'></a>"
   ]
  },
  {
   "cell_type": "markdown",
   "metadata": {},
   "source": [
    "<br>\n",
    "<div class=\"span5 alert alert-info\">\n",
    "    <H5>Support Vector Machine</H5>\n",
    "</div>"
   ]
  },
  {
   "cell_type": "code",
   "execution_count": 67,
   "metadata": {},
   "outputs": [
    {
     "name": "stdout",
     "output_type": "stream",
     "text": [
      "CPU times: user 1h 45min 54s, sys: 32.8 s, total: 1h 46min 27s\n",
      "Wall time: 15h 45s\n"
     ]
    }
   ],
   "source": [
    "%%time\n",
    "if svm_model:\n",
    "    df_results = df_results.append(report(svm.SVC(), x_train_count, y_train, x_test_count, y_test, name='SVM_Count_Vectors', cv=CV_splits, dict_scoring=score_metrics, save=save_model))\n",
    "    df_results = df_results.append(report(svm.SVC(), x_train_tfidf, y_train, x_test_tfidf, y_test, name='SVM_WordLevel_TF-IDF', cv=CV_splits, dict_scoring=score_metrics, save=save_model))\n",
    "    df_results = df_results.append(report(svm.SVC(), x_train_tfidf_ngram,y_train, x_test_tfidf_ngram, y_test, name='SVM_N-Gram_TF-IDF', cv=CV_splits, dict_scoring=score_metrics, save=save_model))\n",
    "    df_results = df_results.append(report(svm.SVC(), x_train_tfidf_ngram_chars,y_train, x_test_tfidf_ngram_chars, y_test, name='SVM_CharLevel_TF-IDF', cv=CV_splits, dict_scoring=score_metrics, save=save_model))"
   ]
  },
  {
   "cell_type": "markdown",
   "metadata": {},
   "source": [
    "<a id='knn'></a>"
   ]
  },
  {
   "cell_type": "markdown",
   "metadata": {},
   "source": [
    "<br>\n",
    "<div class=\"span5 alert alert-info\">\n",
    "    <H5>K-Nearest Neighbors</H5>\n",
    "</div>"
   ]
  },
  {
   "cell_type": "code",
   "execution_count": 70,
   "metadata": {},
   "outputs": [
    {
     "name": "stdout",
     "output_type": "stream",
     "text": [
      "CPU times: user 17min 29s, sys: 28.8 s, total: 17min 58s\n",
      "Wall time: 8min 7s\n"
     ]
    }
   ],
   "source": [
    "%%time\n",
    "if k_nn_model:\n",
    "    df_results = df_results.append(report(KNeighborsClassifier(n_neighbors=20, weights='distance', n_jobs=-1), x_train_count, y_train, x_test_count, y_test, name='kNN_Count_Vectors', cv=CV_splits, dict_scoring=score_metrics, save=save_model))\n",
    "    df_results = df_results.append(report(KNeighborsClassifier(n_neighbors=20, weights='distance', n_jobs=-1), x_train_tfidf, y_train, x_test_tfidf, y_test, name='kNN_WordLevel_TF-IDF', cv=CV_splits, dict_scoring=score_metrics, save=save_model))\n",
    "    df_results = df_results.append(report(KNeighborsClassifier(n_neighbors=20, weights='distance', n_jobs=-1), x_train_tfidf_ngram,y_train, x_test_tfidf_ngram, y_test, name='kNN_N-Gram_TF-IDF', cv=CV_splits, dict_scoring=score_metrics, save=save_model))\n",
    "    df_results = df_results.append(report(KNeighborsClassifier(n_neighbors=20, weights='distance', n_jobs=-1), x_train_tfidf_ngram_chars,y_train, x_test_tfidf_ngram_chars, y_test,  name='kNN_CharLevel_TF-IDF', cv=CV_splits, dict_scoring=score_metrics, save=save_model))"
   ]
  },
  {
   "cell_type": "markdown",
   "metadata": {},
   "source": [
    "<a id='rf'></a>"
   ]
  },
  {
   "cell_type": "markdown",
   "metadata": {},
   "source": [
    "<br>\n",
    "<div class=\"span5 alert alert-info\">\n",
    "    <H5>Random Forest</H5>\n",
    "</div>"
   ]
  },
  {
   "cell_type": "code",
   "execution_count": 107,
   "metadata": {},
   "outputs": [
    {
     "name": "stdout",
     "output_type": "stream",
     "text": [
      "CPU times: user 2min 53s, sys: 2.9 s, total: 2min 56s\n",
      "Wall time: 4min 29s\n"
     ]
    }
   ],
   "source": [
    "%%time\n",
    "if random_forest:\n",
    "    df_results = df_results.append(report(ensemble.RandomForestClassifier(bootstrap=True,min_impurity_decrease=1e-7,n_jobs=-1, random_state=42), x_train_count, y_train, x_test_count, y_test, name='RF_Count_Vectors', cv=CV_splits, dict_scoring=score_metrics, save=save_model))\n",
    "    df_results = df_results.append(report(ensemble.RandomForestClassifier(bootstrap=True,min_impurity_decrease=1e-7,n_jobs=-1, random_state=42), x_train_tfidf, y_train, x_test_tfidf, y_test, name='RF_WordLevel_TF-IDF', cv=CV_splits, dict_scoring=score_metrics, save=save_model))\n",
    "    df_results = df_results.append(report(ensemble.RandomForestClassifier(bootstrap=True,min_impurity_decrease=1e-7,n_jobs=-1, random_state=42), x_train_tfidf_ngram,y_train, x_test_tfidf_ngram, y_test, name='RF_N-Gram_TF-IDF', cv=CV_splits, dict_scoring=score_metrics, save=save_model))\n",
    "    df_results = df_results.append(report(ensemble.RandomForestClassifier(bootstrap=True,min_impurity_decrease=1e-7,n_jobs=-1, random_state=42), x_train_tfidf_ngram_chars,y_train, x_test_tfidf_ngram_chars, y_test,  name='RF_CharLevel_TF-IDF', cv=CV_splits, dict_scoring=score_metrics, save=save_model))"
   ]
  },
  {
   "cell_type": "markdown",
   "metadata": {},
   "source": [
    "<a id='sgd'></a>"
   ]
  },
  {
   "cell_type": "markdown",
   "metadata": {},
   "source": [
    "<br>\n",
    "<div class=\"span5 alert alert-info\">\n",
    "    <H5>Stocastis Gradient Descent</H5>\n",
    "</div>"
   ]
  },
  {
   "cell_type": "markdown",
   "metadata": {},
   "source": [
    "Linear classifiers (SVM, logistic regression, etc.) with SGD training. This estimator implements regularized linear models with stochastic gradient descent (SGD) learning"
   ]
  },
  {
   "cell_type": "code",
   "execution_count": 74,
   "metadata": {},
   "outputs": [
    {
     "name": "stdout",
     "output_type": "stream",
     "text": [
      "CPU times: user 2.03 s, sys: 405 ms, total: 2.43 s\n",
      "Wall time: 12.3 s\n"
     ]
    }
   ],
   "source": [
    "%%time\n",
    "if sgd:\n",
    "    df_results = df_results.append(report(SGDClassifier(loss='modified_huber', max_iter=1000, tol=1e-3,   n_iter_no_change=10, early_stopping=True, n_jobs=-1 ), x_train_count, y_train, x_test_count, y_test, name='SGD_Count_Vectors', cv=CV_splits, dict_scoring=score_metrics, save=save_model))\n",
    "    df_results = df_results.append(report(SGDClassifier(loss='modified_huber', max_iter=1000, tol=1e-3,   n_iter_no_change=10, early_stopping=True, n_jobs=-1 ), x_train_tfidf, y_train, x_test_tfidf, y_test, name='SGD_WordLevel_TF-IDF', cv=CV_splits, dict_scoring=score_metrics, save=save_model))\n",
    "    df_results = df_results.append(report(SGDClassifier(loss='modified_huber', max_iter=1000, tol=1e-3,   n_iter_no_change=10, early_stopping=True, n_jobs=-1 ), x_train_tfidf_ngram,y_train, x_test_tfidf_ngram, y_test, name='SGD_N-Gram_Vectors', cv=CV_splits, dict_scoring=score_metrics, save=save_model))\n",
    "    df_results = df_results.append(report(SGDClassifier(loss='modified_huber', max_iter=1000, tol=1e-3,   n_iter_no_change=10, early_stopping=True, n_jobs=-1 ), x_train_tfidf_ngram_chars,y_train, x_test_tfidf_ngram_chars, y_test, name='SGD_CharLevel_Vectors', cv=CV_splits, dict_scoring=score_metrics, save=save_model))"
   ]
  },
  {
   "cell_type": "code",
   "execution_count": 75,
   "metadata": {},
   "outputs": [
    {
     "data": {
      "text/html": [
       "<div>\n",
       "<style scoped>\n",
       "    .dataframe tbody tr th:only-of-type {\n",
       "        vertical-align: middle;\n",
       "    }\n",
       "\n",
       "    .dataframe tbody tr th {\n",
       "        vertical-align: top;\n",
       "    }\n",
       "\n",
       "    .dataframe thead th {\n",
       "        text-align: right;\n",
       "    }\n",
       "</style>\n",
       "<table border=\"1\" class=\"dataframe\">\n",
       "  <thead>\n",
       "    <tr style=\"text-align: right;\">\n",
       "      <th></th>\n",
       "      <th>Model</th>\n",
       "      <th>fit_time_cv1</th>\n",
       "      <th>fit_time_cv2</th>\n",
       "      <th>fit_time_cv3</th>\n",
       "      <th>fit_time_cv4</th>\n",
       "      <th>fit_time_cv5</th>\n",
       "      <th>fit_time_mean</th>\n",
       "      <th>fit_time_std</th>\n",
       "      <th>score_time_cv1</th>\n",
       "      <th>score_time_cv2</th>\n",
       "      <th>...</th>\n",
       "      <th>prec_overall</th>\n",
       "      <th>recall_overall</th>\n",
       "      <th>f1-score_overall</th>\n",
       "      <th>tp_overall</th>\n",
       "      <th>tn_overall</th>\n",
       "      <th>fp_overall</th>\n",
       "      <th>fn_overall</th>\n",
       "      <th>cohens_kappa_overall</th>\n",
       "      <th>matthews_corrcoef_overall</th>\n",
       "      <th>roc_auc_overall</th>\n",
       "    </tr>\n",
       "  </thead>\n",
       "  <tbody>\n",
       "    <tr>\n",
       "      <th>0</th>\n",
       "      <td>NB_Count_Vectors</td>\n",
       "      <td>0.083657</td>\n",
       "      <td>0.087841</td>\n",
       "      <td>0.084295</td>\n",
       "      <td>0.0876408</td>\n",
       "      <td>0.0806589</td>\n",
       "      <td>0.0848186</td>\n",
       "      <td>0.00268425</td>\n",
       "      <td>0.0557067</td>\n",
       "      <td>0.0472348</td>\n",
       "      <td>...</td>\n",
       "      <td>0.791759</td>\n",
       "      <td>0.714573</td>\n",
       "      <td>0.751189</td>\n",
       "      <td>711</td>\n",
       "      <td>987</td>\n",
       "      <td>187</td>\n",
       "      <td>284</td>\n",
       "      <td>0.559446</td>\n",
       "      <td>0.561763</td>\n",
       "      <td>0.777644</td>\n",
       "    </tr>\n",
       "    <tr>\n",
       "      <th>0</th>\n",
       "      <td>NB_WordLevel_TF-IDF</td>\n",
       "      <td>0.0570619</td>\n",
       "      <td>0.0624511</td>\n",
       "      <td>0.0512819</td>\n",
       "      <td>0.0743842</td>\n",
       "      <td>0.034615</td>\n",
       "      <td>0.0559588</td>\n",
       "      <td>0.0131171</td>\n",
       "      <td>0.0463171</td>\n",
       "      <td>0.0433159</td>\n",
       "      <td>...</td>\n",
       "      <td>0.821277</td>\n",
       "      <td>0.58191</td>\n",
       "      <td>0.681176</td>\n",
       "      <td>579</td>\n",
       "      <td>1048</td>\n",
       "      <td>126</td>\n",
       "      <td>416</td>\n",
       "      <td>0.485369</td>\n",
       "      <td>0.504886</td>\n",
       "      <td>0.737292</td>\n",
       "    </tr>\n",
       "    <tr>\n",
       "      <th>0</th>\n",
       "      <td>NB_N-Gram_TF-IDF</td>\n",
       "      <td>0.0146081</td>\n",
       "      <td>0.031333</td>\n",
       "      <td>0.0386279</td>\n",
       "      <td>0.0167282</td>\n",
       "      <td>0.0169821</td>\n",
       "      <td>0.0236558</td>\n",
       "      <td>0.00956548</td>\n",
       "      <td>0.0413001</td>\n",
       "      <td>0.0396559</td>\n",
       "      <td>...</td>\n",
       "      <td>0.730563</td>\n",
       "      <td>0.547739</td>\n",
       "      <td>0.626077</td>\n",
       "      <td>545</td>\n",
       "      <td>973</td>\n",
       "      <td>201</td>\n",
       "      <td>450</td>\n",
       "      <td>0.383852</td>\n",
       "      <td>0.394977</td>\n",
       "      <td>0.688265</td>\n",
       "    </tr>\n",
       "    <tr>\n",
       "      <th>0</th>\n",
       "      <td>NB_CharLevel_TF-IDF</td>\n",
       "      <td>0.849732</td>\n",
       "      <td>0.797022</td>\n",
       "      <td>1.1039</td>\n",
       "      <td>1.13063</td>\n",
       "      <td>0.286705</td>\n",
       "      <td>0.833599</td>\n",
       "      <td>0.303969</td>\n",
       "      <td>0.125775</td>\n",
       "      <td>0.0687079</td>\n",
       "      <td>...</td>\n",
       "      <td>0.834646</td>\n",
       "      <td>0.106533</td>\n",
       "      <td>0.188948</td>\n",
       "      <td>106</td>\n",
       "      <td>1153</td>\n",
       "      <td>21</td>\n",
       "      <td>889</td>\n",
       "      <td>0.0949604</td>\n",
       "      <td>0.188135</td>\n",
       "      <td>0.544323</td>\n",
       "    </tr>\n",
       "    <tr>\n",
       "      <th>0</th>\n",
       "      <td>LR_Count_Vectors</td>\n",
       "      <td>18.4121</td>\n",
       "      <td>19.1657</td>\n",
       "      <td>17.922</td>\n",
       "      <td>19.1001</td>\n",
       "      <td>9.19119</td>\n",
       "      <td>16.7582</td>\n",
       "      <td>3.81129</td>\n",
       "      <td>0.0704119</td>\n",
       "      <td>0.0472348</td>\n",
       "      <td>...</td>\n",
       "      <td>0.738872</td>\n",
       "      <td>0.750754</td>\n",
       "      <td>0.744766</td>\n",
       "      <td>747</td>\n",
       "      <td>910</td>\n",
       "      <td>264</td>\n",
       "      <td>248</td>\n",
       "      <td>0.525238</td>\n",
       "      <td>0.525295</td>\n",
       "      <td>0.762941</td>\n",
       "    </tr>\n",
       "    <tr>\n",
       "      <th>0</th>\n",
       "      <td>LR_WordLevel_TF-IDF</td>\n",
       "      <td>0.667456</td>\n",
       "      <td>0.669091</td>\n",
       "      <td>0.61599</td>\n",
       "      <td>0.690176</td>\n",
       "      <td>0.490711</td>\n",
       "      <td>0.626685</td>\n",
       "      <td>0.0722426</td>\n",
       "      <td>0.0417788</td>\n",
       "      <td>0.0403888</td>\n",
       "      <td>...</td>\n",
       "      <td>0.771372</td>\n",
       "      <td>0.779899</td>\n",
       "      <td>0.775612</td>\n",
       "      <td>776</td>\n",
       "      <td>944</td>\n",
       "      <td>230</td>\n",
       "      <td>219</td>\n",
       "      <td>0.583496</td>\n",
       "      <td>0.583527</td>\n",
       "      <td>0.791994</td>\n",
       "    </tr>\n",
       "    <tr>\n",
       "      <th>0</th>\n",
       "      <td>LR_N-Gram_TF-IDF</td>\n",
       "      <td>0.495503</td>\n",
       "      <td>0.429021</td>\n",
       "      <td>0.355603</td>\n",
       "      <td>0.409944</td>\n",
       "      <td>0.34902</td>\n",
       "      <td>0.407818</td>\n",
       "      <td>0.0535282</td>\n",
       "      <td>0.0507712</td>\n",
       "      <td>0.0475352</td>\n",
       "      <td>...</td>\n",
       "      <td>0.701226</td>\n",
       "      <td>0.632161</td>\n",
       "      <td>0.664905</td>\n",
       "      <td>629</td>\n",
       "      <td>906</td>\n",
       "      <td>268</td>\n",
       "      <td>366</td>\n",
       "      <td>0.406937</td>\n",
       "      <td>0.408658</td>\n",
       "      <td>0.701941</td>\n",
       "    </tr>\n",
       "    <tr>\n",
       "      <th>0</th>\n",
       "      <td>LR_CharLevel_TF-IDF</td>\n",
       "      <td>4.52604</td>\n",
       "      <td>5.30917</td>\n",
       "      <td>5.46984</td>\n",
       "      <td>5.11398</td>\n",
       "      <td>3.58113</td>\n",
       "      <td>4.80003</td>\n",
       "      <td>0.68807</td>\n",
       "      <td>0.07074</td>\n",
       "      <td>0.0679901</td>\n",
       "      <td>...</td>\n",
       "      <td>0.753205</td>\n",
       "      <td>0.708543</td>\n",
       "      <td>0.730192</td>\n",
       "      <td>705</td>\n",
       "      <td>943</td>\n",
       "      <td>231</td>\n",
       "      <td>290</td>\n",
       "      <td>0.514104</td>\n",
       "      <td>0.514884</td>\n",
       "      <td>0.75589</td>\n",
       "    </tr>\n",
       "    <tr>\n",
       "      <th>0</th>\n",
       "      <td>SVM_Count_Vectors</td>\n",
       "      <td>142.24</td>\n",
       "      <td>143.032</td>\n",
       "      <td>143.314</td>\n",
       "      <td>144.206</td>\n",
       "      <td>113.892</td>\n",
       "      <td>137.337</td>\n",
       "      <td>11.7393</td>\n",
       "      <td>45.6131</td>\n",
       "      <td>45.6117</td>\n",
       "      <td>...</td>\n",
       "      <td>0.750984</td>\n",
       "      <td>0.766834</td>\n",
       "      <td>0.758826</td>\n",
       "      <td>763</td>\n",
       "      <td>921</td>\n",
       "      <td>253</td>\n",
       "      <td>232</td>\n",
       "      <td>0.550446</td>\n",
       "      <td>0.55055</td>\n",
       "      <td>0.775666</td>\n",
       "    </tr>\n",
       "    <tr>\n",
       "      <th>0</th>\n",
       "      <td>SVM_WordLevel_TF-IDF</td>\n",
       "      <td>171.507</td>\n",
       "      <td>164.749</td>\n",
       "      <td>171.223</td>\n",
       "      <td>171.68</td>\n",
       "      <td>118.665</td>\n",
       "      <td>159.565</td>\n",
       "      <td>20.6152</td>\n",
       "      <td>51.6323</td>\n",
       "      <td>49.8943</td>\n",
       "      <td>...</td>\n",
       "      <td>0.760194</td>\n",
       "      <td>0.786935</td>\n",
       "      <td>0.773333</td>\n",
       "      <td>783</td>\n",
       "      <td>927</td>\n",
       "      <td>247</td>\n",
       "      <td>212</td>\n",
       "      <td>0.575001</td>\n",
       "      <td>0.575303</td>\n",
       "      <td>0.788271</td>\n",
       "    </tr>\n",
       "    <tr>\n",
       "      <th>0</th>\n",
       "      <td>SVM_N-Gram_TF-IDF</td>\n",
       "      <td>67.1528</td>\n",
       "      <td>65.9447</td>\n",
       "      <td>66.7256</td>\n",
       "      <td>65.973</td>\n",
       "      <td>32.62</td>\n",
       "      <td>59.6832</td>\n",
       "      <td>13.5394</td>\n",
       "      <td>24.1372</td>\n",
       "      <td>25.0592</td>\n",
       "      <td>...</td>\n",
       "      <td>0.699887</td>\n",
       "      <td>0.621106</td>\n",
       "      <td>0.658147</td>\n",
       "      <td>618</td>\n",
       "      <td>909</td>\n",
       "      <td>265</td>\n",
       "      <td>377</td>\n",
       "      <td>0.398804</td>\n",
       "      <td>0.401015</td>\n",
       "      <td>0.697691</td>\n",
       "    </tr>\n",
       "    <tr>\n",
       "      <th>0</th>\n",
       "      <td>SVM_CharLevel_TF-IDF</td>\n",
       "      <td>567.083</td>\n",
       "      <td>577.67</td>\n",
       "      <td>578.479</td>\n",
       "      <td>579.833</td>\n",
       "      <td>336.997</td>\n",
       "      <td>528.013</td>\n",
       "      <td>95.6156</td>\n",
       "      <td>186.596</td>\n",
       "      <td>184.288</td>\n",
       "      <td>...</td>\n",
       "      <td>0.757515</td>\n",
       "      <td>0.759799</td>\n",
       "      <td>0.758655</td>\n",
       "      <td>756</td>\n",
       "      <td>932</td>\n",
       "      <td>242</td>\n",
       "      <td>239</td>\n",
       "      <td>0.553539</td>\n",
       "      <td>0.553541</td>\n",
       "      <td>0.776833</td>\n",
       "    </tr>\n",
       "    <tr>\n",
       "      <th>0</th>\n",
       "      <td>kNN_Count_Vectors</td>\n",
       "      <td>0.071985</td>\n",
       "      <td>0.072355</td>\n",
       "      <td>0.0727</td>\n",
       "      <td>0.0731351</td>\n",
       "      <td>0.0939651</td>\n",
       "      <td>0.0768281</td>\n",
       "      <td>0.00857692</td>\n",
       "      <td>3.7683</td>\n",
       "      <td>3.65425</td>\n",
       "      <td>...</td>\n",
       "      <td>0.586263</td>\n",
       "      <td>0.720603</td>\n",
       "      <td>0.646528</td>\n",
       "      <td>717</td>\n",
       "      <td>668</td>\n",
       "      <td>506</td>\n",
       "      <td>278</td>\n",
       "      <td>0.284626</td>\n",
       "      <td>0.290993</td>\n",
       "      <td>0.644799</td>\n",
       "    </tr>\n",
       "    <tr>\n",
       "      <th>0</th>\n",
       "      <td>kNN_WordLevel_TF-IDF</td>\n",
       "      <td>0.049027</td>\n",
       "      <td>0.0487049</td>\n",
       "      <td>0.051249</td>\n",
       "      <td>0.0619388</td>\n",
       "      <td>0.0523279</td>\n",
       "      <td>0.0526495</td>\n",
       "      <td>0.00483814</td>\n",
       "      <td>4.03613</td>\n",
       "      <td>3.9824</td>\n",
       "      <td>...</td>\n",
       "      <td>0.751938</td>\n",
       "      <td>0.0974874</td>\n",
       "      <td>0.172598</td>\n",
       "      <td>97</td>\n",
       "      <td>1142</td>\n",
       "      <td>32</td>\n",
       "      <td>898</td>\n",
       "      <td>0.0752212</td>\n",
       "      <td>0.147965</td>\n",
       "      <td>0.535115</td>\n",
       "    </tr>\n",
       "    <tr>\n",
       "      <th>0</th>\n",
       "      <td>kNN_N-Gram_TF-IDF</td>\n",
       "      <td>0.013175</td>\n",
       "      <td>0.0136449</td>\n",
       "      <td>0.020715</td>\n",
       "      <td>0.0663297</td>\n",
       "      <td>0.0168662</td>\n",
       "      <td>0.0261462</td>\n",
       "      <td>0.0202725</td>\n",
       "      <td>1.33747</td>\n",
       "      <td>1.33642</td>\n",
       "      <td>...</td>\n",
       "      <td>0.584323</td>\n",
       "      <td>0.494472</td>\n",
       "      <td>0.535656</td>\n",
       "      <td>492</td>\n",
       "      <td>824</td>\n",
       "      <td>350</td>\n",
       "      <td>503</td>\n",
       "      <td>0.198675</td>\n",
       "      <td>0.20076</td>\n",
       "      <td>0.598173</td>\n",
       "    </tr>\n",
       "    <tr>\n",
       "      <th>0</th>\n",
       "      <td>kNN_CharLevel_TF-IDF</td>\n",
       "      <td>0.655702</td>\n",
       "      <td>0.672649</td>\n",
       "      <td>0.65748</td>\n",
       "      <td>0.667741</td>\n",
       "      <td>0.195899</td>\n",
       "      <td>0.569894</td>\n",
       "      <td>0.187104</td>\n",
       "      <td>48.1581</td>\n",
       "      <td>48.1758</td>\n",
       "      <td>...</td>\n",
       "      <td>0.739785</td>\n",
       "      <td>0.345729</td>\n",
       "      <td>0.471233</td>\n",
       "      <td>344</td>\n",
       "      <td>1053</td>\n",
       "      <td>121</td>\n",
       "      <td>651</td>\n",
       "      <td>0.252933</td>\n",
       "      <td>0.294636</td>\n",
       "      <td>0.621331</td>\n",
       "    </tr>\n",
       "    <tr>\n",
       "      <th>0</th>\n",
       "      <td>SGD_Count_Vectors</td>\n",
       "      <td>0.458804</td>\n",
       "      <td>0.473416</td>\n",
       "      <td>0.420624</td>\n",
       "      <td>0.444952</td>\n",
       "      <td>0.266678</td>\n",
       "      <td>0.412895</td>\n",
       "      <td>0.0751494</td>\n",
       "      <td>0.0419219</td>\n",
       "      <td>0.0525622</td>\n",
       "      <td>...</td>\n",
       "      <td>0.654107</td>\n",
       "      <td>0.872362</td>\n",
       "      <td>0.747631</td>\n",
       "      <td>868</td>\n",
       "      <td>715</td>\n",
       "      <td>459</td>\n",
       "      <td>127</td>\n",
       "      <td>0.469449</td>\n",
       "      <td>0.492212</td>\n",
       "      <td>0.740695</td>\n",
       "    </tr>\n",
       "    <tr>\n",
       "      <th>0</th>\n",
       "      <td>SGD_WordLevel_TF-IDF</td>\n",
       "      <td>0.3128</td>\n",
       "      <td>0.269268</td>\n",
       "      <td>0.277042</td>\n",
       "      <td>0.274197</td>\n",
       "      <td>0.175028</td>\n",
       "      <td>0.261667</td>\n",
       "      <td>0.0459828</td>\n",
       "      <td>0.03966</td>\n",
       "      <td>0.039535</td>\n",
       "      <td>...</td>\n",
       "      <td>0.742604</td>\n",
       "      <td>0.756784</td>\n",
       "      <td>0.749627</td>\n",
       "      <td>753</td>\n",
       "      <td>913</td>\n",
       "      <td>261</td>\n",
       "      <td>242</td>\n",
       "      <td>0.53369</td>\n",
       "      <td>0.533773</td>\n",
       "      <td>0.767234</td>\n",
       "    </tr>\n",
       "    <tr>\n",
       "      <th>0</th>\n",
       "      <td>SGD_N-Gram_Vectors</td>\n",
       "      <td>0.118953</td>\n",
       "      <td>0.126627</td>\n",
       "      <td>0.1075</td>\n",
       "      <td>0.105808</td>\n",
       "      <td>0.0728922</td>\n",
       "      <td>0.106356</td>\n",
       "      <td>0.0183905</td>\n",
       "      <td>0.0420618</td>\n",
       "      <td>0.03441</td>\n",
       "      <td>...</td>\n",
       "      <td>0.633803</td>\n",
       "      <td>0.678392</td>\n",
       "      <td>0.65534</td>\n",
       "      <td>675</td>\n",
       "      <td>784</td>\n",
       "      <td>390</td>\n",
       "      <td>320</td>\n",
       "      <td>0.344348</td>\n",
       "      <td>0.345069</td>\n",
       "      <td>0.673097</td>\n",
       "    </tr>\n",
       "    <tr>\n",
       "      <th>0</th>\n",
       "      <td>SGD_CharLevel_Vectors</td>\n",
       "      <td>1.92091</td>\n",
       "      <td>1.93717</td>\n",
       "      <td>1.7542</td>\n",
       "      <td>1.82993</td>\n",
       "      <td>1.36733</td>\n",
       "      <td>1.76191</td>\n",
       "      <td>0.208027</td>\n",
       "      <td>0.0974619</td>\n",
       "      <td>0.103405</td>\n",
       "      <td>...</td>\n",
       "      <td>0.828369</td>\n",
       "      <td>0.586935</td>\n",
       "      <td>0.687059</td>\n",
       "      <td>584</td>\n",
       "      <td>1053</td>\n",
       "      <td>121</td>\n",
       "      <td>411</td>\n",
       "      <td>0.494864</td>\n",
       "      <td>0.514763</td>\n",
       "      <td>0.741934</td>\n",
       "    </tr>\n",
       "  </tbody>\n",
       "</table>\n",
       "<p>20 rows × 113 columns</p>\n",
       "</div>"
      ],
      "text/plain": [
       "                   Model fit_time_cv1 fit_time_cv2 fit_time_cv3 fit_time_cv4  \\\n",
       "0       NB_Count_Vectors     0.083657     0.087841     0.084295    0.0876408   \n",
       "0    NB_WordLevel_TF-IDF    0.0570619    0.0624511    0.0512819    0.0743842   \n",
       "0       NB_N-Gram_TF-IDF    0.0146081     0.031333    0.0386279    0.0167282   \n",
       "0    NB_CharLevel_TF-IDF     0.849732     0.797022       1.1039      1.13063   \n",
       "0       LR_Count_Vectors      18.4121      19.1657       17.922      19.1001   \n",
       "0    LR_WordLevel_TF-IDF     0.667456     0.669091      0.61599     0.690176   \n",
       "0       LR_N-Gram_TF-IDF     0.495503     0.429021     0.355603     0.409944   \n",
       "0    LR_CharLevel_TF-IDF      4.52604      5.30917      5.46984      5.11398   \n",
       "0      SVM_Count_Vectors       142.24      143.032      143.314      144.206   \n",
       "0   SVM_WordLevel_TF-IDF      171.507      164.749      171.223       171.68   \n",
       "0      SVM_N-Gram_TF-IDF      67.1528      65.9447      66.7256       65.973   \n",
       "0   SVM_CharLevel_TF-IDF      567.083       577.67      578.479      579.833   \n",
       "0      kNN_Count_Vectors     0.071985     0.072355       0.0727    0.0731351   \n",
       "0   kNN_WordLevel_TF-IDF     0.049027    0.0487049     0.051249    0.0619388   \n",
       "0      kNN_N-Gram_TF-IDF     0.013175    0.0136449     0.020715    0.0663297   \n",
       "0   kNN_CharLevel_TF-IDF     0.655702     0.672649      0.65748     0.667741   \n",
       "0      SGD_Count_Vectors     0.458804     0.473416     0.420624     0.444952   \n",
       "0   SGD_WordLevel_TF-IDF       0.3128     0.269268     0.277042     0.274197   \n",
       "0     SGD_N-Gram_Vectors     0.118953     0.126627       0.1075     0.105808   \n",
       "0  SGD_CharLevel_Vectors      1.92091      1.93717       1.7542      1.82993   \n",
       "\n",
       "  fit_time_cv5 fit_time_mean fit_time_std score_time_cv1 score_time_cv2  ...  \\\n",
       "0    0.0806589     0.0848186   0.00268425      0.0557067      0.0472348  ...   \n",
       "0     0.034615     0.0559588    0.0131171      0.0463171      0.0433159  ...   \n",
       "0    0.0169821     0.0236558   0.00956548      0.0413001      0.0396559  ...   \n",
       "0     0.286705      0.833599     0.303969       0.125775      0.0687079  ...   \n",
       "0      9.19119       16.7582      3.81129      0.0704119      0.0472348  ...   \n",
       "0     0.490711      0.626685    0.0722426      0.0417788      0.0403888  ...   \n",
       "0      0.34902      0.407818    0.0535282      0.0507712      0.0475352  ...   \n",
       "0      3.58113       4.80003      0.68807        0.07074      0.0679901  ...   \n",
       "0      113.892       137.337      11.7393        45.6131        45.6117  ...   \n",
       "0      118.665       159.565      20.6152        51.6323        49.8943  ...   \n",
       "0        32.62       59.6832      13.5394        24.1372        25.0592  ...   \n",
       "0      336.997       528.013      95.6156        186.596        184.288  ...   \n",
       "0    0.0939651     0.0768281   0.00857692         3.7683        3.65425  ...   \n",
       "0    0.0523279     0.0526495   0.00483814        4.03613         3.9824  ...   \n",
       "0    0.0168662     0.0261462    0.0202725        1.33747        1.33642  ...   \n",
       "0     0.195899      0.569894     0.187104        48.1581        48.1758  ...   \n",
       "0     0.266678      0.412895    0.0751494      0.0419219      0.0525622  ...   \n",
       "0     0.175028      0.261667    0.0459828        0.03966       0.039535  ...   \n",
       "0    0.0728922      0.106356    0.0183905      0.0420618        0.03441  ...   \n",
       "0      1.36733       1.76191     0.208027      0.0974619       0.103405  ...   \n",
       "\n",
       "  prec_overall recall_overall f1-score_overall tp_overall tn_overall  \\\n",
       "0     0.791759       0.714573         0.751189        711        987   \n",
       "0     0.821277        0.58191         0.681176        579       1048   \n",
       "0     0.730563       0.547739         0.626077        545        973   \n",
       "0     0.834646       0.106533         0.188948        106       1153   \n",
       "0     0.738872       0.750754         0.744766        747        910   \n",
       "0     0.771372       0.779899         0.775612        776        944   \n",
       "0     0.701226       0.632161         0.664905        629        906   \n",
       "0     0.753205       0.708543         0.730192        705        943   \n",
       "0     0.750984       0.766834         0.758826        763        921   \n",
       "0     0.760194       0.786935         0.773333        783        927   \n",
       "0     0.699887       0.621106         0.658147        618        909   \n",
       "0     0.757515       0.759799         0.758655        756        932   \n",
       "0     0.586263       0.720603         0.646528        717        668   \n",
       "0     0.751938      0.0974874         0.172598         97       1142   \n",
       "0     0.584323       0.494472         0.535656        492        824   \n",
       "0     0.739785       0.345729         0.471233        344       1053   \n",
       "0     0.654107       0.872362         0.747631        868        715   \n",
       "0     0.742604       0.756784         0.749627        753        913   \n",
       "0     0.633803       0.678392          0.65534        675        784   \n",
       "0     0.828369       0.586935         0.687059        584       1053   \n",
       "\n",
       "  fp_overall fn_overall cohens_kappa_overall matthews_corrcoef_overall  \\\n",
       "0        187        284             0.559446                  0.561763   \n",
       "0        126        416             0.485369                  0.504886   \n",
       "0        201        450             0.383852                  0.394977   \n",
       "0         21        889            0.0949604                  0.188135   \n",
       "0        264        248             0.525238                  0.525295   \n",
       "0        230        219             0.583496                  0.583527   \n",
       "0        268        366             0.406937                  0.408658   \n",
       "0        231        290             0.514104                  0.514884   \n",
       "0        253        232             0.550446                   0.55055   \n",
       "0        247        212             0.575001                  0.575303   \n",
       "0        265        377             0.398804                  0.401015   \n",
       "0        242        239             0.553539                  0.553541   \n",
       "0        506        278             0.284626                  0.290993   \n",
       "0         32        898            0.0752212                  0.147965   \n",
       "0        350        503             0.198675                   0.20076   \n",
       "0        121        651             0.252933                  0.294636   \n",
       "0        459        127             0.469449                  0.492212   \n",
       "0        261        242              0.53369                  0.533773   \n",
       "0        390        320             0.344348                  0.345069   \n",
       "0        121        411             0.494864                  0.514763   \n",
       "\n",
       "  roc_auc_overall  \n",
       "0        0.777644  \n",
       "0        0.737292  \n",
       "0        0.688265  \n",
       "0        0.544323  \n",
       "0        0.762941  \n",
       "0        0.791994  \n",
       "0        0.701941  \n",
       "0         0.75589  \n",
       "0        0.775666  \n",
       "0        0.788271  \n",
       "0        0.697691  \n",
       "0        0.776833  \n",
       "0        0.644799  \n",
       "0        0.535115  \n",
       "0        0.598173  \n",
       "0        0.621331  \n",
       "0        0.740695  \n",
       "0        0.767234  \n",
       "0        0.673097  \n",
       "0        0.741934  \n",
       "\n",
       "[20 rows x 113 columns]"
      ]
     },
     "execution_count": 75,
     "metadata": {},
     "output_type": "execute_result"
    }
   ],
   "source": [
    "df_results"
   ]
  },
  {
   "cell_type": "code",
   "execution_count": 76,
   "metadata": {},
   "outputs": [],
   "source": [
    "if save_results:\n",
    "    df_results.to_csv(NAME_SAVE_FILE+\".csv\", sep=\";\", index=False)"
   ]
  },
  {
   "cell_type": "markdown",
   "metadata": {},
   "source": [
    "<a id='boost'></a>"
   ]
  },
  {
   "cell_type": "markdown",
   "metadata": {},
   "source": [
    "<br>\n",
    "\n",
    "### Boosting"
   ]
  },
  {
   "cell_type": "markdown",
   "metadata": {},
   "source": [
    "<a id='gbc'></a>"
   ]
  },
  {
   "cell_type": "markdown",
   "metadata": {},
   "source": [
    "<br>\n",
    "<div class=\"span5 alert alert-info\">\n",
    "    <H5>Gradient Boosting Classifier</H5>\n",
    "</div>"
   ]
  },
  {
   "cell_type": "code",
   "execution_count": 77,
   "metadata": {},
   "outputs": [
    {
     "name": "stdout",
     "output_type": "stream",
     "text": [
      "CPU times: user 34.5 s, sys: 267 ms, total: 34.8 s\n",
      "Wall time: 1min 55s\n"
     ]
    }
   ],
   "source": [
    "%%time\n",
    "if gradient_boosting:\n",
    "    df_results = df_results.append(report(ensemble.GradientBoostingClassifier(n_estimators=1000,\n",
    "                                               validation_fraction=0.2,\n",
    "                                               n_iter_no_change=10, tol=0.01,\n",
    "                                               random_state=0, verbose=0 ), \n",
    "                                          x_train_count, y_train, x_test_count, y_test,\n",
    "                                          name='GB_Count_Vectors', \n",
    "                                          cv=CV_splits, \n",
    "                                          dict_scoring=score_metrics, \n",
    "                                          save=save_model))"
   ]
  },
  {
   "cell_type": "code",
   "execution_count": 96,
   "metadata": {},
   "outputs": [
    {
     "name": "stdout",
     "output_type": "stream",
     "text": [
      "CPU times: user 49.2 s, sys: 656 ms, total: 49.9 s\n",
      "Wall time: 3min 1s\n"
     ]
    }
   ],
   "source": [
    "%%time\n",
    "if gradient_boosting:\n",
    "    df_results = df_results.append(report(ensemble.GradientBoostingClassifier(n_estimators=1000,\n",
    "                                               validation_fraction=0.2,\n",
    "                                               n_iter_no_change=10, tol=0.01,\n",
    "                                               random_state=0, verbose=0 ), \n",
    "                                          x_train_tfidf, y_train, x_test_tfidf, y_test,\n",
    "                                          name='GB_WordLevel_TF-IDF', \n",
    "                                          cv=CV_splits, \n",
    "                                          dict_scoring=score_metrics, \n",
    "                                          save=save_model))"
   ]
  },
  {
   "cell_type": "code",
   "execution_count": 79,
   "metadata": {},
   "outputs": [
    {
     "name": "stdout",
     "output_type": "stream",
     "text": [
      "CPU times: user 3.99 s, sys: 39.1 ms, total: 4.03 s\n",
      "Wall time: 15.7 s\n"
     ]
    }
   ],
   "source": [
    "%%time\n",
    "if gradient_boosting:\n",
    "    df_results = df_results.append(report(ensemble.GradientBoostingClassifier(n_estimators=1000,\n",
    "                                               validation_fraction=0.2,\n",
    "                                               n_iter_no_change=10, tol=0.01,\n",
    "                                               random_state=0, verbose=0 ), \n",
    "                                          x_train_tfidf_ngram,y_train, x_test_tfidf_ngram, y_test,\n",
    "                                          name='GB_N-Gram_TF-IDF', cv=CV_splits, \n",
    "                                          dict_scoring=score_metrics, save=save_model))"
   ]
  },
  {
   "cell_type": "code",
   "execution_count": 80,
   "metadata": {},
   "outputs": [
    {
     "name": "stdout",
     "output_type": "stream",
     "text": [
      "CPU times: user 3min, sys: 2.07 s, total: 3min 2s\n",
      "Wall time: 9min 59s\n"
     ]
    }
   ],
   "source": [
    "%%time\n",
    "if gradient_boosting:\n",
    "    df_results = df_results.append(report(ensemble.GradientBoostingClassifier(n_estimators=1000,\n",
    "                                               validation_fraction=0.2,\n",
    "                                               n_iter_no_change=10, tol=0.01,\n",
    "                                               random_state=0, verbose=0 ), \n",
    "                                          x_train_tfidf_ngram_chars,y_train, x_test_tfidf_ngram_chars, y_test,\n",
    "                                          name='GB_CharLevel_TF-IDF', cv=CV_splits, \n",
    "                                          dict_scoring=score_metrics, save=save_model))"
   ]
  },
  {
   "cell_type": "code",
   "execution_count": 97,
   "metadata": {},
   "outputs": [
    {
     "data": {
      "text/html": [
       "<div>\n",
       "<style scoped>\n",
       "    .dataframe tbody tr th:only-of-type {\n",
       "        vertical-align: middle;\n",
       "    }\n",
       "\n",
       "    .dataframe tbody tr th {\n",
       "        vertical-align: top;\n",
       "    }\n",
       "\n",
       "    .dataframe thead th {\n",
       "        text-align: right;\n",
       "    }\n",
       "</style>\n",
       "<table border=\"1\" class=\"dataframe\">\n",
       "  <thead>\n",
       "    <tr style=\"text-align: right;\">\n",
       "      <th></th>\n",
       "      <th>Model</th>\n",
       "      <th>fit_time_cv1</th>\n",
       "      <th>fit_time_cv2</th>\n",
       "      <th>fit_time_cv3</th>\n",
       "      <th>fit_time_cv4</th>\n",
       "      <th>fit_time_cv5</th>\n",
       "      <th>fit_time_mean</th>\n",
       "      <th>fit_time_std</th>\n",
       "      <th>score_time_cv1</th>\n",
       "      <th>score_time_cv2</th>\n",
       "      <th>...</th>\n",
       "      <th>prec_overall</th>\n",
       "      <th>recall_overall</th>\n",
       "      <th>f1-score_overall</th>\n",
       "      <th>tp_overall</th>\n",
       "      <th>tn_overall</th>\n",
       "      <th>fp_overall</th>\n",
       "      <th>fn_overall</th>\n",
       "      <th>cohens_kappa_overall</th>\n",
       "      <th>matthews_corrcoef_overall</th>\n",
       "      <th>roc_auc_overall</th>\n",
       "    </tr>\n",
       "  </thead>\n",
       "  <tbody>\n",
       "    <tr>\n",
       "      <th>0</th>\n",
       "      <td>NB_Count_Vectors</td>\n",
       "      <td>0.083657</td>\n",
       "      <td>0.087841</td>\n",
       "      <td>0.084295</td>\n",
       "      <td>0.0876408</td>\n",
       "      <td>0.0806589</td>\n",
       "      <td>0.0848186</td>\n",
       "      <td>0.00268425</td>\n",
       "      <td>0.0557067</td>\n",
       "      <td>0.0472348</td>\n",
       "      <td>...</td>\n",
       "      <td>0.791759</td>\n",
       "      <td>0.714573</td>\n",
       "      <td>0.751189</td>\n",
       "      <td>711</td>\n",
       "      <td>987</td>\n",
       "      <td>187</td>\n",
       "      <td>284</td>\n",
       "      <td>0.559446</td>\n",
       "      <td>0.561763</td>\n",
       "      <td>0.777644</td>\n",
       "    </tr>\n",
       "    <tr>\n",
       "      <th>0</th>\n",
       "      <td>NB_WordLevel_TF-IDF</td>\n",
       "      <td>0.0570619</td>\n",
       "      <td>0.0624511</td>\n",
       "      <td>0.0512819</td>\n",
       "      <td>0.0743842</td>\n",
       "      <td>0.034615</td>\n",
       "      <td>0.0559588</td>\n",
       "      <td>0.0131171</td>\n",
       "      <td>0.0463171</td>\n",
       "      <td>0.0433159</td>\n",
       "      <td>...</td>\n",
       "      <td>0.821277</td>\n",
       "      <td>0.58191</td>\n",
       "      <td>0.681176</td>\n",
       "      <td>579</td>\n",
       "      <td>1048</td>\n",
       "      <td>126</td>\n",
       "      <td>416</td>\n",
       "      <td>0.485369</td>\n",
       "      <td>0.504886</td>\n",
       "      <td>0.737292</td>\n",
       "    </tr>\n",
       "    <tr>\n",
       "      <th>0</th>\n",
       "      <td>NB_N-Gram_TF-IDF</td>\n",
       "      <td>0.0146081</td>\n",
       "      <td>0.031333</td>\n",
       "      <td>0.0386279</td>\n",
       "      <td>0.0167282</td>\n",
       "      <td>0.0169821</td>\n",
       "      <td>0.0236558</td>\n",
       "      <td>0.00956548</td>\n",
       "      <td>0.0413001</td>\n",
       "      <td>0.0396559</td>\n",
       "      <td>...</td>\n",
       "      <td>0.730563</td>\n",
       "      <td>0.547739</td>\n",
       "      <td>0.626077</td>\n",
       "      <td>545</td>\n",
       "      <td>973</td>\n",
       "      <td>201</td>\n",
       "      <td>450</td>\n",
       "      <td>0.383852</td>\n",
       "      <td>0.394977</td>\n",
       "      <td>0.688265</td>\n",
       "    </tr>\n",
       "    <tr>\n",
       "      <th>0</th>\n",
       "      <td>NB_CharLevel_TF-IDF</td>\n",
       "      <td>0.849732</td>\n",
       "      <td>0.797022</td>\n",
       "      <td>1.1039</td>\n",
       "      <td>1.13063</td>\n",
       "      <td>0.286705</td>\n",
       "      <td>0.833599</td>\n",
       "      <td>0.303969</td>\n",
       "      <td>0.125775</td>\n",
       "      <td>0.0687079</td>\n",
       "      <td>...</td>\n",
       "      <td>0.834646</td>\n",
       "      <td>0.106533</td>\n",
       "      <td>0.188948</td>\n",
       "      <td>106</td>\n",
       "      <td>1153</td>\n",
       "      <td>21</td>\n",
       "      <td>889</td>\n",
       "      <td>0.0949604</td>\n",
       "      <td>0.188135</td>\n",
       "      <td>0.544323</td>\n",
       "    </tr>\n",
       "    <tr>\n",
       "      <th>0</th>\n",
       "      <td>LR_Count_Vectors</td>\n",
       "      <td>18.4121</td>\n",
       "      <td>19.1657</td>\n",
       "      <td>17.922</td>\n",
       "      <td>19.1001</td>\n",
       "      <td>9.19119</td>\n",
       "      <td>16.7582</td>\n",
       "      <td>3.81129</td>\n",
       "      <td>0.0704119</td>\n",
       "      <td>0.0472348</td>\n",
       "      <td>...</td>\n",
       "      <td>0.738872</td>\n",
       "      <td>0.750754</td>\n",
       "      <td>0.744766</td>\n",
       "      <td>747</td>\n",
       "      <td>910</td>\n",
       "      <td>264</td>\n",
       "      <td>248</td>\n",
       "      <td>0.525238</td>\n",
       "      <td>0.525295</td>\n",
       "      <td>0.762941</td>\n",
       "    </tr>\n",
       "    <tr>\n",
       "      <th>0</th>\n",
       "      <td>LR_WordLevel_TF-IDF</td>\n",
       "      <td>0.667456</td>\n",
       "      <td>0.669091</td>\n",
       "      <td>0.61599</td>\n",
       "      <td>0.690176</td>\n",
       "      <td>0.490711</td>\n",
       "      <td>0.626685</td>\n",
       "      <td>0.0722426</td>\n",
       "      <td>0.0417788</td>\n",
       "      <td>0.0403888</td>\n",
       "      <td>...</td>\n",
       "      <td>0.771372</td>\n",
       "      <td>0.779899</td>\n",
       "      <td>0.775612</td>\n",
       "      <td>776</td>\n",
       "      <td>944</td>\n",
       "      <td>230</td>\n",
       "      <td>219</td>\n",
       "      <td>0.583496</td>\n",
       "      <td>0.583527</td>\n",
       "      <td>0.791994</td>\n",
       "    </tr>\n",
       "    <tr>\n",
       "      <th>0</th>\n",
       "      <td>LR_N-Gram_TF-IDF</td>\n",
       "      <td>0.495503</td>\n",
       "      <td>0.429021</td>\n",
       "      <td>0.355603</td>\n",
       "      <td>0.409944</td>\n",
       "      <td>0.34902</td>\n",
       "      <td>0.407818</td>\n",
       "      <td>0.0535282</td>\n",
       "      <td>0.0507712</td>\n",
       "      <td>0.0475352</td>\n",
       "      <td>...</td>\n",
       "      <td>0.701226</td>\n",
       "      <td>0.632161</td>\n",
       "      <td>0.664905</td>\n",
       "      <td>629</td>\n",
       "      <td>906</td>\n",
       "      <td>268</td>\n",
       "      <td>366</td>\n",
       "      <td>0.406937</td>\n",
       "      <td>0.408658</td>\n",
       "      <td>0.701941</td>\n",
       "    </tr>\n",
       "    <tr>\n",
       "      <th>0</th>\n",
       "      <td>LR_CharLevel_TF-IDF</td>\n",
       "      <td>4.52604</td>\n",
       "      <td>5.30917</td>\n",
       "      <td>5.46984</td>\n",
       "      <td>5.11398</td>\n",
       "      <td>3.58113</td>\n",
       "      <td>4.80003</td>\n",
       "      <td>0.68807</td>\n",
       "      <td>0.07074</td>\n",
       "      <td>0.0679901</td>\n",
       "      <td>...</td>\n",
       "      <td>0.753205</td>\n",
       "      <td>0.708543</td>\n",
       "      <td>0.730192</td>\n",
       "      <td>705</td>\n",
       "      <td>943</td>\n",
       "      <td>231</td>\n",
       "      <td>290</td>\n",
       "      <td>0.514104</td>\n",
       "      <td>0.514884</td>\n",
       "      <td>0.75589</td>\n",
       "    </tr>\n",
       "    <tr>\n",
       "      <th>0</th>\n",
       "      <td>SVM_Count_Vectors</td>\n",
       "      <td>142.24</td>\n",
       "      <td>143.032</td>\n",
       "      <td>143.314</td>\n",
       "      <td>144.206</td>\n",
       "      <td>113.892</td>\n",
       "      <td>137.337</td>\n",
       "      <td>11.7393</td>\n",
       "      <td>45.6131</td>\n",
       "      <td>45.6117</td>\n",
       "      <td>...</td>\n",
       "      <td>0.750984</td>\n",
       "      <td>0.766834</td>\n",
       "      <td>0.758826</td>\n",
       "      <td>763</td>\n",
       "      <td>921</td>\n",
       "      <td>253</td>\n",
       "      <td>232</td>\n",
       "      <td>0.550446</td>\n",
       "      <td>0.55055</td>\n",
       "      <td>0.775666</td>\n",
       "    </tr>\n",
       "    <tr>\n",
       "      <th>0</th>\n",
       "      <td>SVM_WordLevel_TF-IDF</td>\n",
       "      <td>171.507</td>\n",
       "      <td>164.749</td>\n",
       "      <td>171.223</td>\n",
       "      <td>171.68</td>\n",
       "      <td>118.665</td>\n",
       "      <td>159.565</td>\n",
       "      <td>20.6152</td>\n",
       "      <td>51.6323</td>\n",
       "      <td>49.8943</td>\n",
       "      <td>...</td>\n",
       "      <td>0.760194</td>\n",
       "      <td>0.786935</td>\n",
       "      <td>0.773333</td>\n",
       "      <td>783</td>\n",
       "      <td>927</td>\n",
       "      <td>247</td>\n",
       "      <td>212</td>\n",
       "      <td>0.575001</td>\n",
       "      <td>0.575303</td>\n",
       "      <td>0.788271</td>\n",
       "    </tr>\n",
       "    <tr>\n",
       "      <th>0</th>\n",
       "      <td>SVM_N-Gram_TF-IDF</td>\n",
       "      <td>67.1528</td>\n",
       "      <td>65.9447</td>\n",
       "      <td>66.7256</td>\n",
       "      <td>65.973</td>\n",
       "      <td>32.62</td>\n",
       "      <td>59.6832</td>\n",
       "      <td>13.5394</td>\n",
       "      <td>24.1372</td>\n",
       "      <td>25.0592</td>\n",
       "      <td>...</td>\n",
       "      <td>0.699887</td>\n",
       "      <td>0.621106</td>\n",
       "      <td>0.658147</td>\n",
       "      <td>618</td>\n",
       "      <td>909</td>\n",
       "      <td>265</td>\n",
       "      <td>377</td>\n",
       "      <td>0.398804</td>\n",
       "      <td>0.401015</td>\n",
       "      <td>0.697691</td>\n",
       "    </tr>\n",
       "    <tr>\n",
       "      <th>0</th>\n",
       "      <td>SVM_CharLevel_TF-IDF</td>\n",
       "      <td>567.083</td>\n",
       "      <td>577.67</td>\n",
       "      <td>578.479</td>\n",
       "      <td>579.833</td>\n",
       "      <td>336.997</td>\n",
       "      <td>528.013</td>\n",
       "      <td>95.6156</td>\n",
       "      <td>186.596</td>\n",
       "      <td>184.288</td>\n",
       "      <td>...</td>\n",
       "      <td>0.757515</td>\n",
       "      <td>0.759799</td>\n",
       "      <td>0.758655</td>\n",
       "      <td>756</td>\n",
       "      <td>932</td>\n",
       "      <td>242</td>\n",
       "      <td>239</td>\n",
       "      <td>0.553539</td>\n",
       "      <td>0.553541</td>\n",
       "      <td>0.776833</td>\n",
       "    </tr>\n",
       "    <tr>\n",
       "      <th>0</th>\n",
       "      <td>kNN_Count_Vectors</td>\n",
       "      <td>0.071985</td>\n",
       "      <td>0.072355</td>\n",
       "      <td>0.0727</td>\n",
       "      <td>0.0731351</td>\n",
       "      <td>0.0939651</td>\n",
       "      <td>0.0768281</td>\n",
       "      <td>0.00857692</td>\n",
       "      <td>3.7683</td>\n",
       "      <td>3.65425</td>\n",
       "      <td>...</td>\n",
       "      <td>0.586263</td>\n",
       "      <td>0.720603</td>\n",
       "      <td>0.646528</td>\n",
       "      <td>717</td>\n",
       "      <td>668</td>\n",
       "      <td>506</td>\n",
       "      <td>278</td>\n",
       "      <td>0.284626</td>\n",
       "      <td>0.290993</td>\n",
       "      <td>0.644799</td>\n",
       "    </tr>\n",
       "    <tr>\n",
       "      <th>0</th>\n",
       "      <td>kNN_WordLevel_TF-IDF</td>\n",
       "      <td>0.049027</td>\n",
       "      <td>0.0487049</td>\n",
       "      <td>0.051249</td>\n",
       "      <td>0.0619388</td>\n",
       "      <td>0.0523279</td>\n",
       "      <td>0.0526495</td>\n",
       "      <td>0.00483814</td>\n",
       "      <td>4.03613</td>\n",
       "      <td>3.9824</td>\n",
       "      <td>...</td>\n",
       "      <td>0.751938</td>\n",
       "      <td>0.0974874</td>\n",
       "      <td>0.172598</td>\n",
       "      <td>97</td>\n",
       "      <td>1142</td>\n",
       "      <td>32</td>\n",
       "      <td>898</td>\n",
       "      <td>0.0752212</td>\n",
       "      <td>0.147965</td>\n",
       "      <td>0.535115</td>\n",
       "    </tr>\n",
       "    <tr>\n",
       "      <th>0</th>\n",
       "      <td>kNN_N-Gram_TF-IDF</td>\n",
       "      <td>0.013175</td>\n",
       "      <td>0.0136449</td>\n",
       "      <td>0.020715</td>\n",
       "      <td>0.0663297</td>\n",
       "      <td>0.0168662</td>\n",
       "      <td>0.0261462</td>\n",
       "      <td>0.0202725</td>\n",
       "      <td>1.33747</td>\n",
       "      <td>1.33642</td>\n",
       "      <td>...</td>\n",
       "      <td>0.584323</td>\n",
       "      <td>0.494472</td>\n",
       "      <td>0.535656</td>\n",
       "      <td>492</td>\n",
       "      <td>824</td>\n",
       "      <td>350</td>\n",
       "      <td>503</td>\n",
       "      <td>0.198675</td>\n",
       "      <td>0.20076</td>\n",
       "      <td>0.598173</td>\n",
       "    </tr>\n",
       "    <tr>\n",
       "      <th>0</th>\n",
       "      <td>kNN_CharLevel_TF-IDF</td>\n",
       "      <td>0.655702</td>\n",
       "      <td>0.672649</td>\n",
       "      <td>0.65748</td>\n",
       "      <td>0.667741</td>\n",
       "      <td>0.195899</td>\n",
       "      <td>0.569894</td>\n",
       "      <td>0.187104</td>\n",
       "      <td>48.1581</td>\n",
       "      <td>48.1758</td>\n",
       "      <td>...</td>\n",
       "      <td>0.739785</td>\n",
       "      <td>0.345729</td>\n",
       "      <td>0.471233</td>\n",
       "      <td>344</td>\n",
       "      <td>1053</td>\n",
       "      <td>121</td>\n",
       "      <td>651</td>\n",
       "      <td>0.252933</td>\n",
       "      <td>0.294636</td>\n",
       "      <td>0.621331</td>\n",
       "    </tr>\n",
       "    <tr>\n",
       "      <th>0</th>\n",
       "      <td>SGD_Count_Vectors</td>\n",
       "      <td>0.458804</td>\n",
       "      <td>0.473416</td>\n",
       "      <td>0.420624</td>\n",
       "      <td>0.444952</td>\n",
       "      <td>0.266678</td>\n",
       "      <td>0.412895</td>\n",
       "      <td>0.0751494</td>\n",
       "      <td>0.0419219</td>\n",
       "      <td>0.0525622</td>\n",
       "      <td>...</td>\n",
       "      <td>0.654107</td>\n",
       "      <td>0.872362</td>\n",
       "      <td>0.747631</td>\n",
       "      <td>868</td>\n",
       "      <td>715</td>\n",
       "      <td>459</td>\n",
       "      <td>127</td>\n",
       "      <td>0.469449</td>\n",
       "      <td>0.492212</td>\n",
       "      <td>0.740695</td>\n",
       "    </tr>\n",
       "    <tr>\n",
       "      <th>0</th>\n",
       "      <td>SGD_WordLevel_TF-IDF</td>\n",
       "      <td>0.3128</td>\n",
       "      <td>0.269268</td>\n",
       "      <td>0.277042</td>\n",
       "      <td>0.274197</td>\n",
       "      <td>0.175028</td>\n",
       "      <td>0.261667</td>\n",
       "      <td>0.0459828</td>\n",
       "      <td>0.03966</td>\n",
       "      <td>0.039535</td>\n",
       "      <td>...</td>\n",
       "      <td>0.742604</td>\n",
       "      <td>0.756784</td>\n",
       "      <td>0.749627</td>\n",
       "      <td>753</td>\n",
       "      <td>913</td>\n",
       "      <td>261</td>\n",
       "      <td>242</td>\n",
       "      <td>0.53369</td>\n",
       "      <td>0.533773</td>\n",
       "      <td>0.767234</td>\n",
       "    </tr>\n",
       "    <tr>\n",
       "      <th>0</th>\n",
       "      <td>SGD_N-Gram_Vectors</td>\n",
       "      <td>0.118953</td>\n",
       "      <td>0.126627</td>\n",
       "      <td>0.1075</td>\n",
       "      <td>0.105808</td>\n",
       "      <td>0.0728922</td>\n",
       "      <td>0.106356</td>\n",
       "      <td>0.0183905</td>\n",
       "      <td>0.0420618</td>\n",
       "      <td>0.03441</td>\n",
       "      <td>...</td>\n",
       "      <td>0.633803</td>\n",
       "      <td>0.678392</td>\n",
       "      <td>0.65534</td>\n",
       "      <td>675</td>\n",
       "      <td>784</td>\n",
       "      <td>390</td>\n",
       "      <td>320</td>\n",
       "      <td>0.344348</td>\n",
       "      <td>0.345069</td>\n",
       "      <td>0.673097</td>\n",
       "    </tr>\n",
       "    <tr>\n",
       "      <th>0</th>\n",
       "      <td>SGD_CharLevel_Vectors</td>\n",
       "      <td>1.92091</td>\n",
       "      <td>1.93717</td>\n",
       "      <td>1.7542</td>\n",
       "      <td>1.82993</td>\n",
       "      <td>1.36733</td>\n",
       "      <td>1.76191</td>\n",
       "      <td>0.208027</td>\n",
       "      <td>0.0974619</td>\n",
       "      <td>0.103405</td>\n",
       "      <td>...</td>\n",
       "      <td>0.828369</td>\n",
       "      <td>0.586935</td>\n",
       "      <td>0.687059</td>\n",
       "      <td>584</td>\n",
       "      <td>1053</td>\n",
       "      <td>121</td>\n",
       "      <td>411</td>\n",
       "      <td>0.494864</td>\n",
       "      <td>0.514763</td>\n",
       "      <td>0.741934</td>\n",
       "    </tr>\n",
       "    <tr>\n",
       "      <th>0</th>\n",
       "      <td>GB_Count_Vectors</td>\n",
       "      <td>62.9065</td>\n",
       "      <td>55.3991</td>\n",
       "      <td>56.9035</td>\n",
       "      <td>52.061</td>\n",
       "      <td>27.6382</td>\n",
       "      <td>50.9817</td>\n",
       "      <td>12.189</td>\n",
       "      <td>0.0316858</td>\n",
       "      <td>0.0516238</td>\n",
       "      <td>...</td>\n",
       "      <td>0.698055</td>\n",
       "      <td>0.685427</td>\n",
       "      <td>0.691684</td>\n",
       "      <td>682</td>\n",
       "      <td>879</td>\n",
       "      <td>295</td>\n",
       "      <td>313</td>\n",
       "      <td>0.434749</td>\n",
       "      <td>0.43481</td>\n",
       "      <td>0.717075</td>\n",
       "    </tr>\n",
       "    <tr>\n",
       "      <th>0</th>\n",
       "      <td>GB_N-Gram_TF-IDF</td>\n",
       "      <td>5.80552</td>\n",
       "      <td>7.31059</td>\n",
       "      <td>7.17226</td>\n",
       "      <td>6.93111</td>\n",
       "      <td>5.58752</td>\n",
       "      <td>6.5614</td>\n",
       "      <td>0.719849</td>\n",
       "      <td>0.0432222</td>\n",
       "      <td>0.025759</td>\n",
       "      <td>...</td>\n",
       "      <td>0.592755</td>\n",
       "      <td>0.542714</td>\n",
       "      <td>0.566632</td>\n",
       "      <td>540</td>\n",
       "      <td>803</td>\n",
       "      <td>371</td>\n",
       "      <td>455</td>\n",
       "      <td>0.228168</td>\n",
       "      <td>0.228875</td>\n",
       "      <td>0.61335</td>\n",
       "    </tr>\n",
       "    <tr>\n",
       "      <th>0</th>\n",
       "      <td>GB_CharLevel_TF-IDF</td>\n",
       "      <td>220.842</td>\n",
       "      <td>238.157</td>\n",
       "      <td>282.195</td>\n",
       "      <td>257.065</td>\n",
       "      <td>184.308</td>\n",
       "      <td>236.513</td>\n",
       "      <td>33.1146</td>\n",
       "      <td>0.0761411</td>\n",
       "      <td>0.0745621</td>\n",
       "      <td>...</td>\n",
       "      <td>0.719447</td>\n",
       "      <td>0.680402</td>\n",
       "      <td>0.69938</td>\n",
       "      <td>677</td>\n",
       "      <td>910</td>\n",
       "      <td>264</td>\n",
       "      <td>318</td>\n",
       "      <td>0.457422</td>\n",
       "      <td>0.458003</td>\n",
       "      <td>0.727765</td>\n",
       "    </tr>\n",
       "    <tr>\n",
       "      <th>0</th>\n",
       "      <td>GB_WordLevel_TF-IDF</td>\n",
       "      <td>92.4755</td>\n",
       "      <td>84.2349</td>\n",
       "      <td>73.6215</td>\n",
       "      <td>84.1027</td>\n",
       "      <td>48.617</td>\n",
       "      <td>76.6103</td>\n",
       "      <td>15.2219</td>\n",
       "      <td>0.0370519</td>\n",
       "      <td>0.0738072</td>\n",
       "      <td>...</td>\n",
       "      <td>0.714286</td>\n",
       "      <td>0.703518</td>\n",
       "      <td>0.708861</td>\n",
       "      <td>700</td>\n",
       "      <td>894</td>\n",
       "      <td>280</td>\n",
       "      <td>295</td>\n",
       "      <td>0.465552</td>\n",
       "      <td>0.465597</td>\n",
       "      <td>0.732508</td>\n",
       "    </tr>\n",
       "  </tbody>\n",
       "</table>\n",
       "<p>24 rows × 113 columns</p>\n",
       "</div>"
      ],
      "text/plain": [
       "                   Model fit_time_cv1 fit_time_cv2 fit_time_cv3 fit_time_cv4  \\\n",
       "0       NB_Count_Vectors     0.083657     0.087841     0.084295    0.0876408   \n",
       "0    NB_WordLevel_TF-IDF    0.0570619    0.0624511    0.0512819    0.0743842   \n",
       "0       NB_N-Gram_TF-IDF    0.0146081     0.031333    0.0386279    0.0167282   \n",
       "0    NB_CharLevel_TF-IDF     0.849732     0.797022       1.1039      1.13063   \n",
       "0       LR_Count_Vectors      18.4121      19.1657       17.922      19.1001   \n",
       "0    LR_WordLevel_TF-IDF     0.667456     0.669091      0.61599     0.690176   \n",
       "0       LR_N-Gram_TF-IDF     0.495503     0.429021     0.355603     0.409944   \n",
       "0    LR_CharLevel_TF-IDF      4.52604      5.30917      5.46984      5.11398   \n",
       "0      SVM_Count_Vectors       142.24      143.032      143.314      144.206   \n",
       "0   SVM_WordLevel_TF-IDF      171.507      164.749      171.223       171.68   \n",
       "0      SVM_N-Gram_TF-IDF      67.1528      65.9447      66.7256       65.973   \n",
       "0   SVM_CharLevel_TF-IDF      567.083       577.67      578.479      579.833   \n",
       "0      kNN_Count_Vectors     0.071985     0.072355       0.0727    0.0731351   \n",
       "0   kNN_WordLevel_TF-IDF     0.049027    0.0487049     0.051249    0.0619388   \n",
       "0      kNN_N-Gram_TF-IDF     0.013175    0.0136449     0.020715    0.0663297   \n",
       "0   kNN_CharLevel_TF-IDF     0.655702     0.672649      0.65748     0.667741   \n",
       "0      SGD_Count_Vectors     0.458804     0.473416     0.420624     0.444952   \n",
       "0   SGD_WordLevel_TF-IDF       0.3128     0.269268     0.277042     0.274197   \n",
       "0     SGD_N-Gram_Vectors     0.118953     0.126627       0.1075     0.105808   \n",
       "0  SGD_CharLevel_Vectors      1.92091      1.93717       1.7542      1.82993   \n",
       "0       GB_Count_Vectors      62.9065      55.3991      56.9035       52.061   \n",
       "0       GB_N-Gram_TF-IDF      5.80552      7.31059      7.17226      6.93111   \n",
       "0    GB_CharLevel_TF-IDF      220.842      238.157      282.195      257.065   \n",
       "0    GB_WordLevel_TF-IDF      92.4755      84.2349      73.6215      84.1027   \n",
       "\n",
       "  fit_time_cv5 fit_time_mean fit_time_std score_time_cv1 score_time_cv2  ...  \\\n",
       "0    0.0806589     0.0848186   0.00268425      0.0557067      0.0472348  ...   \n",
       "0     0.034615     0.0559588    0.0131171      0.0463171      0.0433159  ...   \n",
       "0    0.0169821     0.0236558   0.00956548      0.0413001      0.0396559  ...   \n",
       "0     0.286705      0.833599     0.303969       0.125775      0.0687079  ...   \n",
       "0      9.19119       16.7582      3.81129      0.0704119      0.0472348  ...   \n",
       "0     0.490711      0.626685    0.0722426      0.0417788      0.0403888  ...   \n",
       "0      0.34902      0.407818    0.0535282      0.0507712      0.0475352  ...   \n",
       "0      3.58113       4.80003      0.68807        0.07074      0.0679901  ...   \n",
       "0      113.892       137.337      11.7393        45.6131        45.6117  ...   \n",
       "0      118.665       159.565      20.6152        51.6323        49.8943  ...   \n",
       "0        32.62       59.6832      13.5394        24.1372        25.0592  ...   \n",
       "0      336.997       528.013      95.6156        186.596        184.288  ...   \n",
       "0    0.0939651     0.0768281   0.00857692         3.7683        3.65425  ...   \n",
       "0    0.0523279     0.0526495   0.00483814        4.03613         3.9824  ...   \n",
       "0    0.0168662     0.0261462    0.0202725        1.33747        1.33642  ...   \n",
       "0     0.195899      0.569894     0.187104        48.1581        48.1758  ...   \n",
       "0     0.266678      0.412895    0.0751494      0.0419219      0.0525622  ...   \n",
       "0     0.175028      0.261667    0.0459828        0.03966       0.039535  ...   \n",
       "0    0.0728922      0.106356    0.0183905      0.0420618        0.03441  ...   \n",
       "0      1.36733       1.76191     0.208027      0.0974619       0.103405  ...   \n",
       "0      27.6382       50.9817       12.189      0.0316858      0.0516238  ...   \n",
       "0      5.58752        6.5614     0.719849      0.0432222       0.025759  ...   \n",
       "0      184.308       236.513      33.1146      0.0761411      0.0745621  ...   \n",
       "0       48.617       76.6103      15.2219      0.0370519      0.0738072  ...   \n",
       "\n",
       "  prec_overall recall_overall f1-score_overall tp_overall tn_overall  \\\n",
       "0     0.791759       0.714573         0.751189        711        987   \n",
       "0     0.821277        0.58191         0.681176        579       1048   \n",
       "0     0.730563       0.547739         0.626077        545        973   \n",
       "0     0.834646       0.106533         0.188948        106       1153   \n",
       "0     0.738872       0.750754         0.744766        747        910   \n",
       "0     0.771372       0.779899         0.775612        776        944   \n",
       "0     0.701226       0.632161         0.664905        629        906   \n",
       "0     0.753205       0.708543         0.730192        705        943   \n",
       "0     0.750984       0.766834         0.758826        763        921   \n",
       "0     0.760194       0.786935         0.773333        783        927   \n",
       "0     0.699887       0.621106         0.658147        618        909   \n",
       "0     0.757515       0.759799         0.758655        756        932   \n",
       "0     0.586263       0.720603         0.646528        717        668   \n",
       "0     0.751938      0.0974874         0.172598         97       1142   \n",
       "0     0.584323       0.494472         0.535656        492        824   \n",
       "0     0.739785       0.345729         0.471233        344       1053   \n",
       "0     0.654107       0.872362         0.747631        868        715   \n",
       "0     0.742604       0.756784         0.749627        753        913   \n",
       "0     0.633803       0.678392          0.65534        675        784   \n",
       "0     0.828369       0.586935         0.687059        584       1053   \n",
       "0     0.698055       0.685427         0.691684        682        879   \n",
       "0     0.592755       0.542714         0.566632        540        803   \n",
       "0     0.719447       0.680402          0.69938        677        910   \n",
       "0     0.714286       0.703518         0.708861        700        894   \n",
       "\n",
       "  fp_overall fn_overall cohens_kappa_overall matthews_corrcoef_overall  \\\n",
       "0        187        284             0.559446                  0.561763   \n",
       "0        126        416             0.485369                  0.504886   \n",
       "0        201        450             0.383852                  0.394977   \n",
       "0         21        889            0.0949604                  0.188135   \n",
       "0        264        248             0.525238                  0.525295   \n",
       "0        230        219             0.583496                  0.583527   \n",
       "0        268        366             0.406937                  0.408658   \n",
       "0        231        290             0.514104                  0.514884   \n",
       "0        253        232             0.550446                   0.55055   \n",
       "0        247        212             0.575001                  0.575303   \n",
       "0        265        377             0.398804                  0.401015   \n",
       "0        242        239             0.553539                  0.553541   \n",
       "0        506        278             0.284626                  0.290993   \n",
       "0         32        898            0.0752212                  0.147965   \n",
       "0        350        503             0.198675                   0.20076   \n",
       "0        121        651             0.252933                  0.294636   \n",
       "0        459        127             0.469449                  0.492212   \n",
       "0        261        242              0.53369                  0.533773   \n",
       "0        390        320             0.344348                  0.345069   \n",
       "0        121        411             0.494864                  0.514763   \n",
       "0        295        313             0.434749                   0.43481   \n",
       "0        371        455             0.228168                  0.228875   \n",
       "0        264        318             0.457422                  0.458003   \n",
       "0        280        295             0.465552                  0.465597   \n",
       "\n",
       "  roc_auc_overall  \n",
       "0        0.777644  \n",
       "0        0.737292  \n",
       "0        0.688265  \n",
       "0        0.544323  \n",
       "0        0.762941  \n",
       "0        0.791994  \n",
       "0        0.701941  \n",
       "0         0.75589  \n",
       "0        0.775666  \n",
       "0        0.788271  \n",
       "0        0.697691  \n",
       "0        0.776833  \n",
       "0        0.644799  \n",
       "0        0.535115  \n",
       "0        0.598173  \n",
       "0        0.621331  \n",
       "0        0.740695  \n",
       "0        0.767234  \n",
       "0        0.673097  \n",
       "0        0.741934  \n",
       "0        0.717075  \n",
       "0         0.61335  \n",
       "0        0.727765  \n",
       "0        0.732508  \n",
       "\n",
       "[24 rows x 113 columns]"
      ]
     },
     "execution_count": 97,
     "metadata": {},
     "output_type": "execute_result"
    }
   ],
   "source": [
    "df_results"
   ]
  },
  {
   "cell_type": "code",
   "execution_count": null,
   "metadata": {},
   "outputs": [],
   "source": [
    "if save_results:\n",
    "    df_results.to_csv(NAME_SAVE_FILE+\".csv\", sep=\";\", index=False)"
   ]
  },
  {
   "cell_type": "markdown",
   "metadata": {},
   "source": [
    "<a id='xgb'></a>"
   ]
  },
  {
   "cell_type": "markdown",
   "metadata": {},
   "source": [
    "<br>\n",
    "<div class=\"span5 alert alert-info\">\n",
    "    <H5>XGBoost</H5>\n",
    "</div>"
   ]
  },
  {
   "cell_type": "code",
   "execution_count": 98,
   "metadata": {},
   "outputs": [
    {
     "name": "stdout",
     "output_type": "stream",
     "text": [
      "CPU times: user 14min 55s, sys: 3.78 s, total: 14min 59s\n",
      "Wall time: 5min 44s\n"
     ]
    }
   ],
   "source": [
    "%%time\n",
    "if xgboost_classifier:\n",
    "    fit_params={'early_stopping_rounds':10,'eval_set':[(x_test_count, y_test)]}\n",
    "    \n",
    "    if num_gpu>0:    # Config for GPU\n",
    "        df_results = df_results.append(report(XGBClassifier(tree_method='gpu_hist',n_estimators=1000, subsample=0.8), x_train_count, y_train, x_test_count, y_test, name='XGB_Count_Vectors', cv=CV_splits, fit_params=fit_params, dict_scoring=score_metrics, save=save_model))\n",
    "    \n",
    "    else:\n",
    "        # run on CPU\n",
    "        df_results = df_results.append(report(XGBClassifier(n_estimators=1000, subsample=0.8), x_train_count, y_train, x_test_count, y_test, name='XGB_Count_Vectors', cv=CV_splits, fit_params=fit_params, dict_scoring=score_metrics, save=save_model))\n",
    "    \n",
    "    if save_results:\n",
    "        df_results.to_csv(NAME_SAVE_FILE+\".csv\", sep=\";\", index=False)"
   ]
  },
  {
   "cell_type": "code",
   "execution_count": 99,
   "metadata": {},
   "outputs": [],
   "source": [
    "%%time\n",
    "if xgboost_classifier:\n",
    "    fit_params={'early_stopping_rounds':10,'eval_set':[(x_test_tfidf, y_test)]}\n",
    "    \n",
    "    if num_gpu>0:    # Config for GPU\n",
    "        df_results = df_results.append(report(XGBClassifier(tree_method='gpu_hist', n_estimators=1000, subsample=0.8), x_train_tfidf, y_train, x_test_tfidf, y_test, name='XGB_WordLevel_TF-IDF', cv=CV_splits, fit_params=fit_params, dict_scoring=score_metrics, save=save_model))\n",
    "    \n",
    "    else:\n",
    "        df_results = df_results.append(report(XGBClassifier(n_estimators=1000, subsample=0.8),x_train_tfidf, y_train, x_test_tfidf, y_test, name='XGB_WordLevel_TF-IDF', cv=CV_splits, fit_params=fit_params, dict_scoring=score_metrics, save=save_model))\n",
    "    \n",
    "    if save_results:\n",
    "        df_results.to_csv(NAME_SAVE_FILE+\".csv\", sep=\";\", index=False)"
   ]
  },
  {
   "cell_type": "code",
   "execution_count": 100,
   "metadata": {},
   "outputs": [
    {
     "name": "stdout",
     "output_type": "stream",
     "text": [
      "CPU times: user 5min 19s, sys: 935 ms, total: 5min 19s\n",
      "Wall time: 1min 44s\n"
     ]
    }
   ],
   "source": [
    "%%time\n",
    "if xgboost_classifier:\n",
    "    fit_params={'early_stopping_rounds':10, 'eval_set':[(x_test_tfidf_ngram, y_test)]}\n",
    "    \n",
    "    if num_gpu>0:    # Config for GPU\n",
    "        df_results = df_results.append(report(XGBClassifier(tree_method='gpu_hist',n_estimators=1000, subsample=0.8), x_train_tfidf_ngram,y_train, x_test_tfidf_ngram, y_test, name='XGB_N-Gram_TF-IDF', cv=CV_splits, fit_params=fit_params, dict_scoring=score_metrics, save=save_model))\n",
    "    \n",
    "    else:\n",
    "        df_results = df_results.append(report(XGBClassifier(n_estimators=1000, subsample=0.8), x_train_tfidf_ngram,y_train, x_test_tfidf_ngram, y_test, name='XGB_N-Gram_TF-IDF', cv=CV_splits, fit_params=fit_params, dict_scoring=score_metrics, save=save_model))\n",
    "    \n",
    "    if save_results:\n",
    "        df_results.to_csv(NAME_SAVE_FILE+\".csv\", sep=\";\", index=False)"
   ]
  },
  {
   "cell_type": "code",
   "execution_count": 101,
   "metadata": {},
   "outputs": [
    {
     "name": "stdout",
     "output_type": "stream",
     "text": [
      "CPU times: user 47min 19s, sys: 6.99 s, total: 47min 26s\n",
      "Wall time: 25min 58s\n"
     ]
    }
   ],
   "source": [
    "%%time\n",
    "if xgboost_classifier:\n",
    "    fit_params={'early_stopping_rounds':10, 'eval_set':[(x_test_tfidf_ngram_chars, y_test)]}\n",
    "\n",
    "    if num_gpu>0:    # Config for GPU\n",
    "        df_results = df_results.append(report(XGBClassifier(tree_method='gpu_hist',n_estimators=1000, subsample=0.8), x_train_tfidf_ngram_chars,y_train, x_test_tfidf_ngram_chars, y_test, name='XGB_CharLevel_TF-IDF', cv=CV_splits, fit_params=fit_params, dict_scoring=score_metrics, save=save_model))\n",
    "    \n",
    "    else:\n",
    "        df_results = df_results.append(report(XGBClassifier(n_estimators=1000, subsample=0.8), x_train_tfidf_ngram_chars,y_train, x_test_tfidf_ngram_chars, y_test, name='XGB_CharLevel_TF-IDF', cv=CV_splits, fit_params=fit_params, dict_scoring=score_metrics, save=save_model))\n",
    "    \n",
    "    if save_results:\n",
    "        df_results.to_csv(NAME_SAVE_FILE+\".csv\", sep=\";\", index=False)\n"
   ]
  },
  {
   "cell_type": "markdown",
   "metadata": {},
   "source": [
    "<a id='cb'></a>"
   ]
  },
  {
   "cell_type": "markdown",
   "metadata": {},
   "source": [
    "<br>\n",
    "<div class=\"span5 alert alert-info\">\n",
    "    <H5>Catboost</H5>\n",
    "</div>"
   ]
  },
  {
   "cell_type": "markdown",
   "metadata": {},
   "source": [
    "**PENDING**"
   ]
  },
  {
   "cell_type": "code",
   "execution_count": null,
   "metadata": {},
   "outputs": [],
   "source": [
    "%%time \n",
    "if catboost_classifier:\n",
    "    # work in progress\n",
    "    if num_gpu>0:  # test gpu available\n",
    "        df_results = df_results.append(report(CatBoostClassifier(n_estimators=1000, early_stopping_rounds=10, task_type=\"GPU\"), x_train_count, y_train, x_test_count, y_test, name='Catboost_Count_Vectors', cv=CV_splits,  dict_scoring=score_metrics))\n",
    "        df_results = df_results.append(report(CatBoostClassifier(n_estimators=1000, early_stopping_rounds=10, task_type=\"GPU\"), x_train_tfidf, y_train, x_test_tfidf, y_test, name='Catboost_WordLevel_TF-IDF', cv=CV_splits, dict_scoring=score_metrics))\n",
    "        df_results = df_results.append(report(CatBoostClassifier(n_estimators=1000, early_stopping_rounds=10, task_type=\"GPU\"), x_train_tfidf_ngram,y_train, x_test_tfidf_ngram, y_test, name='Catboost_N-Gram_TF-IDF', cv=CV_splits,  dict_scoring=score_metrics))\n",
    "        df_results = df_results.append(report(CatBoostClassifier(n_estimators=1000, early_stopping_rounds=10, task_type=\"GPU\"), x_train_tfidf_ngram_chars,y_train, x_test_tfidf_ngram_chars, y_test, name='Catboost_CharLevel_TF-IDF', cv=CV_splits,  dict_scoring=score_metrics))\n",
    "    else:\n",
    "        df_results = df_results.append(report(CatBoostClassifier(n_estimators=1000, early_stopping_rounds=10), x_train_count, y_train, x_test_count, y_test, name='Catboost_Count_Vectors', cv=CV_splits,  dict_scoring=score_metrics))\n",
    "        df_results = df_results.append(report(CatBoostClassifier(n_estimators=1000, early_stopping_rounds=10), x_train_tfidf, y_train, x_test_tfidf, y_test, name='Catboost_WordLevel_TF-IDF', cv=CV_splits,  dict_scoring=score_metrics))\n",
    "        df_results = df_results.append(report(CatBoostClassifier(n_estimators=1000, early_stopping_rounds=10), x_train_tfidf_ngram,y_train, x_test_tfidf_ngram, y_test, name='Catboost_N-Gram_TF-IDF', cv=CV_splits,  dict_scoring=score_metrics))\n",
    "        df_results = df_results.append(report(CatBoostClassifier(n_estimators=1000, early_stopping_rounds=10), x_train_tfidf_ngram_chars,y_train, x_test_tfidf_ngram_chars, y_test, name='Catboost_CharLevel_TF-IDF', cv=CV_splits, dict_scoring=score_metrics))"
   ]
  },
  {
   "cell_type": "markdown",
   "metadata": {},
   "source": [
    "<a id='ab'></a>"
   ]
  },
  {
   "cell_type": "markdown",
   "metadata": {},
   "source": [
    "<br>\n",
    "<div class=\"span5 alert alert-info\">\n",
    "    <H5>Adaboost</H5>\n",
    "</div>"
   ]
  },
  {
   "cell_type": "markdown",
   "metadata": {},
   "source": [
    "**PENDING**"
   ]
  },
  {
   "cell_type": "code",
   "execution_count": null,
   "metadata": {},
   "outputs": [],
   "source": [
    "%%time \n",
    "if adaboost_classifier:\n",
    "    # work in progress\n",
    "    df_results = df_results.append(report(AdaBoostClassifier(n_estimators=1000), x_train_count, y_train, x_test_count, y_test, name='Adaboost_Count_Vectors', cv=CV_splits,  dict_scoring=score_metrics, save=save_model))\n",
    "    df_results = df_results.append(report(AdaBoostClassifier(n_estimators=1000), x_train_tfidf, y_train, x_test_tfidf, y_test, name='Adaboost_WordLevel_TF-IDF', cv=CV_splits,  dict_scoring=score_metrics, save=save_model))\n",
    "    df_results = df_results.append(report(AdaBoostClassifier(n_estimators=1000), x_train_tfidf_ngram,y_train, x_test_tfidf_ngram, y_test, name='Adaboost_N-Gram_TF-IDF', cv=CV_splits,  dict_scoring=score_metrics, save=save_model))\n",
    "    df_results = df_results.append(report(AdaBoostClassifier(n_estimators=1000), x_train_tfidf_ngram_chars,y_train, x_test_tfidf_ngram_chars, y_test, name='Adaboost_CharLevel_TF-IDF', cv=CV_splits,  dict_scoring=score_metrics, save=save_model))"
   ]
  },
  {
   "cell_type": "markdown",
   "metadata": {},
   "source": [
    "<a id='lgbm'></a>"
   ]
  },
  {
   "cell_type": "markdown",
   "metadata": {},
   "source": [
    "<br>\n",
    "<div class=\"span5 alert alert-info\">\n",
    "    <H5>LightGBM</H5>\n",
    "</div>"
   ]
  },
  {
   "cell_type": "markdown",
   "metadata": {},
   "source": [
    "**PENDING**"
   ]
  },
  {
   "cell_type": "code",
   "execution_count": null,
   "metadata": {},
   "outputs": [],
   "source": [
    "%%time \n",
    "if lightgbm_classifier:\n",
    "    \n",
    "    # work in progress\n",
    "    fit_params = {'early_stopping_rounds':10,'eval_set':[(x_test_count, y_test)]}\n",
    "    if num_gpu>0:\n",
    "        df_results = df_results.append(report(LGBMClassifier(n_estimators = 1000, device = \"gpu\"), xtrain_count,train_y_sw, xvalid_count, valid_y, name='LGM_Count_Vectors', cv=CV_splits, fit_params=fit_params, dict_scoring=score_metrics))\n",
    "    else:   \n",
    "        df_results = df_results.append(report(LGBMClassifier(n_estimators = 1000), xtrain_count,train_y_sw, xvalid_count, valid_y, name='LGM_Count_Vectors', cv=CV_splits, fit_params=fit_params, dict_scoring=score_metrics))\n",
    "    \n",
    "    \n",
    "    fit_params = {'early_stopping_rounds':10,'eval_set':[(x_test_tfidf, y_test)]}\n",
    "    if num_gpu>0:\n",
    "        df_results = df_results.append(report(LGBMClassifier(n_estimators = 1000, device = \"gpu\"), xtrain_tfidf,train_y_sw, xvalid_tfidf, valid_y, name='LGM_Count_Vectors', cv=CV_splits, fit_params=fit_params, dict_scoring=score_metrics))\n",
    "    else:   \n",
    "        df_results = df_results.append(report(LGBMClassifier(n_estimators = 1000), xtrain_tfidf,train_y_sw, xvalid_tfidf, valid_y, name='LGM_Count_Vectors', cv=CV_splits, fit_params=fit_params, dict_scoring=score_metrics))\n",
    "    \n",
    "    \n",
    "    fit_params = {'early_stopping_rounds':10,'eval_set':[(x_test_tfidf_ngram, y_test)]}\n",
    "    if num_gpu>0:\n",
    "        df_results = df_results.append(report(LGBMClassifier(n_estimators = 1000, device = \"gpu\"), xtrain_tfidf_ngram,train_y_sw, xvalid_tfidf_ngram, valid_y, name='LGM_Count_Vectors', cv=CV_splits, fit_params=fit_params, dict_scoring=score_metrics))\n",
    "    else:   \n",
    "        df_results = df_results.append(report(LGBMClassifier(n_estimators = 1000), xtrain_tfidf_ngram,train_y_sw, xvalid_tfidf_ngram, valid_y, name='LGM_Count_Vectors', cv=CV_splits, fit_params=fit_params, dict_scoring=score_metrics))\n",
    "    \n",
    "    \n",
    "    fit_params = {'early_stopping_rounds':10,'eval_set':[(x_test_tfidf_ngram_chars, y_test)]}\n",
    "    if num_gpu>0:\n",
    "        df_results = df_results.append(report(LGBMClassifier(n_estimators = 1000, device = \"gpu\"), xtrain_tfidf_ngram_chars,train_y_sw, xvalid_tfidf_ngram_chars, valid_y, name='LGM_Count_Vectors', cv=CV_splits, fit_params=fit_params, dict_scoring=score_metrics))\n",
    "    else:   \n",
    "        df_results = df_results.append(report(LGBMClassifier(n_estimators = 1000), xtrain_tfidf_ngram_chars,train_y_sw, xvalid_tfidf_ngram_chars, valid_y, name='LGM_Count_Vectors', cv=CV_splits, fit_params=fit_params, dict_scoring=score_metrics))"
   ]
  },
  {
   "cell_type": "code",
   "execution_count": null,
   "metadata": {},
   "outputs": [],
   "source": [
    "x_train_count, y_train, x_test_count, y_test,\n",
    "x_train_tfidf, y_train, x_test_tfidf, y_test,\n",
    "x_train_tfidf_ngram,y_train, x_test_tfidf_ngram, y_test,\n",
    "x_train_tfidf_ngram_chars,y_train, x_test_tfidf_ngram_chars, y_test,"
   ]
  },
  {
   "cell_type": "code",
   "execution_count": 110,
   "metadata": {},
   "outputs": [
    {
     "data": {
      "text/html": [
       "<div>\n",
       "<style scoped>\n",
       "    .dataframe tbody tr th:only-of-type {\n",
       "        vertical-align: middle;\n",
       "    }\n",
       "\n",
       "    .dataframe tbody tr th {\n",
       "        vertical-align: top;\n",
       "    }\n",
       "\n",
       "    .dataframe thead th {\n",
       "        text-align: right;\n",
       "    }\n",
       "</style>\n",
       "<table border=\"1\" class=\"dataframe\">\n",
       "  <thead>\n",
       "    <tr style=\"text-align: right;\">\n",
       "      <th></th>\n",
       "      <th>Model</th>\n",
       "      <th>fit_time_cv1</th>\n",
       "      <th>fit_time_cv2</th>\n",
       "      <th>fit_time_cv3</th>\n",
       "      <th>fit_time_cv4</th>\n",
       "      <th>fit_time_cv5</th>\n",
       "      <th>fit_time_mean</th>\n",
       "      <th>fit_time_std</th>\n",
       "      <th>score_time_cv1</th>\n",
       "      <th>score_time_cv2</th>\n",
       "      <th>...</th>\n",
       "      <th>prec_overall</th>\n",
       "      <th>recall_overall</th>\n",
       "      <th>f1-score_overall</th>\n",
       "      <th>tp_overall</th>\n",
       "      <th>tn_overall</th>\n",
       "      <th>fp_overall</th>\n",
       "      <th>fn_overall</th>\n",
       "      <th>cohens_kappa_overall</th>\n",
       "      <th>matthews_corrcoef_overall</th>\n",
       "      <th>roc_auc_overall</th>\n",
       "    </tr>\n",
       "  </thead>\n",
       "  <tbody>\n",
       "    <tr>\n",
       "      <th>0</th>\n",
       "      <td>NB_Count_Vectors</td>\n",
       "      <td>0.083657</td>\n",
       "      <td>0.087841</td>\n",
       "      <td>0.084295</td>\n",
       "      <td>0.0876408</td>\n",
       "      <td>0.0806589</td>\n",
       "      <td>0.0848186</td>\n",
       "      <td>0.00268425</td>\n",
       "      <td>0.0557067</td>\n",
       "      <td>0.0472348</td>\n",
       "      <td>...</td>\n",
       "      <td>0.791759</td>\n",
       "      <td>0.714573</td>\n",
       "      <td>0.751189</td>\n",
       "      <td>711</td>\n",
       "      <td>987</td>\n",
       "      <td>187</td>\n",
       "      <td>284</td>\n",
       "      <td>0.559446</td>\n",
       "      <td>0.561763</td>\n",
       "      <td>0.777644</td>\n",
       "    </tr>\n",
       "    <tr>\n",
       "      <th>0</th>\n",
       "      <td>NB_WordLevel_TF-IDF</td>\n",
       "      <td>0.0570619</td>\n",
       "      <td>0.0624511</td>\n",
       "      <td>0.0512819</td>\n",
       "      <td>0.0743842</td>\n",
       "      <td>0.034615</td>\n",
       "      <td>0.0559588</td>\n",
       "      <td>0.0131171</td>\n",
       "      <td>0.0463171</td>\n",
       "      <td>0.0433159</td>\n",
       "      <td>...</td>\n",
       "      <td>0.821277</td>\n",
       "      <td>0.58191</td>\n",
       "      <td>0.681176</td>\n",
       "      <td>579</td>\n",
       "      <td>1048</td>\n",
       "      <td>126</td>\n",
       "      <td>416</td>\n",
       "      <td>0.485369</td>\n",
       "      <td>0.504886</td>\n",
       "      <td>0.737292</td>\n",
       "    </tr>\n",
       "    <tr>\n",
       "      <th>0</th>\n",
       "      <td>NB_N-Gram_TF-IDF</td>\n",
       "      <td>0.0146081</td>\n",
       "      <td>0.031333</td>\n",
       "      <td>0.0386279</td>\n",
       "      <td>0.0167282</td>\n",
       "      <td>0.0169821</td>\n",
       "      <td>0.0236558</td>\n",
       "      <td>0.00956548</td>\n",
       "      <td>0.0413001</td>\n",
       "      <td>0.0396559</td>\n",
       "      <td>...</td>\n",
       "      <td>0.730563</td>\n",
       "      <td>0.547739</td>\n",
       "      <td>0.626077</td>\n",
       "      <td>545</td>\n",
       "      <td>973</td>\n",
       "      <td>201</td>\n",
       "      <td>450</td>\n",
       "      <td>0.383852</td>\n",
       "      <td>0.394977</td>\n",
       "      <td>0.688265</td>\n",
       "    </tr>\n",
       "    <tr>\n",
       "      <th>0</th>\n",
       "      <td>NB_CharLevel_TF-IDF</td>\n",
       "      <td>0.849732</td>\n",
       "      <td>0.797022</td>\n",
       "      <td>1.1039</td>\n",
       "      <td>1.13063</td>\n",
       "      <td>0.286705</td>\n",
       "      <td>0.833599</td>\n",
       "      <td>0.303969</td>\n",
       "      <td>0.125775</td>\n",
       "      <td>0.0687079</td>\n",
       "      <td>...</td>\n",
       "      <td>0.834646</td>\n",
       "      <td>0.106533</td>\n",
       "      <td>0.188948</td>\n",
       "      <td>106</td>\n",
       "      <td>1153</td>\n",
       "      <td>21</td>\n",
       "      <td>889</td>\n",
       "      <td>0.0949604</td>\n",
       "      <td>0.188135</td>\n",
       "      <td>0.544323</td>\n",
       "    </tr>\n",
       "    <tr>\n",
       "      <th>0</th>\n",
       "      <td>LR_Count_Vectors</td>\n",
       "      <td>18.4121</td>\n",
       "      <td>19.1657</td>\n",
       "      <td>17.922</td>\n",
       "      <td>19.1001</td>\n",
       "      <td>9.19119</td>\n",
       "      <td>16.7582</td>\n",
       "      <td>3.81129</td>\n",
       "      <td>0.0704119</td>\n",
       "      <td>0.0472348</td>\n",
       "      <td>...</td>\n",
       "      <td>0.738872</td>\n",
       "      <td>0.750754</td>\n",
       "      <td>0.744766</td>\n",
       "      <td>747</td>\n",
       "      <td>910</td>\n",
       "      <td>264</td>\n",
       "      <td>248</td>\n",
       "      <td>0.525238</td>\n",
       "      <td>0.525295</td>\n",
       "      <td>0.762941</td>\n",
       "    </tr>\n",
       "    <tr>\n",
       "      <th>0</th>\n",
       "      <td>LR_WordLevel_TF-IDF</td>\n",
       "      <td>0.667456</td>\n",
       "      <td>0.669091</td>\n",
       "      <td>0.61599</td>\n",
       "      <td>0.690176</td>\n",
       "      <td>0.490711</td>\n",
       "      <td>0.626685</td>\n",
       "      <td>0.0722426</td>\n",
       "      <td>0.0417788</td>\n",
       "      <td>0.0403888</td>\n",
       "      <td>...</td>\n",
       "      <td>0.771372</td>\n",
       "      <td>0.779899</td>\n",
       "      <td>0.775612</td>\n",
       "      <td>776</td>\n",
       "      <td>944</td>\n",
       "      <td>230</td>\n",
       "      <td>219</td>\n",
       "      <td>0.583496</td>\n",
       "      <td>0.583527</td>\n",
       "      <td>0.791994</td>\n",
       "    </tr>\n",
       "    <tr>\n",
       "      <th>0</th>\n",
       "      <td>LR_N-Gram_TF-IDF</td>\n",
       "      <td>0.495503</td>\n",
       "      <td>0.429021</td>\n",
       "      <td>0.355603</td>\n",
       "      <td>0.409944</td>\n",
       "      <td>0.34902</td>\n",
       "      <td>0.407818</td>\n",
       "      <td>0.0535282</td>\n",
       "      <td>0.0507712</td>\n",
       "      <td>0.0475352</td>\n",
       "      <td>...</td>\n",
       "      <td>0.701226</td>\n",
       "      <td>0.632161</td>\n",
       "      <td>0.664905</td>\n",
       "      <td>629</td>\n",
       "      <td>906</td>\n",
       "      <td>268</td>\n",
       "      <td>366</td>\n",
       "      <td>0.406937</td>\n",
       "      <td>0.408658</td>\n",
       "      <td>0.701941</td>\n",
       "    </tr>\n",
       "    <tr>\n",
       "      <th>0</th>\n",
       "      <td>LR_CharLevel_TF-IDF</td>\n",
       "      <td>4.52604</td>\n",
       "      <td>5.30917</td>\n",
       "      <td>5.46984</td>\n",
       "      <td>5.11398</td>\n",
       "      <td>3.58113</td>\n",
       "      <td>4.80003</td>\n",
       "      <td>0.68807</td>\n",
       "      <td>0.07074</td>\n",
       "      <td>0.0679901</td>\n",
       "      <td>...</td>\n",
       "      <td>0.753205</td>\n",
       "      <td>0.708543</td>\n",
       "      <td>0.730192</td>\n",
       "      <td>705</td>\n",
       "      <td>943</td>\n",
       "      <td>231</td>\n",
       "      <td>290</td>\n",
       "      <td>0.514104</td>\n",
       "      <td>0.514884</td>\n",
       "      <td>0.75589</td>\n",
       "    </tr>\n",
       "    <tr>\n",
       "      <th>0</th>\n",
       "      <td>SVM_Count_Vectors</td>\n",
       "      <td>142.24</td>\n",
       "      <td>143.032</td>\n",
       "      <td>143.314</td>\n",
       "      <td>144.206</td>\n",
       "      <td>113.892</td>\n",
       "      <td>137.337</td>\n",
       "      <td>11.7393</td>\n",
       "      <td>45.6131</td>\n",
       "      <td>45.6117</td>\n",
       "      <td>...</td>\n",
       "      <td>0.750984</td>\n",
       "      <td>0.766834</td>\n",
       "      <td>0.758826</td>\n",
       "      <td>763</td>\n",
       "      <td>921</td>\n",
       "      <td>253</td>\n",
       "      <td>232</td>\n",
       "      <td>0.550446</td>\n",
       "      <td>0.55055</td>\n",
       "      <td>0.775666</td>\n",
       "    </tr>\n",
       "    <tr>\n",
       "      <th>0</th>\n",
       "      <td>SVM_WordLevel_TF-IDF</td>\n",
       "      <td>171.507</td>\n",
       "      <td>164.749</td>\n",
       "      <td>171.223</td>\n",
       "      <td>171.68</td>\n",
       "      <td>118.665</td>\n",
       "      <td>159.565</td>\n",
       "      <td>20.6152</td>\n",
       "      <td>51.6323</td>\n",
       "      <td>49.8943</td>\n",
       "      <td>...</td>\n",
       "      <td>0.760194</td>\n",
       "      <td>0.786935</td>\n",
       "      <td>0.773333</td>\n",
       "      <td>783</td>\n",
       "      <td>927</td>\n",
       "      <td>247</td>\n",
       "      <td>212</td>\n",
       "      <td>0.575001</td>\n",
       "      <td>0.575303</td>\n",
       "      <td>0.788271</td>\n",
       "    </tr>\n",
       "    <tr>\n",
       "      <th>0</th>\n",
       "      <td>SVM_N-Gram_TF-IDF</td>\n",
       "      <td>67.1528</td>\n",
       "      <td>65.9447</td>\n",
       "      <td>66.7256</td>\n",
       "      <td>65.973</td>\n",
       "      <td>32.62</td>\n",
       "      <td>59.6832</td>\n",
       "      <td>13.5394</td>\n",
       "      <td>24.1372</td>\n",
       "      <td>25.0592</td>\n",
       "      <td>...</td>\n",
       "      <td>0.699887</td>\n",
       "      <td>0.621106</td>\n",
       "      <td>0.658147</td>\n",
       "      <td>618</td>\n",
       "      <td>909</td>\n",
       "      <td>265</td>\n",
       "      <td>377</td>\n",
       "      <td>0.398804</td>\n",
       "      <td>0.401015</td>\n",
       "      <td>0.697691</td>\n",
       "    </tr>\n",
       "    <tr>\n",
       "      <th>0</th>\n",
       "      <td>SVM_CharLevel_TF-IDF</td>\n",
       "      <td>567.083</td>\n",
       "      <td>577.67</td>\n",
       "      <td>578.479</td>\n",
       "      <td>579.833</td>\n",
       "      <td>336.997</td>\n",
       "      <td>528.013</td>\n",
       "      <td>95.6156</td>\n",
       "      <td>186.596</td>\n",
       "      <td>184.288</td>\n",
       "      <td>...</td>\n",
       "      <td>0.757515</td>\n",
       "      <td>0.759799</td>\n",
       "      <td>0.758655</td>\n",
       "      <td>756</td>\n",
       "      <td>932</td>\n",
       "      <td>242</td>\n",
       "      <td>239</td>\n",
       "      <td>0.553539</td>\n",
       "      <td>0.553541</td>\n",
       "      <td>0.776833</td>\n",
       "    </tr>\n",
       "    <tr>\n",
       "      <th>0</th>\n",
       "      <td>kNN_Count_Vectors</td>\n",
       "      <td>0.071985</td>\n",
       "      <td>0.072355</td>\n",
       "      <td>0.0727</td>\n",
       "      <td>0.0731351</td>\n",
       "      <td>0.0939651</td>\n",
       "      <td>0.0768281</td>\n",
       "      <td>0.00857692</td>\n",
       "      <td>3.7683</td>\n",
       "      <td>3.65425</td>\n",
       "      <td>...</td>\n",
       "      <td>0.586263</td>\n",
       "      <td>0.720603</td>\n",
       "      <td>0.646528</td>\n",
       "      <td>717</td>\n",
       "      <td>668</td>\n",
       "      <td>506</td>\n",
       "      <td>278</td>\n",
       "      <td>0.284626</td>\n",
       "      <td>0.290993</td>\n",
       "      <td>0.644799</td>\n",
       "    </tr>\n",
       "    <tr>\n",
       "      <th>0</th>\n",
       "      <td>kNN_WordLevel_TF-IDF</td>\n",
       "      <td>0.049027</td>\n",
       "      <td>0.0487049</td>\n",
       "      <td>0.051249</td>\n",
       "      <td>0.0619388</td>\n",
       "      <td>0.0523279</td>\n",
       "      <td>0.0526495</td>\n",
       "      <td>0.00483814</td>\n",
       "      <td>4.03613</td>\n",
       "      <td>3.9824</td>\n",
       "      <td>...</td>\n",
       "      <td>0.751938</td>\n",
       "      <td>0.0974874</td>\n",
       "      <td>0.172598</td>\n",
       "      <td>97</td>\n",
       "      <td>1142</td>\n",
       "      <td>32</td>\n",
       "      <td>898</td>\n",
       "      <td>0.0752212</td>\n",
       "      <td>0.147965</td>\n",
       "      <td>0.535115</td>\n",
       "    </tr>\n",
       "    <tr>\n",
       "      <th>0</th>\n",
       "      <td>kNN_N-Gram_TF-IDF</td>\n",
       "      <td>0.013175</td>\n",
       "      <td>0.0136449</td>\n",
       "      <td>0.020715</td>\n",
       "      <td>0.0663297</td>\n",
       "      <td>0.0168662</td>\n",
       "      <td>0.0261462</td>\n",
       "      <td>0.0202725</td>\n",
       "      <td>1.33747</td>\n",
       "      <td>1.33642</td>\n",
       "      <td>...</td>\n",
       "      <td>0.584323</td>\n",
       "      <td>0.494472</td>\n",
       "      <td>0.535656</td>\n",
       "      <td>492</td>\n",
       "      <td>824</td>\n",
       "      <td>350</td>\n",
       "      <td>503</td>\n",
       "      <td>0.198675</td>\n",
       "      <td>0.20076</td>\n",
       "      <td>0.598173</td>\n",
       "    </tr>\n",
       "    <tr>\n",
       "      <th>0</th>\n",
       "      <td>kNN_CharLevel_TF-IDF</td>\n",
       "      <td>0.655702</td>\n",
       "      <td>0.672649</td>\n",
       "      <td>0.65748</td>\n",
       "      <td>0.667741</td>\n",
       "      <td>0.195899</td>\n",
       "      <td>0.569894</td>\n",
       "      <td>0.187104</td>\n",
       "      <td>48.1581</td>\n",
       "      <td>48.1758</td>\n",
       "      <td>...</td>\n",
       "      <td>0.739785</td>\n",
       "      <td>0.345729</td>\n",
       "      <td>0.471233</td>\n",
       "      <td>344</td>\n",
       "      <td>1053</td>\n",
       "      <td>121</td>\n",
       "      <td>651</td>\n",
       "      <td>0.252933</td>\n",
       "      <td>0.294636</td>\n",
       "      <td>0.621331</td>\n",
       "    </tr>\n",
       "    <tr>\n",
       "      <th>0</th>\n",
       "      <td>SGD_Count_Vectors</td>\n",
       "      <td>0.458804</td>\n",
       "      <td>0.473416</td>\n",
       "      <td>0.420624</td>\n",
       "      <td>0.444952</td>\n",
       "      <td>0.266678</td>\n",
       "      <td>0.412895</td>\n",
       "      <td>0.0751494</td>\n",
       "      <td>0.0419219</td>\n",
       "      <td>0.0525622</td>\n",
       "      <td>...</td>\n",
       "      <td>0.654107</td>\n",
       "      <td>0.872362</td>\n",
       "      <td>0.747631</td>\n",
       "      <td>868</td>\n",
       "      <td>715</td>\n",
       "      <td>459</td>\n",
       "      <td>127</td>\n",
       "      <td>0.469449</td>\n",
       "      <td>0.492212</td>\n",
       "      <td>0.740695</td>\n",
       "    </tr>\n",
       "    <tr>\n",
       "      <th>0</th>\n",
       "      <td>SGD_WordLevel_TF-IDF</td>\n",
       "      <td>0.3128</td>\n",
       "      <td>0.269268</td>\n",
       "      <td>0.277042</td>\n",
       "      <td>0.274197</td>\n",
       "      <td>0.175028</td>\n",
       "      <td>0.261667</td>\n",
       "      <td>0.0459828</td>\n",
       "      <td>0.03966</td>\n",
       "      <td>0.039535</td>\n",
       "      <td>...</td>\n",
       "      <td>0.742604</td>\n",
       "      <td>0.756784</td>\n",
       "      <td>0.749627</td>\n",
       "      <td>753</td>\n",
       "      <td>913</td>\n",
       "      <td>261</td>\n",
       "      <td>242</td>\n",
       "      <td>0.53369</td>\n",
       "      <td>0.533773</td>\n",
       "      <td>0.767234</td>\n",
       "    </tr>\n",
       "    <tr>\n",
       "      <th>0</th>\n",
       "      <td>SGD_N-Gram_Vectors</td>\n",
       "      <td>0.118953</td>\n",
       "      <td>0.126627</td>\n",
       "      <td>0.1075</td>\n",
       "      <td>0.105808</td>\n",
       "      <td>0.0728922</td>\n",
       "      <td>0.106356</td>\n",
       "      <td>0.0183905</td>\n",
       "      <td>0.0420618</td>\n",
       "      <td>0.03441</td>\n",
       "      <td>...</td>\n",
       "      <td>0.633803</td>\n",
       "      <td>0.678392</td>\n",
       "      <td>0.65534</td>\n",
       "      <td>675</td>\n",
       "      <td>784</td>\n",
       "      <td>390</td>\n",
       "      <td>320</td>\n",
       "      <td>0.344348</td>\n",
       "      <td>0.345069</td>\n",
       "      <td>0.673097</td>\n",
       "    </tr>\n",
       "    <tr>\n",
       "      <th>0</th>\n",
       "      <td>SGD_CharLevel_Vectors</td>\n",
       "      <td>1.92091</td>\n",
       "      <td>1.93717</td>\n",
       "      <td>1.7542</td>\n",
       "      <td>1.82993</td>\n",
       "      <td>1.36733</td>\n",
       "      <td>1.76191</td>\n",
       "      <td>0.208027</td>\n",
       "      <td>0.0974619</td>\n",
       "      <td>0.103405</td>\n",
       "      <td>...</td>\n",
       "      <td>0.828369</td>\n",
       "      <td>0.586935</td>\n",
       "      <td>0.687059</td>\n",
       "      <td>584</td>\n",
       "      <td>1053</td>\n",
       "      <td>121</td>\n",
       "      <td>411</td>\n",
       "      <td>0.494864</td>\n",
       "      <td>0.514763</td>\n",
       "      <td>0.741934</td>\n",
       "    </tr>\n",
       "    <tr>\n",
       "      <th>0</th>\n",
       "      <td>GB_Count_Vectors</td>\n",
       "      <td>62.9065</td>\n",
       "      <td>55.3991</td>\n",
       "      <td>56.9035</td>\n",
       "      <td>52.061</td>\n",
       "      <td>27.6382</td>\n",
       "      <td>50.9817</td>\n",
       "      <td>12.189</td>\n",
       "      <td>0.0316858</td>\n",
       "      <td>0.0516238</td>\n",
       "      <td>...</td>\n",
       "      <td>0.698055</td>\n",
       "      <td>0.685427</td>\n",
       "      <td>0.691684</td>\n",
       "      <td>682</td>\n",
       "      <td>879</td>\n",
       "      <td>295</td>\n",
       "      <td>313</td>\n",
       "      <td>0.434749</td>\n",
       "      <td>0.43481</td>\n",
       "      <td>0.717075</td>\n",
       "    </tr>\n",
       "    <tr>\n",
       "      <th>0</th>\n",
       "      <td>GB_N-Gram_TF-IDF</td>\n",
       "      <td>5.80552</td>\n",
       "      <td>7.31059</td>\n",
       "      <td>7.17226</td>\n",
       "      <td>6.93111</td>\n",
       "      <td>5.58752</td>\n",
       "      <td>6.5614</td>\n",
       "      <td>0.719849</td>\n",
       "      <td>0.0432222</td>\n",
       "      <td>0.025759</td>\n",
       "      <td>...</td>\n",
       "      <td>0.592755</td>\n",
       "      <td>0.542714</td>\n",
       "      <td>0.566632</td>\n",
       "      <td>540</td>\n",
       "      <td>803</td>\n",
       "      <td>371</td>\n",
       "      <td>455</td>\n",
       "      <td>0.228168</td>\n",
       "      <td>0.228875</td>\n",
       "      <td>0.61335</td>\n",
       "    </tr>\n",
       "    <tr>\n",
       "      <th>0</th>\n",
       "      <td>GB_CharLevel_TF-IDF</td>\n",
       "      <td>220.842</td>\n",
       "      <td>238.157</td>\n",
       "      <td>282.195</td>\n",
       "      <td>257.065</td>\n",
       "      <td>184.308</td>\n",
       "      <td>236.513</td>\n",
       "      <td>33.1146</td>\n",
       "      <td>0.0761411</td>\n",
       "      <td>0.0745621</td>\n",
       "      <td>...</td>\n",
       "      <td>0.719447</td>\n",
       "      <td>0.680402</td>\n",
       "      <td>0.69938</td>\n",
       "      <td>677</td>\n",
       "      <td>910</td>\n",
       "      <td>264</td>\n",
       "      <td>318</td>\n",
       "      <td>0.457422</td>\n",
       "      <td>0.458003</td>\n",
       "      <td>0.727765</td>\n",
       "    </tr>\n",
       "    <tr>\n",
       "      <th>0</th>\n",
       "      <td>GB_WordLevel_TF-IDF</td>\n",
       "      <td>92.4755</td>\n",
       "      <td>84.2349</td>\n",
       "      <td>73.6215</td>\n",
       "      <td>84.1027</td>\n",
       "      <td>48.617</td>\n",
       "      <td>76.6103</td>\n",
       "      <td>15.2219</td>\n",
       "      <td>0.0370519</td>\n",
       "      <td>0.0738072</td>\n",
       "      <td>...</td>\n",
       "      <td>0.714286</td>\n",
       "      <td>0.703518</td>\n",
       "      <td>0.708861</td>\n",
       "      <td>700</td>\n",
       "      <td>894</td>\n",
       "      <td>280</td>\n",
       "      <td>295</td>\n",
       "      <td>0.465552</td>\n",
       "      <td>0.465597</td>\n",
       "      <td>0.732508</td>\n",
       "    </tr>\n",
       "    <tr>\n",
       "      <th>0</th>\n",
       "      <td>XGB_Count_Vectors</td>\n",
       "      <td>74.1953</td>\n",
       "      <td>65.7518</td>\n",
       "      <td>84.2132</td>\n",
       "      <td>65.1882</td>\n",
       "      <td>32.8804</td>\n",
       "      <td>64.4458</td>\n",
       "      <td>17.2304</td>\n",
       "      <td>0.516725</td>\n",
       "      <td>0.95696</td>\n",
       "      <td>...</td>\n",
       "      <td>0.745763</td>\n",
       "      <td>0.751759</td>\n",
       "      <td>0.748749</td>\n",
       "      <td>748</td>\n",
       "      <td>919</td>\n",
       "      <td>255</td>\n",
       "      <td>247</td>\n",
       "      <td>0.534225</td>\n",
       "      <td>0.53424</td>\n",
       "      <td>0.767276</td>\n",
       "    </tr>\n",
       "    <tr>\n",
       "      <th>0</th>\n",
       "      <td>XGB_WordLevel_TF-IDF</td>\n",
       "      <td>46.6946</td>\n",
       "      <td>49.373</td>\n",
       "      <td>52.0918</td>\n",
       "      <td>37.7714</td>\n",
       "      <td>24.9171</td>\n",
       "      <td>42.1696</td>\n",
       "      <td>9.87732</td>\n",
       "      <td>0.425461</td>\n",
       "      <td>0.305956</td>\n",
       "      <td>...</td>\n",
       "      <td>0.727728</td>\n",
       "      <td>0.730653</td>\n",
       "      <td>0.729188</td>\n",
       "      <td>727</td>\n",
       "      <td>902</td>\n",
       "      <td>272</td>\n",
       "      <td>268</td>\n",
       "      <td>0.498814</td>\n",
       "      <td>0.498817</td>\n",
       "      <td>0.749483</td>\n",
       "    </tr>\n",
       "    <tr>\n",
       "      <th>0</th>\n",
       "      <td>XGB_N-Gram_TF-IDF</td>\n",
       "      <td>14.4524</td>\n",
       "      <td>14.8459</td>\n",
       "      <td>10.1767</td>\n",
       "      <td>6.22884</td>\n",
       "      <td>11.4074</td>\n",
       "      <td>11.4223</td>\n",
       "      <td>3.14409</td>\n",
       "      <td>0.109201</td>\n",
       "      <td>0.0818152</td>\n",
       "      <td>...</td>\n",
       "      <td>0.640324</td>\n",
       "      <td>0.635176</td>\n",
       "      <td>0.63774</td>\n",
       "      <td>632</td>\n",
       "      <td>819</td>\n",
       "      <td>355</td>\n",
       "      <td>363</td>\n",
       "      <td>0.332995</td>\n",
       "      <td>0.333004</td>\n",
       "      <td>0.666395</td>\n",
       "    </tr>\n",
       "    <tr>\n",
       "      <th>0</th>\n",
       "      <td>XGB_CharLevel_TF-IDF</td>\n",
       "      <td>307.123</td>\n",
       "      <td>379.482</td>\n",
       "      <td>492.242</td>\n",
       "      <td>429.361</td>\n",
       "      <td>213.657</td>\n",
       "      <td>364.373</td>\n",
       "      <td>96.7421</td>\n",
       "      <td>3.22035</td>\n",
       "      <td>2.00201</td>\n",
       "      <td>...</td>\n",
       "      <td>0.744376</td>\n",
       "      <td>0.731658</td>\n",
       "      <td>0.737962</td>\n",
       "      <td>728</td>\n",
       "      <td>924</td>\n",
       "      <td>250</td>\n",
       "      <td>267</td>\n",
       "      <td>0.519388</td>\n",
       "      <td>0.519452</td>\n",
       "      <td>0.759356</td>\n",
       "    </tr>\n",
       "    <tr>\n",
       "      <th>0</th>\n",
       "      <td>RF_Count_Vectors</td>\n",
       "      <td>31.9763</td>\n",
       "      <td>31.7864</td>\n",
       "      <td>31.8414</td>\n",
       "      <td>31.192</td>\n",
       "      <td>8.30906</td>\n",
       "      <td>27.021</td>\n",
       "      <td>9.35985</td>\n",
       "      <td>0.502497</td>\n",
       "      <td>0.662884</td>\n",
       "      <td>...</td>\n",
       "      <td>0.78125</td>\n",
       "      <td>0.527638</td>\n",
       "      <td>0.629874</td>\n",
       "      <td>525</td>\n",
       "      <td>1027</td>\n",
       "      <td>147</td>\n",
       "      <td>470</td>\n",
       "      <td>0.412637</td>\n",
       "      <td>0.433646</td>\n",
       "      <td>0.701213</td>\n",
       "    </tr>\n",
       "    <tr>\n",
       "      <th>0</th>\n",
       "      <td>RF_WordLevel_TF-IDF</td>\n",
       "      <td>24.037</td>\n",
       "      <td>24.4264</td>\n",
       "      <td>24.231</td>\n",
       "      <td>24.4041</td>\n",
       "      <td>6.19139</td>\n",
       "      <td>20.658</td>\n",
       "      <td>7.23465</td>\n",
       "      <td>0.252068</td>\n",
       "      <td>0.331617</td>\n",
       "      <td>...</td>\n",
       "      <td>0.751989</td>\n",
       "      <td>0.569849</td>\n",
       "      <td>0.64837</td>\n",
       "      <td>567</td>\n",
       "      <td>987</td>\n",
       "      <td>187</td>\n",
       "      <td>428</td>\n",
       "      <td>0.418288</td>\n",
       "      <td>0.429599</td>\n",
       "      <td>0.705282</td>\n",
       "    </tr>\n",
       "    <tr>\n",
       "      <th>0</th>\n",
       "      <td>RF_N-Gram_TF-IDF</td>\n",
       "      <td>16.2884</td>\n",
       "      <td>16.1502</td>\n",
       "      <td>16.4692</td>\n",
       "      <td>16.4074</td>\n",
       "      <td>4.51221</td>\n",
       "      <td>13.9655</td>\n",
       "      <td>4.72788</td>\n",
       "      <td>0.128438</td>\n",
       "      <td>0.119955</td>\n",
       "      <td>...</td>\n",
       "      <td>0.615965</td>\n",
       "      <td>0.573869</td>\n",
       "      <td>0.594173</td>\n",
       "      <td>571</td>\n",
       "      <td>818</td>\n",
       "      <td>356</td>\n",
       "      <td>424</td>\n",
       "      <td>0.27205</td>\n",
       "      <td>0.272599</td>\n",
       "      <td>0.635316</td>\n",
       "    </tr>\n",
       "    <tr>\n",
       "      <th>0</th>\n",
       "      <td>RF_CharLevel_TF-IDF</td>\n",
       "      <td>76.4607</td>\n",
       "      <td>76.9057</td>\n",
       "      <td>76.4275</td>\n",
       "      <td>76.0929</td>\n",
       "      <td>17.0665</td>\n",
       "      <td>64.5907</td>\n",
       "      <td>23.7635</td>\n",
       "      <td>1.07035</td>\n",
       "      <td>0.870651</td>\n",
       "      <td>...</td>\n",
       "      <td>0.729829</td>\n",
       "      <td>0.6</td>\n",
       "      <td>0.658577</td>\n",
       "      <td>597</td>\n",
       "      <td>953</td>\n",
       "      <td>221</td>\n",
       "      <td>398</td>\n",
       "      <td>0.417415</td>\n",
       "      <td>0.423331</td>\n",
       "      <td>0.705877</td>\n",
       "    </tr>\n",
       "  </tbody>\n",
       "</table>\n",
       "<p>32 rows × 113 columns</p>\n",
       "</div>"
      ],
      "text/plain": [
       "                   Model fit_time_cv1 fit_time_cv2 fit_time_cv3 fit_time_cv4  \\\n",
       "0       NB_Count_Vectors     0.083657     0.087841     0.084295    0.0876408   \n",
       "0    NB_WordLevel_TF-IDF    0.0570619    0.0624511    0.0512819    0.0743842   \n",
       "0       NB_N-Gram_TF-IDF    0.0146081     0.031333    0.0386279    0.0167282   \n",
       "0    NB_CharLevel_TF-IDF     0.849732     0.797022       1.1039      1.13063   \n",
       "0       LR_Count_Vectors      18.4121      19.1657       17.922      19.1001   \n",
       "0    LR_WordLevel_TF-IDF     0.667456     0.669091      0.61599     0.690176   \n",
       "0       LR_N-Gram_TF-IDF     0.495503     0.429021     0.355603     0.409944   \n",
       "0    LR_CharLevel_TF-IDF      4.52604      5.30917      5.46984      5.11398   \n",
       "0      SVM_Count_Vectors       142.24      143.032      143.314      144.206   \n",
       "0   SVM_WordLevel_TF-IDF      171.507      164.749      171.223       171.68   \n",
       "0      SVM_N-Gram_TF-IDF      67.1528      65.9447      66.7256       65.973   \n",
       "0   SVM_CharLevel_TF-IDF      567.083       577.67      578.479      579.833   \n",
       "0      kNN_Count_Vectors     0.071985     0.072355       0.0727    0.0731351   \n",
       "0   kNN_WordLevel_TF-IDF     0.049027    0.0487049     0.051249    0.0619388   \n",
       "0      kNN_N-Gram_TF-IDF     0.013175    0.0136449     0.020715    0.0663297   \n",
       "0   kNN_CharLevel_TF-IDF     0.655702     0.672649      0.65748     0.667741   \n",
       "0      SGD_Count_Vectors     0.458804     0.473416     0.420624     0.444952   \n",
       "0   SGD_WordLevel_TF-IDF       0.3128     0.269268     0.277042     0.274197   \n",
       "0     SGD_N-Gram_Vectors     0.118953     0.126627       0.1075     0.105808   \n",
       "0  SGD_CharLevel_Vectors      1.92091      1.93717       1.7542      1.82993   \n",
       "0       GB_Count_Vectors      62.9065      55.3991      56.9035       52.061   \n",
       "0       GB_N-Gram_TF-IDF      5.80552      7.31059      7.17226      6.93111   \n",
       "0    GB_CharLevel_TF-IDF      220.842      238.157      282.195      257.065   \n",
       "0    GB_WordLevel_TF-IDF      92.4755      84.2349      73.6215      84.1027   \n",
       "0      XGB_Count_Vectors      74.1953      65.7518      84.2132      65.1882   \n",
       "0   XGB_WordLevel_TF-IDF      46.6946       49.373      52.0918      37.7714   \n",
       "0      XGB_N-Gram_TF-IDF      14.4524      14.8459      10.1767      6.22884   \n",
       "0   XGB_CharLevel_TF-IDF      307.123      379.482      492.242      429.361   \n",
       "0       RF_Count_Vectors      31.9763      31.7864      31.8414       31.192   \n",
       "0    RF_WordLevel_TF-IDF       24.037      24.4264       24.231      24.4041   \n",
       "0       RF_N-Gram_TF-IDF      16.2884      16.1502      16.4692      16.4074   \n",
       "0    RF_CharLevel_TF-IDF      76.4607      76.9057      76.4275      76.0929   \n",
       "\n",
       "  fit_time_cv5 fit_time_mean fit_time_std score_time_cv1 score_time_cv2  ...  \\\n",
       "0    0.0806589     0.0848186   0.00268425      0.0557067      0.0472348  ...   \n",
       "0     0.034615     0.0559588    0.0131171      0.0463171      0.0433159  ...   \n",
       "0    0.0169821     0.0236558   0.00956548      0.0413001      0.0396559  ...   \n",
       "0     0.286705      0.833599     0.303969       0.125775      0.0687079  ...   \n",
       "0      9.19119       16.7582      3.81129      0.0704119      0.0472348  ...   \n",
       "0     0.490711      0.626685    0.0722426      0.0417788      0.0403888  ...   \n",
       "0      0.34902      0.407818    0.0535282      0.0507712      0.0475352  ...   \n",
       "0      3.58113       4.80003      0.68807        0.07074      0.0679901  ...   \n",
       "0      113.892       137.337      11.7393        45.6131        45.6117  ...   \n",
       "0      118.665       159.565      20.6152        51.6323        49.8943  ...   \n",
       "0        32.62       59.6832      13.5394        24.1372        25.0592  ...   \n",
       "0      336.997       528.013      95.6156        186.596        184.288  ...   \n",
       "0    0.0939651     0.0768281   0.00857692         3.7683        3.65425  ...   \n",
       "0    0.0523279     0.0526495   0.00483814        4.03613         3.9824  ...   \n",
       "0    0.0168662     0.0261462    0.0202725        1.33747        1.33642  ...   \n",
       "0     0.195899      0.569894     0.187104        48.1581        48.1758  ...   \n",
       "0     0.266678      0.412895    0.0751494      0.0419219      0.0525622  ...   \n",
       "0     0.175028      0.261667    0.0459828        0.03966       0.039535  ...   \n",
       "0    0.0728922      0.106356    0.0183905      0.0420618        0.03441  ...   \n",
       "0      1.36733       1.76191     0.208027      0.0974619       0.103405  ...   \n",
       "0      27.6382       50.9817       12.189      0.0316858      0.0516238  ...   \n",
       "0      5.58752        6.5614     0.719849      0.0432222       0.025759  ...   \n",
       "0      184.308       236.513      33.1146      0.0761411      0.0745621  ...   \n",
       "0       48.617       76.6103      15.2219      0.0370519      0.0738072  ...   \n",
       "0      32.8804       64.4458      17.2304       0.516725        0.95696  ...   \n",
       "0      24.9171       42.1696      9.87732       0.425461       0.305956  ...   \n",
       "0      11.4074       11.4223      3.14409       0.109201      0.0818152  ...   \n",
       "0      213.657       364.373      96.7421        3.22035        2.00201  ...   \n",
       "0      8.30906        27.021      9.35985       0.502497       0.662884  ...   \n",
       "0      6.19139        20.658      7.23465       0.252068       0.331617  ...   \n",
       "0      4.51221       13.9655      4.72788       0.128438       0.119955  ...   \n",
       "0      17.0665       64.5907      23.7635        1.07035       0.870651  ...   \n",
       "\n",
       "  prec_overall recall_overall f1-score_overall tp_overall tn_overall  \\\n",
       "0     0.791759       0.714573         0.751189        711        987   \n",
       "0     0.821277        0.58191         0.681176        579       1048   \n",
       "0     0.730563       0.547739         0.626077        545        973   \n",
       "0     0.834646       0.106533         0.188948        106       1153   \n",
       "0     0.738872       0.750754         0.744766        747        910   \n",
       "0     0.771372       0.779899         0.775612        776        944   \n",
       "0     0.701226       0.632161         0.664905        629        906   \n",
       "0     0.753205       0.708543         0.730192        705        943   \n",
       "0     0.750984       0.766834         0.758826        763        921   \n",
       "0     0.760194       0.786935         0.773333        783        927   \n",
       "0     0.699887       0.621106         0.658147        618        909   \n",
       "0     0.757515       0.759799         0.758655        756        932   \n",
       "0     0.586263       0.720603         0.646528        717        668   \n",
       "0     0.751938      0.0974874         0.172598         97       1142   \n",
       "0     0.584323       0.494472         0.535656        492        824   \n",
       "0     0.739785       0.345729         0.471233        344       1053   \n",
       "0     0.654107       0.872362         0.747631        868        715   \n",
       "0     0.742604       0.756784         0.749627        753        913   \n",
       "0     0.633803       0.678392          0.65534        675        784   \n",
       "0     0.828369       0.586935         0.687059        584       1053   \n",
       "0     0.698055       0.685427         0.691684        682        879   \n",
       "0     0.592755       0.542714         0.566632        540        803   \n",
       "0     0.719447       0.680402          0.69938        677        910   \n",
       "0     0.714286       0.703518         0.708861        700        894   \n",
       "0     0.745763       0.751759         0.748749        748        919   \n",
       "0     0.727728       0.730653         0.729188        727        902   \n",
       "0     0.640324       0.635176          0.63774        632        819   \n",
       "0     0.744376       0.731658         0.737962        728        924   \n",
       "0      0.78125       0.527638         0.629874        525       1027   \n",
       "0     0.751989       0.569849          0.64837        567        987   \n",
       "0     0.615965       0.573869         0.594173        571        818   \n",
       "0     0.729829            0.6         0.658577        597        953   \n",
       "\n",
       "  fp_overall fn_overall cohens_kappa_overall matthews_corrcoef_overall  \\\n",
       "0        187        284             0.559446                  0.561763   \n",
       "0        126        416             0.485369                  0.504886   \n",
       "0        201        450             0.383852                  0.394977   \n",
       "0         21        889            0.0949604                  0.188135   \n",
       "0        264        248             0.525238                  0.525295   \n",
       "0        230        219             0.583496                  0.583527   \n",
       "0        268        366             0.406937                  0.408658   \n",
       "0        231        290             0.514104                  0.514884   \n",
       "0        253        232             0.550446                   0.55055   \n",
       "0        247        212             0.575001                  0.575303   \n",
       "0        265        377             0.398804                  0.401015   \n",
       "0        242        239             0.553539                  0.553541   \n",
       "0        506        278             0.284626                  0.290993   \n",
       "0         32        898            0.0752212                  0.147965   \n",
       "0        350        503             0.198675                   0.20076   \n",
       "0        121        651             0.252933                  0.294636   \n",
       "0        459        127             0.469449                  0.492212   \n",
       "0        261        242              0.53369                  0.533773   \n",
       "0        390        320             0.344348                  0.345069   \n",
       "0        121        411             0.494864                  0.514763   \n",
       "0        295        313             0.434749                   0.43481   \n",
       "0        371        455             0.228168                  0.228875   \n",
       "0        264        318             0.457422                  0.458003   \n",
       "0        280        295             0.465552                  0.465597   \n",
       "0        255        247             0.534225                   0.53424   \n",
       "0        272        268             0.498814                  0.498817   \n",
       "0        355        363             0.332995                  0.333004   \n",
       "0        250        267             0.519388                  0.519452   \n",
       "0        147        470             0.412637                  0.433646   \n",
       "0        187        428             0.418288                  0.429599   \n",
       "0        356        424              0.27205                  0.272599   \n",
       "0        221        398             0.417415                  0.423331   \n",
       "\n",
       "  roc_auc_overall  \n",
       "0        0.777644  \n",
       "0        0.737292  \n",
       "0        0.688265  \n",
       "0        0.544323  \n",
       "0        0.762941  \n",
       "0        0.791994  \n",
       "0        0.701941  \n",
       "0         0.75589  \n",
       "0        0.775666  \n",
       "0        0.788271  \n",
       "0        0.697691  \n",
       "0        0.776833  \n",
       "0        0.644799  \n",
       "0        0.535115  \n",
       "0        0.598173  \n",
       "0        0.621331  \n",
       "0        0.740695  \n",
       "0        0.767234  \n",
       "0        0.673097  \n",
       "0        0.741934  \n",
       "0        0.717075  \n",
       "0         0.61335  \n",
       "0        0.727765  \n",
       "0        0.732508  \n",
       "0        0.767276  \n",
       "0        0.749483  \n",
       "0        0.666395  \n",
       "0        0.759356  \n",
       "0        0.701213  \n",
       "0        0.705282  \n",
       "0        0.635316  \n",
       "0        0.705877  \n",
       "\n",
       "[32 rows x 113 columns]"
      ]
     },
     "execution_count": 110,
     "metadata": {},
     "output_type": "execute_result"
    }
   ],
   "source": [
    "df_results"
   ]
  },
  {
   "cell_type": "markdown",
   "metadata": {},
   "source": [
    "<a id='dl'></a>"
   ]
  },
  {
   "cell_type": "markdown",
   "metadata": {},
   "source": [
    "## Deep Learning Models"
   ]
  },
  {
   "cell_type": "code",
   "execution_count": 48,
   "metadata": {},
   "outputs": [
    {
     "name": "stderr",
     "output_type": "stream",
     "text": [
      "Warning : `load_model` does not return WordVectorModel or SupervisedModel any more, but a `FastText` object which is very similar.\n"
     ]
    }
   ],
   "source": [
    "pretrained = fasttext.FastText.load_model('/Users/diego/Documents/NLP/crawl-300d-2M-subword/crawl-300d-2M-subword.bin')"
   ]
  },
  {
   "cell_type": "code",
   "execution_count": 49,
   "metadata": {},
   "outputs": [
    {
     "name": "stderr",
     "output_type": "stream",
     "text": [
      "100%|██████████| 88180/88180 [00:04<00:00, 18509.68it/s]\n"
     ]
    },
    {
     "name": "stdout",
     "output_type": "stream",
     "text": [
      "CPU times: user 9.54 s, sys: 1.81 s, total: 11.4 s\n",
      "Wall time: 13.5 s\n"
     ]
    }
   ],
   "source": [
    "%%time \n",
    "# create a tokenizer \n",
    "token = Tokenizer(oov_token='<OOV>')\n",
    "token.fit_on_texts(df[TEXT])\n",
    "word_index = token.word_index\n",
    "\n",
    "# convert text to sequence of tokens and pad them to ensure equal length vectors \n",
    "train_seq_x = sequence.pad_sequences(token.texts_to_sequences(X_train), maxlen=300)\n",
    "test_seq_x = sequence.pad_sequences(token.texts_to_sequences(X_test), maxlen=300)\n",
    "\n",
    "# create token-embedding mapping\n",
    "embedding_matrix = np.zeros((len(word_index) + 1, 300))\n",
    "words = []\n",
    "\n",
    "for word, i in tqdm(word_index.items()):\n",
    "    embedding_vector = pretrained.get_word_vector(word) #embeddings_index.get(word)\n",
    "    words.append(word)\n",
    "    if embedding_vector is not None:\n",
    "        embedding_matrix[i] = embedding_vector\n",
    "\n",
    "if save_model:\n",
    "    filename = NAME_TOKEN_EMBEDDINGS\n",
    "    pickle.dump(token, open(os.path.join(root_dir, dir_name,filename), 'wb'))"
   ]
  },
  {
   "cell_type": "code",
   "execution_count": 113,
   "metadata": {},
   "outputs": [],
   "source": [
    "class_w = {}\n",
    "for i in zip(range(len(class_weights)), class_weights):\n",
    "    class_w[i[0]] = i[1]"
   ]
  },
  {
   "cell_type": "code",
   "execution_count": 114,
   "metadata": {},
   "outputs": [],
   "source": [
    "from tensorflow.keras import backend as K"
   ]
  },
  {
   "cell_type": "code",
   "execution_count": 163,
   "metadata": {},
   "outputs": [],
   "source": [
    "def cross_validate_NN(model, X, y, X_test, y_test,name=\"NN\", fit_params=None, scoring=None, n_splits=5, save=save_model, batch_size = 32,  use_multiprocessing=True):\n",
    "    '''\n",
    "    Function create a metric report automatically with cross_validate function.\n",
    "    @param model: (model) neural network model\n",
    "    @param X: (list or matrix or tensor) training X data\n",
    "    @param y: (list) label data \n",
    "    @param X_test: (list or matrix or tensor) testing X data\n",
    "    @param y_test: (list) label test data \n",
    "    @param name: (string) name of the model (default classifier)\n",
    "    @param fit_aparams: (dict) add parameters for model fitting \n",
    "    @param scoring: (dict) dictionary of metrics and names\n",
    "    @param n_splits: (int) number of fold for cross-validation (default 5)\n",
    "    @return: (pandas.dataframe) dataframe containing all the results of the metrics \n",
    "    for each fold and the mean and std for each of them\n",
    "    '''\n",
    "    # ---- Parameters initialisation\n",
    "    es = tf.keras.callbacks.EarlyStopping(monitor='loss', mode='auto', patience=3)\n",
    "    seed = 42\n",
    "    k = 1\n",
    "    np.random.seed(seed)\n",
    "    kfold = StratifiedKFold(n_splits=n_splits, shuffle=True, random_state=seed)\n",
    "    \n",
    "    # Creation of list for each metric\n",
    "    if scoring==None:        # create a dictionary if none is passed\n",
    "        dic_scoring = {}\n",
    "    if scoring!=None:        # save the dict \n",
    "        dic_score = scoring.copy()\n",
    "    \n",
    "    dic_score[\"fit_time\"] = None   # initialisation for time fitting and scoring\n",
    "    dic_score[\"score_time\"] = None\n",
    "    scorer = {}\n",
    "    for i in dic_score.keys(): \n",
    "        scorer[i] = []\n",
    "    \n",
    "    index = [\"Model\"]\n",
    "    results = [name]\n",
    "    # ---- Loop on k-fold for cross-valisation\n",
    "    for train, test in kfold.split(X, y):   # training NN on each fold \n",
    "        # create model\n",
    "        print(f\"k-fold : {k}\")\n",
    "        fit_start = time.time()\n",
    "        _model = tf.keras.models.clone_model(model)\n",
    "        if len(np.unique(y))==2: # binary\n",
    "            _model.compile(optimizer='adam',\n",
    "                  loss=tf.losses.BinaryCrossentropy(from_logits=True),\n",
    "                  metrics=['accuracy'])\n",
    "        else:  # multiclass \n",
    "            _model.compile(optimizer='adam',\n",
    "                  loss=tf.losses.SparseCategoricalCrossentropy(from_logits=True),\n",
    "                  metrics=['accuracy'])\n",
    "        _model.fit(X[train], y.iloc[train],\n",
    "                        epochs=1000, callbacks=[es], validation_data=(X[test], y.iloc[test]),\n",
    "                         verbose=False, batch_size = batch_size,  use_multiprocessing=use_multiprocessing)\n",
    "        \n",
    "        fit_end = time.time() - fit_start\n",
    "\n",
    "        score_start = time.time()\n",
    "        y_pred = (_model.predict(X[test])>0.5).astype(int)\n",
    "        score_end = time.time() - score_start\n",
    "        #if len(set(y))>2:\n",
    "        #    y_pred =np.argmax(y_pred,axis=1)\n",
    "        #print(y_test[0], y_pred[0])\n",
    "        if len(set(y))==2:\n",
    "            print(f\"Precision: {round(100*precision_score(y.iloc[test], y_pred), 3)}% , Recall: {round(100*recall_score(y.iloc[test], y_pred), 3)}%, Time \\t {round(fit_end, 4)} ms\")\n",
    "        else: \n",
    "            print(f\"Precision: {round(100*precision_score(y.iloc[test], np.argmax(y_pred,axis=1), average='weighted'), 3)}% , Recall: \\\n",
    "        {round(100*recall_score(y.iloc[test], np.argmax(y_pred,axis=1), average='weighted'), 3)}%, Time \\t {round(fit_end, 4)} ms\")\n",
    "        \n",
    "        \n",
    "        # ---- save each metric\n",
    "        for i in dic_score.keys():    # compute metrics \n",
    "            if i == \"fit_time\":\n",
    "                scorer[i].append(fit_end)\n",
    "                index.append(i+'_cv'+str(k))\n",
    "                results.append(fit_end)\n",
    "                continue\n",
    "            if i == \"score_time\":\n",
    "                scorer[i].append(score_end)\n",
    "                index.append(i+'_cv'+str(k))\n",
    "                results.append(score_end)\n",
    "                continue\n",
    "            \n",
    "            if len(set(y))>2:\n",
    "                if i in [\"prec\", \"recall\", \"f1-score\"]:\n",
    "                    scorer[i].append(dic_score[i](y.iloc[test], np.argmax(y_pred,axis=1), average = 'weighted')) # make each function scorer\n",
    "\n",
    "                elif i==\"roc_auc\":\n",
    "                    scorer[i].append(dic_score[i](to_categorical(y.iloc[test]), y_pred, average = 'macro', multi_class=\"ovo\")) # make each function scorer\n",
    "                else:\n",
    "                    scorer[i].append(dic_score[i]( y.iloc[test], np.argmax(y_pred,axis=1))) # make each function scorer\n",
    "\n",
    "            else:\n",
    "                scorer[i].append(dic_score[i]( y.iloc[test], y_pred)) # make each function scorer\n",
    "            #scorer[i].append(dic_score[i]( y.iloc[test], y_pred))\n",
    "            index.append(\"test_\"+i+'_cv'+str(k))\n",
    "            results.append(scorer[i][-1])\n",
    "        K.clear_session()\n",
    "        del _model\n",
    "        k+=1\n",
    "    \n",
    "    # Train test on the overall data\n",
    "    print(\"Overall train-test data\")\n",
    "    fit_start = time.time()\n",
    "    _model =  tf.keras.models.clone_model(model)\n",
    "    if len(np.unique(y))==2: # binary\n",
    "        _model.compile(optimizer='adam',\n",
    "                  loss=tf.losses.BinaryCrossentropy(from_logits=True),\n",
    "                  metrics=['accuracy'])\n",
    "    else:  # multiclass \n",
    "        _model.compile(optimizer='adam',\n",
    "                  loss=tf.losses.SparseCategoricalCrossentropy(from_logits=True),\n",
    "                  metrics=['accuracy'])\n",
    "        _model.fit(X[train], y.iloc[train],\n",
    "                        epochs=1000, callbacks=[es], validation_data=(X[test], y.iloc[test]),\n",
    "                         verbose=False)\n",
    "    if save:\n",
    "        check_p = tf.keras.callbacks.ModelCheckpoint(os.path.join(root_dir, dir_name, name+\".h5\"), save_best_only=True)\n",
    "        _model.fit(X, y,epochs=1000, callbacks=[es, check_p], validation_split=0.2, batch_size = batch_size, \n",
    "                   verbose=False, use_multiprocessing=use_multiprocessing)\n",
    "        \n",
    "    else:\n",
    "        _model.fit(X, y,epochs=1000, callbacks=[es],  validation_split=0.2, batch_size = batch_size, \n",
    "                   verbose=False, use_multiprocessing=use_multiprocessing)\n",
    "        \n",
    "    fit_end = time.time() - fit_start\n",
    "\n",
    "    #_acc = _model.evaluate(X_test, y_test, verbose=0)\n",
    "\n",
    "    score_start = time.time()\n",
    "    y_pred = (_model.predict(X_test)>0.5).astype(int)\n",
    "    score_end = time.time() - score_start\n",
    "    #if len(set(y))>2:\n",
    "    #    y_pred =np.argmax(y_pred,axis=1)\n",
    "    if len(set(y))==2:\n",
    "        print(f\"Precision: {round(100*precision_score(y_test, y_pred), 3)}% , Recall: {round(100*recall_score(y_test, y_pred), 3)}%, Time \\t {round(fit_end, 4)} ms\")\n",
    "    else: \n",
    "        print(f\"Precision: {round(100*precision_score(y_test, np.argmax(y_pred,axis=1), average='weighted'), 3)}% , Recall: \\\n",
    "        {round(100*recall_score(y_test, np.argmax(y_pred,axis=1), average='weighted'), 3)}%, Time \\t {round(fit_end, 4)} ms\")\n",
    "\n",
    "    # Compute mean and std for each metric\n",
    "    for i in scorer: \n",
    "        \n",
    "        results.append(np.mean(scorer[i]))\n",
    "        results.append(np.std(scorer[i]))\n",
    "        if i == \"fit_time\":\n",
    "            index.append(i+\"_mean\")\n",
    "            index.append(i+\"_std\")\n",
    "            continue\n",
    "        if i == \"score_time\":\n",
    "            index.append(i+\"_mean\")\n",
    "            index.append(i+\"_std\")\n",
    "            continue\n",
    "        \n",
    "        index.append(\"test_\"+i+\"_mean\")\n",
    "        index.append(\"test_\"+i+\"_std\")\n",
    "        \n",
    "    # add metrics averall dataset on the dictionary \n",
    "    for i in dic_score.keys():    # compute metrics \n",
    "        if i == \"fit_time\":\n",
    "            scorer[i].append(fit_end)\n",
    "            index.append(i+'_overall')\n",
    "            results.append(fit_end)\n",
    "            continue\n",
    "        if i == \"score_time\":\n",
    "            scorer[i].append(score_end)\n",
    "            index.append(i+'_overall')\n",
    "            results.append(score_end)\n",
    "            continue\n",
    "        \n",
    "        if len(set(y))>2:\n",
    "            if i in [\"prec\", \"recall\", \"f1-score\"]:\n",
    "                scorer[i].append(dic_score[i](y_test, np.argmax(y_pred,axis=1), average = 'weighted')) # make each function scorer\n",
    "\n",
    "            elif i==\"roc_auc\":\n",
    "                scorer[i].append(dic_score[i](to_categorical(y_test), y_pred, average = 'weighted', multi_class=\"ovo\")) # make each function scorer\n",
    "            else:\n",
    "                scorer[i].append(dic_score[i](y_test, np.argmax(y_pred,axis=1))) # make each function scorer\n",
    "\n",
    "        else:\n",
    "            scorer[i].append(dic_score[i](y.iloc[test], y_pred))                             \n",
    "            #scorer[i].append(dic_score[i](_model, X_test, y_test))\n",
    "        index.append(i+'_overall')\n",
    "        results.append(scorer[i][-1])\n",
    "    \n",
    "            \n",
    "    return pd.DataFrame(results, index=index).T"
   ]
  },
  {
   "cell_type": "code",
   "execution_count": 116,
   "metadata": {},
   "outputs": [],
   "source": [
    "import tensorflow as tf\n",
    "from tensorflow.keras.utils import to_categorical"
   ]
  },
  {
   "cell_type": "markdown",
   "metadata": {},
   "source": [
    "<a id='snn'></a>"
   ]
  },
  {
   "cell_type": "markdown",
   "metadata": {},
   "source": [
    "<br>\n",
    "<div class=\"span5 alert alert-info\">\n",
    "    <H5>Shallow Neural Network</H5>\n",
    "</div>"
   ]
  },
  {
   "cell_type": "code",
   "execution_count": 117,
   "metadata": {},
   "outputs": [],
   "source": [
    "def shallow_neural_networks(word_index, label=labels, embedding_matrix=embedding_matrix, pre_trained=False):\n",
    "    '''\n",
    "    Function to generate a shallow neural network for binary or multiclass classification.\n",
    "    @param word_index: (matrix) unique token in corpus\n",
    "    @param label: (list) list of labels to determine if it,s a binary or multiclass\n",
    "    @param embedding_matrix: (matrix) matrix of integer for each word in the \n",
    "    @param pre_trained: (bool) determine if the model will use pretrained model\n",
    "    @return: (model) shallow neural network \n",
    "    '''\n",
    "    if pre_trained==False:\n",
    "        embedded = keras.layers.Embedding(len(word_index) + 1, 16)\n",
    "    else:\n",
    "        print(\"Pre-trained model used\")\n",
    "        embedded = keras.layers.Embedding(len(word_index) + 1, 300, weights=[embedding_matrix], trainable=False)\n",
    "    \n",
    "    model = keras.Sequential([\n",
    "      embedded,\n",
    "      \n",
    "      keras.layers.GlobalAveragePooling1D(),\n",
    "        \n",
    "      #keras.layers.Dense(6, activation=\"relu\"),\n",
    "      keras.layers.Dense(1 if len(label)<=2 else len(label), activation='sigmoid' if len(label)<=2 else \"softmax\")])\n",
    "\n",
    "    return model #"
   ]
  },
  {
   "cell_type": "code",
   "execution_count": 151,
   "metadata": {},
   "outputs": [],
   "source": [
    "scoring = score_metrics\n",
    "\n",
    "# Creation of list for each metric\n",
    "if scoring==None:        # create a dictionary if none is passed\n",
    "    dic_scoring = {}\n",
    "if scoring!=None:        # save the dict \n",
    "    dic_score = scoring.copy()\n",
    "\n",
    "dic_score[\"fit_time\"] = None   # initialisation for time fitting and scoring\n",
    "dic_score[\"score_time\"] = None\n",
    "scorer = {}\n",
    "for i in dic_score.keys(): \n",
    "    scorer[i] = []\n",
    "\n",
    "index = [\"Model\"]\n",
    "results = ['Shallow_NN_WE']"
   ]
  },
  {
   "cell_type": "code",
   "execution_count": 154,
   "metadata": {},
   "outputs": [],
   "source": [
    "for i in dic_score.keys():\n",
    "    scorer[i].append(dic_score[i](_model, X_test, y_test))"
   ]
  },
  {
   "cell_type": "code",
   "execution_count": 162,
   "metadata": {},
   "outputs": [
    {
     "data": {
      "text/plain": [
       "<function sklearn.metrics._classification.accuracy_score(y_true, y_pred, *, normalize=True, sample_weight=None)>"
      ]
     },
     "execution_count": 162,
     "metadata": {},
     "output_type": "execute_result"
    }
   ],
   "source": [
    "dic_score['acc'](y_test, )"
   ]
  },
  {
   "cell_type": "code",
   "execution_count": 149,
   "metadata": {},
   "outputs": [
    {
     "data": {
      "text/plain": [
       "5430    fanboy ism h k stuff scar h acr exactly aesthe...\n",
       "5089    curse aye awww good old bargaining alarm clock...\n",
       "111     usually psychic quality knowing come specific ...\n",
       "7536    thank advice appreciate just fantastic advice ...\n",
       "1113    trying understand difference sx sx just differ...\n",
       "                              ...                        \n",
       "2926    true comfortable contradiction hi following re...\n",
       "3821    pretty christian ish t believe jesus christ go...\n",
       "5805    bat sherlock holmes quite alright agnostic spi...\n",
       "3140    try lang studying japanese sent gt using tapat...\n",
       "2770    ugh honestly inclined think behavior abusive t...\n",
       "Name: text_clean_joined, Length: 2169, dtype: object"
      ]
     },
     "execution_count": 149,
     "metadata": {},
     "output_type": "execute_result"
    }
   ],
   "source": [
    "dic_score[i](_model, X_test, y_test)"
   ]
  },
  {
   "cell_type": "code",
   "execution_count": 164,
   "metadata": {},
   "outputs": [
    {
     "name": "stdout",
     "output_type": "stream",
     "text": [
      "k-fold : 1\n",
      "Precision: 71.454% , Recall: 67.391%, Time \t 237.6945 ms\n",
      "k-fold : 2\n",
      "Precision: 72.438% , Recall: 68.677%, Time \t 365.2575 ms\n",
      "k-fold : 3\n",
      "Precision: 70.662% , Recall: 66.164%, Time \t 396.282 ms\n",
      "k-fold : 4\n",
      "Precision: 73.179% , Recall: 69.012%, Time \t 263.4461 ms\n",
      "k-fold : 5\n",
      "Precision: 71.357% , Recall: 71.357%, Time \t 327.027 ms\n",
      "Overall train-test data\n",
      "Precision: 70.657% , Recall: 67.035%, Time \t 338.0158 ms\n"
     ]
    },
    {
     "ename": "ValueError",
     "evalue": "Found input variables with inconsistent numbers of samples: [1301, 2169]",
     "output_type": "error",
     "traceback": [
      "\u001b[0;31m---------------------------------------------------------------------------\u001b[0m",
      "\u001b[0;31mValueError\u001b[0m                                Traceback (most recent call last)",
      "\u001b[0;32m<timed exec>\u001b[0m in \u001b[0;36m<module>\u001b[0;34m\u001b[0m\n",
      "\u001b[0;32m<ipython-input-163-40eebde9b6a9>\u001b[0m in \u001b[0;36mcross_validate_NN\u001b[0;34m(model, X, y, X_test, y_test, name, fit_params, scoring, n_splits, save, batch_size, use_multiprocessing)\u001b[0m\n\u001b[1;32m    178\u001b[0m \u001b[0;34m\u001b[0m\u001b[0m\n\u001b[1;32m    179\u001b[0m         \u001b[0;32melse\u001b[0m\u001b[0;34m:\u001b[0m\u001b[0;34m\u001b[0m\u001b[0;34m\u001b[0m\u001b[0m\n\u001b[0;32m--> 180\u001b[0;31m             \u001b[0mscorer\u001b[0m\u001b[0;34m[\u001b[0m\u001b[0mi\u001b[0m\u001b[0;34m]\u001b[0m\u001b[0;34m.\u001b[0m\u001b[0mappend\u001b[0m\u001b[0;34m(\u001b[0m\u001b[0mdic_score\u001b[0m\u001b[0;34m[\u001b[0m\u001b[0mi\u001b[0m\u001b[0;34m]\u001b[0m\u001b[0;34m(\u001b[0m\u001b[0my\u001b[0m\u001b[0;34m.\u001b[0m\u001b[0miloc\u001b[0m\u001b[0;34m[\u001b[0m\u001b[0mtest\u001b[0m\u001b[0;34m]\u001b[0m\u001b[0;34m,\u001b[0m \u001b[0my_pred\u001b[0m\u001b[0;34m)\u001b[0m\u001b[0;34m)\u001b[0m\u001b[0;34m\u001b[0m\u001b[0;34m\u001b[0m\u001b[0m\n\u001b[0m\u001b[1;32m    181\u001b[0m             \u001b[0;31m#scorer[i].append(dic_score[i](_model, X_test, y_test))\u001b[0m\u001b[0;34m\u001b[0m\u001b[0;34m\u001b[0m\u001b[0;34m\u001b[0m\u001b[0m\n\u001b[1;32m    182\u001b[0m         \u001b[0mindex\u001b[0m\u001b[0;34m.\u001b[0m\u001b[0mappend\u001b[0m\u001b[0;34m(\u001b[0m\u001b[0mi\u001b[0m\u001b[0;34m+\u001b[0m\u001b[0;34m'_overall'\u001b[0m\u001b[0;34m)\u001b[0m\u001b[0;34m\u001b[0m\u001b[0;34m\u001b[0m\u001b[0m\n",
      "\u001b[0;32m~/.pyenv/versions/venv-MBTI/lib/python3.8/site-packages/sklearn/utils/validation.py\u001b[0m in \u001b[0;36minner_f\u001b[0;34m(*args, **kwargs)\u001b[0m\n\u001b[1;32m     70\u001b[0m                           FutureWarning)\n\u001b[1;32m     71\u001b[0m         \u001b[0mkwargs\u001b[0m\u001b[0;34m.\u001b[0m\u001b[0mupdate\u001b[0m\u001b[0;34m(\u001b[0m\u001b[0;34m{\u001b[0m\u001b[0mk\u001b[0m\u001b[0;34m:\u001b[0m \u001b[0marg\u001b[0m \u001b[0;32mfor\u001b[0m \u001b[0mk\u001b[0m\u001b[0;34m,\u001b[0m \u001b[0marg\u001b[0m \u001b[0;32min\u001b[0m \u001b[0mzip\u001b[0m\u001b[0;34m(\u001b[0m\u001b[0msig\u001b[0m\u001b[0;34m.\u001b[0m\u001b[0mparameters\u001b[0m\u001b[0;34m,\u001b[0m \u001b[0margs\u001b[0m\u001b[0;34m)\u001b[0m\u001b[0;34m}\u001b[0m\u001b[0;34m)\u001b[0m\u001b[0;34m\u001b[0m\u001b[0;34m\u001b[0m\u001b[0m\n\u001b[0;32m---> 72\u001b[0;31m         \u001b[0;32mreturn\u001b[0m \u001b[0mf\u001b[0m\u001b[0;34m(\u001b[0m\u001b[0;34m**\u001b[0m\u001b[0mkwargs\u001b[0m\u001b[0;34m)\u001b[0m\u001b[0;34m\u001b[0m\u001b[0;34m\u001b[0m\u001b[0m\n\u001b[0m\u001b[1;32m     73\u001b[0m     \u001b[0;32mreturn\u001b[0m \u001b[0minner_f\u001b[0m\u001b[0;34m\u001b[0m\u001b[0;34m\u001b[0m\u001b[0m\n\u001b[1;32m     74\u001b[0m \u001b[0;34m\u001b[0m\u001b[0m\n",
      "\u001b[0;32m~/.pyenv/versions/venv-MBTI/lib/python3.8/site-packages/sklearn/metrics/_classification.py\u001b[0m in \u001b[0;36maccuracy_score\u001b[0;34m(y_true, y_pred, normalize, sample_weight)\u001b[0m\n\u001b[1;32m    185\u001b[0m \u001b[0;34m\u001b[0m\u001b[0m\n\u001b[1;32m    186\u001b[0m     \u001b[0;31m# Compute accuracy for each possible representation\u001b[0m\u001b[0;34m\u001b[0m\u001b[0;34m\u001b[0m\u001b[0;34m\u001b[0m\u001b[0m\n\u001b[0;32m--> 187\u001b[0;31m     \u001b[0my_type\u001b[0m\u001b[0;34m,\u001b[0m \u001b[0my_true\u001b[0m\u001b[0;34m,\u001b[0m \u001b[0my_pred\u001b[0m \u001b[0;34m=\u001b[0m \u001b[0m_check_targets\u001b[0m\u001b[0;34m(\u001b[0m\u001b[0my_true\u001b[0m\u001b[0;34m,\u001b[0m \u001b[0my_pred\u001b[0m\u001b[0;34m)\u001b[0m\u001b[0;34m\u001b[0m\u001b[0;34m\u001b[0m\u001b[0m\n\u001b[0m\u001b[1;32m    188\u001b[0m     \u001b[0mcheck_consistent_length\u001b[0m\u001b[0;34m(\u001b[0m\u001b[0my_true\u001b[0m\u001b[0;34m,\u001b[0m \u001b[0my_pred\u001b[0m\u001b[0;34m,\u001b[0m \u001b[0msample_weight\u001b[0m\u001b[0;34m)\u001b[0m\u001b[0;34m\u001b[0m\u001b[0;34m\u001b[0m\u001b[0m\n\u001b[1;32m    189\u001b[0m     \u001b[0;32mif\u001b[0m \u001b[0my_type\u001b[0m\u001b[0;34m.\u001b[0m\u001b[0mstartswith\u001b[0m\u001b[0;34m(\u001b[0m\u001b[0;34m'multilabel'\u001b[0m\u001b[0;34m)\u001b[0m\u001b[0;34m:\u001b[0m\u001b[0;34m\u001b[0m\u001b[0;34m\u001b[0m\u001b[0m\n",
      "\u001b[0;32m~/.pyenv/versions/venv-MBTI/lib/python3.8/site-packages/sklearn/metrics/_classification.py\u001b[0m in \u001b[0;36m_check_targets\u001b[0;34m(y_true, y_pred)\u001b[0m\n\u001b[1;32m     79\u001b[0m     \u001b[0my_pred\u001b[0m \u001b[0;34m:\u001b[0m \u001b[0marray\u001b[0m \u001b[0;32mor\u001b[0m \u001b[0mindicator\u001b[0m \u001b[0mmatrix\u001b[0m\u001b[0;34m\u001b[0m\u001b[0;34m\u001b[0m\u001b[0m\n\u001b[1;32m     80\u001b[0m     \"\"\"\n\u001b[0;32m---> 81\u001b[0;31m     \u001b[0mcheck_consistent_length\u001b[0m\u001b[0;34m(\u001b[0m\u001b[0my_true\u001b[0m\u001b[0;34m,\u001b[0m \u001b[0my_pred\u001b[0m\u001b[0;34m)\u001b[0m\u001b[0;34m\u001b[0m\u001b[0;34m\u001b[0m\u001b[0m\n\u001b[0m\u001b[1;32m     82\u001b[0m     \u001b[0mtype_true\u001b[0m \u001b[0;34m=\u001b[0m \u001b[0mtype_of_target\u001b[0m\u001b[0;34m(\u001b[0m\u001b[0my_true\u001b[0m\u001b[0;34m)\u001b[0m\u001b[0;34m\u001b[0m\u001b[0;34m\u001b[0m\u001b[0m\n\u001b[1;32m     83\u001b[0m     \u001b[0mtype_pred\u001b[0m \u001b[0;34m=\u001b[0m \u001b[0mtype_of_target\u001b[0m\u001b[0;34m(\u001b[0m\u001b[0my_pred\u001b[0m\u001b[0;34m)\u001b[0m\u001b[0;34m\u001b[0m\u001b[0;34m\u001b[0m\u001b[0m\n",
      "\u001b[0;32m~/.pyenv/versions/venv-MBTI/lib/python3.8/site-packages/sklearn/utils/validation.py\u001b[0m in \u001b[0;36mcheck_consistent_length\u001b[0;34m(*arrays)\u001b[0m\n\u001b[1;32m    253\u001b[0m     \u001b[0muniques\u001b[0m \u001b[0;34m=\u001b[0m \u001b[0mnp\u001b[0m\u001b[0;34m.\u001b[0m\u001b[0munique\u001b[0m\u001b[0;34m(\u001b[0m\u001b[0mlengths\u001b[0m\u001b[0;34m)\u001b[0m\u001b[0;34m\u001b[0m\u001b[0;34m\u001b[0m\u001b[0m\n\u001b[1;32m    254\u001b[0m     \u001b[0;32mif\u001b[0m \u001b[0mlen\u001b[0m\u001b[0;34m(\u001b[0m\u001b[0muniques\u001b[0m\u001b[0;34m)\u001b[0m \u001b[0;34m>\u001b[0m \u001b[0;36m1\u001b[0m\u001b[0;34m:\u001b[0m\u001b[0;34m\u001b[0m\u001b[0;34m\u001b[0m\u001b[0m\n\u001b[0;32m--> 255\u001b[0;31m         raise ValueError(\"Found input variables with inconsistent numbers of\"\n\u001b[0m\u001b[1;32m    256\u001b[0m                          \" samples: %r\" % [int(l) for l in lengths])\n\u001b[1;32m    257\u001b[0m \u001b[0;34m\u001b[0m\u001b[0m\n",
      "\u001b[0;31mValueError\u001b[0m: Found input variables with inconsistent numbers of samples: [1301, 2169]"
     ]
    }
   ],
   "source": [
    "%%time\n",
    "if shallow_network:\n",
    "    df_results = df_results.append(cross_validate_NN(shallow_neural_networks(word_index, pre_trained=pre_trained), \n",
    "                                                     train_seq_x, y_train, test_seq_x, y_test,\n",
    "                                                     name=\"Shallow_NN_WE\", scoring=score_metrics, \n",
    "                                                     n_splits=CV_splits, save=save_model))"
   ]
  },
  {
   "cell_type": "code",
   "execution_count": null,
   "metadata": {},
   "outputs": [],
   "source": [
    "if save_results:\n",
    "    df_results.to_csv(NAME_SAVE_FILE+\".csv\", sep=\";\", index=False)"
   ]
  },
  {
   "cell_type": "markdown",
   "metadata": {},
   "source": [
    "<a id='dnn'></a>"
   ]
  },
  {
   "cell_type": "markdown",
   "metadata": {},
   "source": [
    "<br>\n",
    "<div class=\"span5 alert alert-info\">\n",
    "    <H5>Deep Neural Net</H5>\n",
    "</div>"
   ]
  },
  {
   "cell_type": "code",
   "execution_count": 146,
   "metadata": {},
   "outputs": [],
   "source": [
    "def deep_neural_networks(word_index, label=labels, embedding_matrix=embedding_matrix, pre_trained=False):\n",
    "    '''\n",
    "    Function to generate a deep neural network for binary or multiclass classification.\n",
    "    @param word_index: (matrix) unique token in corpus\n",
    "    @param label: (list) list of labels to determine if it,s a binary or multiclass\n",
    "    @param embedding_matrix: (matrix) matrix of integer for each word in the \n",
    "    @param pre_trained: (bool) determine if the model will use pretrained model\n",
    "    @return: (model) deep neural network \n",
    "    '''\n",
    "    if pre_trained==False:\n",
    "        embedded = keras.layers.Embedding(len(word_index) + 1, 50)\n",
    "    else:\n",
    "        print(\"Pre-trained model used\")\n",
    "        embedded = keras.layers.Embedding(len(word_index) + 1, 300, weights=[embedding_matrix], trainable=False)\n",
    "    \n",
    "    model = keras.Sequential([\n",
    "      embedded,\n",
    "      keras.layers.GlobalAveragePooling1D(),\n",
    "      keras.layers.Dense(16, activation=\"relu\"),#tf.nn.swish),\n",
    "      keras.layers.Dense(1 if len(label)<=2 else len(label), activation='sigmoid' if len(label)<=2 else \"softmax\")])\n",
    "\n",
    "    #print(model.summary())\n",
    "    \n",
    "    return model\n"
   ]
  },
  {
   "cell_type": "code",
   "execution_count": null,
   "metadata": {},
   "outputs": [],
   "source": [
    "%%time\n",
    "if deep_nn:\n",
    "    df_results = df_results.append(cross_validate_NN(deep_neural_networks(word_index, pre_trained=pre_trained), \n",
    "                                                     train_seq_x, y_train, test_seq_x, y_test,\n",
    "                                                     name=\"Deep_NN_WE\",scoring=score_metrics, \n",
    "                                                     n_splits=CV_splits , save=save_model))"
   ]
  },
  {
   "cell_type": "code",
   "execution_count": null,
   "metadata": {},
   "outputs": [],
   "source": [
    "def deep_neural_networks_var1(word_index, label=labels, embedding_matrix=embedding_matrix, pre_trained=False):\n",
    "    '''\n",
    "    Function to generate a deep neural network for binary or multiclass classification.\n",
    "    @param word_index: (matrix) unique token in corpus\n",
    "    @param label: (list) list of labels to determine if it,s a binary or multiclass\n",
    "    @param embedding_matrix: (matrix) matrix of integer for each word in the \n",
    "    @param pre_trained: (bool) determine if the model will use pretrained model\n",
    "    @return: (model) deep neural network \n",
    "    '''\n",
    "    if pre_trained==False:\n",
    "        embedded = keras.layers.Embedding(len(word_index) + 1, 100)\n",
    "    else:\n",
    "        embedded = keras.layers.Embedding(len(word_index) + 1, 300, weights=[embedding_matrix], trainable=False)\n",
    "    \n",
    "    model = keras.Sequential([\n",
    "      embedded,\n",
    "      keras.layers.GlobalAveragePooling1D(),\n",
    "      keras.layers.Dense(16, activation=\"relu\"),#tf.nn.swish),\n",
    "      keras.layers.Dense(16, activation=\"relu\"),#tf.nn.swish),\n",
    "      keras.layers.Dense(1  if len(label)<=2 else len(label), activation='sigmoid' if len(label)<=2 else \"softmax\")])\n",
    "\n",
    "    #print(model.summary())\n",
    "    \n",
    "    return model"
   ]
  },
  {
   "cell_type": "code",
   "execution_count": null,
   "metadata": {},
   "outputs": [],
   "source": [
    "%%time\n",
    "if deep_nn:\n",
    "    df_results = df_results.append(cross_validate_NN(deep_neural_networks_var1(word_index, pre_trained=pre_trained), \n",
    "                                                     train_seq_x, y_train, test_seq_x, y_test,\n",
    "                                                     name=\"Deep_NN_var1_WE\", \n",
    "                                                     scoring=score_metrics, n_splits=CV_splits, save=save_model))"
   ]
  },
  {
   "cell_type": "markdown",
   "metadata": {},
   "source": [
    "<a id='trans'></a>"
   ]
  },
  {
   "cell_type": "markdown",
   "metadata": {},
   "source": [
    "<br>\n",
    "<div class=\"span5 alert alert-info\">\n",
    "    <H5>Transformers</H5>\n",
    "</div>"
   ]
  },
  {
   "cell_type": "markdown",
   "metadata": {},
   "source": [
    "![model](img/transformers_model_architecture.png)\n",
    "\n",
    "The Transformer – Model Architecture - [Source](https://arxiv.org/abs/1706.03762)"
   ]
  },
  {
   "cell_type": "markdown",
   "metadata": {},
   "source": [
    "<a id=vidya></a>"
   ]
  },
  {
   "cell_type": "markdown",
   "metadata": {},
   "source": [
    "## Analytics Vidhya Example"
   ]
  },
  {
   "cell_type": "markdown",
   "metadata": {},
   "source": [
    "For the transformers part I will use the notebook [Fine_Tuning_BERT_for_Spam_Classification.ipynb](https://github.com/prateekjoshi565/Fine-Tuning-BERT/blob/master/Fine_Tuning_BERT_for_Spam_Classification.ipynb) by [Joshi Prateek](https://www.linkedin.com/in/prateek-joshi-iifmite/). Here is a video they made for YouTube - [link](https://www.youtube.com/watch?v=mw7ay38--ak)\n",
    "\n",
    "**Special Imports for Transformers**"
   ]
  },
  {
   "cell_type": "code",
   "execution_count": 88,
   "metadata": {},
   "outputs": [],
   "source": [
    "from transformers import *\n",
    "from torch.utils.data import Dataset, DataLoader\n",
    "import torch\n",
    "import torch.nn as nn\n",
    "import transformers\n",
    "from transformers import AutoModel, BertTokenizerFast\n",
    "\n",
    "# specify GPU\n",
    "device = torch.device(\"cpu\")"
   ]
  },
  {
   "cell_type": "markdown",
   "metadata": {},
   "source": [
    "**Train, Validation, Test Split**"
   ]
  },
  {
   "cell_type": "code",
   "execution_count": 89,
   "metadata": {},
   "outputs": [],
   "source": [
    "sample = df.copy()"
   ]
  },
  {
   "cell_type": "code",
   "execution_count": 90,
   "metadata": {},
   "outputs": [],
   "source": [
    "sample = sample.sample(n=100)"
   ]
  },
  {
   "cell_type": "code",
   "execution_count": 91,
   "metadata": {},
   "outputs": [],
   "source": [
    "train_text, temp_text, train_labels, temp_labels = train_test_split(sample['text_clean_joined'], sample['T'], \n",
    "                                                                    random_state=42, \n",
    "                                                                    test_size=0.3, \n",
    "                                                                    stratify=sample['T'])\n",
    "\n",
    "# we will use temp_text and temp_labels to create validation and test set\n",
    "val_text, test_text, val_labels, test_labels = train_test_split(temp_text, temp_labels, \n",
    "                                                                random_state=42, \n",
    "                                                                test_size=0.5, \n",
    "                                                                stratify=temp_labels)"
   ]
  },
  {
   "cell_type": "markdown",
   "metadata": {},
   "source": [
    "**Import BERT Model and BERT Tokenizer**"
   ]
  },
  {
   "cell_type": "code",
   "execution_count": 92,
   "metadata": {},
   "outputs": [],
   "source": [
    "# import BERT-base pretrained model\n",
    "bert = AutoModel.from_pretrained('bert-base-uncased')\n",
    "\n",
    "# Load the BERT tokenizer\n",
    "tokenizer = BertTokenizerFast.from_pretrained('bert-base-uncased')"
   ]
  },
  {
   "cell_type": "code",
   "execution_count": 93,
   "metadata": {},
   "outputs": [
    {
     "name": "stdout",
     "output_type": "stream",
     "text": [
      "{'input_ids': [[101, 2023, 2003, 1037, 14324, 2944, 14924, 4818, 102, 0], [101, 2057, 2097, 2986, 1011, 8694, 1037, 14324, 2944, 102]], 'attention_mask': [[1, 1, 1, 1, 1, 1, 1, 1, 1, 0], [1, 1, 1, 1, 1, 1, 1, 1, 1, 1]]}\n"
     ]
    }
   ],
   "source": [
    "# sample data to test if it works\n",
    "text = [\"this is a bert model tutorial\", \"we will fine-tune a bert model\"]\n",
    "\n",
    "# encode text\n",
    "sent_id = tokenizer.batch_encode_plus(text, padding=True, return_token_type_ids=False, )\n",
    "\n",
    "# output\n",
    "print(sent_id)"
   ]
  },
  {
   "cell_type": "code",
   "execution_count": 94,
   "metadata": {},
   "outputs": [
    {
     "data": {
      "image/png": "[encoded data removed]",
      "text/plain": [
       "<Figure size 432x288 with 1 Axes>"
      ]
     },
     "metadata": {},
     "output_type": "display_data"
    }
   ],
   "source": [
    "# get length of all the messages in the train set\n",
    "seq_len = [len(i.split()) for i in train_text]\n",
    "\n",
    "pd.Series(seq_len).hist(bins = 30)\n",
    "plt.show()"
   ]
  },
  {
   "cell_type": "markdown",
   "metadata": {},
   "source": [
    "In the [article](https://arxiv.org/pdf/1905.05583.pdf) `How to Fine-Tune BERT for Text Classification?` , Sun et. al. mention that the token limit for BERT models is 512 and they offer the following suggestion:\n",
    "\"Usually, the key information of an article is at the beginning and end.  We use three different methods of truncate text to perform BERT fine-tuning.\n",
    "- 1.head-only: keep the first 510 tokens6;\n",
    "- 2.tail-only: keep the last 510 tokens;\n",
    "- 3.head+tail: empirically select the first 128and the last 382 tokens.\"\n",
    "\n",
    "We could do this ourselves but our the most granularity we can obtain are individual posts rather than the large set of posts together (which is what we currently have). What we will do instead is separate each post into one row and analyze it accordingly."
   ]
  },
  {
   "cell_type": "code",
   "execution_count": 95,
   "metadata": {},
   "outputs": [],
   "source": [
    "# we make a copy of our dataframe\n",
    "df_transformers = df[['type','type_label','I','N','T','J','posts']]"
   ]
  },
  {
   "cell_type": "code",
   "execution_count": 96,
   "metadata": {},
   "outputs": [],
   "source": [
    "df_transformers = df_transformers.sample(n=100)"
   ]
  },
  {
   "cell_type": "code",
   "execution_count": 97,
   "metadata": {},
   "outputs": [],
   "source": [
    "def transformers_clean(content):\n",
    "    \"\"\"This function prepares the posts to be correctly separated\"\"\"\n",
    "    text = content.split('|||')\n",
    "    text = [re.sub(r'http\\S+', '', i) for i in text]\n",
    "    text = [x for x in text if x.strip(\" \")]\n",
    "    text = [x for x in text if x.strip(\"'\")]\n",
    "    text = [x.strip() for x in text]\n",
    "    return text"
   ]
  },
  {
   "cell_type": "code",
   "execution_count": 98,
   "metadata": {},
   "outputs": [],
   "source": [
    "df_transformers['row'] = df_transformers.apply(lambda row: row.name, axis=1)\n",
    "df_transformers['text'] = df_transformers['posts'].apply(lambda x: transformers_clean(x))\n",
    "df_transformers = df_transformers.explode('text', ignore_index=True)"
   ]
  },
  {
   "cell_type": "markdown",
   "metadata": {},
   "source": [
    "**Let's try again**"
   ]
  },
  {
   "cell_type": "code",
   "execution_count": 99,
   "metadata": {},
   "outputs": [],
   "source": [
    "train_text, temp_text, train_labels, temp_labels = train_test_split(df_transformers['text'], df_transformers['T'], \n",
    "                                                                    random_state=2018, \n",
    "                                                                    test_size=0.3, \n",
    "                                                                    stratify=df_transformers['T'])\n",
    "\n",
    "# we will use temp_text and temp_labels to create validation and test set\n",
    "val_text, test_text, val_labels, test_labels = train_test_split(temp_text, temp_labels, \n",
    "                                                                random_state=2018, \n",
    "                                                                test_size=0.5, \n",
    "                                                                stratify=temp_labels)"
   ]
  },
  {
   "cell_type": "code",
   "execution_count": 100,
   "metadata": {},
   "outputs": [
    {
     "data": {
      "image/png": "[encoded data removed]",
      "text/plain": [
       "<Figure size 432x288 with 1 Axes>"
      ]
     },
     "metadata": {},
     "output_type": "display_data"
    }
   ],
   "source": [
    "# get length of all the messages in the train set\n",
    "seq_len = [len(i.split()) for i in train_text]\n",
    "\n",
    "pd.Series(seq_len).hist(bins = 30)\n",
    "plt.show()"
   ]
  },
  {
   "cell_type": "markdown",
   "metadata": {},
   "source": [
    "This is more manageable"
   ]
  },
  {
   "cell_type": "markdown",
   "metadata": {},
   "source": [
    "**Tokenization**"
   ]
  },
  {
   "cell_type": "code",
   "execution_count": 101,
   "metadata": {},
   "outputs": [],
   "source": [
    "max_seq_len = 50\n",
    "\n",
    "# tokenize and encode sequences in the training set\n",
    "tokens_train = tokenizer.batch_encode_plus(\n",
    "    train_text.tolist(),\n",
    "    max_length = max_seq_len,\n",
    "    padding=True,\n",
    "    truncation=True,\n",
    "    return_token_type_ids=False\n",
    ")\n",
    "\n",
    "# tokenize and encode sequences in the validation set\n",
    "tokens_val = tokenizer.batch_encode_plus(\n",
    "    val_text.tolist(),\n",
    "    max_length = max_seq_len,\n",
    "    padding=True,\n",
    "    truncation=True,\n",
    "    return_token_type_ids=False\n",
    ")\n",
    "\n",
    "# tokenize and encode sequences in the test set\n",
    "tokens_test = tokenizer.batch_encode_plus(\n",
    "    test_text.tolist(),\n",
    "    max_length = max_seq_len,\n",
    "    padding=True,\n",
    "    truncation=True,\n",
    "    return_token_type_ids=False\n",
    ")"
   ]
  },
  {
   "cell_type": "markdown",
   "metadata": {},
   "source": [
    "**Convert Integer Sequences to Tensors**"
   ]
  },
  {
   "cell_type": "code",
   "execution_count": 102,
   "metadata": {},
   "outputs": [],
   "source": [
    "# for train set\n",
    "train_seq = torch.tensor(tokens_train['input_ids'])\n",
    "train_mask = torch.tensor(tokens_train['attention_mask'])\n",
    "train_y = torch.tensor(train_labels.tolist())\n",
    "\n",
    "# for validation set\n",
    "val_seq = torch.tensor(tokens_val['input_ids'])\n",
    "val_mask = torch.tensor(tokens_val['attention_mask'])\n",
    "val_y = torch.tensor(val_labels.tolist())\n",
    "\n",
    "# for test set\n",
    "test_seq = torch.tensor(tokens_test['input_ids'])\n",
    "test_mask = torch.tensor(tokens_test['attention_mask'])\n",
    "test_y = torch.tensor(test_labels.tolist())"
   ]
  },
  {
   "cell_type": "markdown",
   "metadata": {},
   "source": [
    "**Create DataLoaders**"
   ]
  },
  {
   "cell_type": "code",
   "execution_count": 103,
   "metadata": {},
   "outputs": [],
   "source": [
    "from torch.utils.data import TensorDataset, DataLoader, RandomSampler, SequentialSampler\n",
    "\n",
    "#define a batch size\n",
    "batch_size = 32\n",
    "\n",
    "# wrap tensors\n",
    "train_data = TensorDataset(train_seq, train_mask, train_y)\n",
    "\n",
    "# sampler for sampling the data during training\n",
    "train_sampler = RandomSampler(train_data)\n",
    "\n",
    "# dataLoader for train set\n",
    "train_dataloader = DataLoader(train_data, sampler=train_sampler, batch_size=batch_size)\n",
    "\n",
    "# wrap tensors\n",
    "val_data = TensorDataset(val_seq, val_mask, val_y)\n",
    "\n",
    "# sampler for sampling the data during training\n",
    "val_sampler = SequentialSampler(val_data)\n",
    "\n",
    "# dataLoader for validation set\n",
    "val_dataloader = DataLoader(val_data, sampler = val_sampler, batch_size=batch_size)"
   ]
  },
  {
   "cell_type": "markdown",
   "metadata": {},
   "source": [
    "**Freeze the parameters**"
   ]
  },
  {
   "cell_type": "code",
   "execution_count": 104,
   "metadata": {},
   "outputs": [],
   "source": [
    "# freeze all the parameters\n",
    "for param in bert.parameters():\n",
    "    param.requires_grad = False"
   ]
  },
  {
   "cell_type": "markdown",
   "metadata": {},
   "source": [
    "**Define Model Architecture**"
   ]
  },
  {
   "cell_type": "code",
   "execution_count": 105,
   "metadata": {},
   "outputs": [],
   "source": [
    "class BERT_Arch(nn.Module):\n",
    "    \n",
    "    def __init__(self, bert):\n",
    "        \n",
    "        super(BERT_Arch, self).__init__()\n",
    "        self.bert = bert \n",
    "        \n",
    "        # dropout layer\n",
    "        self.dropout = nn.Dropout(0.1)\n",
    "        \n",
    "        # relu activation function\n",
    "        self.relu =  nn.ReLU()\n",
    "        \n",
    "        # dense layer 1\n",
    "        self.fc1 = nn.Linear(768,512)\n",
    "\n",
    "        # dense layer 2 (Output layer)\n",
    "        self.fc2 = nn.Linear(512,2)\n",
    "\n",
    "        #softmax activation function\n",
    "        self.softmax = nn.LogSoftmax(dim=1)\n",
    "\n",
    "    #define the forward pass\n",
    "    def forward(self, sent_id, mask):\n",
    "        \n",
    "        #pass the inputs to the model  \n",
    "        _, cls_hs = self.bert(sent_id, attention_mask=mask)\n",
    "        \n",
    "        x = self.fc1(cls_hs)\n",
    "        \n",
    "        x = self.relu(x)\n",
    "        \n",
    "        x = self.dropout(x)\n",
    "        \n",
    "        # output layer\n",
    "        x = self.fc2(x)\n",
    "        \n",
    "        # apply softmax activation\n",
    "        x = self.softmax(x)\n",
    "\n",
    "        return x"
   ]
  },
  {
   "cell_type": "code",
   "execution_count": 106,
   "metadata": {},
   "outputs": [],
   "source": [
    "# pass the pre-trained BERT to our define architecture\n",
    "model = BERT_Arch(bert)\n",
    "\n",
    "# push the model to GPU\n",
    "model = model.to(device)"
   ]
  },
  {
   "cell_type": "code",
   "execution_count": 107,
   "metadata": {},
   "outputs": [],
   "source": [
    "# optimizer from hugging face transformers\n",
    "from transformers import AdamW\n",
    "\n",
    "# define the optimizer\n",
    "optimizer = AdamW(model.parameters(), lr = 1e-3)"
   ]
  },
  {
   "cell_type": "code",
   "execution_count": 108,
   "metadata": {},
   "outputs": [
    {
     "name": "stdout",
     "output_type": "stream",
     "text": [
      "[0.85145482 1.21132898]\n"
     ]
    }
   ],
   "source": [
    "from sklearn.utils.class_weight import compute_class_weight\n",
    "\n",
    "#compute the class weights\n",
    "class_wts = compute_class_weight('balanced', classes=np.unique(train_labels), y=train_labels)\n",
    "\n",
    "print(class_wts)"
   ]
  },
  {
   "cell_type": "code",
   "execution_count": 109,
   "metadata": {},
   "outputs": [],
   "source": [
    "# convert class weights to tensor\n",
    "weights= torch.tensor(class_wts,dtype=torch.float)\n",
    "weights = weights.to(device)\n",
    "\n",
    "# loss function\n",
    "cross_entropy  = nn.NLLLoss(weight=weights) \n",
    "\n",
    "# number of training epochs\n",
    "epochs = 5"
   ]
  },
  {
   "cell_type": "markdown",
   "metadata": {},
   "source": [
    "**Fine-Tune BERT**"
   ]
  },
  {
   "cell_type": "code",
   "execution_count": 110,
   "metadata": {},
   "outputs": [],
   "source": [
    "# function to train the model\n",
    "def train():\n",
    "    model.train()\n",
    "    \n",
    "    total_loss, total_accuracy = 0, 0\n",
    "  \n",
    "    # empty list to save model predictions\n",
    "    total_preds=[]\n",
    "\n",
    "    # iterate over batches\n",
    "    for step,batch in enumerate(train_dataloader):\n",
    "        \n",
    "        # progress update after every 50 batches.\n",
    "        if step % 50 == 0 and not step == 0:\n",
    "            print('  Batch {:>5,}  of  {:>5,}.'.format(step, len(train_dataloader)))\n",
    "\n",
    "        # push the batch to gpu\n",
    "        batch = [r.to(device) for r in batch]\n",
    "\n",
    "        sent_id, mask, labels = batch\n",
    "\n",
    "        # clear previously calculated gradients \n",
    "        model.zero_grad()        \n",
    "\n",
    "        # get model predictions for the current batch\n",
    "        preds = model(sent_id, mask)\n",
    "\n",
    "        # compute the loss between actual and predicted values\n",
    "        loss = cross_entropy(preds, labels)\n",
    "\n",
    "        # add on to the total loss\n",
    "        total_loss = total_loss + loss.item()\n",
    "\n",
    "        # backward pass to calculate the gradients\n",
    "        loss.backward()\n",
    "\n",
    "        # clip the the gradients to 1.0. It helps in preventing the exploding gradient problem\n",
    "        torch.nn.utils.clip_grad_norm_(model.parameters(), 1.0)\n",
    "\n",
    "        # update parameters\n",
    "        optimizer.step()\n",
    "\n",
    "        # model predictions are stored on GPU. So, push it to CPU\n",
    "        preds=preds.detach().cpu().numpy()\n",
    "\n",
    "        # append the model predictions\n",
    "        total_preds.append(preds)\n",
    "    \n",
    "    # compute the training loss of the epoch\n",
    "    avg_loss = total_loss / len(train_dataloader)\n",
    "\n",
    "    # predictions are in the form of (no. of batches, size of batch, no. of classes).\n",
    "    # reshape the predictions in form of (number of samples, no. of classes)\n",
    "    total_preds  = np.concatenate(total_preds, axis=0)\n",
    "\n",
    "    #returns the loss and predictions\n",
    "    return avg_loss, total_preds"
   ]
  },
  {
   "cell_type": "markdown",
   "metadata": {},
   "source": [
    "**Evaluation**"
   ]
  },
  {
   "cell_type": "code",
   "execution_count": 111,
   "metadata": {},
   "outputs": [],
   "source": [
    "# function for evaluating the model\n",
    "def evaluate():\n",
    "    print(\"\\nEvaluating...\")\n",
    "    \n",
    "    # deactivate dropout layers\n",
    "    model.eval()\n",
    "    \n",
    "    total_loss, total_accuracy = 0, 0\n",
    "  \n",
    "    # empty list to save the model predictions\n",
    "    total_preds = []\n",
    "\n",
    "    # iterate over batches\n",
    "    for step,batch in enumerate(val_dataloader):\n",
    "    \n",
    "        # Progress update every 50 batches.\n",
    "        if step % 50 == 0 and not step == 0:\n",
    "            \n",
    "            # Calculate elapsed time in minutes.\n",
    "            elapsed = format_time(time.time() - t0)\n",
    "            \n",
    "            # Report progress.\n",
    "            print('  Batch {:>5,}  of  {:>5,}.'.format(step, len(val_dataloader)))\n",
    "\n",
    "        # push the batch to gpu\n",
    "        batch = [t.to(device) for t in batch]\n",
    "\n",
    "        sent_id, mask, labels = batch\n",
    "\n",
    "        # deactivate autograd\n",
    "        with torch.no_grad():\n",
    "            \n",
    "            # model predictions\n",
    "            preds = model(sent_id, mask)\n",
    "            \n",
    "            # compute the validation loss between actual and predicted values\n",
    "            loss = cross_entropy(preds,labels)\n",
    "            \n",
    "            total_loss = total_loss + loss.item()\n",
    "\n",
    "            preds = preds.detach().cpu().numpy()\n",
    "\n",
    "            total_preds.append(preds)\n",
    "\n",
    "    # compute the validation loss of the epoch\n",
    "    avg_loss = total_loss / len(val_dataloader) \n",
    "\n",
    "    # reshape the predictions in form of (number of samples, no. of classes)\n",
    "    total_preds  = np.concatenate(total_preds, axis=0)\n",
    "\n",
    "    return avg_loss, total_preds"
   ]
  },
  {
   "cell_type": "markdown",
   "metadata": {},
   "source": [
    "**Training the Model**"
   ]
  },
  {
   "cell_type": "code",
   "execution_count": 112,
   "metadata": {},
   "outputs": [
    {
     "name": "stderr",
     "output_type": "stream",
     "text": [
      "  0%|          | 0/5 [00:00<?, ?it/s]"
     ]
    },
    {
     "name": "stdout",
     "output_type": "stream",
     "text": [
      "\n",
      " Epoch 1 / 5\n"
     ]
    },
    {
     "name": "stderr",
     "output_type": "stream",
     "text": [
      "  0%|          | 0/5 [00:02<?, ?it/s]\n"
     ]
    },
    {
     "ename": "RuntimeError",
     "evalue": "element 0 of tensors does not require grad and does not have a grad_fn",
     "output_type": "error",
     "traceback": [
      "\u001b[0;31m---------------------------------------------------------------------------\u001b[0m",
      "\u001b[0;31mRuntimeError\u001b[0m                              Traceback (most recent call last)",
      "\u001b[0;32m<ipython-input-112-16b759225044>\u001b[0m in \u001b[0;36m<module>\u001b[0;34m\u001b[0m\n\u001b[1;32m     12\u001b[0m \u001b[0;34m\u001b[0m\u001b[0m\n\u001b[1;32m     13\u001b[0m     \u001b[0;31m#train model\u001b[0m\u001b[0;34m\u001b[0m\u001b[0;34m\u001b[0m\u001b[0;34m\u001b[0m\u001b[0m\n\u001b[0;32m---> 14\u001b[0;31m     \u001b[0mtrain_loss\u001b[0m\u001b[0;34m,\u001b[0m \u001b[0m_\u001b[0m \u001b[0;34m=\u001b[0m \u001b[0mtrain\u001b[0m\u001b[0;34m(\u001b[0m\u001b[0;34m)\u001b[0m\u001b[0;34m\u001b[0m\u001b[0;34m\u001b[0m\u001b[0m\n\u001b[0m\u001b[1;32m     15\u001b[0m \u001b[0;34m\u001b[0m\u001b[0m\n\u001b[1;32m     16\u001b[0m     \u001b[0;31m#evaluate model\u001b[0m\u001b[0;34m\u001b[0m\u001b[0;34m\u001b[0m\u001b[0;34m\u001b[0m\u001b[0m\n",
      "\u001b[0;32m<ipython-input-110-066b7d4dc6b3>\u001b[0m in \u001b[0;36mtrain\u001b[0;34m()\u001b[0m\n\u001b[1;32m     33\u001b[0m \u001b[0;34m\u001b[0m\u001b[0m\n\u001b[1;32m     34\u001b[0m         \u001b[0;31m# backward pass to calculate the gradients\u001b[0m\u001b[0;34m\u001b[0m\u001b[0;34m\u001b[0m\u001b[0;34m\u001b[0m\u001b[0m\n\u001b[0;32m---> 35\u001b[0;31m         \u001b[0mloss\u001b[0m\u001b[0;34m.\u001b[0m\u001b[0mbackward\u001b[0m\u001b[0;34m(\u001b[0m\u001b[0;34m)\u001b[0m\u001b[0;34m\u001b[0m\u001b[0;34m\u001b[0m\u001b[0m\n\u001b[0m\u001b[1;32m     36\u001b[0m \u001b[0;34m\u001b[0m\u001b[0m\n\u001b[1;32m     37\u001b[0m         \u001b[0;31m# clip the the gradients to 1.0. It helps in preventing the exploding gradient problem\u001b[0m\u001b[0;34m\u001b[0m\u001b[0;34m\u001b[0m\u001b[0;34m\u001b[0m\u001b[0m\n",
      "\u001b[0;32m~/.pyenv/versions/venv-MBTI/lib/python3.8/site-packages/torch/tensor.py\u001b[0m in \u001b[0;36mbackward\u001b[0;34m(self, gradient, retain_graph, create_graph)\u001b[0m\n\u001b[1;32m    183\u001b[0m                 \u001b[0mproducts\u001b[0m\u001b[0;34m.\u001b[0m \u001b[0mDefaults\u001b[0m \u001b[0mto\u001b[0m\u001b[0;31m \u001b[0m\u001b[0;31m`\u001b[0m\u001b[0;31m`\u001b[0m\u001b[0;32mFalse\u001b[0m\u001b[0;31m`\u001b[0m\u001b[0;31m`\u001b[0m\u001b[0;34m.\u001b[0m\u001b[0;34m\u001b[0m\u001b[0;34m\u001b[0m\u001b[0m\n\u001b[1;32m    184\u001b[0m         \"\"\"\n\u001b[0;32m--> 185\u001b[0;31m         \u001b[0mtorch\u001b[0m\u001b[0;34m.\u001b[0m\u001b[0mautograd\u001b[0m\u001b[0;34m.\u001b[0m\u001b[0mbackward\u001b[0m\u001b[0;34m(\u001b[0m\u001b[0mself\u001b[0m\u001b[0;34m,\u001b[0m \u001b[0mgradient\u001b[0m\u001b[0;34m,\u001b[0m \u001b[0mretain_graph\u001b[0m\u001b[0;34m,\u001b[0m \u001b[0mcreate_graph\u001b[0m\u001b[0;34m)\u001b[0m\u001b[0;34m\u001b[0m\u001b[0;34m\u001b[0m\u001b[0m\n\u001b[0m\u001b[1;32m    186\u001b[0m \u001b[0;34m\u001b[0m\u001b[0m\n\u001b[1;32m    187\u001b[0m     \u001b[0;32mdef\u001b[0m \u001b[0mregister_hook\u001b[0m\u001b[0;34m(\u001b[0m\u001b[0mself\u001b[0m\u001b[0;34m,\u001b[0m \u001b[0mhook\u001b[0m\u001b[0;34m)\u001b[0m\u001b[0;34m:\u001b[0m\u001b[0;34m\u001b[0m\u001b[0;34m\u001b[0m\u001b[0m\n",
      "\u001b[0;32m~/.pyenv/versions/venv-MBTI/lib/python3.8/site-packages/torch/autograd/__init__.py\u001b[0m in \u001b[0;36mbackward\u001b[0;34m(tensors, grad_tensors, retain_graph, create_graph, grad_variables)\u001b[0m\n\u001b[1;32m    123\u001b[0m         \u001b[0mretain_graph\u001b[0m \u001b[0;34m=\u001b[0m \u001b[0mcreate_graph\u001b[0m\u001b[0;34m\u001b[0m\u001b[0;34m\u001b[0m\u001b[0m\n\u001b[1;32m    124\u001b[0m \u001b[0;34m\u001b[0m\u001b[0m\n\u001b[0;32m--> 125\u001b[0;31m     Variable._execution_engine.run_backward(\n\u001b[0m\u001b[1;32m    126\u001b[0m         \u001b[0mtensors\u001b[0m\u001b[0;34m,\u001b[0m \u001b[0mgrad_tensors\u001b[0m\u001b[0;34m,\u001b[0m \u001b[0mretain_graph\u001b[0m\u001b[0;34m,\u001b[0m \u001b[0mcreate_graph\u001b[0m\u001b[0;34m,\u001b[0m\u001b[0;34m\u001b[0m\u001b[0;34m\u001b[0m\u001b[0m\n\u001b[1;32m    127\u001b[0m         allow_unreachable=True)  # allow_unreachable flag\n",
      "\u001b[0;31mRuntimeError\u001b[0m: element 0 of tensors does not require grad and does not have a grad_fn"
     ]
    }
   ],
   "source": [
    "# set initial loss to infinite\n",
    "best_valid_loss = float('inf')\n",
    "\n",
    "# empty lists to store training and validation loss of each epoch\n",
    "train_losses=[]\n",
    "valid_losses=[]\n",
    "\n",
    "#for each epoch\n",
    "for epoch in tqdm(range(epochs)):\n",
    "    \n",
    "    print('\\n Epoch {:} / {:}'.format(epoch + 1, epochs))\n",
    "\n",
    "    #train model\n",
    "    train_loss, _ = train()\n",
    "    \n",
    "    #evaluate model\n",
    "    valid_loss, _ = evaluate()\n",
    "    \n",
    "    #save the best model\n",
    "    if valid_loss < best_valid_loss:\n",
    "        best_valid_loss = valid_loss\n",
    "        torch.save(model.state_dict(), 'saved_weights.pt')\n",
    "    \n",
    "    # append training and validation loss\n",
    "    train_losses.append(train_loss)\n",
    "    valid_losses.append(valid_loss)\n",
    "    \n",
    "    print(f'\\nTraining Loss: {train_loss:.3f}')\n",
    "    print(f'Validation Loss: {valid_loss:.3f}')"
   ]
  },
  {
   "cell_type": "markdown",
   "metadata": {},
   "source": [
    "**Save the Model**"
   ]
  },
  {
   "cell_type": "code",
   "execution_count": 82,
   "metadata": {},
   "outputs": [
    {
     "ename": "RuntimeError",
     "evalue": "Error(s) in loading state_dict for BertModel:\n\tMissing key(s) in state_dict: \"embeddings.position_ids\", \"embeddings.word_embeddings.weight\", \"embeddings.position_embeddings.weight\", \"embeddings.token_type_embeddings.weight\", \"embeddings.LayerNorm.weight\", \"embeddings.LayerNorm.bias\", \"encoder.layer.0.attention.self.query.weight\", \"encoder.layer.0.attention.self.query.bias\", \"encoder.layer.0.attention.self.key.weight\", \"encoder.layer.0.attention.self.key.bias\", \"encoder.layer.0.attention.self.value.weight\", \"encoder.layer.0.attention.self.value.bias\", \"encoder.layer.0.attention.output.dense.weight\", \"encoder.layer.0.attention.output.dense.bias\", \"encoder.layer.0.attention.output.LayerNorm.weight\", \"encoder.layer.0.attention.output.LayerNorm.bias\", \"encoder.layer.0.intermediate.dense.weight\", \"encoder.layer.0.intermediate.dense.bias\", \"encoder.layer.0.output.dense.weight\", \"encoder.layer.0.output.dense.bias\", \"encoder.layer.0.output.LayerNorm.weight\", \"encoder.layer.0.output.LayerNorm.bias\", \"encoder.layer.1.attention.self.query.weight\", \"encoder.layer.1.attention.self.query.bias\", \"encoder.layer.1.attention.self.key.weight\", \"encoder.layer.1.attention.self.key.bias\", \"encoder.layer.1.attention.self.value.weight\", \"encoder.layer.1.attention.self.value.bias\", \"encoder.layer.1.attention.output.dense.weight\", \"encoder.layer.1.attention.output.dense.bias\", \"encoder.layer.1.attention.output.LayerNorm.weight\", \"encoder.layer.1.attention.output.LayerNorm.bias\", \"encoder.layer.1.intermediate.dense.weight\", \"encoder.layer.1.intermediate.dense.bias\", \"encoder.layer.1.output.dense.weight\", \"encoder.layer.1.output.dense.bias\", \"encoder.layer.1.output.LayerNorm.weight\", \"encoder.layer.1.output.LayerNorm.bias\", \"encoder.layer.2.attention.self.query.weight\", \"encoder.layer.2.attention.self.query.bias\", \"encoder.layer.2.attention.self.key.weight\", \"encoder.layer.2.attention.self.key.bias\", \"encoder.layer.2.attention.self.value.weight\", \"encoder.layer.2.attention.self.value.bias\", \"encoder.layer.2.attention.output.dense.weight\", \"encoder.layer.2.attention.output.dense.bias\", \"encoder.layer.2.attention.output.LayerNorm.weight\", \"encoder.layer.2.attention.output.LayerNorm.bias\", \"encoder.layer.2.intermediate.dense.weight\", \"encoder.layer.2.intermediate.dense.bias\", \"encoder.layer.2.output.dense.weight\", \"encoder.layer.2.output.dense.bias\", \"encoder.layer.2.output.LayerNorm.weight\", \"encoder.layer.2.output.LayerNorm.bias\", \"encoder.layer.3.attention.self.query.weight\", \"encoder.layer.3.attention.self.query.bias\", \"encoder.layer.3.attention.self.key.weight\", \"encoder.layer.3.attention.self.key.bias\", \"encoder.layer.3.attention.self.value.weight\", \"encoder.layer.3.attention.self.value.bias\", \"encoder.layer.3.attention.output.dense.weight\", \"encoder.layer.3.attention.output.dense.bias\", \"encoder.layer.3.attention.output.LayerNorm.weight\", \"encoder.layer.3.attention.output.LayerNorm.bias\", \"encoder.layer.3.intermediate.dense.weight\", \"encoder.layer.3.intermediate.dense.bias\", \"encoder.layer.3.output.dense.weight\", \"encoder.layer.3.output.dense.bias\", \"encoder.layer.3.output.LayerNorm.weight\", \"encoder.layer.3.output.LayerNorm.bias\", \"encoder.layer.4.attention.self.query.weight\", \"encoder.layer.4.attention.self.query.bias\", \"encoder.layer.4.attention.self.key.weight\", \"encoder.layer.4.attention.self.key.bias\", \"encoder.layer.4.attention.self.value.weight\", \"encoder.layer.4.attention.self.value.bias\", \"encoder.layer.4.attention.output.dense.weight\", \"encoder.layer.4.attention.output.dense.bias\", \"encoder.layer.4.attention.output.LayerNorm.weight\", \"encoder.layer.4.attention.output.LayerNorm.bias\", \"encoder.layer.4.intermediate.dense.weight\", \"encoder.layer.4.intermediate.dense.bias\", \"encoder.layer.4.output.dense.weight\", \"encoder.layer.4.output.dense.bias\", \"encoder.layer.4.output.LayerNorm.weight\", \"encoder.layer.4.output.LayerNorm.bias\", \"encoder.layer.5.attention.self.query.weight\", \"encoder.layer.5.attention.self.query.bias\", \"encoder.layer.5.attention.self.key.weight\", \"encoder.layer.5.attention.self.key.bias\", \"encoder.layer.5.attention.self.value.weight\", \"encoder.layer.5.attention.self.value.bias\", \"encoder.layer.5.attention.output.dense.weight\", \"encoder.layer.5.attention.output.dense.bias\", \"encoder.layer.5.attention.output.LayerNorm.weight\", \"encoder.layer.5.attention.output.LayerNorm.bias\", \"encoder.layer.5.intermediate.dense.weight\", \"encoder.layer.5.intermediate.dense.bias\", \"encoder.layer.5.output.dense.weight\", \"encoder.layer.5.output.dense.bias\", \"encoder.layer.5.output.LayerNorm.weight\", \"encoder.layer.5.output.LayerNorm.bias\", \"encoder.layer.6.attention.self.query.weight\", \"encoder.layer.6.attention.self.query.bias\", \"encoder.layer.6.attention.self.key.weight\", \"encoder.layer.6.attention.self.key.bias\", \"encoder.layer.6.attention.self.value.weight\", \"encoder.layer.6.attention.self.value.bias\", \"encoder.layer.6.attention.output.dense.weight\", \"encoder.layer.6.attention.output.dense.bias\", \"encoder.layer.6.attention.output.LayerNorm.weight\", \"encoder.layer.6.attention.output.LayerNorm.bias\", \"encoder.layer.6.intermediate.dense.weight\", \"encoder.layer.6.intermediate.dense.bias\", \"encoder.layer.6.output.dense.weight\", \"encoder.layer.6.output.dense.bias\", \"encoder.layer.6.output.LayerNorm.weight\", \"encoder.layer.6.output.LayerNorm.bias\", \"encoder.layer.7.attention.self.query.weight\", \"encoder.layer.7.attention.self.query.bias\", \"encoder.layer.7.attention.self.key.weight\", \"encoder.layer.7.attention.self.key.bias\", \"encoder.layer.7.attention.self.value.weight\", \"encoder.layer.7.attention.self.value.bias\", \"encoder.layer.7.attention.output.dense.weight\", \"encoder.layer.7.attention.output.dense.bias\", \"encoder.layer.7.attention.output.LayerNorm.weight\", \"encoder.layer.7.attention.output.LayerNorm.bias\", \"encoder.layer.7.intermediate.dense.weight\", \"encoder.layer.7.intermediate.dense.bias\", \"encoder.layer.7.output.dense.weight\", \"encoder.layer.7.output.dense.bias\", \"encoder.layer.7.output.LayerNorm.weight\", \"encoder.layer.7.output.LayerNorm.bias\", \"encoder.layer.8.attention.self.query.weight\", \"encoder.layer.8.attention.self.query.bias\", \"encoder.layer.8.attention.self.key.weight\", \"encoder.layer.8.attention.self.key.bias\", \"encoder.layer.8.attention.self.value.weight\", \"encoder.layer.8.attention.self.value.bias\", \"encoder.layer.8.attention.output.dense.weight\", \"encoder.layer.8.attention.output.dense.bias\", \"encoder.layer.8.attention.output.LayerNorm.weight\", \"encoder.layer.8.attention.output.LayerNorm.bias\", \"encoder.layer.8.intermediate.dense.weight\", \"encoder.layer.8.intermediate.dense.bias\", \"encoder.layer.8.output.dense.weight\", \"encoder.layer.8.output.dense.bias\", \"encoder.layer.8.output.LayerNorm.weight\", \"encoder.layer.8.output.LayerNorm.bias\", \"encoder.layer.9.attention.self.query.weight\", \"encoder.layer.9.attention.self.query.bias\", \"encoder.layer.9.attention.self.key.weight\", \"encoder.layer.9.attention.self.key.bias\", \"encoder.layer.9.attention.self.value.weight\", \"encoder.layer.9.attention.self.value.bias\", \"encoder.layer.9.attention.output.dense.weight\", \"encoder.layer.9.attention.output.dense.bias\", \"encoder.layer.9.attention.output.LayerNorm.weight\", \"encoder.layer.9.attention.output.LayerNorm.bias\", \"encoder.layer.9.intermediate.dense.weight\", \"encoder.layer.9.intermediate.dense.bias\", \"encoder.layer.9.output.dense.weight\", \"encoder.layer.9.output.dense.bias\", \"encoder.layer.9.output.LayerNorm.weight\", \"encoder.layer.9.output.LayerNorm.bias\", \"encoder.layer.10.attention.self.query.weight\", \"encoder.layer.10.attention.self.query.bias\", \"encoder.layer.10.attention.self.key.weight\", \"encoder.layer.10.attention.self.key.bias\", \"encoder.layer.10.attention.self.value.weight\", \"encoder.layer.10.attention.self.value.bias\", \"encoder.layer.10.attention.output.dense.weight\", \"encoder.layer.10.attention.output.dense.bias\", \"encoder.layer.10.attention.output.LayerNorm.weight\", \"encoder.layer.10.attention.output.LayerNorm.bias\", \"encoder.layer.10.intermediate.dense.weight\", \"encoder.layer.10.intermediate.dense.bias\", \"encoder.layer.10.output.dense.weight\", \"encoder.layer.10.output.dense.bias\", \"encoder.layer.10.output.LayerNorm.weight\", \"encoder.layer.10.output.LayerNorm.bias\", \"encoder.layer.11.attention.self.query.weight\", \"encoder.layer.11.attention.self.query.bias\", \"encoder.layer.11.attention.self.key.weight\", \"encoder.layer.11.attention.self.key.bias\", \"encoder.layer.11.attention.self.value.weight\", \"encoder.layer.11.attention.self.value.bias\", \"encoder.layer.11.attention.output.dense.weight\", \"encoder.layer.11.attention.output.dense.bias\", \"encoder.layer.11.attention.output.LayerNorm.weight\", \"encoder.layer.11.attention.output.LayerNorm.bias\", \"encoder.layer.11.intermediate.dense.weight\", \"encoder.layer.11.intermediate.dense.bias\", \"encoder.layer.11.output.dense.weight\", \"encoder.layer.11.output.dense.bias\", \"encoder.layer.11.output.LayerNorm.weight\", \"encoder.layer.11.output.LayerNorm.bias\", \"pooler.dense.weight\", \"pooler.dense.bias\". \n\tUnexpected key(s) in state_dict: \"bert.embeddings.position_ids\", \"bert.embeddings.word_embeddings.weight\", \"bert.embeddings.position_embeddings.weight\", \"bert.embeddings.token_type_embeddings.weight\", \"bert.embeddings.LayerNorm.weight\", \"bert.embeddings.LayerNorm.bias\", \"bert.encoder.layer.0.attention.self.query.weight\", \"bert.encoder.layer.0.attention.self.query.bias\", \"bert.encoder.layer.0.attention.self.key.weight\", \"bert.encoder.layer.0.attention.self.key.bias\", \"bert.encoder.layer.0.attention.self.value.weight\", \"bert.encoder.layer.0.attention.self.value.bias\", \"bert.encoder.layer.0.attention.output.dense.weight\", \"bert.encoder.layer.0.attention.output.dense.bias\", \"bert.encoder.layer.0.attention.output.LayerNorm.weight\", \"bert.encoder.layer.0.attention.output.LayerNorm.bias\", \"bert.encoder.layer.0.intermediate.dense.weight\", \"bert.encoder.layer.0.intermediate.dense.bias\", \"bert.encoder.layer.0.output.dense.weight\", \"bert.encoder.layer.0.output.dense.bias\", \"bert.encoder.layer.0.output.LayerNorm.weight\", \"bert.encoder.layer.0.output.LayerNorm.bias\", \"bert.encoder.layer.1.attention.self.query.weight\", \"bert.encoder.layer.1.attention.self.query.bias\", \"bert.encoder.layer.1.attention.self.key.weight\", \"bert.encoder.layer.1.attention.self.key.bias\", \"bert.encoder.layer.1.attention.self.value.weight\", \"bert.encoder.layer.1.attention.self.value.bias\", \"bert.encoder.layer.1.attention.output.dense.weight\", \"bert.encoder.layer.1.attention.output.dense.bias\", \"bert.encoder.layer.1.attention.output.LayerNorm.weight\", \"bert.encoder.layer.1.attention.output.LayerNorm.bias\", \"bert.encoder.layer.1.intermediate.dense.weight\", \"bert.encoder.layer.1.intermediate.dense.bias\", \"bert.encoder.layer.1.output.dense.weight\", \"bert.encoder.layer.1.output.dense.bias\", \"bert.encoder.layer.1.output.LayerNorm.weight\", \"bert.encoder.layer.1.output.LayerNorm.bias\", \"bert.encoder.layer.2.attention.self.query.weight\", \"bert.encoder.layer.2.attention.self.query.bias\", \"bert.encoder.layer.2.attention.self.key.weight\", \"bert.encoder.layer.2.attention.self.key.bias\", \"bert.encoder.layer.2.attention.self.value.weight\", \"bert.encoder.layer.2.attention.self.value.bias\", \"bert.encoder.layer.2.attention.output.dense.weight\", \"bert.encoder.layer.2.attention.output.dense.bias\", \"bert.encoder.layer.2.attention.output.LayerNorm.weight\", \"bert.encoder.layer.2.attention.output.LayerNorm.bias\", \"bert.encoder.layer.2.intermediate.dense.weight\", \"bert.encoder.layer.2.intermediate.dense.bias\", \"bert.encoder.layer.2.output.dense.weight\", \"bert.encoder.layer.2.output.dense.bias\", \"bert.encoder.layer.2.output.LayerNorm.weight\", \"bert.encoder.layer.2.output.LayerNorm.bias\", \"bert.encoder.layer.3.attention.self.query.weight\", \"bert.encoder.layer.3.attention.self.query.bias\", \"bert.encoder.layer.3.attention.self.key.weight\", \"bert.encoder.layer.3.attention.self.key.bias\", \"bert.encoder.layer.3.attention.self.value.weight\", \"bert.encoder.layer.3.attention.self.value.bias\", \"bert.encoder.layer.3.attention.output.dense.weight\", \"bert.encoder.layer.3.attention.output.dense.bias\", \"bert.encoder.layer.3.attention.output.LayerNorm.weight\", \"bert.encoder.layer.3.attention.output.LayerNorm.bias\", \"bert.encoder.layer.3.intermediate.dense.weight\", \"bert.encoder.layer.3.intermediate.dense.bias\", \"bert.encoder.layer.3.output.dense.weight\", \"bert.encoder.layer.3.output.dense.bias\", \"bert.encoder.layer.3.output.LayerNorm.weight\", \"bert.encoder.layer.3.output.LayerNorm.bias\", \"bert.encoder.layer.4.attention.self.query.weight\", \"bert.encoder.layer.4.attention.self.query.bias\", \"bert.encoder.layer.4.attention.self.key.weight\", \"bert.encoder.layer.4.attention.self.key.bias\", \"bert.encoder.layer.4.attention.self.value.weight\", \"bert.encoder.layer.4.attention.self.value.bias\", \"bert.encoder.layer.4.attention.output.dense.weight\", \"bert.encoder.layer.4.attention.output.dense.bias\", \"bert.encoder.layer.4.attention.output.LayerNorm.weight\", \"bert.encoder.layer.4.attention.output.LayerNorm.bias\", \"bert.encoder.layer.4.intermediate.dense.weight\", \"bert.encoder.layer.4.intermediate.dense.bias\", \"bert.encoder.layer.4.output.dense.weight\", \"bert.encoder.layer.4.output.dense.bias\", \"bert.encoder.layer.4.output.LayerNorm.weight\", \"bert.encoder.layer.4.output.LayerNorm.bias\", \"bert.encoder.layer.5.attention.self.query.weight\", \"bert.encoder.layer.5.attention.self.query.bias\", \"bert.encoder.layer.5.attention.self.key.weight\", \"bert.encoder.layer.5.attention.self.key.bias\", \"bert.encoder.layer.5.attention.self.value.weight\", \"bert.encoder.layer.5.attention.self.value.bias\", \"bert.encoder.layer.5.attention.output.dense.weight\", \"bert.encoder.layer.5.attention.output.dense.bias\", \"bert.encoder.layer.5.attention.output.LayerNorm.weight\", \"bert.encoder.layer.5.attention.output.LayerNorm.bias\", \"bert.encoder.layer.5.intermediate.dense.weight\", \"bert.encoder.layer.5.intermediate.dense.bias\", \"bert.encoder.layer.5.output.dense.weight\", \"bert.encoder.layer.5.output.dense.bias\", \"bert.encoder.layer.5.output.LayerNorm.weight\", \"bert.encoder.layer.5.output.LayerNorm.bias\", \"bert.encoder.layer.6.attention.self.query.weight\", \"bert.encoder.layer.6.attention.self.query.bias\", \"bert.encoder.layer.6.attention.self.key.weight\", \"bert.encoder.layer.6.attention.self.key.bias\", \"bert.encoder.layer.6.attention.self.value.weight\", \"bert.encoder.layer.6.attention.self.value.bias\", \"bert.encoder.layer.6.attention.output.dense.weight\", \"bert.encoder.layer.6.attention.output.dense.bias\", \"bert.encoder.layer.6.attention.output.LayerNorm.weight\", \"bert.encoder.layer.6.attention.output.LayerNorm.bias\", \"bert.encoder.layer.6.intermediate.dense.weight\", \"bert.encoder.layer.6.intermediate.dense.bias\", \"bert.encoder.layer.6.output.dense.weight\", \"bert.encoder.layer.6.output.dense.bias\", \"bert.encoder.layer.6.output.LayerNorm.weight\", \"bert.encoder.layer.6.output.LayerNorm.bias\", \"bert.encoder.layer.7.attention.self.query.weight\", \"bert.encoder.layer.7.attention.self.query.bias\", \"bert.encoder.layer.7.attention.self.key.weight\", \"bert.encoder.layer.7.attention.self.key.bias\", \"bert.encoder.layer.7.attention.self.value.weight\", \"bert.encoder.layer.7.attention.self.value.bias\", \"bert.encoder.layer.7.attention.output.dense.weight\", \"bert.encoder.layer.7.attention.output.dense.bias\", \"bert.encoder.layer.7.attention.output.LayerNorm.weight\", \"bert.encoder.layer.7.attention.output.LayerNorm.bias\", \"bert.encoder.layer.7.intermediate.dense.weight\", \"bert.encoder.layer.7.intermediate.dense.bias\", \"bert.encoder.layer.7.output.dense.weight\", \"bert.encoder.layer.7.output.dense.bias\", \"bert.encoder.layer.7.output.LayerNorm.weight\", \"bert.encoder.layer.7.output.LayerNorm.bias\", \"bert.encoder.layer.8.attention.self.query.weight\", \"bert.encoder.layer.8.attention.self.query.bias\", \"bert.encoder.layer.8.attention.self.key.weight\", \"bert.encoder.layer.8.attention.self.key.bias\", \"bert.encoder.layer.8.attention.self.value.weight\", \"bert.encoder.layer.8.attention.self.value.bias\", \"bert.encoder.layer.8.attention.output.dense.weight\", \"bert.encoder.layer.8.attention.output.dense.bias\", \"bert.encoder.layer.8.attention.output.LayerNorm.weight\", \"bert.encoder.layer.8.attention.output.LayerNorm.bias\", \"bert.encoder.layer.8.intermediate.dense.weight\", \"bert.encoder.layer.8.intermediate.dense.bias\", \"bert.encoder.layer.8.output.dense.weight\", \"bert.encoder.layer.8.output.dense.bias\", \"bert.encoder.layer.8.output.LayerNorm.weight\", \"bert.encoder.layer.8.output.LayerNorm.bias\", \"bert.encoder.layer.9.attention.self.query.weight\", \"bert.encoder.layer.9.attention.self.query.bias\", \"bert.encoder.layer.9.attention.self.key.weight\", \"bert.encoder.layer.9.attention.self.key.bias\", \"bert.encoder.layer.9.attention.self.value.weight\", \"bert.encoder.layer.9.attention.self.value.bias\", \"bert.encoder.layer.9.attention.output.dense.weight\", \"bert.encoder.layer.9.attention.output.dense.bias\", \"bert.encoder.layer.9.attention.output.LayerNorm.weight\", \"bert.encoder.layer.9.attention.output.LayerNorm.bias\", \"bert.encoder.layer.9.intermediate.dense.weight\", \"bert.encoder.layer.9.intermediate.dense.bias\", \"bert.encoder.layer.9.output.dense.weight\", \"bert.encoder.layer.9.output.dense.bias\", \"bert.encoder.layer.9.output.LayerNorm.weight\", \"bert.encoder.layer.9.output.LayerNorm.bias\", \"bert.encoder.layer.10.attention.self.query.weight\", \"bert.encoder.layer.10.attention.self.query.bias\", \"bert.encoder.layer.10.attention.self.key.weight\", \"bert.encoder.layer.10.attention.self.key.bias\", \"bert.encoder.layer.10.attention.self.value.weight\", \"bert.encoder.layer.10.attention.self.value.bias\", \"bert.encoder.layer.10.attention.output.dense.weight\", \"bert.encoder.layer.10.attention.output.dense.bias\", \"bert.encoder.layer.10.attention.output.LayerNorm.weight\", \"bert.encoder.layer.10.attention.output.LayerNorm.bias\", \"bert.encoder.layer.10.intermediate.dense.weight\", \"bert.encoder.layer.10.intermediate.dense.bias\", \"bert.encoder.layer.10.output.dense.weight\", \"bert.encoder.layer.10.output.dense.bias\", \"bert.encoder.layer.10.output.LayerNorm.weight\", \"bert.encoder.layer.10.output.LayerNorm.bias\", \"bert.encoder.layer.11.attention.self.query.weight\", \"bert.encoder.layer.11.attention.self.query.bias\", \"bert.encoder.layer.11.attention.self.key.weight\", \"bert.encoder.layer.11.attention.self.key.bias\", \"bert.encoder.layer.11.attention.self.value.weight\", \"bert.encoder.layer.11.attention.self.value.bias\", \"bert.encoder.layer.11.attention.output.dense.weight\", \"bert.encoder.layer.11.attention.output.dense.bias\", \"bert.encoder.layer.11.attention.output.LayerNorm.weight\", \"bert.encoder.layer.11.attention.output.LayerNorm.bias\", \"bert.encoder.layer.11.intermediate.dense.weight\", \"bert.encoder.layer.11.intermediate.dense.bias\", \"bert.encoder.layer.11.output.dense.weight\", \"bert.encoder.layer.11.output.dense.bias\", \"bert.encoder.layer.11.output.LayerNorm.weight\", \"bert.encoder.layer.11.output.LayerNorm.bias\", \"bert.pooler.dense.weight\", \"bert.pooler.dense.bias\", \"fc1.weight\", \"fc1.bias\", \"fc2.weight\", \"fc2.bias\". ",
     "output_type": "error",
     "traceback": [
      "\u001b[0;31m---------------------------------------------------------------------------\u001b[0m",
      "\u001b[0;31mRuntimeError\u001b[0m                              Traceback (most recent call last)",
      "\u001b[0;32m<ipython-input-82-5a29cc8ec3f6>\u001b[0m in \u001b[0;36m<module>\u001b[0;34m\u001b[0m\n\u001b[1;32m      1\u001b[0m \u001b[0;31m#load weights of best model\u001b[0m\u001b[0;34m\u001b[0m\u001b[0;34m\u001b[0m\u001b[0;34m\u001b[0m\u001b[0m\n\u001b[1;32m      2\u001b[0m \u001b[0mpath\u001b[0m \u001b[0;34m=\u001b[0m \u001b[0;34m'saved_weights.pt'\u001b[0m\u001b[0;34m\u001b[0m\u001b[0;34m\u001b[0m\u001b[0m\n\u001b[0;32m----> 3\u001b[0;31m \u001b[0mmodel\u001b[0m\u001b[0;34m.\u001b[0m\u001b[0mload_state_dict\u001b[0m\u001b[0;34m(\u001b[0m\u001b[0mtorch\u001b[0m\u001b[0;34m.\u001b[0m\u001b[0mload\u001b[0m\u001b[0;34m(\u001b[0m\u001b[0mpath\u001b[0m\u001b[0;34m)\u001b[0m\u001b[0;34m)\u001b[0m\u001b[0;34m\u001b[0m\u001b[0;34m\u001b[0m\u001b[0m\n\u001b[0m",
      "\u001b[0;32m~/.pyenv/versions/venv-MBTI/lib/python3.8/site-packages/torch/nn/modules/module.py\u001b[0m in \u001b[0;36mload_state_dict\u001b[0;34m(self, state_dict, strict)\u001b[0m\n\u001b[1;32m   1042\u001b[0m \u001b[0;34m\u001b[0m\u001b[0m\n\u001b[1;32m   1043\u001b[0m         \u001b[0;32mif\u001b[0m \u001b[0mlen\u001b[0m\u001b[0;34m(\u001b[0m\u001b[0merror_msgs\u001b[0m\u001b[0;34m)\u001b[0m \u001b[0;34m>\u001b[0m \u001b[0;36m0\u001b[0m\u001b[0;34m:\u001b[0m\u001b[0;34m\u001b[0m\u001b[0;34m\u001b[0m\u001b[0m\n\u001b[0;32m-> 1044\u001b[0;31m             raise RuntimeError('Error(s) in loading state_dict for {}:\\n\\t{}'.format(\n\u001b[0m\u001b[1;32m   1045\u001b[0m                                self.__class__.__name__, \"\\n\\t\".join(error_msgs)))\n\u001b[1;32m   1046\u001b[0m         \u001b[0;32mreturn\u001b[0m \u001b[0m_IncompatibleKeys\u001b[0m\u001b[0;34m(\u001b[0m\u001b[0mmissing_keys\u001b[0m\u001b[0;34m,\u001b[0m \u001b[0munexpected_keys\u001b[0m\u001b[0;34m)\u001b[0m\u001b[0;34m\u001b[0m\u001b[0;34m\u001b[0m\u001b[0m\n",
      "\u001b[0;31mRuntimeError\u001b[0m: Error(s) in loading state_dict for BertModel:\n\tMissing key(s) in state_dict: \"embeddings.position_ids\", \"embeddings.word_embeddings.weight\", \"embeddings.position_embeddings.weight\", \"embeddings.token_type_embeddings.weight\", \"embeddings.LayerNorm.weight\", \"embeddings.LayerNorm.bias\", \"encoder.layer.0.attention.self.query.weight\", \"encoder.layer.0.attention.self.query.bias\", \"encoder.layer.0.attention.self.key.weight\", \"encoder.layer.0.attention.self.key.bias\", \"encoder.layer.0.attention.self.value.weight\", \"encoder.layer.0.attention.self.value.bias\", \"encoder.layer.0.attention.output.dense.weight\", \"encoder.layer.0.attention.output.dense.bias\", \"encoder.layer.0.attention.output.LayerNorm.weight\", \"encoder.layer.0.attention.output.LayerNorm.bias\", \"encoder.layer.0.intermediate.dense.weight\", \"encoder.layer.0.intermediate.dense.bias\", \"encoder.layer.0.output.dense.weight\", \"encoder.layer.0.output.dense.bias\", \"encoder.layer.0.output.LayerNorm.weight\", \"encoder.layer.0.output.LayerNorm.bias\", \"encoder.layer.1.attention.self.query.weight\", \"encoder.layer.1.attention.self.query.bias\", \"encoder.layer.1.attention.self.key.weight\", \"encoder.layer.1.attention.self.key.bias\", \"encoder.layer.1.attention.self.value.weight\", \"encoder.layer.1.attention.self.value.bias\", \"encoder.layer.1.attention.output.dense.weight\", \"encoder.layer.1.attention.output.dense.bias\", \"encoder.layer.1.attention.output.LayerNorm.weight\", \"encoder.layer.1.attention.output.LayerNorm.bias\", \"encoder.layer.1.intermediate.dense.weight\", \"encoder.layer.1.intermediate.dense.bias\", \"encoder.layer.1.output.dense.weight\", \"encoder.layer.1.output.dense.bias\", \"encoder.layer.1.output.LayerNorm.weight\", \"encoder.layer.1.output.LayerNorm.bias\", \"encoder.layer.2.attention.self.query.weight\", \"encoder.layer.2.attention.self.query.bias\", \"encoder.layer.2.attention.self.key.weight\", \"encoder.layer.2.attention.self.key.bias\", \"encoder.layer.2.attention.self.value.weight\", \"encoder.layer.2.attention.self.value.bias\", \"encoder.layer.2.attention.output.dense.weight\", \"encoder.layer.2.attention.output.dense.bias\", \"encoder.layer.2.attention.output.LayerNorm.weight\", \"encoder.layer.2.attention.output.LayerNorm.bias\", \"encoder.layer.2.intermediate.dense.weight\", \"encoder.layer.2.intermediate.dense.bias\", \"encoder.layer.2.output.dense.weight\", \"encoder.layer.2.output.dense.bias\", \"encoder.layer.2.output.LayerNorm.weight\", \"encoder.layer.2.output.LayerNorm.bias\", \"encoder.layer.3.attention.self.query.weight\", \"encoder.layer.3.attention.self.query.bias\", \"encoder.layer.3.attention.self.key.weight\", \"encoder.layer.3.attention.self.key.bias\", \"encoder.layer.3.attention.self.value.weight\", \"encoder.layer.3.attention.self.value.bias\", \"encoder.layer.3.attention.output.dense.weight\", \"encoder.layer.3.attention.output.dense.bias\", \"encoder.layer.3.attention.output.LayerNorm.weight\", \"encoder.layer.3.attention.output.LayerNorm.bias\", \"encoder.layer.3.intermediate.dense.weight\", \"encoder.layer.3.intermediate.dense.bias\", \"encoder.layer.3.output.dense.weight\", \"encoder.layer.3.output.dense.bias\", \"encoder.layer.3.output.LayerNorm.weight\", \"encoder.layer.3.output.LayerNorm.bias\", \"encoder.layer.4.attention.self.query.weight\", \"encoder.layer.4.attention.self.query.bias\", \"encoder.layer.4.attention.self.key.weight\", \"encoder.layer.4.attention.self.key.bias\", \"encoder.layer.4.attention.self.value.weight\", \"encoder.layer.4.attention.self.value.bias\", \"encoder.layer.4.attention.output.dense.weight\", \"encoder.layer.4.attention.output.dense.bias\", \"encoder.layer.4.attention.output.LayerNorm.weight\", \"encoder.layer.4.attention.output.LayerNorm.bias\", \"encoder.layer.4.intermediate.dense.weight\", \"encoder.layer.4.intermediate.dense.bias\", \"encoder.layer.4.output.dense.weight\", \"encoder.layer.4.output.dense.bias\", \"encoder.layer.4.output.LayerNorm.weight\", \"encoder.layer.4.output.LayerNorm.bias\", \"encoder.layer.5.attention.self.query.weight\", \"encoder.layer.5.attention.self.query.bias\", \"encoder.layer.5.attention.self.key.weight\", \"encoder.layer.5.attention.self.key.bias\", \"encoder.layer.5.attention.self.value.weight\", \"encoder.layer.5.attention.self.value.bias\", \"encoder.layer.5.attention.output.dense.weight\", \"encoder.layer.5.attention.output.dense.bias\", \"encoder.layer.5.attention.output.LayerNorm.weight\", \"encoder.layer.5.attention.output.LayerNorm.bias\", \"encoder.layer.5.intermediate.dense.weight\", \"encoder.layer.5.intermediate.dense.bias\", \"encoder.layer.5.output.dense.weight\", \"encoder.layer.5.output.dense.bias\", \"encoder.layer.5.output.LayerNorm.weight\", \"encoder.layer.5.output.LayerNorm.bias\", \"encoder.layer.6.attention.self.query.weight\", \"encoder.layer.6.attention.self.query.bias\", \"encoder.layer.6.attention.self.key.weight\", \"encoder.layer.6.attention.self.key.bias\", \"encoder.layer.6.attention.self.value.weight\", \"encoder.layer.6.attention.self.value.bias\", \"encoder.layer.6.attention.output.dense.weight\", \"encoder.layer.6.attention.output.dense.bias\", \"encoder.layer.6.attention.output.LayerNorm.weight\", \"encoder.layer.6.attention.output.LayerNorm.bias\", \"encoder.layer.6.intermediate.dense.weight\", \"encoder.layer.6.intermediate.dense.bias\", \"encoder.layer.6.output.dense.weight\", \"encoder.layer.6.output.dense.bias\", \"encoder.layer.6.output.LayerNorm.weight\", \"encoder.layer.6.output.LayerNorm.bias\", \"encoder.layer.7.attention.self.query.weight\", \"encoder.layer.7.attention.self.query.bias\", \"encoder.layer.7.attention.self.key.weight\", \"encoder.layer.7.attention.self.key.bias\", \"encoder.layer.7.attention.self.value.weight\", \"encoder.layer.7.attention.self.value.bias\", \"encoder.layer.7.attention.output.dense.weight\", \"encoder.layer.7.attention.output.dense.bias\", \"encoder.layer.7.attention.output.LayerNorm.weight\", \"encoder.layer.7.attention.output.LayerNorm.bias\", \"encoder.layer.7.intermediate.dense.weight\", \"encoder.layer.7.intermediate.dense.bias\", \"encoder.layer.7.output.dense.weight\", \"encoder.layer.7.output.dense.bias\", \"encoder.layer.7.output.LayerNorm.weight\", \"encoder.layer.7.output.LayerNorm.bias\", \"encoder.layer.8.attention.self.query.weight\", \"encoder.layer.8.attention.self.query.bias\", \"encoder.layer.8.attention.self.key.weight\", \"encoder.layer.8.attention.self.key.bias\", \"encoder.layer.8.attention.self.value.weight\", \"encoder.layer.8.attention.self.value.bias\", \"encoder.layer.8.attention.output.dense.weight\", \"encoder.layer.8.attention.output.dense.bias\", \"encoder.layer.8.attention.output.LayerNorm.weight\", \"encoder.layer.8.attention.output.LayerNorm.bias\", \"encoder.layer.8.intermediate.dense.weight\", \"encoder.layer.8.intermediate.dense.bias\", \"encoder.layer.8.output.dense.weight\", \"encoder.layer.8.output.dense.bias\", \"encoder.layer.8.output.LayerNorm.weight\", \"encoder.layer.8.output.LayerNorm.bias\", \"encoder.layer.9.attention.self.query.weight\", \"encoder.layer.9.attention.self.query.bias\", \"encoder.layer.9.attention.self.key.weight\", \"encoder.layer.9.attention.self.key.bias\", \"encoder.layer.9.attention.self.value.weight\", \"encoder.layer.9.attention.self.value.bias\", \"encoder.layer.9.attention.output.dense.weight\", \"encoder.layer.9.attention.output.dense.bias\", \"encoder.layer.9.attention.output.LayerNorm.weight\", \"encoder.layer.9.attention.output.LayerNorm.bias\", \"encoder.layer.9.intermediate.dense.weight\", \"encoder.layer.9.intermediate.dense.bias\", \"encoder.layer.9.output.dense.weight\", \"encoder.layer.9.output.dense.bias\", \"encoder.layer.9.output.LayerNorm.weight\", \"encoder.layer.9.output.LayerNorm.bias\", \"encoder.layer.10.attention.self.query.weight\", \"encoder.layer.10.attention.self.query.bias\", \"encoder.layer.10.attention.self.key.weight\", \"encoder.layer.10.attention.self.key.bias\", \"encoder.layer.10.attention.self.value.weight\", \"encoder.layer.10.attention.self.value.bias\", \"encoder.layer.10.attention.output.dense.weight\", \"encoder.layer.10.attention.output.dense.bias\", \"encoder.layer.10.attention.output.LayerNorm.weight\", \"encoder.layer.10.attention.output.LayerNorm.bias\", \"encoder.layer.10.intermediate.dense.weight\", \"encoder.layer.10.intermediate.dense.bias\", \"encoder.layer.10.output.dense.weight\", \"encoder.layer.10.output.dense.bias\", \"encoder.layer.10.output.LayerNorm.weight\", \"encoder.layer.10.output.LayerNorm.bias\", \"encoder.layer.11.attention.self.query.weight\", \"encoder.layer.11.attention.self.query.bias\", \"encoder.layer.11.attention.self.key.weight\", \"encoder.layer.11.attention.self.key.bias\", \"encoder.layer.11.attention.self.value.weight\", \"encoder.layer.11.attention.self.value.bias\", \"encoder.layer.11.attention.output.dense.weight\", \"encoder.layer.11.attention.output.dense.bias\", \"encoder.layer.11.attention.output.LayerNorm.weight\", \"encoder.layer.11.attention.output.LayerNorm.bias\", \"encoder.layer.11.intermediate.dense.weight\", \"encoder.layer.11.intermediate.dense.bias\", \"encoder.layer.11.output.dense.weight\", \"encoder.layer.11.output.dense.bias\", \"encoder.layer.11.output.LayerNorm.weight\", \"encoder.layer.11.output.LayerNorm.bias\", \"pooler.dense.weight\", \"pooler.dense.bias\". \n\tUnexpected key(s) in state_dict: \"bert.embeddings.position_ids\", \"bert.embeddings.word_embeddings.weight\", \"bert.embeddings.position_embeddings.weight\", \"bert.embeddings.token_type_embeddings.weight\", \"bert.embeddings.LayerNorm.weight\", \"bert.embeddings.LayerNorm.bias\", \"bert.encoder.layer.0.attention.self.query.weight\", \"bert.encoder.layer.0.attention.self.query.bias\", \"bert.encoder.layer.0.attention.self.key.weight\", \"bert.encoder.layer.0.attention.self.key.bias\", \"bert.encoder.layer.0.attention.self.value.weight\", \"bert.encoder.layer.0.attention.self.value.bias\", \"bert.encoder.layer.0.attention.output.dense.weight\", \"bert.encoder.layer.0.attention.output.dense.bias\", \"bert.encoder.layer.0.attention.output.LayerNorm.weight\", \"bert.encoder.layer.0.attention.output.LayerNorm.bias\", \"bert.encoder.layer.0.intermediate.dense.weight\", \"bert.encoder.layer.0.intermediate.dense.bias\", \"bert.encoder.layer.0.output.dense.weight\", \"bert.encoder.layer.0.output.dense.bias\", \"bert.encoder.layer.0.output.LayerNorm.weight\", \"bert.encoder.layer.0.output.LayerNorm.bias\", \"bert.encoder.layer.1.attention.self.query.weight\", \"bert.encoder.layer.1.attention.self.query.bias\", \"bert.encoder.layer.1.attention.self.key.weight\", \"bert.encoder.layer.1.attention.self.key.bias\", \"bert.encoder.layer.1.attention.self.value.weight\", \"bert.encoder.layer.1.attention.self.value.bias\", \"bert.encoder.layer.1.attention.output.dense.weight\", \"bert.encoder.layer.1.attention.output.dense.bias\", \"bert.encoder.layer.1.attention.output.LayerNorm.weight\", \"bert.encoder.layer.1.attention.output.LayerNorm.bias\", \"bert.encoder.layer.1.intermediate.dense.weight\", \"bert.encoder.layer.1.intermediate.dense.bias\", \"bert.encoder.layer.1.output.dense.weight\", \"bert.encoder.layer.1.output.dense.bias\", \"bert.encoder.layer.1.output.LayerNorm.weight\", \"bert.encoder.layer.1.output.LayerNorm.bias\", \"bert.encoder.layer.2.attention.self.query.weight\", \"bert.encoder.layer.2.attention.self.query.bias\", \"bert.encoder.layer.2.attention.self.key.weight\", \"bert.encoder.layer.2.attention.self.key.bias\", \"bert.encoder.layer.2.attention.self.value.weight\", \"bert.encoder.layer.2.attention.self.value.bias\", \"bert.encoder.layer.2.attention.output.dense.weight\", \"bert.encoder.layer.2.attention.output.dense.bias\", \"bert.encoder.layer.2.attention.output.LayerNorm.weight\", \"bert.encoder.layer.2.attention.output.LayerNorm.bias\", \"bert.encoder.layer.2.intermediate.dense.weight\", \"bert.encoder.layer.2.intermediate.dense.bias\", \"bert.encoder.layer.2.output.dense.weight\", \"bert.encoder.layer.2.output.dense.bias\", \"bert.encoder.layer.2.output.LayerNorm.weight\", \"bert.encoder.layer.2.output.LayerNorm.bias\", \"bert.encoder.layer.3.attention.self.query.weight\", \"bert.encoder.layer.3.attention.self.query.bias\", \"bert.encoder.layer.3.attention.self.key.weight\", \"bert.encoder.layer.3.attention.self.key.bias\", \"bert.encoder.layer.3.attention.self.value.weight\", \"bert.encoder.layer.3.attention.self.value.bias\", \"bert.encoder.layer.3.attention.output.dense.weight\", \"bert.encoder.layer.3.attention.output.dense.bias\", \"bert.encoder.layer.3.attention.output.LayerNorm.weight\", \"bert.encoder.layer.3.attention.output.LayerNorm.bias\", \"bert.encoder.layer.3.intermediate.dense.weight\", \"bert.encoder.layer.3.intermediate.dense.bias\", \"bert.encoder.layer.3.output.dense.weight\", \"bert.encoder.layer.3.output.dense.bias\", \"bert.encoder.layer.3.output.LayerNorm.weight\", \"bert.encoder.layer.3.output.LayerNorm.bias\", \"bert.encoder.layer.4.attention.self.query.weight\", \"bert.encoder.layer.4.attention.self.query.bias\", \"bert.encoder.layer.4.attention.self.key.weight\", \"bert.encoder.layer.4.attention.self.key.bias\", \"bert.encoder.layer.4.attention.self.value.weight\", \"bert.encoder.layer.4.attention.self.value.bias\", \"bert.encoder.layer.4.attention.output.dense.weight\", \"bert.encoder.layer.4.attention.output.dense.bias\", \"bert.encoder.layer.4.attention.output.LayerNorm.weight\", \"bert.encoder.layer.4.attention.output.LayerNorm.bias\", \"bert.encoder.layer.4.intermediate.dense.weight\", \"bert.encoder.layer.4.intermediate.dense.bias\", \"bert.encoder.layer.4.output.dense.weight\", \"bert.encoder.layer.4.output.dense.bias\", \"bert.encoder.layer.4.output.LayerNorm.weight\", \"bert.encoder.layer.4.output.LayerNorm.bias\", \"bert.encoder.layer.5.attention.self.query.weight\", \"bert.encoder.layer.5.attention.self.query.bias\", \"bert.encoder.layer.5.attention.self.key.weight\", \"bert.encoder.layer.5.attention.self.key.bias\", \"bert.encoder.layer.5.attention.self.value.weight\", \"bert.encoder.layer.5.attention.self.value.bias\", \"bert.encoder.layer.5.attention.output.dense.weight\", \"bert.encoder.layer.5.attention.output.dense.bias\", \"bert.encoder.layer.5.attention.output.LayerNorm.weight\", \"bert.encoder.layer.5.attention.output.LayerNorm.bias\", \"bert.encoder.layer.5.intermediate.dense.weight\", \"bert.encoder.layer.5.intermediate.dense.bias\", \"bert.encoder.layer.5.output.dense.weight\", \"bert.encoder.layer.5.output.dense.bias\", \"bert.encoder.layer.5.output.LayerNorm.weight\", \"bert.encoder.layer.5.output.LayerNorm.bias\", \"bert.encoder.layer.6.attention.self.query.weight\", \"bert.encoder.layer.6.attention.self.query.bias\", \"bert.encoder.layer.6.attention.self.key.weight\", \"bert.encoder.layer.6.attention.self.key.bias\", \"bert.encoder.layer.6.attention.self.value.weight\", \"bert.encoder.layer.6.attention.self.value.bias\", \"bert.encoder.layer.6.attention.output.dense.weight\", \"bert.encoder.layer.6.attention.output.dense.bias\", \"bert.encoder.layer.6.attention.output.LayerNorm.weight\", \"bert.encoder.layer.6.attention.output.LayerNorm.bias\", \"bert.encoder.layer.6.intermediate.dense.weight\", \"bert.encoder.layer.6.intermediate.dense.bias\", \"bert.encoder.layer.6.output.dense.weight\", \"bert.encoder.layer.6.output.dense.bias\", \"bert.encoder.layer.6.output.LayerNorm.weight\", \"bert.encoder.layer.6.output.LayerNorm.bias\", \"bert.encoder.layer.7.attention.self.query.weight\", \"bert.encoder.layer.7.attention.self.query.bias\", \"bert.encoder.layer.7.attention.self.key.weight\", \"bert.encoder.layer.7.attention.self.key.bias\", \"bert.encoder.layer.7.attention.self.value.weight\", \"bert.encoder.layer.7.attention.self.value.bias\", \"bert.encoder.layer.7.attention.output.dense.weight\", \"bert.encoder.layer.7.attention.output.dense.bias\", \"bert.encoder.layer.7.attention.output.LayerNorm.weight\", \"bert.encoder.layer.7.attention.output.LayerNorm.bias\", \"bert.encoder.layer.7.intermediate.dense.weight\", \"bert.encoder.layer.7.intermediate.dense.bias\", \"bert.encoder.layer.7.output.dense.weight\", \"bert.encoder.layer.7.output.dense.bias\", \"bert.encoder.layer.7.output.LayerNorm.weight\", \"bert.encoder.layer.7.output.LayerNorm.bias\", \"bert.encoder.layer.8.attention.self.query.weight\", \"bert.encoder.layer.8.attention.self.query.bias\", \"bert.encoder.layer.8.attention.self.key.weight\", \"bert.encoder.layer.8.attention.self.key.bias\", \"bert.encoder.layer.8.attention.self.value.weight\", \"bert.encoder.layer.8.attention.self.value.bias\", \"bert.encoder.layer.8.attention.output.dense.weight\", \"bert.encoder.layer.8.attention.output.dense.bias\", \"bert.encoder.layer.8.attention.output.LayerNorm.weight\", \"bert.encoder.layer.8.attention.output.LayerNorm.bias\", \"bert.encoder.layer.8.intermediate.dense.weight\", \"bert.encoder.layer.8.intermediate.dense.bias\", \"bert.encoder.layer.8.output.dense.weight\", \"bert.encoder.layer.8.output.dense.bias\", \"bert.encoder.layer.8.output.LayerNorm.weight\", \"bert.encoder.layer.8.output.LayerNorm.bias\", \"bert.encoder.layer.9.attention.self.query.weight\", \"bert.encoder.layer.9.attention.self.query.bias\", \"bert.encoder.layer.9.attention.self.key.weight\", \"bert.encoder.layer.9.attention.self.key.bias\", \"bert.encoder.layer.9.attention.self.value.weight\", \"bert.encoder.layer.9.attention.self.value.bias\", \"bert.encoder.layer.9.attention.output.dense.weight\", \"bert.encoder.layer.9.attention.output.dense.bias\", \"bert.encoder.layer.9.attention.output.LayerNorm.weight\", \"bert.encoder.layer.9.attention.output.LayerNorm.bias\", \"bert.encoder.layer.9.intermediate.dense.weight\", \"bert.encoder.layer.9.intermediate.dense.bias\", \"bert.encoder.layer.9.output.dense.weight\", \"bert.encoder.layer.9.output.dense.bias\", \"bert.encoder.layer.9.output.LayerNorm.weight\", \"bert.encoder.layer.9.output.LayerNorm.bias\", \"bert.encoder.layer.10.attention.self.query.weight\", \"bert.encoder.layer.10.attention.self.query.bias\", \"bert.encoder.layer.10.attention.self.key.weight\", \"bert.encoder.layer.10.attention.self.key.bias\", \"bert.encoder.layer.10.attention.self.value.weight\", \"bert.encoder.layer.10.attention.self.value.bias\", \"bert.encoder.layer.10.attention.output.dense.weight\", \"bert.encoder.layer.10.attention.output.dense.bias\", \"bert.encoder.layer.10.attention.output.LayerNorm.weight\", \"bert.encoder.layer.10.attention.output.LayerNorm.bias\", \"bert.encoder.layer.10.intermediate.dense.weight\", \"bert.encoder.layer.10.intermediate.dense.bias\", \"bert.encoder.layer.10.output.dense.weight\", \"bert.encoder.layer.10.output.dense.bias\", \"bert.encoder.layer.10.output.LayerNorm.weight\", \"bert.encoder.layer.10.output.LayerNorm.bias\", \"bert.encoder.layer.11.attention.self.query.weight\", \"bert.encoder.layer.11.attention.self.query.bias\", \"bert.encoder.layer.11.attention.self.key.weight\", \"bert.encoder.layer.11.attention.self.key.bias\", \"bert.encoder.layer.11.attention.self.value.weight\", \"bert.encoder.layer.11.attention.self.value.bias\", \"bert.encoder.layer.11.attention.output.dense.weight\", \"bert.encoder.layer.11.attention.output.dense.bias\", \"bert.encoder.layer.11.attention.output.LayerNorm.weight\", \"bert.encoder.layer.11.attention.output.LayerNorm.bias\", \"bert.encoder.layer.11.intermediate.dense.weight\", \"bert.encoder.layer.11.intermediate.dense.bias\", \"bert.encoder.layer.11.output.dense.weight\", \"bert.encoder.layer.11.output.dense.bias\", \"bert.encoder.layer.11.output.LayerNorm.weight\", \"bert.encoder.layer.11.output.LayerNorm.bias\", \"bert.pooler.dense.weight\", \"bert.pooler.dense.bias\", \"fc1.weight\", \"fc1.bias\", \"fc2.weight\", \"fc2.bias\". "
     ]
    }
   ],
   "source": [
    "#load weights of best model\n",
    "path = 'saved_weights.pt'\n",
    "model.load_state_dict(torch.load(path))"
   ]
  },
  {
   "cell_type": "markdown",
   "metadata": {},
   "source": [
    "**Test Data Predictions**"
   ]
  },
  {
   "cell_type": "code",
   "execution_count": null,
   "metadata": {},
   "outputs": [],
   "source": [
    "# get predictions for test data\n",
    "with torch.no_grad():\n",
    "  preds = model(test_seq.to(device), test_mask.to(device))\n",
    "  preds = preds.detach().cpu().numpy()"
   ]
  },
  {
   "cell_type": "code",
   "execution_count": null,
   "metadata": {},
   "outputs": [],
   "source": [
    "# model's performance\n",
    "preds = np.argmax(preds, axis = 1)\n",
    "print(classification_report(test_y, preds))"
   ]
  },
  {
   "cell_type": "code",
   "execution_count": null,
   "metadata": {},
   "outputs": [],
   "source": [
    "# confusion matrix\n",
    "pd.crosstab(test_y, preds)"
   ]
  },
  {
   "cell_type": "code",
   "execution_count": 22,
   "metadata": {},
   "outputs": [
    {
     "name": "stdout",
     "output_type": "stream",
     "text": [
      "<class 'pandas.core.frame.DataFrame'>\n",
      "Int64Index: 8675 entries, 0 to 8674\n",
      "Data columns (total 25 columns):\n",
      " #   Column                        Non-Null Count  Dtype  \n",
      "---  ------                        --------------  -----  \n",
      " 0   type                          8675 non-null   object \n",
      " 1   type_label                    8675 non-null   int64  \n",
      " 2   posts                         8675 non-null   object \n",
      " 3   I                             8675 non-null   int64  \n",
      " 4   J                             8675 non-null   int64  \n",
      " 5   N                             8675 non-null   int64  \n",
      " 6   T                             8675 non-null   int64  \n",
      " 7   NF                            8675 non-null   int64  \n",
      " 8   NT                            8675 non-null   int64  \n",
      " 9   SP                            8675 non-null   int64  \n",
      " 10  SJ                            8675 non-null   int64  \n",
      " 11  text_clean                    8675 non-null   object \n",
      " 12  pos_tags                      8675 non-null   object \n",
      " 13  syllabel_count                8675 non-null   int64  \n",
      " 14  lexicon_count                 8675 non-null   int64  \n",
      " 15  sentence_count                8675 non-null   int64  \n",
      " 16  flesch_reading                8675 non-null   float64\n",
      " 17  Flesch_Kincaid_Grade_Level    8675 non-null   float64\n",
      " 18  Fog_Scale                     8675 non-null   float64\n",
      " 19  Automated_Readability         8675 non-null   float64\n",
      " 20  Coleman_Liau                  8675 non-null   float64\n",
      " 21  Linsear_Write_Formula         8675 non-null   float64\n",
      " 22  Dale_Chall_Readability_Score  8675 non-null   float64\n",
      " 23  readability_consensus         8675 non-null   object \n",
      " 24  text_clean_joined             8675 non-null   object \n",
      "dtypes: float64(7), int64(12), object(6)\n",
      "memory usage: 2.0+ MB\n"
     ]
    }
   ],
   "source": [
    "class MBTIDataset(Dataset):\n",
    "    'Characterizes a dataset for PyTorch'\n",
    "    def __init__(self, df):\n",
    "        'Initialization'\n",
    "        self.df = df\n",
    "\n",
    "    def __len__(self):\n",
    "        'Denotes the total number of samples'\n",
    "        return len(self.df)\n",
    "\n",
    "    def __getitem__(self, index):\n",
    "        'Generates one sample of data'\n",
    "        # Select sample\n",
    "        ID = self.list_IDs[index]\n",
    "\n",
    "        # Load data and get label\n",
    "        X = df['text_clean_joined']\n",
    "        y = df['type'] \n",
    "\n",
    "        return X, y"
   ]
  },
  {
   "cell_type": "code",
   "execution_count": 25,
   "metadata": {},
   "outputs": [
    {
     "ename": "NameError",
     "evalue": "name 'training_set' is not defined",
     "output_type": "error",
     "traceback": [
      "\u001b[0;31m---------------------------------------------------------------------------\u001b[0m",
      "\u001b[0;31mNameError\u001b[0m                                 Traceback (most recent call last)",
      "\u001b[0;32m<ipython-input-25-baf3efd74fcc>\u001b[0m in \u001b[0;36m<module>\u001b[0;34m\u001b[0m\n\u001b[0;32m----> 1\u001b[0;31m \u001b[0mtraining_generator\u001b[0m \u001b[0;34m=\u001b[0m \u001b[0mDataLoader\u001b[0m\u001b[0;34m(\u001b[0m\u001b[0mtraining_set\u001b[0m\u001b[0;34m,\u001b[0m \u001b[0;34m**\u001b[0m\u001b[0mparams\u001b[0m\u001b[0;34m)\u001b[0m\u001b[0;34m\u001b[0m\u001b[0;34m\u001b[0m\u001b[0m\n\u001b[0m",
      "\u001b[0;31mNameError\u001b[0m: name 'training_set' is not defined"
     ]
    }
   ],
   "source": [
    "# Parameters\n",
    "params = {'batch_size': 8,\n",
    "          'shuffle': False, # Change me at some point\n",
    "          'num_workers': 6}\n",
    "\n",
    "training_generator = DataLoader(training_set, **params)"
   ]
  },
  {
   "cell_type": "code",
   "execution_count": 21,
   "metadata": {},
   "outputs": [],
   "source": [
    "model = AutoModel.from_pretrained('distilbert-base-uncased')"
   ]
  },
  {
   "cell_type": "code",
   "execution_count": 27,
   "metadata": {},
   "outputs": [],
   "source": [
    "# Training Loop Params\n",
    "max_epochs=1\n",
    "device='cpu'  # change to gpu when money flowsss..."
   ]
  },
  {
   "cell_type": "code",
   "execution_count": null,
   "metadata": {},
   "outputs": [],
   "source": [
    "# Loop over epochs. We are gonna play with train and dev datasets\n",
    "for epoch in range(max_epochs):\n",
    "    # Training (Train dataset)\n",
    "    for batch, labels in training_generator:\n",
    "        # Transfer to GPU\n",
    "        batch, local_labels = local_batch.to(device), local_labels.to(device)\n",
    "\n",
    "        # Model computations\n",
    "        model...\n",
    "\n",
    "    # Validation (Dev dataset)\n",
    "    with torch.set_grad_enabled(False):\n",
    "        for local_batch, local_labels in validation_generator:\n",
    "            # Transfer to GPU\n",
    "            local_batch, local_labels = local_batch.to(device), local_labels.to(device)\n",
    "\n",
    "            # Model computations\n",
    "            [...]\n",
    "\n",
    "\n",
    "            "
   ]
  },
  {
   "cell_type": "code",
   "execution_count": null,
   "metadata": {},
   "outputs": [],
   "source": [
    "# Inference. We play with the test dataset\n",
    "# Validation (Dev dataset)\n",
    "with torch.set_grad_enabled(False):\n",
    "\n",
    "    for batch, labels in test_generator:\n",
    "        # Transfer to GPU\n",
    "        batch, local_labels = local_batch.to(device), local_labels.to(device)\n",
    "\n",
    "        # Model computations\n",
    "        model..."
   ]
  },
  {
   "cell_type": "markdown",
   "metadata": {},
   "source": [
    "<a id=paperspace></a>"
   ]
  },
  {
   "cell_type": "markdown",
   "metadata": {},
   "source": [
    "## Paperspace Example"
   ]
  },
  {
   "cell_type": "code",
   "execution_count": 74,
   "metadata": {},
   "outputs": [
    {
     "data": {
      "text/plain": [
       "<torch.autograd.grad_mode.set_grad_enabled at 0x14fc09070>"
      ]
     },
     "execution_count": 74,
     "metadata": {},
     "output_type": "execute_result"
    }
   ],
   "source": [
    "import torch\n",
    "from transformers import AutoModel, AutoTokenizer, BertTokenizer\n",
    "\n",
    "torch.set_grad_enabled(False)"
   ]
  },
  {
   "cell_type": "code",
   "execution_count": 75,
   "metadata": {},
   "outputs": [
    {
     "data": {
      "application/vnd.jupyter.widget-view+json": {
       "model_id": "5561c24a13f9426196eb9babb0e618b5",
       "version_major": 2,
       "version_minor": 0
      },
      "text/plain": [
       "HBox(children=(FloatProgress(value=0.0, description='Downloading', max=433.0, style=ProgressStyle(description_…"
      ]
     },
     "metadata": {},
     "output_type": "display_data"
    },
    {
     "name": "stdout",
     "output_type": "stream",
     "text": [
      "\n"
     ]
    },
    {
     "data": {
      "application/vnd.jupyter.widget-view+json": {
       "model_id": "fe6b1acebf9743ebaf0304df3e147e11",
       "version_major": 2,
       "version_minor": 0
      },
      "text/plain": [
       "HBox(children=(FloatProgress(value=0.0, description='Downloading', max=435779157.0, style=ProgressStyle(descri…"
      ]
     },
     "metadata": {},
     "output_type": "display_data"
    },
    {
     "name": "stdout",
     "output_type": "stream",
     "text": [
      "\n"
     ]
    },
    {
     "data": {
      "application/vnd.jupyter.widget-view+json": {
       "model_id": "0158a14526cf409a810f9851daaee8af",
       "version_major": 2,
       "version_minor": 0
      },
      "text/plain": [
       "HBox(children=(FloatProgress(value=0.0, description='Downloading', max=213450.0, style=ProgressStyle(descripti…"
      ]
     },
     "metadata": {},
     "output_type": "display_data"
    },
    {
     "name": "stdout",
     "output_type": "stream",
     "text": [
      "\n"
     ]
    }
   ],
   "source": [
    "# Store the model we want to use\n",
    "MODEL_NAME = \"bert-base-cased\"\n",
    "\n",
    "# We need to create the model and tokenizer\n",
    "model = AutoModel.from_pretrained(MODEL_NAME)\n",
    "tokenizer = AutoTokenizer.from_pretrained(MODEL_NAME)"
   ]
  },
  {
   "cell_type": "markdown",
   "metadata": {},
   "source": [
    "With only the above two lines of code, you're ready to use a BERT pre-trained model. The tokenizers will allow us to map a raw textual input to a sequence of integers representing our textual input in a way the model can manipulate."
   ]
  },
  {
   "cell_type": "code",
   "execution_count": 76,
   "metadata": {},
   "outputs": [
    {
     "name": "stdout",
     "output_type": "stream",
     "text": [
      "Tokens: ['This', 'is', 'an', 'input', 'example']\n",
      "Tokens id: [1188, 1110, 1126, 7758, 1859]\n",
      "Tokens PyTorch: tensor([[ 101, 1188, 1110, 1126, 7758, 1859,  102]])\n",
      "Token wise output: torch.Size([1, 7, 768]), Pooled output: torch.Size([1, 768])\n"
     ]
    }
   ],
   "source": [
    "# Tokens comes from a process that splits the input into sub-entities with interesting linguistic properties. \n",
    "tokens = tokenizer.tokenize(\"This is an input example\")\n",
    "print(\"Tokens: {}\".format(tokens))\n",
    "\n",
    "# This is not sufficient for the model, as it requires integers as input, \n",
    "# not a problem, let's convert tokens to ids.\n",
    "tokens_ids = tokenizer.convert_tokens_to_ids(tokens)\n",
    "print(\"Tokens id: {}\".format(tokens_ids))\n",
    "\n",
    "# Add the required special tokens\n",
    "tokens_ids = tokenizer.build_inputs_with_special_tokens(tokens_ids)\n",
    "\n",
    "# We need to convert to a Deep Learning framework specific format, let's use PyTorch for now.\n",
    "tokens_pt = torch.tensor([tokens_ids])\n",
    "print(\"Tokens PyTorch: {}\".format(tokens_pt))\n",
    "\n",
    "# Now we're ready to go through BERT with out input\n",
    "outputs, pooled = model(tokens_pt)\n",
    "print(\"Token wise output: {}, Pooled output: {}\".format(outputs.shape, pooled.shape))"
   ]
  },
  {
   "cell_type": "markdown",
   "metadata": {},
   "source": [
    "As you can see, BERT outputs two tensors:\n",
    "\n",
    "- One with the generated representation for every token in the input (1, NB_TOKENS, REPRESENTATION_SIZE)\n",
    "- One with an aggregated representation for the whole input (1, REPRESENTATION_SIZE)\n",
    "\n",
    "The first, token-based, representation can be leveraged if your task requires to keep the sequence representation and you want to operate at a token-level. This is particularly useful for Named Entity Recognition and Question-Answering.\n",
    "\n",
    "The second, aggregated, representation is especially useful if you need to extract the overall context of the sequence and don't require a fine-grained token-leven. This is the case for Sentiment-Analysis of the sequence or Information Retrieval.\n",
    "\n",
    "The code you saw in the previous section introduced all the steps required to do simple model invocation. For more day-to-day usage, transformers provides you higher-level methods which will makes your NLP journey easier Let's improve our previous example"
   ]
  },
  {
   "cell_type": "code",
   "execution_count": 77,
   "metadata": {},
   "outputs": [
    {
     "name": "stdout",
     "output_type": "stream",
     "text": [
      "input_ids:\n",
      "\ttensor([[ 101, 1188, 1110, 1126, 7758, 1859,  102]])\n",
      "token_type_ids:\n",
      "\ttensor([[0, 0, 0, 0, 0, 0, 0]])\n",
      "attention_mask:\n",
      "\ttensor([[1, 1, 1, 1, 1, 1, 1]])\n",
      "Difference with previous code: (0.0, 0.0)\n"
     ]
    }
   ],
   "source": [
    "# This code can be factored into one-line as follow\n",
    "tokens_pt2 = tokenizer.encode_plus(\"This is an input example\", return_tensors=\"pt\")\n",
    "\n",
    "for key, value in tokens_pt2.items():\n",
    "    print(\"{}:\\n\\t{}\".format(key, value))\n",
    "\n",
    "outputs2, pooled2 = model(**tokens_pt2)\n",
    "print(\"Difference with previous code: ({}, {})\".format((outputs2 - outputs).sum(), (pooled2 - pooled).sum()))"
   ]
  },
  {
   "cell_type": "markdown",
   "metadata": {},
   "source": [
    "As you can see above, the methode `encode_plus` provides a convenient way to generate all the required parameters\n",
    "that will go through the model. \n",
    "\n",
    "Moreover, you might have noticed it generated some additional tensors: \n",
    "\n",
    "- token_type_ids: This tensor will map every tokens to their corresponding segment (see below).\n",
    "- attention_mask: This tensor is used to \"mask\" padded values in a batch of sequence with different lengths (see below)."
   ]
  },
  {
   "cell_type": "code",
   "execution_count": 78,
   "metadata": {},
   "outputs": [
    {
     "name": "stdout",
     "output_type": "stream",
     "text": [
      "Single segment token (str): ['[CLS]', 'This', 'is', 'a', 'sample', 'input', '[SEP]']\n",
      "Single segment token (int): [101, 1188, 1110, 170, 6876, 7758, 102]\n",
      "Single segment type       : [0, 0, 0, 0, 0, 0, 0]\n",
      "\n",
      "Multi segment token (str): ['[CLS]', 'This', 'is', 'segment', 'A', '[SEP]', 'This', 'is', 'segment', 'B', '[SEP]']\n",
      "Multi segment token (int): [101, 1188, 1110, 6441, 138, 102, 1188, 1110, 6441, 139, 102]\n",
      "Multi segment type       : [0, 0, 0, 0, 0, 0, 1, 1, 1, 1, 1]\n"
     ]
    }
   ],
   "source": [
    "# Single segment input\n",
    "single_seg_input = tokenizer.encode_plus(\"This is a sample input\")\n",
    "\n",
    "# Multiple segment input\n",
    "multi_seg_input = tokenizer.encode_plus(\"This is segment A\", \"This is segment B\")\n",
    "\n",
    "print(\"Single segment token (str): {}\".format(tokenizer.convert_ids_to_tokens(single_seg_input['input_ids'])))\n",
    "print(\"Single segment token (int): {}\".format(single_seg_input['input_ids']))\n",
    "print(\"Single segment type       : {}\".format(single_seg_input['token_type_ids']))\n",
    "\n",
    "# Segments are concatened in the input to the model, with \n",
    "print()\n",
    "print(\"Multi segment token (str): {}\".format(tokenizer.convert_ids_to_tokens(multi_seg_input['input_ids'])))\n",
    "print(\"Multi segment token (int): {}\".format(multi_seg_input['input_ids']))\n",
    "print(\"Multi segment type       : {}\".format(multi_seg_input['token_type_ids']))"
   ]
  },
  {
   "cell_type": "code",
   "execution_count": 80,
   "metadata": {},
   "outputs": [
    {
     "name": "stdout",
     "output_type": "stream",
     "text": [
      "Tokens (int)      : [101, 1188, 1110, 170, 6876, 102, 0, 0]\n",
      "Tokens (str)      : ['[CLS]', 'This', 'is', 'a', 'sample', '[SEP]', '[PAD]', '[PAD]']\n",
      "Tokens (attn_mask): [1, 1, 1, 1, 1, 1, 0, 0]\n",
      "\n",
      "Tokens (int)      : [101, 1188, 1110, 1330, 2039, 6876, 3087, 102]\n",
      "Tokens (str)      : ['[CLS]', 'This', 'is', 'another', 'longer', 'sample', 'text', '[SEP]']\n",
      "Tokens (attn_mask): [1, 1, 1, 1, 1, 1, 1, 1]\n",
      "\n"
     ]
    }
   ],
   "source": [
    "# Padding highlight\n",
    "tokens = tokenizer.batch_encode_plus(\n",
    "    [\"This is a sample\", \"This is another longer sample text\"], \n",
    "    pad_to_max_length=True  # First sentence will have some PADDED tokens to match second sequence length\n",
    ")\n",
    "\n",
    "for i in range(2):\n",
    "    print(\"Tokens (int)      : {}\".format(tokens['input_ids'][i]))\n",
    "    print(\"Tokens (str)      : {}\".format([tokenizer.convert_ids_to_tokens(s) for s in tokens['input_ids'][i]]))\n",
    "    print(\"Tokens (attn_mask): {}\".format(tokens['attention_mask'][i]))\n",
    "    print()"
   ]
  },
  {
   "cell_type": "markdown",
   "metadata": {},
   "source": [
    "### Frameworks interoperability\n",
    "\n",
    "One of the most powerfull feature of transformers is its ability to seamlessly move from PyTorch to Tensorflow\n",
    "without pain for the user.\n",
    "\n",
    "We provide some convenient methods to load TensorFlow pretrained weight insinde a PyTorch model and opposite."
   ]
  },
  {
   "cell_type": "code",
   "execution_count": 84,
   "metadata": {},
   "outputs": [
    {
     "data": {
      "application/vnd.jupyter.widget-view+json": {
       "model_id": "2d719d376dd94376896719964c2b044d",
       "version_major": 2,
       "version_minor": 0
      },
      "text/plain": [
       "HBox(children=(FloatProgress(value=0.0, description='Downloading', max=526681800.0, style=ProgressStyle(descri…"
      ]
     },
     "metadata": {},
     "output_type": "display_data"
    },
    {
     "name": "stdout",
     "output_type": "stream",
     "text": [
      "\n"
     ]
    },
    {
     "name": "stderr",
     "output_type": "stream",
     "text": [
      "Some weights of the model checkpoint at bert-base-cased were not used when initializing TFBertModel: ['mlm___cls', 'nsp___cls']\n",
      "- This IS expected if you are initializing TFBertModel from the checkpoint of a model trained on another task or with another architecture (e.g. initializing a BertForSequenceClassification model from a BertForPretraining model).\n",
      "- This IS NOT expected if you are initializing TFBertModel from the checkpoint of a model that you expect to be exactly identical (initializing a BertForSequenceClassification model from a BertForSequenceClassification model).\n",
      "All the weights of TFBertModel were initialized from the model checkpoint at bert-base-cased.\n",
      "If your task is similar to the task the model of the checkpoint was trained on, you can already use TFBertModel for predictions without further training.\n"
     ]
    }
   ],
   "source": [
    "from transformers import TFBertModel, BertModel\n",
    "\n",
    "# Let's load a BERT model for TensorFlow and PyTorch\n",
    "model_tf = TFBertModel.from_pretrained('bert-base-cased')\n",
    "model_pt = BertModel.from_pretrained('bert-base-cased')"
   ]
  },
  {
   "cell_type": "code",
   "execution_count": 85,
   "metadata": {},
   "outputs": [
    {
     "name": "stdout",
     "output_type": "stream",
     "text": [
      "output differences: 1.5355180948972702e-05\n",
      "pooled differences: -1.1511147022247314e-06\n"
     ]
    }
   ],
   "source": [
    "# transformers generates a ready to use dictionary with all the required parameters for the specific framework.\n",
    "input_tf = tokenizer.encode_plus(\"This is a sample input\", return_tensors=\"tf\")\n",
    "input_pt = tokenizer.encode_plus(\"This is a sample input\", return_tensors=\"pt\")\n",
    "\n",
    "# Let's compare the outputs\n",
    "output_tf, output_pt = model_tf(input_tf), model_pt(**input_pt)\n",
    "\n",
    "# Models outputs 2 values (The value for each tokens, the pooled representation of the input sentence)\n",
    "# Here we compare the output differences between PyTorch and TensorFlow.\n",
    "for name, o_tf, o_pt in zip([\"output\", \"pooled\"], output_tf, output_pt):\n",
    "    print(\"{} differences: {}\".format(name, (o_tf.numpy() - o_pt.numpy()).sum()))"
   ]
  },
  {
   "cell_type": "markdown",
   "metadata": {},
   "source": [
    "#### Want it lighter? Faster? Let's talk distillation! \n",
    "\n",
    "One of the main concerns when using these Transformer based models is the computational power they require. All over this notebook we are using BERT model as it can be run on common machines but that's not the case for all of the models.\n",
    "\n",
    "For example, Google released a few months ago **T5** an Encoder/Decoder architecture based on Transformer and available in `transformers` with no more than 11 billions parameters. Microsoft also recently entered the game with **Turing-NLG** using 17 billions parameters. This kind of model requires tens of gigabytes to store the weights and a tremendous compute infrastructure to run such models which makes it impracticable for the common man !\n",
    "\n",
    "With the goal of making Transformer-based NLP accessible to everyone we @huggingface developed models that take advantage of a training process called **Distillation** which allows us to drastically reduce the resources needed to run such models with almost zero drop in performances.\n",
    "\n",
    "Going over the whole Distillation process is out of the scope of this notebook, but if you want more information on the subject you may refer to [this Medium article written by my colleague Victor SANH, author of DistilBERT paper](https://medium.com/huggingface/distilbert-8cf3380435b5), you might also want to directly have a look at the paper [(Sanh & al., 2019)](https://arxiv.org/abs/1910.01108)\n",
    "\n",
    "Of course, in `transformers` we have distilled some models and made them available directly in the library ! "
   ]
  },
  {
   "cell_type": "code",
   "execution_count": 86,
   "metadata": {},
   "outputs": [
    {
     "data": {
      "application/vnd.jupyter.widget-view+json": {
       "model_id": "f4cc885cbb3249e3aff043c549b543fa",
       "version_major": 2,
       "version_minor": 0
      },
      "text/plain": [
       "HBox(children=(FloatProgress(value=0.0, description='Downloading', max=411.0, style=ProgressStyle(description_…"
      ]
     },
     "metadata": {},
     "output_type": "display_data"
    },
    {
     "name": "stdout",
     "output_type": "stream",
     "text": [
      "\n"
     ]
    },
    {
     "data": {
      "application/vnd.jupyter.widget-view+json": {
       "model_id": "cfc5683a0edd4e81b104b3c24d2b788a",
       "version_major": 2,
       "version_minor": 0
      },
      "text/plain": [
       "HBox(children=(FloatProgress(value=0.0, description='Downloading', max=263273408.0, style=ProgressStyle(descri…"
      ]
     },
     "metadata": {},
     "output_type": "display_data"
    },
    {
     "name": "stdout",
     "output_type": "stream",
     "text": [
      "\n",
      "CPU times: user 123 ms, sys: 2.63 ms, total: 125 ms\n",
      "Wall time: 107 ms\n",
      "CPU times: user 242 ms, sys: 3.95 ms, total: 246 ms\n",
      "Wall time: 244 ms\n"
     ]
    }
   ],
   "source": [
    "from transformers import DistilBertModel\n",
    "\n",
    "bert_distil = DistilBertModel.from_pretrained('distilbert-base-cased')\n",
    "input_pt = tokenizer.encode_plus(\n",
    "    'This is a sample input to demonstrate performance of distiled models especially inference time', \n",
    "    return_tensors=\"pt\"\n",
    ")\n",
    "\n",
    "\n",
    "%time _ = bert_distil(input_pt['input_ids'])\n",
    "%time _ = model_pt(input_pt['input_ids'])"
   ]
  },
  {
   "cell_type": "markdown",
   "metadata": {},
   "source": [
    "**Pipelines encapsulate the overall process of every NLP process:**\n",
    "\n",
    "- Tokenization: Split the initial input into multiple sub-entities with ... properties (i.e. tokens).\n",
    "- Inference: Maps every tokens into a more meaningful representation.\n",
    "- Decoding: Use the above representation to generate and/or extract the final output for the underlying task.\n",
    "\n",
    "```python\n",
    "from transformers import pipeline\n",
    "\n",
    "# Using default model and tokenizer for the task\n",
    "pipeline(\"<task-name>\")\n",
    "\n",
    "# Using a user-specified model\n",
    "pipeline(\"<task-name>\", model=\"<model_name>\")\n",
    "\n",
    "# Using custom model/tokenizer as str\n",
    "pipeline('<task-name>', model='<model name>', tokenizer='<tokenizer_name>')\n",
    "```"
   ]
  },
  {
   "cell_type": "markdown",
   "metadata": {},
   "source": [
    "<a id='logistic'></a>"
   ]
  },
  {
   "cell_type": "markdown",
   "metadata": {},
   "source": [
    "## BEST MODELS"
   ]
  },
  {
   "cell_type": "markdown",
   "metadata": {},
   "source": [
    "[Go to top](#top)"
   ]
  },
  {
   "cell_type": "markdown",
   "metadata": {},
   "source": [
    "<br>\n",
    "<div class=\"span5 alert alert-info\">\n",
    "    <H3>LOGISTIC REGRESSION MODELS</H3>\n",
    "</div>"
   ]
  },
  {
   "cell_type": "code",
   "execution_count": 26,
   "metadata": {},
   "outputs": [],
   "source": [
    "df = pd.read_csv('../../data/mbti_nlp.csv', index_col=0)"
   ]
  },
  {
   "cell_type": "code",
   "execution_count": 27,
   "metadata": {},
   "outputs": [],
   "source": [
    "# we make a copy of our dataframe\n",
    "df_long = df[['type','type_label','I','N','T','J','posts']]"
   ]
  },
  {
   "cell_type": "code",
   "execution_count": 28,
   "metadata": {},
   "outputs": [],
   "source": [
    "def expand_posts(content):\n",
    "    \"\"\"This function prepares the posts to be correctly separated\"\"\"\n",
    "    text = content.split('|||')\n",
    "    text = [re.sub(r'http\\S+', '', i) for i in text]\n",
    "    text = [x for x in text if x.strip(\" \")]\n",
    "    text = [x for x in text if x.strip(\"'\")]\n",
    "    text = [x.strip() for x in text]\n",
    "    return text"
   ]
  },
  {
   "cell_type": "code",
   "execution_count": 29,
   "metadata": {},
   "outputs": [],
   "source": [
    "df_long['row'] = df_long.apply(lambda row: row.name, axis=1)\n",
    "df_long['text'] = df_long['posts'].apply(lambda x: expand_posts(x))\n",
    "df_long = df_long.explode('text', ignore_index=True)"
   ]
  },
  {
   "cell_type": "code",
   "execution_count": 34,
   "metadata": {},
   "outputs": [],
   "source": [
    "df = df_long.drop('posts', axis=1)"
   ]
  },
  {
   "cell_type": "code",
   "execution_count": 37,
   "metadata": {},
   "outputs": [],
   "source": [
    "#remove stop words function\n",
    "def remove_stop_words( x, stop_word):\n",
    "        '''\n",
    "        Function to remove a list of words\n",
    "        @param x : (str) text \n",
    "        @param stop_word: (list) list of stopwords to delete \n",
    "        @return: (str) new string without stopwords \n",
    "        '''\n",
    "        x_new = text_to_word_sequence(x)  \n",
    "        x_ = []\n",
    "        for i in x_new:\n",
    "            if i not in stop_word:\n",
    "                x_.append(i)\n",
    "        return \" \".join(x_)"
   ]
  },
  {
   "cell_type": "code",
   "execution_count": 38,
   "metadata": {},
   "outputs": [],
   "source": [
    "# MBTI types are rarely discussed in day to day converstaions, we will take them out since they would have low prediction power\n",
    "types = [x.lower() for x in df['type'].unique()] \n",
    "types_plural = [x+'s' for x in types]\n",
    "\n",
    "# some words that appear a lot but do not add value\n",
    "additional_stop_words = ['ll','type','fe','ni','na','wa','ve','don','nt','nf', 'ti','se','op','ne'] \n",
    "\n",
    "# We put these together and include the normal stopwords from the English language\n",
    "stop_words = sklearn.feature_extraction.text.ENGLISH_STOP_WORDS.union(additional_stop_words + types + types_plural)"
   ]
  },
  {
   "cell_type": "code",
   "execution_count": 41,
   "metadata": {},
   "outputs": [
    {
     "name": "stderr",
     "output_type": "stream",
     "text": [
      "Progress!: 100%|██████████| 411107/411107 [00:08<00:00, 48765.09it/s]\n"
     ]
    }
   ],
   "source": [
    "df['text_clean'] = df['text'].progress_apply(lambda x : remove_stop_words(x, stop_words))"
   ]
  },
  {
   "cell_type": "code",
   "execution_count": 44,
   "metadata": {},
   "outputs": [
    {
     "data": {
      "text/html": [
       "<div>\n",
       "<style scoped>\n",
       "    .dataframe tbody tr th:only-of-type {\n",
       "        vertical-align: middle;\n",
       "    }\n",
       "\n",
       "    .dataframe tbody tr th {\n",
       "        vertical-align: top;\n",
       "    }\n",
       "\n",
       "    .dataframe thead th {\n",
       "        text-align: right;\n",
       "    }\n",
       "</style>\n",
       "<table border=\"1\" class=\"dataframe\">\n",
       "  <thead>\n",
       "    <tr style=\"text-align: right;\">\n",
       "      <th></th>\n",
       "      <th>type</th>\n",
       "      <th>type_label</th>\n",
       "      <th>I</th>\n",
       "      <th>N</th>\n",
       "      <th>T</th>\n",
       "      <th>J</th>\n",
       "      <th>row</th>\n",
       "      <th>text</th>\n",
       "      <th>text_clean</th>\n",
       "    </tr>\n",
       "  </thead>\n",
       "  <tbody>\n",
       "    <tr>\n",
       "      <th>0</th>\n",
       "      <td>INFJ</td>\n",
       "      <td>8</td>\n",
       "      <td>1</td>\n",
       "      <td>1</td>\n",
       "      <td>0</td>\n",
       "      <td>1</td>\n",
       "      <td>0</td>\n",
       "      <td>enfp and intj moments    sportscenter not top ...</td>\n",
       "      <td>moments sportscenter plays pranks</td>\n",
       "    </tr>\n",
       "    <tr>\n",
       "      <th>1</th>\n",
       "      <td>INFJ</td>\n",
       "      <td>8</td>\n",
       "      <td>1</td>\n",
       "      <td>1</td>\n",
       "      <td>0</td>\n",
       "      <td>1</td>\n",
       "      <td>0</td>\n",
       "      <td>What has been the most life-changing experienc...</td>\n",
       "      <td>life changing experience life</td>\n",
       "    </tr>\n",
       "    <tr>\n",
       "      <th>2</th>\n",
       "      <td>INFJ</td>\n",
       "      <td>8</td>\n",
       "      <td>1</td>\n",
       "      <td>1</td>\n",
       "      <td>0</td>\n",
       "      <td>1</td>\n",
       "      <td>0</td>\n",
       "      <td>On repeat for most of today.</td>\n",
       "      <td>repeat today</td>\n",
       "    </tr>\n",
       "    <tr>\n",
       "      <th>3</th>\n",
       "      <td>INFJ</td>\n",
       "      <td>8</td>\n",
       "      <td>1</td>\n",
       "      <td>1</td>\n",
       "      <td>0</td>\n",
       "      <td>1</td>\n",
       "      <td>0</td>\n",
       "      <td>May the PerC Experience immerse you.</td>\n",
       "      <td>perc experience immerse</td>\n",
       "    </tr>\n",
       "    <tr>\n",
       "      <th>4</th>\n",
       "      <td>INFJ</td>\n",
       "      <td>8</td>\n",
       "      <td>1</td>\n",
       "      <td>1</td>\n",
       "      <td>0</td>\n",
       "      <td>1</td>\n",
       "      <td>0</td>\n",
       "      <td>The last thing my INFJ friend posted on his fa...</td>\n",
       "      <td>thing friend posted facebook committing suicid...</td>\n",
       "    </tr>\n",
       "  </tbody>\n",
       "</table>\n",
       "</div>"
      ],
      "text/plain": [
       "   type  type_label  I  N  T  J  row  \\\n",
       "0  INFJ           8  1  1  0  1    0   \n",
       "1  INFJ           8  1  1  0  1    0   \n",
       "2  INFJ           8  1  1  0  1    0   \n",
       "3  INFJ           8  1  1  0  1    0   \n",
       "4  INFJ           8  1  1  0  1    0   \n",
       "\n",
       "                                                text  \\\n",
       "0  enfp and intj moments    sportscenter not top ...   \n",
       "1  What has been the most life-changing experienc...   \n",
       "2                       On repeat for most of today.   \n",
       "3               May the PerC Experience immerse you.   \n",
       "4  The last thing my INFJ friend posted on his fa...   \n",
       "\n",
       "                                          text_clean  \n",
       "0                  moments sportscenter plays pranks  \n",
       "1                      life changing experience life  \n",
       "2                                       repeat today  \n",
       "3                            perc experience immerse  \n",
       "4  thing friend posted facebook committing suicid...  "
      ]
     },
     "execution_count": 44,
     "metadata": {},
     "output_type": "execute_result"
    }
   ],
   "source": [
    "df.head()"
   ]
  },
  {
   "cell_type": "code",
   "execution_count": null,
   "metadata": {},
   "outputs": [],
   "source": []
  },
  {
   "cell_type": "code",
   "execution_count": null,
   "metadata": {},
   "outputs": [],
   "source": [
    "#this calculates the TF-IDF\n",
    "tfidf = TfidfVectorizer(sublinear_tf=True, min_df=0.05, norm='l2', encoding='latin-1', ngram_range=(1, 2), stop_words=stop_words)\n",
    "features = tfidf.fit_transform(df.description_clean).toarray()\n",
    "labels = df.label\n",
    "features.shape"
   ]
  },
  {
   "cell_type": "code",
   "execution_count": 20,
   "metadata": {},
   "outputs": [],
   "source": [
    "df = T.copy()\n",
    "X_train, X_test, y_train, y_test = train_test_split(df[TEXT], df[LABEL], test_size=0.25, random_state=42, stratify=df[LABEL])"
   ]
  },
  {
   "cell_type": "markdown",
   "metadata": {},
   "source": [
    "<br>\n",
    "\n",
    "I will try to replicate [this great notebook](https://github.com/hundredblocks/concrete_NLP_tutorial/blob/master/NLP_notebook.ipynb) by Emmanuel Ameisen"
   ]
  },
  {
   "cell_type": "markdown",
   "metadata": {},
   "source": [
    "<a id='logistic_cv'></a>"
   ]
  },
  {
   "cell_type": "markdown",
   "metadata": {},
   "source": [
    "### 1st Model - Logistic Regression Model with CountVectorizer"
   ]
  },
  {
   "cell_type": "code",
   "execution_count": 10,
   "metadata": {},
   "outputs": [],
   "source": [
    "def cv(data):\n",
    "    count_vectorizer = CountVectorizer(min_df=0.1, max_df=0.9, stop_words=stop_words)\n",
    "\n",
    "    emb = count_vectorizer.fit_transform(data)\n",
    "\n",
    "    return emb, count_vectorizer\n",
    "\n",
    "\n",
    "X_train_counts, count_vectorizer = cv(X_train)\n",
    "X_test_counts = count_vectorizer.transform(X_test)"
   ]
  },
  {
   "cell_type": "code",
   "execution_count": 11,
   "metadata": {},
   "outputs": [
    {
     "name": "stdout",
     "output_type": "stream",
     "text": [
      "6940\n",
      "725\n"
     ]
    }
   ],
   "source": [
    "print(len(X_train_counts.todense()))\n",
    "print(len(count_vectorizer.get_feature_names()))"
   ]
  },
  {
   "cell_type": "markdown",
   "metadata": {},
   "source": [
    "<br>\n",
    "\n",
    "**Note to self:** including all the words apparently has a positive effect in accuracy, recall, and precision. I think this is due to the MBTI types themselves. Taking them out I think is a good idea since it will generalize better to other contexts where people do not use these kind of terms."
   ]
  },
  {
   "cell_type": "markdown",
   "metadata": {},
   "source": [
    "<br>\n",
    "\n",
    "**Visualizing the embeddings**\n",
    "\n",
    "Now that we've created embeddings, let's visualize them and see if we can identify some structure. In a perfect world, our embeddings would be so distinct that are two classes would be perfectly separated. Since visualizing data in 296 dimensions is hard, let's project it down to 2. For this Ameisen uses Principal Component Analysis\n"
   ]
  },
  {
   "cell_type": "code",
   "execution_count": 12,
   "metadata": {},
   "outputs": [
    {
     "data": {
      "image/png": "[encoded data removed]",
      "text/plain": [
       "<Figure size 720x720 with 1 Axes>"
      ]
     },
     "metadata": {},
     "output_type": "display_data"
    }
   ],
   "source": [
    "from sklearn.decomposition import PCA, TruncatedSVD\n",
    "import matplotlib\n",
    "import matplotlib.patches as mpatches\n",
    "\n",
    "def plot_LSA(test_data, test_labels, plot=True):\n",
    "        lsa = TruncatedSVD(n_components=2)\n",
    "        lsa.fit(test_data)\n",
    "        lsa_scores = lsa.transform(test_data)\n",
    "        color_mapper = {label:idx for idx,label in enumerate(set(test_labels))}\n",
    "        color_column = [color_mapper[label] for label in test_labels]\n",
    "        colors = ['orange','blue']\n",
    "        if plot:\n",
    "            plt.scatter(lsa_scores[:,0], lsa_scores[:,1], s=4, alpha=.6, c=test_labels, cmap=matplotlib.colors.ListedColormap(colors))\n",
    "            orange_patch = mpatches.Patch(color='orange', label='Feeling')\n",
    "            blue_patch = mpatches.Patch(color='blue', label='Thinking')\n",
    "            plt.legend(handles=[orange_patch, blue_patch], prop={'size': 12})\n",
    "\n",
    "fig = plt.figure(figsize=(10, 10))          \n",
    "plot_LSA(X_train_counts, y_train)\n",
    "plt.savefig('img/CountVectorizer_Feeling_Thinking.png', dpi=100, transparent=True)\n",
    "plt.show()"
   ]
  },
  {
   "cell_type": "markdown",
   "metadata": {},
   "source": [
    "<br>\n",
    "\n",
    "**Fitting a classifier**\n",
    "\n",
    "Starting with a logistic regression is a good idea. It is simple, often gets the job done, and is easy to interpret.\n"
   ]
  },
  {
   "cell_type": "code",
   "execution_count": 13,
   "metadata": {},
   "outputs": [],
   "source": [
    "from sklearn.linear_model import LogisticRegression\n",
    "\n",
    "clf = LogisticRegression(C=30.0, class_weight='balanced', solver='newton-cg', \n",
    "                         multi_class='multinomial', n_jobs=-1, random_state=40)\n",
    "clf.fit(X_train_counts, y_train)\n",
    "\n",
    "y_predicted_counts = clf.predict(X_test_counts)"
   ]
  },
  {
   "cell_type": "markdown",
   "metadata": {},
   "source": [
    "<br>\n",
    "\n",
    "**Evaluation**\n",
    "\n",
    "Let's start by looking at some metrics to see if our classifier performed well at all."
   ]
  },
  {
   "cell_type": "code",
   "execution_count": 14,
   "metadata": {},
   "outputs": [
    {
     "name": "stdout",
     "output_type": "stream",
     "text": [
      "accuracy = 0.742, precision = 0.742, recall = 0.742, f1 = 0.742\n"
     ]
    }
   ],
   "source": [
    "from sklearn.metrics import accuracy_score, f1_score, precision_score, recall_score, classification_report\n",
    "\n",
    "def get_metrics(y_test, y_predicted):  \n",
    "    # true positives / (true positives+false positives)\n",
    "    precision = precision_score(y_test, y_predicted, pos_label=None, average='weighted')             \n",
    "    \n",
    "    # true positives / (true positives + false negatives)\n",
    "    recall = recall_score(y_test, y_predicted, pos_label=None, average='weighted')\n",
    "    \n",
    "    # harmonic mean of precision and recall\n",
    "    f1 = f1_score(y_test, y_predicted, pos_label=None, average='weighted')\n",
    "    \n",
    "    # true positives + true negatives/ total\n",
    "    accuracy = accuracy_score(y_test, y_predicted)\n",
    "    \n",
    "    return accuracy, precision, recall, f1\n",
    "\n",
    "accuracy, precision, recall, f1 = get_metrics(y_test, y_predicted_counts)\n",
    "print(\"accuracy = %.3f, precision = %.3f, recall = %.3f, f1 = %.3f\" % (accuracy, precision, recall, f1))"
   ]
  },
  {
   "cell_type": "markdown",
   "metadata": {},
   "source": [
    "<br>\n",
    "\n",
    "**Inspection**\n",
    "\n",
    "A metric is one thing, but in order to make an actionnable decision, we need to actually inspect the kind of mistakes our classifier is making. Let's start by looking at the confusion matrix.\n"
   ]
  },
  {
   "cell_type": "code",
   "execution_count": 15,
   "metadata": {},
   "outputs": [],
   "source": [
    "import itertools\n",
    "from sklearn.metrics import confusion_matrix\n",
    "\n",
    "def plot_confusion_matrix(cm, classes,\n",
    "                          normalize=False,\n",
    "                          title='Confusion matrix',\n",
    "                          cmap=plt.cm.winter):\n",
    "    if normalize:\n",
    "        cm = cm.astype('float') / cm.sum(axis=1)[:, np.newaxis]\n",
    "    plt.imshow(cm, interpolation='nearest', cmap=cmap)\n",
    "    plt.title(title, fontsize=20, pad=30)\n",
    "    #plt.colorbar()\n",
    "    tick_marks = np.arange(len(classes))\n",
    "    plt.xticks(tick_marks, classes, fontsize=20)\n",
    "    plt.yticks(tick_marks, classes, fontsize=20)\n",
    "    \n",
    "    fmt = '.2f' if normalize else 'd'\n",
    "    thresh = cm.max() / 2.\n",
    "\n",
    "    for i, j in itertools.product(range(cm.shape[0]), range(cm.shape[1])):\n",
    "        plt.text(j, i, format(cm[i, j], fmt), horizontalalignment=\"center\", \n",
    "                 color=\"white\" if cm[i, j] < thresh else \"black\", fontsize=20)\n",
    "    \n",
    "    plt.grid(False)\n",
    "    plt.tight_layout()\n",
    "    plt.ylabel('True label', fontsize=15, labelpad=15)\n",
    "    plt.xlabel('Predicted label', fontsize=15, labelpad=30)\n",
    "\n",
    "    return plt"
   ]
  },
  {
   "cell_type": "code",
   "execution_count": 16,
   "metadata": {},
   "outputs": [
    {
     "data": {
      "image/png": "[encoded data removed]",
      "text/plain": [
       "<Figure size 432x432 with 1 Axes>"
      ]
     },
     "metadata": {},
     "output_type": "display_data"
    }
   ],
   "source": [
    "cm = confusion_matrix(y_test, y_predicted_counts)\n",
    "fig = plt.figure(figsize=(6, 6))\n",
    "plot = plot_confusion_matrix(cm, classes=['Feeling','Thinking'], normalize=False, title='Confusion matrix')\n",
    "plt.savefig('img/CountVectorizer_Feeling_Thinking_cm.png', dpi=100, transparent=True)\n",
    "plt.show()\n",
    "#print(cm)"
   ]
  },
  {
   "cell_type": "markdown",
   "metadata": {},
   "source": [
    "<br>\n",
    "\n",
    "**Further inspection**\n",
    "\n",
    "Let's look at the features our classifier is using to make decisions."
   ]
  },
  {
   "cell_type": "code",
   "execution_count": 17,
   "metadata": {},
   "outputs": [],
   "source": [
    "def get_most_important_features(vectorizer, model, n=5):\n",
    "    index_to_word = {v:k for k,v in vectorizer.vocabulary_.items()}\n",
    "    \n",
    "    # loop for each class\n",
    "    classes ={}\n",
    "    for class_index in range(model.coef_.shape[0]):\n",
    "        word_importances = [(el, index_to_word[i]) for i,el in enumerate(model.coef_[class_index])]\n",
    "        sorted_coeff = sorted(word_importances, key = lambda x : x[0], reverse=True)\n",
    "        tops = sorted(sorted_coeff[:n], key = lambda x : x[0])\n",
    "        bottom = sorted_coeff[-n:]\n",
    "        classes[class_index] = {\n",
    "            'tops':tops,\n",
    "            'bottom':bottom\n",
    "        }\n",
    "    return classes\n",
    "\n",
    "importance = get_most_important_features(count_vectorizer, clf, 10)"
   ]
  },
  {
   "cell_type": "code",
   "execution_count": 18,
   "metadata": {},
   "outputs": [
    {
     "data": {
      "image/png": "[encoded data removed]",
      "text/plain": [
       "<Figure size 720x720 with 2 Axes>"
      ]
     },
     "metadata": {},
     "output_type": "display_data"
    }
   ],
   "source": [
    "def plot_important_words(top_scores, top_words, bottom_scores, bottom_words, name, save_as):\n",
    "    y_pos = np.arange(len(top_words))\n",
    "    top_pairs = [(a,b) for a,b in zip(top_words, top_scores)]\n",
    "    top_pairs = sorted(top_pairs, key=lambda x: x[1])\n",
    "    \n",
    "    bottom_pairs = [(a,b) for a,b in zip(bottom_words, bottom_scores)]\n",
    "    bottom_pairs = sorted(bottom_pairs, key=lambda x: x[1], reverse=True)\n",
    "    \n",
    "    top_words = [a[0] for a in top_pairs]\n",
    "    top_scores = [a[1] for a in top_pairs]\n",
    "    \n",
    "    bottom_words = [a[0] for a in bottom_pairs]\n",
    "    bottom_scores = [a[1] for a in bottom_pairs]\n",
    "    \n",
    "    fig = plt.figure(figsize=(10, 10))  \n",
    "\n",
    "    plt.subplot(121)\n",
    "    plt.barh(y_pos,bottom_scores, align='center', alpha=0.5)\n",
    "    plt.title('Feeling', fontsize=20)\n",
    "    plt.yticks(y_pos, bottom_words, fontsize=14)\n",
    "    plt.suptitle('Key words', fontsize=16)\n",
    "    plt.xlabel('Importance', fontsize=20, labelpad=15)\n",
    "    \n",
    "    plt.subplot(122)\n",
    "    plt.barh(y_pos,top_scores, align='center', alpha=0.5)\n",
    "    plt.title('Thinking', fontsize=20)\n",
    "    plt.yticks(y_pos, top_words, fontsize=14)\n",
    "    plt.suptitle(name, fontsize=16)\n",
    "    plt.xlabel('Importance', fontsize=20, labelpad=15)\n",
    "    \n",
    "    plt.subplots_adjust(wspace=0.8)\n",
    "    plt.savefig(save_as, dpi=100, transparent=True)\n",
    "    plt.show()\n",
    "\n",
    "top_scores = [a[0] for a in importance[0]['tops']]\n",
    "top_words = [a[1] for a in importance[0]['tops']]\n",
    "bottom_scores = [a[0] for a in importance[0]['bottom']]\n",
    "bottom_words = [a[1] for a in importance[0]['bottom']]\n",
    "\n",
    "plot_important_words(top_scores, top_words, bottom_scores, bottom_words, \"Most important words for relevance\",\n",
    "                    save_as='img/CountVectorizer_Feeling_Thinking_features.png')\n"
   ]
  },
  {
   "cell_type": "markdown",
   "metadata": {},
   "source": [
    "<a id='logistic_tf'></a>"
   ]
  },
  {
   "cell_type": "markdown",
   "metadata": {},
   "source": [
    "### 2nd Model - Logistic Regression with TF-IDF\n",
    "\n",
    "Let's try a slightly more subtle approach. On top of our bag of words model, we use a TF-IDF (Term Frequency, Inverse Document Frequency) which means weighing words by how frequent they are in our dataset, discounting words that are too frequent, as they just add to the noise.\n"
   ]
  },
  {
   "cell_type": "code",
   "execution_count": 21,
   "metadata": {},
   "outputs": [],
   "source": [
    "from sklearn.feature_extraction.text import TfidfVectorizer\n",
    "\n",
    "def tfidf(data):\n",
    "    tfidf_vectorizer = TfidfVectorizer(stop_words=stop_words)\n",
    "\n",
    "    train = tfidf_vectorizer.fit_transform(data)\n",
    "\n",
    "    return train, tfidf_vectorizer\n",
    "\n",
    "X_train_tfidf, tfidf_vectorizer = tfidf(X_train)\n",
    "X_test_tfidf = tfidf_vectorizer.transform(X_test)"
   ]
  },
  {
   "cell_type": "code",
   "execution_count": 22,
   "metadata": {},
   "outputs": [
    {
     "data": {
      "image/png": "[encoded data removed]",
      "text/plain": [
       "<Figure size 720x720 with 1 Axes>"
      ]
     },
     "metadata": {},
     "output_type": "display_data"
    }
   ],
   "source": [
    "fig = plt.figure(figsize=(10, 10))          \n",
    "plot_LSA(X_train_tfidf, y_train)\n",
    "plt.savefig('img/TF_IDF_Feeling_Thinking.png', dpi=100, transparent=True)\n",
    "plt.show()"
   ]
  },
  {
   "cell_type": "code",
   "execution_count": 23,
   "metadata": {},
   "outputs": [],
   "source": [
    "clf_tfidf = LogisticRegression(C=30.0, class_weight='balanced', solver='newton-cg', \n",
    "                         multi_class='multinomial', n_jobs=-1, random_state=40)\n",
    "clf_tfidf.fit(X_train_tfidf, y_train)\n",
    "\n",
    "y_predicted_tfidf = clf_tfidf.predict(X_test_tfidf)"
   ]
  },
  {
   "cell_type": "code",
   "execution_count": 24,
   "metadata": {},
   "outputs": [
    {
     "name": "stdout",
     "output_type": "stream",
     "text": [
      "accuracy = 0.795, precision = 0.795, recall = 0.795, f1 = 0.794\n"
     ]
    }
   ],
   "source": [
    "accuracy_tfidf, precision_tfidf, recall_tfidf, f1_tfidf = get_metrics(y_test, y_predicted_tfidf)\n",
    "print(\"accuracy = %.3f, precision = %.3f, recall = %.3f, f1 = %.3f\" % (accuracy_tfidf, precision_tfidf, \n",
    "                                                                       recall_tfidf, f1_tfidf))"
   ]
  },
  {
   "cell_type": "code",
   "execution_count": 25,
   "metadata": {},
   "outputs": [
    {
     "data": {
      "image/png": "[encoded data removed]",
      "text/plain": [
       "<Figure size 432x432 with 1 Axes>"
      ]
     },
     "metadata": {},
     "output_type": "display_data"
    },
    {
     "name": "stdout",
     "output_type": "stream",
     "text": [
      "TFIDF confusion matrix\n",
      "[[772 158]\n",
      " [198 607]]\n",
      "BoW confusion matrix\n",
      "[[702 228]\n",
      " [220 585]]\n"
     ]
    }
   ],
   "source": [
    "cm2 = confusion_matrix(y_test, y_predicted_tfidf)\n",
    "fig = plt.figure(figsize=(6, 6))\n",
    "plot = plot_confusion_matrix(cm2, classes=['Feeling','Thinking'], normalize=False, title='Confusion matrix')\n",
    "plt.savefig('img/TF_IDF_Feeling_Thinking_cm.png', dpi=100, transparent=True)\n",
    "plt.show()\n",
    "print(\"TFIDF confusion matrix\")\n",
    "print(cm2)\n",
    "print(\"BoW confusion matrix\")\n",
    "print(cm)"
   ]
  },
  {
   "cell_type": "code",
   "execution_count": 26,
   "metadata": {},
   "outputs": [
    {
     "data": {
      "image/png": "[encoded data removed]",
      "text/plain": [
       "<Figure size 720x720 with 2 Axes>"
      ]
     },
     "metadata": {},
     "output_type": "display_data"
    }
   ],
   "source": [
    "importance_tfidf = get_most_important_features(tfidf_vectorizer, clf_tfidf, 10)\n",
    "\n",
    "top_scores = [a[0] for a in importance_tfidf[0]['tops']]\n",
    "top_words = [a[1] for a in importance_tfidf[0]['tops']]\n",
    "bottom_scores = [a[0] for a in importance_tfidf[0]['bottom']]\n",
    "bottom_words = [a[1] for a in importance_tfidf[0]['bottom']]\n",
    "\n",
    "plot_important_words(top_scores, top_words, bottom_scores, bottom_words, \"Most important words for relevance\", \n",
    "                    save_as='img/TF_IDF_Feeling_Thinking_features.png')"
   ]
  },
  {
   "cell_type": "markdown",
   "metadata": {},
   "source": [
    "<a id='logistic_wv'></a>"
   ]
  },
  {
   "cell_type": "markdown",
   "metadata": {},
   "source": [
    "### 3rd Model - Logistic Regression Model with Word2Vec"
   ]
  },
  {
   "cell_type": "markdown",
   "metadata": {},
   "source": [
    "<br>\n",
    "\n",
    "**Capturing semantic meaning**\n",
    "\n",
    "Our first models have managed to pick up on high signal words. However, it is unlikely that we will have a training set containing all relevant words. To solve this problem, we need to capture the semantic meaning of words. Meaning we need to understand that words like 'good' and 'positive' are closer than apricot and 'continent'.\n",
    "\n",
    "**Enter word2vec**\n",
    "\n",
    "Word2vec is a model that was pre-trained on a very large corpus, and provides embeddings that map words that are similar close to each other. A quick way to get a sentence embedding for our classifier, is to average word2vec scores of all words in our sentence."
   ]
  },
  {
   "cell_type": "code",
   "execution_count": 27,
   "metadata": {},
   "outputs": [],
   "source": [
    "import gensim\n",
    "\n",
    "word2vec_path = \"GoogleNews-vectors-negative300.bin.gz\"\n",
    "word2vec = gensim.models.KeyedVectors.load_word2vec_format(word2vec_path, binary=True, limit=2000000)"
   ]
  },
  {
   "cell_type": "code",
   "execution_count": 28,
   "metadata": {},
   "outputs": [],
   "source": [
    "def get_average_word2vec(tokens_list, vector, generate_missing=False, k=300):\n",
    "    if len(tokens_list)<1:\n",
    "        return np.zeros(k)\n",
    "    if generate_missing:\n",
    "        vectorized = [vector[word] if word in vector else np.random.rand(k) for word in tokens_list]\n",
    "    else:\n",
    "        vectorized = [vector[word] if word in vector else np.zeros(k) for word in tokens_list]\n",
    "    length = len(vectorized)\n",
    "    summed = np.sum(vectorized, axis=0)\n",
    "    averaged = np.divide(summed, length)\n",
    "    return averaged\n",
    "\n",
    "def get_word2vec_embeddings(vectors, clean_questions, generate_missing=False):\n",
    "    embeddings = df['text_clean'].apply(lambda x: get_average_word2vec(x, vectors, \n",
    "                                                                                generate_missing=generate_missing))\n",
    "    return list(embeddings)"
   ]
  },
  {
   "cell_type": "code",
   "execution_count": 29,
   "metadata": {},
   "outputs": [],
   "source": [
    "embeddings = get_word2vec_embeddings(word2vec, df)\n",
    "X_train_word2vec, X_test_word2vec, y_train_word2vec, y_test_word2vec = train_test_split(embeddings, list_labels, \n",
    "                                                                                        test_size=0.2, random_state=40)"
   ]
  },
  {
   "cell_type": "code",
   "execution_count": 30,
   "metadata": {},
   "outputs": [
    {
     "data": {
      "image/png": "[encoded data removed]",
      "text/plain": [
       "<Figure size 720x720 with 1 Axes>"
      ]
     },
     "metadata": {},
     "output_type": "display_data"
    }
   ],
   "source": [
    "fig = plt.figure(figsize=(10, 10))          \n",
    "plot_LSA(embeddings, list_labels)\n",
    "plt.savefig('img/Word2Vec_Feeling_Thinking.png', dpi=100, transparent=True)\n",
    "plt.show()"
   ]
  },
  {
   "cell_type": "code",
   "execution_count": 31,
   "metadata": {},
   "outputs": [],
   "source": [
    "clf_w2v = LogisticRegression(C=30.0, class_weight='balanced', solver='newton-cg', \n",
    "                         multi_class='multinomial', random_state=40)\n",
    "clf_w2v.fit(X_train_word2vec, y_train_word2vec)\n",
    "y_predicted_word2vec = clf_w2v.predict(X_test_word2vec)"
   ]
  },
  {
   "cell_type": "code",
   "execution_count": 32,
   "metadata": {},
   "outputs": [
    {
     "name": "stdout",
     "output_type": "stream",
     "text": [
      "accuracy = 0.674, precision = 0.675, recall = 0.674, f1 = 0.674\n"
     ]
    }
   ],
   "source": [
    "accuracy_word2vec, precision_word2vec, recall_word2vec, f1_word2vec = get_metrics(y_test_word2vec, y_predicted_word2vec)\n",
    "print(\"accuracy = %.3f, precision = %.3f, recall = %.3f, f1 = %.3f\" % (accuracy_word2vec, precision_word2vec, \n",
    "                                                                       recall_word2vec, f1_word2vec))"
   ]
  },
  {
   "cell_type": "code",
   "execution_count": 33,
   "metadata": {},
   "outputs": [
    {
     "data": {
      "image/png": "[encoded data removed]",
      "text/plain": [
       "<Figure size 432x432 with 1 Axes>"
      ]
     },
     "metadata": {},
     "output_type": "display_data"
    },
    {
     "name": "stdout",
     "output_type": "stream",
     "text": [
      "Word2Vec confusion matrix\n",
      "[[629 301]\n",
      " [265 540]]\n",
      "\n",
      "TFIDF confusion matrix\n",
      "[[772 158]\n",
      " [198 607]]\n",
      "\n",
      "BoW confusion matrix\n",
      "[[702 228]\n",
      " [220 585]]\n"
     ]
    }
   ],
   "source": [
    "cm_w2v = confusion_matrix(y_test_word2vec, y_predicted_word2vec)\n",
    "fig = plt.figure(figsize=(6, 6))\n",
    "plot = plot_confusion_matrix(cm, classes=['Irrelevant','Disaster'], normalize=False, title='Confusion matrix')\n",
    "plt.savefig('img/Word2Vec_Feeling_Thinking_cm.png', dpi=100, transparent=True)\n",
    "plt.show()\n",
    "print(\"Word2Vec confusion matrix\")\n",
    "print(cm_w2v)\n",
    "print()\n",
    "print(\"TFIDF confusion matrix\")\n",
    "print(cm2)\n",
    "print()\n",
    "print(\"BoW confusion matrix\")\n",
    "print(cm)"
   ]
  },
  {
   "cell_type": "markdown",
   "metadata": {},
   "source": [
    "<a id='naive_bayes'></a>"
   ]
  },
  {
   "cell_type": "markdown",
   "metadata": {},
   "source": [
    "<br>\n",
    "<div class=\"span5 alert alert-info\">\n",
    "    <H3>MULTINOMIAL NAIVE BAYES MODELS</H3>\n",
    "</div>"
   ]
  },
  {
   "cell_type": "markdown",
   "metadata": {},
   "source": [
    "### Train Test Split"
   ]
  },
  {
   "cell_type": "code",
   "execution_count": 34,
   "metadata": {},
   "outputs": [],
   "source": [
    "# we create a function that applies countvectorizer to our data and separates it between our predictors and our target variable\n",
    "def make_xy(dataframe, text_column, target, vectorizer=None):\n",
    "    \"\"\"Creates the X and y arrays, the X as a CountVectorized numpy array and the y as a binomial array\"\"\"    \n",
    "    if vectorizer is None:\n",
    "        vectorizer = CountVectorizer(min_df=0.1,max_df=0.9, stop_words=stop_words)\n",
    "    X = vectorizer.fit_transform(dataframe[text_column])\n",
    "    X = X.tocsc() \n",
    "    y = dataframe[target]\n",
    "    return X, y\n",
    "\n",
    "X, y = make_xy(df, 'text_clean_joined', 'T')\n",
    "\n",
    "# let's check how many of each class we have to understand how imbalanced our dataset is\n",
    "np.unique(y, return_counts=True)\n",
    "\n",
    "# now let's separate the data into the train and test datasets\n",
    "from sklearn.model_selection import train_test_split\n",
    "X_train, X_test, y_train, y_test = train_test_split(X, y, test_size=0.7, random_state=42)"
   ]
  },
  {
   "cell_type": "markdown",
   "metadata": {},
   "source": [
    "<a id='multinomial'></a>"
   ]
  },
  {
   "cell_type": "markdown",
   "metadata": {},
   "source": [
    "### 1st Model - Multinomial NB"
   ]
  },
  {
   "cell_type": "code",
   "execution_count": 35,
   "metadata": {},
   "outputs": [],
   "source": [
    "from sklearn.naive_bayes import MultinomialNB\n",
    "from sklearn.metrics import classification_report, confusion_matrix, accuracy_score"
   ]
  },
  {
   "cell_type": "code",
   "execution_count": 36,
   "metadata": {},
   "outputs": [],
   "source": [
    "clf = MultinomialNB()\n",
    "clf.fit(X_train, y_train)\n",
    "y_pred = clf.predict(X_test)"
   ]
  },
  {
   "cell_type": "code",
   "execution_count": 37,
   "metadata": {},
   "outputs": [
    {
     "name": "stdout",
     "output_type": "stream",
     "text": [
      "              precision    recall  f1-score   support\n",
      "\n",
      "           0       0.76      0.77      0.77      3284\n",
      "           1       0.73      0.72      0.72      2789\n",
      "\n",
      "    accuracy                           0.75      6073\n",
      "   macro avg       0.74      0.74      0.74      6073\n",
      "weighted avg       0.75      0.75      0.75      6073\n",
      "\n",
      "[[2528  756]\n",
      " [ 783 2006]]\n",
      "\n",
      "0.7732513451191392\n",
      "0.7465832372797628\n"
     ]
    }
   ],
   "source": [
    "print(classification_report(y_test, y_pred))\n",
    "print(confusion_matrix(y_test,y_pred))\n",
    "print()\n",
    "print(accuracy_score(y_train,clf.predict(X_train)))\n",
    "print(accuracy_score(y_test,y_pred))"
   ]
  },
  {
   "cell_type": "markdown",
   "metadata": {},
   "source": [
    "<a id='multinomial2'></a>"
   ]
  },
  {
   "cell_type": "markdown",
   "metadata": {},
   "source": [
    "### 2nd Model - Multinomial NB with crossvalidation"
   ]
  },
  {
   "cell_type": "code",
   "execution_count": 38,
   "metadata": {},
   "outputs": [],
   "source": [
    "from sklearn.model_selection import KFold\n",
    "def cv_score(clf, X, y, scorefunc):\n",
    "    result = 0.\n",
    "    nfold = 5\n",
    "    for train, test in KFold(nfold).split(X):      # split data into train/test groups, 5 times\n",
    "        clf.fit(X[train], ytrainthis.reset_index(drop=True).T[train])                # fit the classifier, passed is as clf.\n",
    "        result += scorefunc(clf, X[test], ytrainthis.reset_index(drop=True).T[test]) # evaluate score function on held-out data\n",
    "    return result / nfold                          # average"
   ]
  },
  {
   "cell_type": "markdown",
   "metadata": {},
   "source": [
    "We will use the log-likelihood as the score here in `scorefunc`. The higher the log-likelihood, the better. Indeed, what we do in `cv_score` above is to implement the cross-validation part of `GridSearchCV`. The custom scoring function `scorefunc` allows us to use different metrics depending on the decision risk we care about (precision, accuracy, profit etc.) directly on the validation set. You will often find people using `roc_auc`, `precision`, `recall`, or `F1-score` as the scoring function."
   ]
  },
  {
   "cell_type": "code",
   "execution_count": 39,
   "metadata": {},
   "outputs": [],
   "source": [
    "def log_likelihood(clf, x, y):\n",
    "    prob = clf.predict_log_proba(x)\n",
    "    zero = y == 0\n",
    "    one = ~zero\n",
    "    return prob[zero, 0].sum() + prob[one, 1].sum()"
   ]
  },
  {
   "cell_type": "code",
   "execution_count": 40,
   "metadata": {},
   "outputs": [],
   "source": [
    "_, itest = train_test_split(range(df.shape[0]), train_size=0.7, random_state=42)\n",
    "mask = np.zeros(df.shape[0], dtype=np.bool)\n",
    "mask[itest] = True"
   ]
  },
  {
   "cell_type": "code",
   "execution_count": 41,
   "metadata": {},
   "outputs": [
    {
     "name": "stderr",
     "output_type": "stream",
     "text": [
      "100%|██████████| 5/5 [00:36<00:00,  7.34s/it]\n",
      "100%|██████████| 5/5 [00:36<00:00,  7.38s/it]\n",
      "100%|██████████| 5/5 [00:39<00:00,  7.85s/it]\n",
      "100%|██████████| 5/5 [00:39<00:00,  7.88s/it]\n",
      "100%|██████████| 5/5 [2:01:20<00:00, 1456.16s/it]  \n"
     ]
    }
   ],
   "source": [
    "#the grid of parameters to search over\n",
    "alphas = [0.1, 1, 5, 10, 50]\n",
    "min_dfs = [1e-5, 1e-4, 1e-3, 1e-2, 1e-1]\n",
    "\n",
    "#Find the best value for alpha and min_df, and the best classifier\n",
    "best_alpha = None\n",
    "best_min_df = None\n",
    "maxscore=-np.inf\n",
    "for alpha in alphas:\n",
    "    for min_df in tqdm(min_dfs):         \n",
    "        vectorizer = CountVectorizer(min_df = min_df, max_df=0.9, stop_words=stop_words)       \n",
    "        Xthis, ythis = make_xy(df, 'text_clean_joined', 'T', vectorizer)\n",
    "        Xtrainthis=Xthis[mask]\n",
    "        ytrainthis=ythis[mask]\n",
    "        \n",
    "        #your code here\n",
    "        clf = MultinomialNB(alpha=alpha)\n",
    "        cvscore = cv_score(clf, Xtrainthis, ytrainthis, log_likelihood)\n",
    "\n",
    "        if cvscore > maxscore:\n",
    "            maxscore = cvscore\n",
    "            best_alpha, best_min_df = alpha, min_df"
   ]
  },
  {
   "cell_type": "code",
   "execution_count": 42,
   "metadata": {},
   "outputs": [
    {
     "name": "stdout",
     "output_type": "stream",
     "text": [
      "alpha: 50.000000\n",
      "min_df: 0.100000\n"
     ]
    }
   ],
   "source": [
    "print(\"alpha: %f\" % best_alpha)\n",
    "print(\"min_df: %f\" % best_min_df)"
   ]
  },
  {
   "cell_type": "code",
   "execution_count": 43,
   "metadata": {},
   "outputs": [],
   "source": [
    "vectorizer = CountVectorizer(min_df = 0.1, max_df=0.9, stop_words=stop_words)\n",
    "X, y = make_xy(df, 'text_clean_joined', 'T', vectorizer)\n",
    "X_train, X_test, y_train, y_test = train_test_split(X, y, test_size=0.7, random_state=42)\n",
    "\n",
    "clf = MultinomialNB(alpha=50)\n",
    "clf.fit(X_train, y_train)\n",
    "y_pred = clf.predict(X_test)"
   ]
  },
  {
   "cell_type": "code",
   "execution_count": 44,
   "metadata": {},
   "outputs": [
    {
     "name": "stdout",
     "output_type": "stream",
     "text": [
      "              precision    recall  f1-score   support\n",
      "\n",
      "           0       0.74      0.80      0.77      3284\n",
      "           1       0.74      0.67      0.70      2789\n",
      "\n",
      "    accuracy                           0.74      6073\n",
      "   macro avg       0.74      0.73      0.74      6073\n",
      "weighted avg       0.74      0.74      0.74      6073\n",
      "\n",
      "[[2622  662]\n",
      " [ 920 1869]]\n",
      "\n",
      "0.7686395080707148\n",
      "0.7395027169438498\n"
     ]
    }
   ],
   "source": [
    "print(classification_report(y_test, y_pred))\n",
    "print(confusion_matrix(y_test,y_pred))\n",
    "print()\n",
    "print(accuracy_score(y_train,clf.predict(X_train)))\n",
    "print(accuracy_score(y_test,y_pred))"
   ]
  },
  {
   "cell_type": "markdown",
   "metadata": {},
   "source": [
    "**Conclusion:** the best parameters give us a lower accuracy score, they seem to do better in classifying \"Feeling\" types (our 0 class) but overall it is very similar to the previous model."
   ]
  },
  {
   "cell_type": "code",
   "execution_count": 45,
   "metadata": {},
   "outputs": [
    {
     "name": "stdout",
     "output_type": "stream",
     "text": [
      "Good words\t     P(fresh | word)\n",
      "        intelligence 0.62\n",
      "            research 0.61\n",
      "                math 0.61\n",
      "              debate 0.61\n",
      "                  ti 0.61\n",
      "             science 0.61\n",
      "                fuck 0.60\n",
      "                rule 0.60\n",
      "               brain 0.60\n",
      "                shit 0.60\n",
      "Bad words\t     P(fresh | word)\n",
      "                dear 0.34\n",
      "               loved 0.33\n",
      "                glad 0.33\n",
      "                love 0.33\n",
      "                soul 0.33\n",
      "                song 0.32\n",
      "                feel 0.32\n",
      "                  hi 0.30\n",
      "                  xd 0.30\n",
      "           beautiful 0.29\n"
     ]
    }
   ],
   "source": [
    "words = np.array(vectorizer.get_feature_names())\n",
    "\n",
    "x = np.eye(X_test.shape[1])\n",
    "probs = clf.predict_log_proba(x)[:, 0]\n",
    "ind = np.argsort(probs)\n",
    "\n",
    "good_words = words[ind[:10]]\n",
    "bad_words = words[ind[-10:]]\n",
    "\n",
    "good_prob = probs[ind[:10]]\n",
    "bad_prob = probs[ind[-10:]]\n",
    "\n",
    "print(\"Good words\\t     P(T | word)\")\n",
    "for w, p in zip(good_words, good_prob):\n",
    "    print(\"{:>20}\".format(w), \"{:.2f}\".format(1 - np.exp(p)))\n",
    "    \n",
    "print(\"Bad words\\t     P(F | word)\")\n",
    "for w, p in zip(bad_words, bad_prob):\n",
    "    print(\"{:>20}\".format(w), \"{:.2f}\".format(1 - np.exp(p)))"
   ]
  },
  {
   "cell_type": "code",
   "execution_count": 48,
   "metadata": {},
   "outputs": [
    {
     "name": "stdout",
     "output_type": "stream",
     "text": [
      "Mis-predicted Feeling Type \n",
      "---------------------------\n",
      "MBTI:  Subtype: Compatible Matches:  Cognitive Functions:   Global 5:   Enneagram Triptype: Variant:   Archetype:  Bloodtype:  Genotype:|||http://www.youtube.com/watch?v=DKfDaKzk3B8|||Are you Schizo, Borderline, or Narcissistic? I am Borderline. Also, I am the Hermit but occasionally the Waif.  What's your personal order of cognitive functions? Fi, Ne, Ti, Si, Fe, Te, Ni, Se ...|||change this one to widdlewiddle for privacy reasons or just delete this account altogether. this name was automatically generated from my facebook account.|||Copy and paste this and then fill it in:  Your type: Your spouse's type: Describe the relationship quality:  Describe how you are best friends: Describe how your relationship has grown and the...|||In your opinion, which MBTI type is the most compassionate and why? Are only feelers compassionate? Share your thoughts...|||I don't see an exit door. My responsibilities have me trapped. The world is a lonely place. How do I make a support group? What could I\n",
      "\n",
      "'I'll let others judge the coherence of your posts. I am not concerned about ignoring them, however much that upsets you.|||This is you telling a story. It is not an argument, and so not a refutation.|||What you cite is not the claim I said I distanced myself from in my previous post. It has a completely different meaning and only seems 'pretty straightforwardly' the same to you because of your...|||No. Why would they?|||That's why I have said, repeatedly, that I never claimed to prove the non-existence of innate mathematical and logical knowledge. I claimed that there are no people with such innate knowledge, which...|||This is incoherent. I'm sorry.|||Last time you said this it turned out to be wrong. You'll have to be more specific.    This is certainly not my claim.    It follows from the fact that there are countless descriptions of...|||Congratulations, you've posited a generic skeptical challenge that is applicable to every empirical claim ever. I wrote that you could make this \n",
      "\n",
      "'From personal exp I like strong Ti users such as INTP and ISTPs over strong Fe users. But this is kind of a fallacy, just because you like someone more doesn't mean they are automatically your type....|||Everyone applies some of their own cognitive function bias to the type descriptions however yours are bleeding through way to much  because your descriptions are really off.   E.g. Feeling in...|||donald trump basically|||I think you are misunderstanding the functions. The judgement axis is supposed to be 2 different personalities. Fi is the opposite of Te and Fe is the opposite of Ti; they are designed to counteract...|||Goto 4:30 You can hear Steve Job's Fe and Ti.    https://www.youtube.com/watch?v=BNeXlJW70KQ|||The judgement axes is probably the most misunderstood IMO.   A well-trained user can repress their Fe especially when Ti > Fe such as Steve Jobs (ISTP) or your typically ENTP troll but the tendency...|||This is not exactly true.  If Ti is a blackhole sucking information the\n",
      "\n",
      "Mis-predicted Thinking Type\n",
      "--------------------------\n",
      "HAPPY BIRTHDAY violetta!!!!!!!!!!!!! u started off as a very intellectual INFJ but broke the huge walls of introversion n popped up into the true u  an ENFJ!! i know that no one can write as...|||o welcum lek373.......:D im sure ull be learning LOTS here its an awesome site  and ull meet lots of other INFJs who u can relate to have fun :P|||..........................................:P|||wow Queen of Refuse LUV ur artwork specially the 1st 1 :D|||Dear bff, id like to say thnx for ALL that u hav given me n for ALL that u hav ever done for me thank u .....an ISFJ who luvs u :D|||wooooow  i think this is extremely true abt me most ppl call me lazy too n i do feel exactly the same way u feel i think that studying is a waste of time 2 wow  n i get energized wen i hear...|||chazzmann thnx for posting n sharing ur amazing artwork i love the sixth one its awesome|||if just getting sad is depression then ya...i do get depressed  but not like others do ive seen ppl wen they r depressed but i dont\n",
      "\n",
      "'90669  This was taken just before my students came into the room hehe:tongue:|||Lol that made me smile, contradictions often do.  I tend to listen to music a lot while under stress or multitasking then it help me with rythm I often find that I end up doing work in time with the...|||Yeah I can relate to this easily, I like the music video u posted, now I got something new to listen too XD Word Dispenser|||hey guys thanks for some music ideas, much appreciated XD|||Hey guys,  I was just wondering which music helps you with depression?  I tend to find some of the foo fighters music works for me and so does Robyn.  I have eclectic tastes in music hehe|||I imagine many people would be a lot better off to be honest, i cant get on facebook or message my fiance right now so I am in depressed mood, although I can't help that I feel that even she would be...|||Yeah about my friend Tommy i mentioned a long time ago i just got word via email, he died of cancer 4 months aog, sorry Raichan I can;t\n",
      "\n",
      "Youre so sweet :) Thank you for the vote of confidence, I agree...Im better off and yay for learning from experiences|||Entjs are much more my style anyways rip|||Dear Intj,   people are puzzles for me. Usually I figure people out pretty quickly: who they are, what they want, who they want to be, etc. but you were a mystery. My own personal mystery for...|||You subtweeting?|||theres a skill to it!! I've done it a few times with introverts and it's been successful, not creepy at all|||I may be able to help with how to approach an intp. So two ways to approach an intp you are interested are either be loud or quiet. So for example, the loud way would be to go up to an intp, start a...|||I think I'm doing well. It's weird being independent. On one hand, I feel free and happy. On the other hand it's weird...i feel kinda empty but also fulfilled and lonely but also completely happy...|||Dear ENTJ,   i miss you as much as I hate you.   Intp|||I randomly felt the happiest I've ever felt before\n",
      "\n"
     ]
    }
   ],
   "source": [
    "x, y = make_xy(df, 'text_clean_joined', 'T', vectorizer)\n",
    "\n",
    "prob = clf.predict_proba(x)[:, 0]\n",
    "predict = clf.predict(x)\n",
    "\n",
    "bad_F = np.argsort(prob[y == 0])[:3]\n",
    "bad_T = np.argsort(prob[y == 1])[-3:]\n",
    "\n",
    "print(\"Mis-predicted Feeling Type \")\n",
    "print('---------------------------')\n",
    "for row in bad_F:\n",
    "    print(df[y == 0].iloc[row,2][0:1000])\n",
    "    print(\"\")\n",
    "\n",
    "print(\"Mis-predicted Thinking Type\")\n",
    "print('--------------------------')\n",
    "for row in bad_T:\n",
    "    print(df[y == 1].iloc[row,2][0:1000])\n",
    "    print(\"\")"
   ]
  },
  {
   "cell_type": "markdown",
   "metadata": {},
   "source": [
    "<br>\n",
    "\n",
    "Emmanuel also uses CNNs (Convolutional Neural Networks) for text classification but for the time being I will leave it here. I need to process what I learned up to now. In our first models it seems that the TFIDF did the best in labeling mbti type `Thinking` and `Feeling`, we could also load more words from the `GoogleNews-vectors-negative300.bin.gz` pretrained model. Maybe it helps boost the Word2Vec predictive power since it includes word vectors for a vocabulary of 3 million words and phrases that they trained on roughly 100 billion words from a Google News dataset."
   ]
  },
  {
   "cell_type": "code",
   "execution_count": null,
   "metadata": {},
   "outputs": [],
   "source": []
  }
 ],
 "metadata": {
  "kernelspec": {
   "display_name": "Python 3",
   "language": "python",
   "name": "python3"
  },
  "language_info": {
   "codemirror_mode": {
    "name": "ipython",
    "version": 3
   },
   "file_extension": ".py",
   "mimetype": "text/x-python",
   "name": "python",
   "nbconvert_exporter": "python",
   "pygments_lexer": "ipython3",
   "version": "3.8.2"
  }
 },
 "nbformat": 4,
 "nbformat_minor": 4
}
