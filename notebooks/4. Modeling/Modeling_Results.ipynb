{
 "cells": [
  {
   "cell_type": "markdown",
   "metadata": {},
   "source": [
    "# MBTI Project - Modeling (step 5)\n",
    "<br>"
   ]
  },
  {
   "cell_type": "markdown",
   "metadata": {},
   "source": [
    "<div class=\"span5 alert alert-info\">\n",
    "<h3>Introduction</h3>\n",
    "    <p>This notebook contains the <b>Modeling</b> step which comes after the <b>Feature Engineering & Preprocessing</b> step. The main goal of this step involves selecting, training and deploying a model to make predictive insights.<p>\n",
    "    <p>There are 5 previous notebooks where I did some test-runs on several models to see what algorithms worked best for every pair of MBTI traits. Here we will analyze the results and maybe do some fine-tunning to see if I can improve any of them.</p>\n",
    "</div>"
   ]
  },
  {
   "cell_type": "markdown",
   "metadata": {},
   "source": [
    "<a id=top><a>"
   ]
  },
  {
   "cell_type": "markdown",
   "metadata": {},
   "source": [
    "### Table of Contents\n",
    "\n",
    "- [Summarized goals](#goals)\n",
    "- [Importing Libraries](#importing)\n",
    "- [Review of our Results](#review)\n",
    "- [Stopwords](#stopwords)\n",
    "- [Models](#models) \n",
    "    - [Extraversion & Introversion Models](#ei) \n",
    "    - [Sensing & Intuition Models](#sn) \n",
    "    - [Thinking & Feeling Models](#tf) \n",
    "    - [Judging & Perceiving Models](#jp) \n",
    "- [Final Results](#final)"
   ]
  },
  {
   "cell_type": "markdown",
   "metadata": {},
   "source": [
    "<a id=goals></a>"
   ]
  },
  {
   "cell_type": "markdown",
   "metadata": {},
   "source": [
    "## Summarized Goals\n",
    "***"
   ]
  },
  {
   "cell_type": "markdown",
   "metadata": {},
   "source": [
    "Find the best model that classifies each post into the pair of attributes of the MBTI:\n",
    " - Introversion vs. Extraversion (I vs. E)\n",
    " - Intuition vs. Sensing (N vs. S)\n",
    " - Thinking vs. Feeling (T vs. F)\n",
    " - Judging vs. Perceiving (J vs. P)"
   ]
  },
  {
   "cell_type": "markdown",
   "metadata": {},
   "source": [
    "<a id=importing></a>"
   ]
  },
  {
   "cell_type": "markdown",
   "metadata": {},
   "source": [
    "## Imports\n",
    "***"
   ]
  },
  {
   "cell_type": "code",
   "execution_count": 1,
   "metadata": {},
   "outputs": [
    {
     "name": "stderr",
     "output_type": "stream",
     "text": [
      "/Users/diego/.pyenv/versions/venv-MBTI/lib/python3.8/site-packages/tqdm/std.py:668: FutureWarning: The Panel class is removed from pandas. Accessing it from the top-level namespace will also be removed in the next version\n",
      "  from pandas import Panel\n"
     ]
    }
   ],
   "source": [
    "# data wrangiling libraries\n",
    "import pandas as pd\n",
    "import numpy as np\n",
    "\n",
    "# visualization libraries\n",
    "import matplotlib.pyplot as plt\n",
    "import seaborn as sns\n",
    "\n",
    "# machine learning libraries\n",
    "import sklearn\n",
    "from sklearn.feature_extraction import text\n",
    "from sklearn.utils import class_weight\n",
    "from sklearn.pipeline import Pipeline\n",
    "from sklearn.metrics import make_scorer, accuracy_score, roc_auc_score, matthews_corrcoef, balanced_accuracy_score #classification_report, confusion_matrix, accuracy_score, f1_score, precision_score, recall_score, \n",
    "from sklearn.model_selection import train_test_split\n",
    "from sklearn.feature_selection import SelectKBest, chi2\n",
    "from sklearn.model_selection import cross_validate\n",
    "from sklearn.model_selection import GridSearchCV, RandomizedSearchCV\n",
    "from sklearn.linear_model import LogisticRegression\n",
    "from sklearn.ensemble import RandomForestClassifier\n",
    "from sklearn.linear_model import SGDClassifier\n",
    "from tensorflow.keras.preprocessing.text import text_to_word_sequence\n",
    "\n",
    "# other libraries\n",
    "import os\n",
    "import re\n",
    "import random\n",
    "import string\n",
    "import pickle\n",
    "import itertools\n",
    "import time\n",
    "import warnings\n",
    "from tqdm import tqdm, tqdm_pandas\n",
    "\n",
    "# settings\n",
    "%matplotlib inline\n",
    "sns.set() #\n",
    "tqdm.pandas(desc=\"Progress!\")\n",
    "pd.options.mode.chained_assignment = None  # default='warn'"
   ]
  },
  {
   "cell_type": "code",
   "execution_count": 2,
   "metadata": {},
   "outputs": [],
   "source": [
    "#we import our original dataset and the results of the models we created in the other notebooks\n",
    "df = pd.read_csv('../../data/mbti_nlp.csv', index_col=0)\n",
    "EI = pd.read_csv('model_selection_results_EI.csv', delimiter=';')\n",
    "NS = pd.read_csv('model_selection_results_NS.csv', delimiter=';')\n",
    "TF = pd.read_csv('model_selection_results_TF.csv', delimiter=';')\n",
    "JP = pd.read_csv('model_selection_results_JP.csv', delimiter=';')"
   ]
  },
  {
   "cell_type": "markdown",
   "metadata": {},
   "source": [
    "<a id=review></a>"
   ]
  },
  {
   "cell_type": "markdown",
   "metadata": {},
   "source": [
    "<br>\n",
    "\n",
    "## Reviewing our Results\n",
    "***"
   ]
  },
  {
   "cell_type": "markdown",
   "metadata": {},
   "source": [
    "A summary of the different **models** I have tried follows:\n",
    "- **Models tried:** Naive-Bayes Classifier (NB), Logistic Regression (LR), Support Vector Machines (SVM),k-Nearest Neighbours (kNN), Stocastic Gradient Descent (SGD), Gradient Boosting (GB), XGBoost (XGB), Random Forest (RF)\n",
    "- **Pending models:** Some models to be tried include Catboost, Adaboost, LightGBM, and deep learning models and transformers.\n",
    "\n",
    "For every model we used as **input 4 different datasets** according to how words were transformed into vectors:\n",
    "- CountVectorizer Word Level\n",
    "- TF-IDF Word Level\n",
    "- TF-IDF N-Grams Level (2 and 3 words)\n",
    "- TF-IDF Character Level\n",
    "\n",
    "The **metrics** we have gathered for each algorithm are:\n",
    "- accuracy_score\n",
    "- balanced_accuracy_score\n",
    "- precision_score\n",
    "- recall_score\n",
    "- f1_score\n",
    "- True Positives (tp)\n",
    "- True Negatives (tn)\n",
    "- False Positives (fp)\n",
    "- False Negatives (fn)\n",
    "- cohen_kappa_score\n",
    "- matthews_corrcoef\n",
    "- roc_auc_score\n",
    "\n",
    "Before we choose our models we are going revise how balanced our dataset are:"
   ]
  },
  {
   "cell_type": "code",
   "execution_count": 3,
   "metadata": {},
   "outputs": [
    {
     "name": "stdout",
     "output_type": "stream",
     "text": [
      "I 6676 E 1999\n",
      "N 7478 S 1197\n",
      "T 3981 F 4694\n",
      "J 3434 P 5241\n"
     ]
    }
   ],
   "source": [
    "for i,j in zip(['I','N','T','J'],['E','S','F','P']):\n",
    "    counts = df[i].value_counts()\n",
    "    print(i, counts[1], j, counts[0])"
   ]
  },
  {
   "cell_type": "markdown",
   "metadata": {},
   "source": [
    "We can see how IE and NS are more imbalanced than TF and JP. Accuracy is sensitive to class imbalance and precision, recall, and F1-score are asymmetric. This [article](https://towardsdatascience.com/the-best-classification-metric-youve-never-heard-of-the-matthews-correlation-coefficient-3bf50a2f3e9a) by Boaz Schmueli says: _\"For binary classification, there is another (and arguably more elegant) solution: treat the true class and the predicted class as two (binary) variables, and compute their correlation coefficient (in a similar way to computing correlation coefficient between any two variables). The higher the correlation between true and predicted values, the better the prediction. This is the phi-coefficient (φ), rechristened Matthews Correlation Coefficient (MCC) when applied to classifiers. MCC takes into account all four values in the confusion matrix, and a high value (close to 1) means that both classes are predicted well, even if one class is disproportionately under- (or over-) represented.\"_  So MCC is a contingency matrix method of calculating the Pearson product-moment correlation coefficient. \n",
    "\n",
    "`If r =\n",
    "   +.70 or higher Very strong positive relationship\n",
    "   +.40 to +.69 Strong positive relationship\n",
    "   +.30 to +.39 Moderate positive relationship\n",
    "   +.20 to +.29 weak positive relationship\n",
    "   +.01 to +.19 No or negligible relationship\n",
    "   -.01 to -.19 No or negligible relationship\n",
    "   -.20 to -.29 weak negative relationship\n",
    "   -.30 to -.39 Moderate negative relationship\n",
    "   -.40 to -.69 Strong negative relationship\n",
    "   -.70 or higher Very strong negative relationsh`\n",
    "\n",
    "We will evaluate models by their accuracy, MCC and ROC score. I add accuracy because I have seen other people analyzing this dataset and have used accuracy so it will be useful for me to compare results. \n",
    "\n",
    "To evaluate the ROC AUC score the following paper [Lemeshow Applied Logistic Regression](https://www.scopus.com/record/display.uri?eid=2-s2.0-0038553009&origin=inward&txGid=523042386e2257cd068e506a14f89c5f) by DW Hosmer, S says:\n",
    "\n",
    "`In general, an AUC of:\n",
    "    - 0.5 suggests no discrimination\n",
    "    - 0.7 to 0.8 is considered acceptable, \n",
    "    - 0.8 to 0.9 is considered excellent, and \n",
    "    - more than 0.9 is considered outstanding.`"
   ]
  },
  {
   "cell_type": "code",
   "execution_count": 4,
   "metadata": {},
   "outputs": [
    {
     "data": {
      "image/png": "[encoded data removed]",
      "text/plain": [
       "<Figure size 1440x864 with 4 Axes>"
      ]
     },
     "metadata": {},
     "output_type": "display_data"
    }
   ],
   "source": [
    "results_ei = EI[['Model', 'acc_overall', 'roc_auc_overall', 'matthews_corrcoef_overall']].sort_values(by='roc_auc_overall', ascending=False).head(3)\n",
    "results_ns = NS[['Model', 'acc_overall', 'roc_auc_overall', 'matthews_corrcoef_overall']].sort_values(by='roc_auc_overall', ascending=False).head(3)\n",
    "results_tf = TF[['Model', 'acc_overall', 'roc_auc_overall', 'matthews_corrcoef_overall']].sort_values(by='roc_auc_overall', ascending=False).head(3)\n",
    "results_jp = JP[['Model', 'acc_overall', 'roc_auc_overall', 'matthews_corrcoef_overall']].sort_values(by='roc_auc_overall', ascending=False).head(3)\n",
    "\n",
    "\n",
    "plt.rcParams['axes.grid'] = False\n",
    "\n",
    "fig, axes = plt.subplots(nrows=2, ncols=2, figsize=(20,12))\n",
    "results_ei.plot(kind='bar', x='Model', rot=0, title='Extraversion & Introversion', fontsize=15, ax = axes[0,0])\n",
    "results_ns.plot(kind='bar', x='Model', rot=0, title='Intuition & Sensing', fontsize=15, ax = axes[0,1])\n",
    "results_tf.plot(kind='bar', x='Model', rot=0, title='Thinking & Feeling', fontsize=15, ax = axes[1,0])\n",
    "results_jp.plot(kind='bar', x='Model', rot=0, title='Judging & Perceiving', fontsize=15, ax = axes[1,1])\n",
    "\n",
    "plt.figtext(.28,.93,'Machine Learning 3 Best Models for every category',fontsize=26,ha='center')\n",
    "[x.title.set_size(20) for x in axes.ravel()]\n",
    "\n",
    "labels = ['Accuracy','ROC-AUC','Matthews correlation coefficient']\n",
    "axes[0,0].legend('')\n",
    "axes[0,1].legend(labels=labels, loc=4, ncol=3,  mode=\"\", borderaxespad=.5, frameon=True, bbox_to_anchor=(0, 1.2, 1., .102), fontsize=16)\n",
    "axes[1,0].legend('')\n",
    "axes[1,1].legend('')\n",
    "fig.tight_layout(pad=3.0)\n",
    "\n",
    "plt.savefig('img/Best_models_by_category.png', transparent=True, bbox_inches='tight')\n",
    "plt.show()"
   ]
  },
  {
   "cell_type": "markdown",
   "metadata": {},
   "source": [
    "<a id='stopwords'></a>"
   ]
  },
  {
   "cell_type": "markdown",
   "metadata": {},
   "source": [
    "<a id='expand'></a>"
   ]
  },
  {
   "cell_type": "markdown",
   "metadata": {},
   "source": [
    "## Removing Stopwords\n",
    "***"
   ]
  },
  {
   "cell_type": "code",
   "execution_count": 5,
   "metadata": {},
   "outputs": [],
   "source": [
    "# we will do add a remove stop words function\n",
    "def remove_stop_words( x, stop_word):\n",
    "        '''\n",
    "        Function to remove a list of words\n",
    "        @param x : (str) text \n",
    "        @param stop_word: (list) list of stopwords to delete \n",
    "        @return: (str) new string without stopwords \n",
    "        '''\n",
    "        x_new = text_to_word_sequence(x)    # tokenize text \n",
    "        x_ = []\n",
    "        for i in x_new:\n",
    "            if i not in stop_word:\n",
    "                x_.append(i)\n",
    "        return \" \".join(x_)"
   ]
  },
  {
   "cell_type": "code",
   "execution_count": 6,
   "metadata": {},
   "outputs": [],
   "source": [
    "# MBTI types are rarely discussed in day to day converstaions, we will take them out since they would have low prediction power\n",
    "types = [x.lower() for x in df['type'].unique()] \n",
    "types_plural = [x+'s' for x in types]\n",
    "\n",
    "# some words that appear a lot but do not add value\n",
    "additional_stop_words = ['ll','type','fe','ni','na','wa','ve','don','nt','nf', 'ti','se','op','ne']\n",
    "\n",
    "# We put these together and include the normal stopwords from the English language\n",
    "stop_words = text.ENGLISH_STOP_WORDS.union(additional_stop_words + types + types_plural)"
   ]
  },
  {
   "cell_type": "code",
   "execution_count": 7,
   "metadata": {},
   "outputs": [
    {
     "name": "stderr",
     "output_type": "stream",
     "text": [
      "Progress!: 100%|██████████| 8675/8675 [00:02<00:00, 3050.97it/s]\n"
     ]
    }
   ],
   "source": [
    "df['text_clean_joined'] = df['text_clean_joined'].progress_apply(lambda x : remove_stop_words(x, stop_words))"
   ]
  },
  {
   "cell_type": "markdown",
   "metadata": {},
   "source": [
    "<a id=models></a>"
   ]
  },
  {
   "cell_type": "markdown",
   "metadata": {},
   "source": [
    "<a id='ei'></a>"
   ]
  },
  {
   "cell_type": "markdown",
   "metadata": {},
   "source": [
    "## Extraversion & Introversion\n",
    "***"
   ]
  },
  {
   "cell_type": "markdown",
   "metadata": {},
   "source": [
    "### Original Models"
   ]
  },
  {
   "cell_type": "markdown",
   "metadata": {},
   "source": [
    "First let's check if we can replicate our best results and move from there"
   ]
  },
  {
   "cell_type": "code",
   "execution_count": 8,
   "metadata": {},
   "outputs": [
    {
     "data": {
      "text/html": [
       "<div>\n",
       "<style scoped>\n",
       "    .dataframe tbody tr th:only-of-type {\n",
       "        vertical-align: middle;\n",
       "    }\n",
       "\n",
       "    .dataframe tbody tr th {\n",
       "        vertical-align: top;\n",
       "    }\n",
       "\n",
       "    .dataframe thead th {\n",
       "        text-align: right;\n",
       "    }\n",
       "</style>\n",
       "<table border=\"1\" class=\"dataframe\">\n",
       "  <thead>\n",
       "    <tr style=\"text-align: right;\">\n",
       "      <th></th>\n",
       "      <th>Model</th>\n",
       "      <th>acc_overall</th>\n",
       "      <th>roc_auc_overall</th>\n",
       "      <th>matthews_corrcoef_overall</th>\n",
       "    </tr>\n",
       "  </thead>\n",
       "  <tbody>\n",
       "    <tr>\n",
       "      <th>27</th>\n",
       "      <td>SGD_CharLevel_Vectors</td>\n",
       "      <td>0.736745</td>\n",
       "      <td>0.641227</td>\n",
       "      <td>0.275968</td>\n",
       "    </tr>\n",
       "    <tr>\n",
       "      <th>8</th>\n",
       "      <td>LR_Count_Vectors</td>\n",
       "      <td>0.754265</td>\n",
       "      <td>0.619691</td>\n",
       "      <td>0.259214</td>\n",
       "    </tr>\n",
       "    <tr>\n",
       "      <th>25</th>\n",
       "      <td>SGD_WordLevel_TF-IDF</td>\n",
       "      <td>0.756109</td>\n",
       "      <td>0.601278</td>\n",
       "      <td>0.233809</td>\n",
       "    </tr>\n",
       "  </tbody>\n",
       "</table>\n",
       "</div>"
      ],
      "text/plain": [
       "                    Model  acc_overall  roc_auc_overall  \\\n",
       "27  SGD_CharLevel_Vectors     0.736745         0.641227   \n",
       "8        LR_Count_Vectors     0.754265         0.619691   \n",
       "25   SGD_WordLevel_TF-IDF     0.756109         0.601278   \n",
       "\n",
       "    matthews_corrcoef_overall  \n",
       "27                   0.275968  \n",
       "8                    0.259214  \n",
       "25                   0.233809  "
      ]
     },
     "execution_count": 8,
     "metadata": {},
     "output_type": "execute_result"
    }
   ],
   "source": [
    "results_ei"
   ]
  },
  {
   "cell_type": "markdown",
   "metadata": {},
   "source": [
    "#### Stochastic Gradient Descent"
   ]
  },
  {
   "cell_type": "code",
   "execution_count": 21,
   "metadata": {},
   "outputs": [],
   "source": [
    "target = 'I'\n",
    "text = 'text_clean_joined'"
   ]
  },
  {
   "cell_type": "code",
   "execution_count": 22,
   "metadata": {},
   "outputs": [],
   "source": [
    "#we do the training test split at the same random state as the model was first conceived\n",
    "X_train, X_test, y_train, y_test = train_test_split(df[text], df[target], test_size=0.25, random_state=42, stratify=df[target])"
   ]
  },
  {
   "cell_type": "markdown",
   "metadata": {},
   "source": [
    "First let's check if we can replicate our best results and move forward from there"
   ]
  },
  {
   "cell_type": "code",
   "execution_count": 23,
   "metadata": {},
   "outputs": [],
   "source": [
    "#load the vectorizer and the model from model folder\n",
    "loaded_vect = pickle.load(open('models/model_selection_results_EI/TF_IDF_ngram_chars_model.sav', 'rb'))\n",
    "loaded_model = pickle.load(open('models/model_selection_results_EI/SGD_CharLevel_Vectors.sav', 'rb'))"
   ]
  },
  {
   "cell_type": "code",
   "execution_count": 24,
   "metadata": {},
   "outputs": [],
   "source": [
    "x_train_tfidf_ngram_chars =  loaded_vect.transform(X_train) \n",
    "x_test_tfidf_ngram_chars = loaded_vect.transform(X_test)\n",
    "y_pred = loaded_model.predict(x_test_tfidf_ngram_chars)"
   ]
  },
  {
   "cell_type": "code",
   "execution_count": 25,
   "metadata": {},
   "outputs": [
    {
     "name": "stdout",
     "output_type": "stream",
     "text": [
      "0.7367450437989858\n",
      "0.641227082085081\n",
      "0.2759676880500886\n"
     ]
    }
   ],
   "source": [
    "print('Accuracy: ', accuracy_score(y_test,y_pred))\n",
    "print('ROC AUC: ', roc_auc_score(y_test,y_pred))\n",
    "print('Matthews Correlation Coefficient: ', matthews_corrcoef(y_test,y_pred))"
   ]
  },
  {
   "cell_type": "markdown",
   "metadata": {},
   "source": [
    "The parameters for that concrete model were:\n",
    " - loss='modified_huber'\n",
    " - max_iter=1000\n",
    " - tol=1e-3\n",
    " - n_iter_no_change=10\n",
    " - early_stopping=True\n",
    " - n_jobs=-1\n",
    " "
   ]
  },
  {
   "cell_type": "markdown",
   "metadata": {},
   "source": [
    "### GridSearch to Improve Models"
   ]
  },
  {
   "cell_type": "code",
   "execution_count": 57,
   "metadata": {},
   "outputs": [
    {
     "name": "stdout",
     "output_type": "stream",
     "text": [
      "Accuracy:  0.7713231904103274\n",
      "ROC AUC:  0.5537297783103655\n",
      "Matthews Correlation Coefficient:  0.18062748939738335\n",
      "\n",
      "Best Parameters\n",
      "{'alpha': 0.0001, 'n_iter_no_change': 31.622776601683793, 'penalty': 'l2', 'tol': 1e-05}\n"
     ]
    }
   ],
   "source": [
    "clf = SGDClassifier(loss='modified_huber', max_iter=1000, early_stopping=True, n_jobs=-1)\n",
    "\n",
    "# use a full grid over all parameters\n",
    "param_grid = {\"n_iter_no_change\": np.logspace(0, 2, num=5),\n",
    "              \"alpha\": [0.00001, 0.0001, 0.001, 0.01, 0.1, 1, 10, 100],\n",
    "              \"penalty\": [\"none\", \"l1\", \"l2\"],\n",
    "             'tol':[1e-3,1e-5]}\n",
    " \n",
    "# run grid search\n",
    "grid_search = GridSearchCV(clf, param_grid=param_grid, cv=5, scoring=make_scorer(roc_auc_score, average = 'weighted', multi_class=\"ovo\",needs_proba=True))\n",
    "start = time.time()\n",
    "grid_search.fit(x_train_tfidf_ngram_chars, y_train)\n",
    "\n",
    "y_pred = grid_search.predict(x_test_tfidf_ngram_chars)\n",
    "print(grid_search.best_params_)"
   ]
  },
  {
   "cell_type": "code",
   "execution_count": 59,
   "metadata": {},
   "outputs": [
    {
     "name": "stdout",
     "output_type": "stream",
     "text": [
      "Accuracy:  0.7570308898109728\n",
      "ROC AUC:  0.6502061114439783\n",
      "Matthews Correlation Coefficient:  0.3050139203776766\n",
      "\n"
     ]
    }
   ],
   "source": [
    "clf = SGDClassifier(loss='modified_huber', \n",
    "              max_iter=1000, \n",
    "              early_stopping=True, \n",
    "              n_jobs=-1,\n",
    "              alpha = 0.0001, \n",
    "              n_iter_no_change = 31.622776601683793,\n",
    "              penalty = 'l2', \n",
    "              tol = 1e-05)\n",
    "clf.fit(x_train_tfidf_ngram_chars, y_train)\n",
    "y_pred = clf.predict(x_test_tfidf_ngram_chars)\n",
    "print('Accuracy: ', accuracy_score(y_test,y_pred))\n",
    "print('ROC AUC: ', roc_auc_score(y_test,y_pred))\n",
    "print('Matthews Correlation Coefficient: ', matthews_corrcoef(y_test,y_pred))\n",
    "print()"
   ]
  },
  {
   "cell_type": "markdown",
   "metadata": {},
   "source": [
    "**Conclusion:** We can see a slight improvement in the three metrics"
   ]
  },
  {
   "cell_type": "code",
   "execution_count": 63,
   "metadata": {},
   "outputs": [],
   "source": [
    "filename = 'models/final/SGD_TFIDF_Char_Level_EI.sav'\n",
    "pickle.dump(clf, open(filename, 'wb'))"
   ]
  },
  {
   "cell_type": "markdown",
   "metadata": {},
   "source": [
    "<a id=\"sn\"></a>"
   ]
  },
  {
   "cell_type": "markdown",
   "metadata": {},
   "source": [
    "## Sensing & Intuition\n",
    "***"
   ]
  },
  {
   "cell_type": "markdown",
   "metadata": {},
   "source": [
    "### Original Models"
   ]
  },
  {
   "cell_type": "markdown",
   "metadata": {},
   "source": [
    "First let's check if we can replicate our best results and move from there"
   ]
  },
  {
   "cell_type": "code",
   "execution_count": 84,
   "metadata": {},
   "outputs": [
    {
     "data": {
      "text/html": [
       "<div>\n",
       "<style scoped>\n",
       "    .dataframe tbody tr th:only-of-type {\n",
       "        vertical-align: middle;\n",
       "    }\n",
       "\n",
       "    .dataframe tbody tr th {\n",
       "        vertical-align: top;\n",
       "    }\n",
       "\n",
       "    .dataframe thead th {\n",
       "        text-align: right;\n",
       "    }\n",
       "</style>\n",
       "<table border=\"1\" class=\"dataframe\">\n",
       "  <thead>\n",
       "    <tr style=\"text-align: right;\">\n",
       "      <th></th>\n",
       "      <th>Model</th>\n",
       "      <th>acc_overall</th>\n",
       "      <th>roc_auc_overall</th>\n",
       "      <th>matthews_corrcoef_overall</th>\n",
       "    </tr>\n",
       "  </thead>\n",
       "  <tbody>\n",
       "    <tr>\n",
       "      <th>20</th>\n",
       "      <td>SGD_Count_Vectors</td>\n",
       "      <td>0.830798</td>\n",
       "      <td>0.619495</td>\n",
       "      <td>0.251991</td>\n",
       "    </tr>\n",
       "    <tr>\n",
       "      <th>21</th>\n",
       "      <td>SGD_WordLevel_TF-IDF</td>\n",
       "      <td>0.859843</td>\n",
       "      <td>0.595599</td>\n",
       "      <td>0.265613</td>\n",
       "    </tr>\n",
       "    <tr>\n",
       "      <th>4</th>\n",
       "      <td>LR_Count_Vectors</td>\n",
       "      <td>0.845551</td>\n",
       "      <td>0.592929</td>\n",
       "      <td>0.231102</td>\n",
       "    </tr>\n",
       "  </tbody>\n",
       "</table>\n",
       "</div>"
      ],
      "text/plain": [
       "                   Model  acc_overall  roc_auc_overall  \\\n",
       "20     SGD_Count_Vectors     0.830798         0.619495   \n",
       "21  SGD_WordLevel_TF-IDF     0.859843         0.595599   \n",
       "4       LR_Count_Vectors     0.845551         0.592929   \n",
       "\n",
       "    matthews_corrcoef_overall  \n",
       "20                   0.251991  \n",
       "21                   0.265613  \n",
       "4                    0.231102  "
      ]
     },
     "execution_count": 84,
     "metadata": {},
     "output_type": "execute_result"
    }
   ],
   "source": [
    "results_ns"
   ]
  },
  {
   "cell_type": "markdown",
   "metadata": {},
   "source": [
    "#### Stochastic Gradient Descent"
   ]
  },
  {
   "cell_type": "code",
   "execution_count": 85,
   "metadata": {},
   "outputs": [],
   "source": [
    "#load the vectorizer and the model from model folder\n",
    "loaded_vect = pickle.load(open('models/model_selection_results_NS/count_vect_model.sav', 'rb'))\n",
    "loaded_model = pickle.load(open('models/model_selection_results_NS/SGD_Count_Vectors.sav', 'rb'))"
   ]
  },
  {
   "cell_type": "code",
   "execution_count": 86,
   "metadata": {},
   "outputs": [],
   "source": [
    "target = 'N'\n",
    "text = 'text_clean_joined'"
   ]
  },
  {
   "cell_type": "code",
   "execution_count": 87,
   "metadata": {},
   "outputs": [],
   "source": [
    "X_train, X_test, y_train, y_test = train_test_split(df[text], df[target], test_size=0.25, random_state=42, stratify=df[target])"
   ]
  },
  {
   "cell_type": "markdown",
   "metadata": {},
   "source": [
    "First let's check if we can replicate our best results and move from there"
   ]
  },
  {
   "cell_type": "code",
   "execution_count": 88,
   "metadata": {},
   "outputs": [],
   "source": [
    "x_train_count_vect =  loaded_vect.transform(X_train) \n",
    "x_test_count_vect = loaded_vect.transform(X_test)\n",
    "y_pred = loaded_model.predict(x_test_count_vect)"
   ]
  },
  {
   "cell_type": "code",
   "execution_count": 89,
   "metadata": {},
   "outputs": [
    {
     "name": "stdout",
     "output_type": "stream",
     "text": [
      "Accuracy:  0.830797602581835\n",
      "ROC AUC:  0.6194945719242395\n",
      "Matthews Correlation Coefficient:  0.2519910507383639\n"
     ]
    }
   ],
   "source": [
    "print('Accuracy: ', accuracy_score(y_test,y_pred))\n",
    "print('ROC AUC: ', roc_auc_score(y_test,y_pred))\n",
    "print('Matthews Correlation Coefficient: ', matthews_corrcoef(y_test,y_pred))"
   ]
  },
  {
   "cell_type": "markdown",
   "metadata": {},
   "source": [
    "### GridSearch to Improve Models"
   ]
  },
  {
   "cell_type": "code",
   "execution_count": 105,
   "metadata": {},
   "outputs": [
    {
     "name": "stdout",
     "output_type": "stream",
     "text": [
      "Best Parameters\n",
      "{'alpha': 0.1, 'n_iter_no_change': 100.0, 'penalty': 'l2', 'tol': 1e-05}\n"
     ]
    }
   ],
   "source": [
    "clf = SGDClassifier(loss='modified_huber', max_iter=1000, early_stopping=True, n_jobs=-1)\n",
    "\n",
    "# use a full grid over all parameters\n",
    "param_grid = {\"n_iter_no_change\": np.logspace(0, 2, num=5),\n",
    "              \"alpha\": [0.00001, 0.0001, 0.001, 0.01, 0.1, 1, 10, 100],\n",
    "              \"penalty\": [\"none\", \"l1\", \"l2\"],\n",
    "             'tol':[1e-3,1e-5]}\n",
    "\n",
    "# run grid search\n",
    "grid_search = GridSearchCV(clf, param_grid=param_grid, cv=5, scoring=make_scorer(roc_auc_score, average = 'weighted', multi_class=\"ovo\",needs_proba=True))\n",
    "start = time.time()\n",
    "grid_search.fit(x_train_count_vect, y_train)\n",
    "\n",
    "y_pred = grid_search.predict(x_test_count_vect)\n",
    "print('Best Parameters')\n",
    "print(grid_search.best_params_)"
   ]
  },
  {
   "cell_type": "code",
   "execution_count": 135,
   "metadata": {},
   "outputs": [
    {
     "name": "stdout",
     "output_type": "stream",
     "text": [
      "Accuracy:  0.8653757491931766\n",
      "ROC AUC:  0.5819487417952891\n",
      "Matthews Correlation Coefficient:  0.26091104472244697\n",
      "\n"
     ]
    }
   ],
   "source": [
    "clf = SGDClassifier(loss='modified_huber', \n",
    "              max_iter=1000, \n",
    "              early_stopping=True, \n",
    "              n_jobs=-1,\n",
    "              alpha = 0.1, \n",
    "              n_iter_no_change = 100,\n",
    "              penalty = 'l2', \n",
    "              tol = 1e-05)\n",
    "clf.fit(x_train_count_vect, y_train)\n",
    "y_pred = clf.predict(x_test_count_vect)\n",
    "print('Accuracy: ', accuracy_score(y_test,y_pred))\n",
    "print('ROC AUC: ', roc_auc_score(y_test,y_pred))\n",
    "print('Matthews Correlation Coefficient: ', matthews_corrcoef(y_test,y_pred))\n",
    "print()"
   ]
  },
  {
   "cell_type": "markdown",
   "metadata": {},
   "source": [
    "**Conclusion:** This model seems to improve MCC and accuracy but the ROC AUC score is lower than our previous model for some reason I was not able to detect."
   ]
  },
  {
   "cell_type": "code",
   "execution_count": 136,
   "metadata": {},
   "outputs": [],
   "source": [
    "#We save the model\n",
    "filename = 'models/final/SGD_Count_Vect_NS.sav'\n",
    "pickle.dump(clf, open(filename, 'wb'))"
   ]
  },
  {
   "cell_type": "markdown",
   "metadata": {},
   "source": [
    "<a id=\"tf\"></a>"
   ]
  },
  {
   "cell_type": "markdown",
   "metadata": {},
   "source": [
    "## Thinking & Feeling\n",
    "***"
   ]
  },
  {
   "cell_type": "markdown",
   "metadata": {},
   "source": [
    "### Original Models"
   ]
  },
  {
   "cell_type": "markdown",
   "metadata": {},
   "source": [
    "First let's check if we can replicate our best results and move from there"
   ]
  },
  {
   "cell_type": "code",
   "execution_count": 137,
   "metadata": {},
   "outputs": [
    {
     "data": {
      "text/html": [
       "<div>\n",
       "<style scoped>\n",
       "    .dataframe tbody tr th:only-of-type {\n",
       "        vertical-align: middle;\n",
       "    }\n",
       "\n",
       "    .dataframe tbody tr th {\n",
       "        vertical-align: top;\n",
       "    }\n",
       "\n",
       "    .dataframe thead th {\n",
       "        text-align: right;\n",
       "    }\n",
       "</style>\n",
       "<table border=\"1\" class=\"dataframe\">\n",
       "  <thead>\n",
       "    <tr style=\"text-align: right;\">\n",
       "      <th></th>\n",
       "      <th>Model</th>\n",
       "      <th>acc_overall</th>\n",
       "      <th>roc_auc_overall</th>\n",
       "      <th>matthews_corrcoef_overall</th>\n",
       "    </tr>\n",
       "  </thead>\n",
       "  <tbody>\n",
       "    <tr>\n",
       "      <th>5</th>\n",
       "      <td>LR_WordLevel_TF-IDF</td>\n",
       "      <td>0.792992</td>\n",
       "      <td>0.792224</td>\n",
       "      <td>0.583760</td>\n",
       "    </tr>\n",
       "    <tr>\n",
       "      <th>9</th>\n",
       "      <td>SVM_WordLevel_TF-IDF</td>\n",
       "      <td>0.789765</td>\n",
       "      <td>0.789626</td>\n",
       "      <td>0.578033</td>\n",
       "    </tr>\n",
       "    <tr>\n",
       "      <th>11</th>\n",
       "      <td>SVM_CharLevel_TF-IDF</td>\n",
       "      <td>0.781466</td>\n",
       "      <td>0.780044</td>\n",
       "      <td>0.560003</td>\n",
       "    </tr>\n",
       "  </tbody>\n",
       "</table>\n",
       "</div>"
      ],
      "text/plain": [
       "                   Model  acc_overall  roc_auc_overall  \\\n",
       "5    LR_WordLevel_TF-IDF     0.792992         0.792224   \n",
       "9   SVM_WordLevel_TF-IDF     0.789765         0.789626   \n",
       "11  SVM_CharLevel_TF-IDF     0.781466         0.780044   \n",
       "\n",
       "    matthews_corrcoef_overall  \n",
       "5                    0.583760  \n",
       "9                    0.578033  \n",
       "11                   0.560003  "
      ]
     },
     "execution_count": 137,
     "metadata": {},
     "output_type": "execute_result"
    }
   ],
   "source": [
    "results_tf"
   ]
  },
  {
   "cell_type": "markdown",
   "metadata": {},
   "source": [
    "#### Logistic Regression"
   ]
  },
  {
   "cell_type": "code",
   "execution_count": 138,
   "metadata": {},
   "outputs": [],
   "source": [
    "#load the vectorizer and the model from model folder\n",
    "loaded_vect = pickle.load(open('models/model_selection_results_TF/TF_IDF_model.sav', 'rb'))\n",
    "loaded_model = pickle.load(open('models/model_selection_results_TF/LR_WordLevel_TF-IDF.sav', 'rb'))"
   ]
  },
  {
   "cell_type": "code",
   "execution_count": 139,
   "metadata": {},
   "outputs": [],
   "source": [
    "target = 'T'\n",
    "text = 'text_clean_joined'"
   ]
  },
  {
   "cell_type": "code",
   "execution_count": 140,
   "metadata": {},
   "outputs": [],
   "source": [
    "X_train, X_test, y_train, y_test = train_test_split(df[text], df[target], test_size=0.25, random_state=42, stratify=df[target])"
   ]
  },
  {
   "cell_type": "markdown",
   "metadata": {},
   "source": [
    "First let's check if we can replicate our best results and move from there"
   ]
  },
  {
   "cell_type": "code",
   "execution_count": 141,
   "metadata": {},
   "outputs": [],
   "source": [
    "x_train_tfidf_word =  loaded_vect.transform(X_train) \n",
    "x_test_tfidf_word = loaded_vect.transform(X_test)\n",
    "y_pred = loaded_model.predict(x_test_tfidf_word)"
   ]
  },
  {
   "cell_type": "code",
   "execution_count": 142,
   "metadata": {},
   "outputs": [
    {
     "name": "stdout",
     "output_type": "stream",
     "text": [
      "Accuracy:  0.792992162286768\n",
      "ROC AUC:  0.7922238963129105\n",
      "Matthews Correlation Coefficient:  0.5837600572096417\n"
     ]
    }
   ],
   "source": [
    "print('Accuracy: ', accuracy_score(y_test,y_pred))\n",
    "print('ROC AUC: ', roc_auc_score(y_test,y_pred))\n",
    "print('Matthews Correlation Coefficient: ', matthews_corrcoef(y_test,y_pred))"
   ]
  },
  {
   "cell_type": "markdown",
   "metadata": {},
   "source": [
    "### GridSearch to Improve Models"
   ]
  },
  {
   "cell_type": "code",
   "execution_count": 145,
   "metadata": {},
   "outputs": [
    {
     "data": {
      "text/plain": [
       "dict_keys(['cv', 'error_score', 'estimator__C', 'estimator__class_weight', 'estimator__dual', 'estimator__fit_intercept', 'estimator__intercept_scaling', 'estimator__l1_ratio', 'estimator__max_iter', 'estimator__multi_class', 'estimator__n_jobs', 'estimator__penalty', 'estimator__random_state', 'estimator__solver', 'estimator__tol', 'estimator__verbose', 'estimator__warm_start', 'estimator', 'iid', 'n_jobs', 'param_grid', 'pre_dispatch', 'refit', 'return_train_score', 'scoring', 'verbose'])"
      ]
     },
     "execution_count": 145,
     "metadata": {},
     "output_type": "execute_result"
    }
   ],
   "source": [
    "clf.get_params().keys()"
   ]
  },
  {
   "cell_type": "code",
   "execution_count": 153,
   "metadata": {},
   "outputs": [
    {
     "name": "stdout",
     "output_type": "stream",
     "text": [
      "Fitting 5 folds for each of 240 candidates, totalling 1200 fits\n"
     ]
    },
    {
     "name": "stderr",
     "output_type": "stream",
     "text": [
      "[Parallel(n_jobs=-1)]: Using backend LokyBackend with 4 concurrent workers.\n",
      "[Parallel(n_jobs=-1)]: Done  42 tasks      | elapsed:    3.6s\n",
      "[Parallel(n_jobs=-1)]: Done 252 tasks      | elapsed:   10.2s\n",
      "[Parallel(n_jobs=-1)]: Done 686 tasks      | elapsed:   38.4s\n",
      "[Parallel(n_jobs=-1)]: Done 1036 tasks      | elapsed:  2.0min\n",
      "[Parallel(n_jobs=-1)]: Done 1200 out of 1200 | elapsed:  2.7min finished\n"
     ]
    }
   ],
   "source": [
    "# Create classifer\n",
    "clf = LogisticRegression()\n",
    "\n",
    "# Create param grid.\n",
    "param_grid = [\n",
    "    {'penalty' : ['none','l1', 'l2'],\n",
    "    'C' : np.logspace(-4, 4, 20),\n",
    "    'solver' : ['liblinear'],\n",
    "    'max_iter' : [1,10,100,1000]}]\n",
    "\n",
    "# Create grid search object\n",
    "clf = GridSearchCV(clf, param_grid = param_grid, cv = 5, verbose=True, n_jobs=-1)\n",
    "\n",
    "# Fit on data\n",
    "best_clf = clf.fit(x_train_tfidf_word, y_train)"
   ]
  },
  {
   "cell_type": "code",
   "execution_count": 154,
   "metadata": {},
   "outputs": [
    {
     "data": {
      "text/plain": [
       "{'C': 1.623776739188721,\n",
       " 'max_iter': 10,\n",
       " 'penalty': 'l2',\n",
       " 'solver': 'liblinear'}"
      ]
     },
     "execution_count": 154,
     "metadata": {},
     "output_type": "execute_result"
    }
   ],
   "source": [
    "best_clf.best_params_"
   ]
  },
  {
   "cell_type": "code",
   "execution_count": 155,
   "metadata": {},
   "outputs": [
    {
     "name": "stdout",
     "output_type": "stream",
     "text": [
      "Accuracy:  0.792992162286768\n",
      "ROC AUC:  0.7926069872360096\n",
      "Matthews Correlation Coefficient:  0.5841886570237305\n",
      "\n"
     ]
    }
   ],
   "source": [
    "clf = LogisticRegression(C = 1.623776739188721, max_iter = 10, penalty = 'l2', solver = 'liblinear')\n",
    "\n",
    "clf.fit(x_train_tfidf_word, y_train)\n",
    "y_pred = clf.predict(x_test_tfidf_word)\n",
    "print('Accuracy: ', accuracy_score(y_test,y_pred))\n",
    "print('ROC AUC: ', roc_auc_score(y_test,y_pred))\n",
    "print('Matthews Correlation Coefficient: ', matthews_corrcoef(y_test,y_pred))\n",
    "print()"
   ]
  },
  {
   "cell_type": "markdown",
   "metadata": {},
   "source": [
    "**Conclusion:** Slight improvement from the previous"
   ]
  },
  {
   "cell_type": "code",
   "execution_count": 156,
   "metadata": {},
   "outputs": [],
   "source": [
    "filename = 'models/final/LR_TFIDF_Word_Level_TF.sav'\n",
    "pickle.dump(clf, open(filename, 'wb'))"
   ]
  },
  {
   "cell_type": "markdown",
   "metadata": {},
   "source": [
    "<a id=\"jp\"></a>"
   ]
  },
  {
   "cell_type": "markdown",
   "metadata": {},
   "source": [
    "## Judging & Perceiving\n",
    "***"
   ]
  },
  {
   "cell_type": "markdown",
   "metadata": {},
   "source": [
    "### Original Models"
   ]
  },
  {
   "cell_type": "markdown",
   "metadata": {},
   "source": [
    "First let's check if we can replicate our best results and move from there"
   ]
  },
  {
   "cell_type": "code",
   "execution_count": 157,
   "metadata": {},
   "outputs": [
    {
     "data": {
      "text/html": [
       "<div>\n",
       "<style scoped>\n",
       "    .dataframe tbody tr th:only-of-type {\n",
       "        vertical-align: middle;\n",
       "    }\n",
       "\n",
       "    .dataframe tbody tr th {\n",
       "        vertical-align: top;\n",
       "    }\n",
       "\n",
       "    .dataframe thead th {\n",
       "        text-align: right;\n",
       "    }\n",
       "</style>\n",
       "<table border=\"1\" class=\"dataframe\">\n",
       "  <thead>\n",
       "    <tr style=\"text-align: right;\">\n",
       "      <th></th>\n",
       "      <th>Model</th>\n",
       "      <th>acc_overall</th>\n",
       "      <th>roc_auc_overall</th>\n",
       "      <th>matthews_corrcoef_overall</th>\n",
       "    </tr>\n",
       "  </thead>\n",
       "  <tbody>\n",
       "    <tr>\n",
       "      <th>21</th>\n",
       "      <td>SGD_WordLevel_TF-IDF</td>\n",
       "      <td>0.660673</td>\n",
       "      <td>0.643335</td>\n",
       "      <td>0.287878</td>\n",
       "    </tr>\n",
       "    <tr>\n",
       "      <th>4</th>\n",
       "      <td>LR_Count_Vectors</td>\n",
       "      <td>0.653757</td>\n",
       "      <td>0.635406</td>\n",
       "      <td>0.272378</td>\n",
       "    </tr>\n",
       "    <tr>\n",
       "      <th>23</th>\n",
       "      <td>SGD_CharLevel_Vectors</td>\n",
       "      <td>0.609036</td>\n",
       "      <td>0.630045</td>\n",
       "      <td>0.257238</td>\n",
       "    </tr>\n",
       "  </tbody>\n",
       "</table>\n",
       "</div>"
      ],
      "text/plain": [
       "                    Model  acc_overall  roc_auc_overall  \\\n",
       "21   SGD_WordLevel_TF-IDF     0.660673         0.643335   \n",
       "4        LR_Count_Vectors     0.653757         0.635406   \n",
       "23  SGD_CharLevel_Vectors     0.609036         0.630045   \n",
       "\n",
       "    matthews_corrcoef_overall  \n",
       "21                   0.287878  \n",
       "4                    0.272378  \n",
       "23                   0.257238  "
      ]
     },
     "execution_count": 157,
     "metadata": {},
     "output_type": "execute_result"
    }
   ],
   "source": [
    "results_jp"
   ]
  },
  {
   "cell_type": "markdown",
   "metadata": {},
   "source": [
    "#### Stochastic Gradient Descent"
   ]
  },
  {
   "cell_type": "code",
   "execution_count": 158,
   "metadata": {},
   "outputs": [],
   "source": [
    "#load the vectorizer and the model from model folder\n",
    "loaded_vect = pickle.load(open('models/model_selection_results_JP/TF_IDF_model.sav', 'rb'))\n",
    "loaded_model = pickle.load(open('models/model_selection_results_JP/SGD_WordLevel_TF-IDF.sav', 'rb'))"
   ]
  },
  {
   "cell_type": "code",
   "execution_count": 159,
   "metadata": {},
   "outputs": [],
   "source": [
    "target = 'J'\n",
    "text = 'text_clean_joined'"
   ]
  },
  {
   "cell_type": "code",
   "execution_count": 160,
   "metadata": {},
   "outputs": [],
   "source": [
    "X_train, X_test, y_train, y_test = train_test_split(df[text], df[target], test_size=0.25, random_state=42, stratify=df[target])"
   ]
  },
  {
   "cell_type": "code",
   "execution_count": 161,
   "metadata": {},
   "outputs": [],
   "source": [
    "x_train_tfidf_word =  loaded_vect.transform(X_train) \n",
    "x_test_tfidf_word = loaded_vect.transform(X_test)\n",
    "y_pred = loaded_model.predict(x_test_tfidf_word)"
   ]
  },
  {
   "cell_type": "code",
   "execution_count": 163,
   "metadata": {},
   "outputs": [
    {
     "name": "stdout",
     "output_type": "stream",
     "text": [
      "Accuracy:  0.6606731212540341\n",
      "ROC AUC:  0.6433354957388762\n",
      "Matthews Correlation Coefficient:  0.28787846434409475\n"
     ]
    }
   ],
   "source": [
    "print('Accuracy: ', accuracy_score(y_test,y_pred))\n",
    "print('ROC AUC: ', roc_auc_score(y_test,y_pred))\n",
    "print('Matthews Correlation Coefficient: ', matthews_corrcoef(y_test,y_pred))"
   ]
  },
  {
   "cell_type": "markdown",
   "metadata": {},
   "source": [
    "### GridSearch to Improve Models"
   ]
  },
  {
   "cell_type": "code",
   "execution_count": 164,
   "metadata": {},
   "outputs": [
    {
     "name": "stdout",
     "output_type": "stream",
     "text": [
      "Best Parameters\n",
      "{'alpha': 0.001, 'n_iter_no_change': 31.622776601683793, 'penalty': 'l2', 'tol': 0.001}\n"
     ]
    }
   ],
   "source": [
    "clf = SGDClassifier(loss='modified_huber', max_iter=1000, early_stopping=True, n_jobs=-1)\n",
    "\n",
    "# use a full grid over all parameters\n",
    "param_grid = {\"n_iter_no_change\": np.logspace(0, 2, num=5),\n",
    "              \"alpha\": [0.00001, 0.0001, 0.001, 0.01, 0.1, 1, 10, 100],\n",
    "              \"penalty\": [\"none\", \"l1\", \"l2\"],\n",
    "             'tol':[1e-3,1e-5]}\n",
    "\n",
    "# run grid search\n",
    "grid_search = GridSearchCV(clf, param_grid=param_grid, cv=5, scoring=make_scorer(roc_auc_score, average = 'weighted', multi_class=\"ovo\",needs_proba=True))\n",
    "start = time.time()\n",
    "grid_search.fit(x_train_tfidf_word, y_train)\n",
    "\n",
    "y_pred = grid_search.predict(x_test_tfidf_word)\n",
    "print('Best Parameters')\n",
    "print(grid_search.best_params_)"
   ]
  },
  {
   "cell_type": "code",
   "execution_count": 198,
   "metadata": {},
   "outputs": [
    {
     "name": "stdout",
     "output_type": "stream",
     "text": [
      "Accuracy:  0.6657445827570309\n",
      "ROC AUC:  0.6210821210532396\n",
      "Matthews Correlation Coefficient:  0.27000087720547894\n",
      "\n"
     ]
    }
   ],
   "source": [
    "clf = SGDClassifier(loss='modified_huber', \n",
    "              max_iter=1000, \n",
    "              early_stopping=True, \n",
    "              n_jobs=-1,\n",
    "              alpha = 0.001, \n",
    "              n_iter_no_change = 31.622776601683793,\n",
    "              penalty = 'l2', \n",
    "              tol = 0.001)\n",
    "clf.fit(x_train_tfidf_word, y_train)\n",
    "y_pred = clf.predict(x_test_tfidf_word)\n",
    "print('Accuracy: ', accuracy_score(y_test,y_pred))\n",
    "print('ROC AUC: ', roc_auc_score(y_test,y_pred))\n",
    "print('Matthews Correlation Coefficient: ', matthews_corrcoef(y_test,y_pred))\n",
    "print()"
   ]
  },
  {
   "cell_type": "markdown",
   "metadata": {},
   "source": [
    "**Conclusion:** We have not been able to get as good results as we had before. We will keep the original model."
   ]
  },
  {
   "cell_type": "code",
   "execution_count": 136,
   "metadata": {},
   "outputs": [],
   "source": [
    "#filename = 'models/final/SGD_TFIDF_Word_Level_JP.sav'\n",
    "#pickle.dump(clf, open(filename, 'wb'))"
   ]
  },
  {
   "cell_type": "markdown",
   "metadata": {},
   "source": [
    "<a id=final><a>"
   ]
  },
  {
   "cell_type": "markdown",
   "metadata": {},
   "source": [
    "## FINAL RESULTS"
   ]
  },
  {
   "cell_type": "code",
   "execution_count": 208,
   "metadata": {},
   "outputs": [],
   "source": [
    "final_df = pd.DataFrame(columns=['Model','Accuracy','ROC_AUC','MCC'])"
   ]
  },
  {
   "cell_type": "code",
   "execution_count": 218,
   "metadata": {},
   "outputs": [],
   "source": [
    "# Extraversion and Introversion\n",
    "loaded_vect = pickle.load(open('models/model_selection_results_EI/TF_IDF_ngram_chars_model.sav', 'rb'))\n",
    "loaded_model = pickle.load(open('models/final/SGD_TFIDF_Char_Level_EI.sav', 'rb'))\n",
    "target = 'I'\n",
    "text = 'text_clean_joined'\n",
    "X_train, X_test, y_train, y_test = train_test_split(df[text], df[target], test_size=0.25, random_state=42, stratify=df[target])\n",
    "x_train_tfidf_ngram_chars =  loaded_vect.transform(X_train) \n",
    "x_test_tfidf_ngram_chars = loaded_vect.transform(X_test)\n",
    "y_pred = loaded_model.predict(x_test_tfidf_ngram_chars)\n",
    "\n",
    "results = {'Model': 'EI_SGD_TFIDF_Char_Level', \n",
    "     'Accuracy':accuracy_score(y_test,y_pred),\n",
    "     'ROC_AUC':roc_auc_score(y_test,y_pred),\n",
    "     'MCC': matthews_corrcoef(y_test,y_pred)}\n",
    "\n",
    "final_df = final_df.append(results, ignore_index=True)"
   ]
  },
  {
   "cell_type": "code",
   "execution_count": 219,
   "metadata": {},
   "outputs": [],
   "source": [
    "# Sensing and Intuition\n",
    "loaded_vect = pickle.load(open('models/model_selection_results_NS/count_vect_model.sav', 'rb'))\n",
    "loaded_model = pickle.load(open('models/final/SGD_Count_Vect_NS.sav', 'rb'))\n",
    "target = 'N'\n",
    "text = 'text_clean_joined'\n",
    "X_train, X_test, y_train, y_test = train_test_split(df[text], df[target], test_size=0.25, random_state=42, stratify=df[target])\n",
    "x_train_count_vect =  loaded_vect.transform(X_train) \n",
    "x_test_count_vect = loaded_vect.transform(X_test)\n",
    "y_pred = loaded_model.predict(x_test_count_vect)\n",
    "\n",
    "results = {'Model': 'NS_SGD_Count_Vect', \n",
    "           'Accuracy':accuracy_score(y_test,y_pred),\n",
    "           'ROC_AUC':roc_auc_score(y_test,y_pred),\n",
    "           'MCC': matthews_corrcoef(y_test,y_pred)}\n",
    "\n",
    "final_df = final_df.append(results, ignore_index=True)"
   ]
  },
  {
   "cell_type": "code",
   "execution_count": 220,
   "metadata": {},
   "outputs": [],
   "source": [
    "# Thinking and Feeling\n",
    "loaded_vect = pickle.load(open('models/model_selection_results_TF/TF_IDF_model.sav', 'rb'))\n",
    "loaded_model = pickle.load(open('models/model_selection_results_TF/LR_WordLevel_TF-IDF.sav', 'rb'))\n",
    "target = 'T'\n",
    "text = 'text_clean_joined'\n",
    "X_train, X_test, y_train, y_test = train_test_split(df[text], df[target], test_size=0.25, random_state=42, stratify=df[target])\n",
    "x_train_tfidf_word =  loaded_vect.transform(X_train) \n",
    "x_test_tfidf_word = loaded_vect.transform(X_test)\n",
    "y_pred = loaded_model.predict(x_test_tfidf_word)\n",
    "\n",
    "results = {'Model': 'TF_LR_TFIDF_Word_Level', \n",
    "           'Accuracy':accuracy_score(y_test,y_pred),\n",
    "           'ROC_AUC':roc_auc_score(y_test,y_pred),\n",
    "           'MCC': matthews_corrcoef(y_test,y_pred)}\n",
    "\n",
    "final_df = final_df.append(results, ignore_index=True)"
   ]
  },
  {
   "cell_type": "code",
   "execution_count": 221,
   "metadata": {},
   "outputs": [],
   "source": [
    "# Judging and Perceiving\n",
    "loaded_vect = pickle.load(open('models/model_selection_results_JP/TF_IDF_model.sav', 'rb'))\n",
    "loaded_model = pickle.load(open('models/model_selection_results_JP/SGD_WordLevel_TF-IDF.sav', 'rb'))\n",
    "target = 'J'\n",
    "text = 'text_clean_joined'\n",
    "X_train, X_test, y_train, y_test = train_test_split(df[text], df[target], test_size=0.25, random_state=42, stratify=df[target])\n",
    "x_train_tfidf_word =  loaded_vect.transform(X_train) \n",
    "x_test_tfidf_word = loaded_vect.transform(X_test)\n",
    "y_pred = loaded_model.predict(x_test_tfidf_word)\n",
    "\n",
    "results = {'Model': 'JP_SGD_TFIDF_Word_Level', \n",
    "           'Accuracy':accuracy_score(y_test,y_pred),\n",
    "           'ROC_AUC':roc_auc_score(y_test,y_pred),\n",
    "           'MCC': matthews_corrcoef(y_test,y_pred)}\n",
    "\n",
    "final_df = final_df.append(results, ignore_index=True)"
   ]
  },
  {
   "cell_type": "code",
   "execution_count": 222,
   "metadata": {},
   "outputs": [
    {
     "data": {
      "text/html": [
       "<div>\n",
       "<style scoped>\n",
       "    .dataframe tbody tr th:only-of-type {\n",
       "        vertical-align: middle;\n",
       "    }\n",
       "\n",
       "    .dataframe tbody tr th {\n",
       "        vertical-align: top;\n",
       "    }\n",
       "\n",
       "    .dataframe thead th {\n",
       "        text-align: right;\n",
       "    }\n",
       "</style>\n",
       "<table border=\"1\" class=\"dataframe\">\n",
       "  <thead>\n",
       "    <tr style=\"text-align: right;\">\n",
       "      <th></th>\n",
       "      <th>Model</th>\n",
       "      <th>Accuracy</th>\n",
       "      <th>ROC_AUC</th>\n",
       "      <th>MCC</th>\n",
       "    </tr>\n",
       "  </thead>\n",
       "  <tbody>\n",
       "    <tr>\n",
       "      <th>0</th>\n",
       "      <td>EI_SGD_TFIDF_Char_Level</td>\n",
       "      <td>0.757031</td>\n",
       "      <td>0.650206</td>\n",
       "      <td>0.305014</td>\n",
       "    </tr>\n",
       "    <tr>\n",
       "      <th>1</th>\n",
       "      <td>NS_SGD_Count_Vect</td>\n",
       "      <td>0.865376</td>\n",
       "      <td>0.581949</td>\n",
       "      <td>0.260911</td>\n",
       "    </tr>\n",
       "    <tr>\n",
       "      <th>2</th>\n",
       "      <td>TF_LR_TFIDF_Word_Level</td>\n",
       "      <td>0.792992</td>\n",
       "      <td>0.792224</td>\n",
       "      <td>0.583760</td>\n",
       "    </tr>\n",
       "    <tr>\n",
       "      <th>3</th>\n",
       "      <td>JP_SGD_TFIDF_Word_Level</td>\n",
       "      <td>0.660673</td>\n",
       "      <td>0.643335</td>\n",
       "      <td>0.287878</td>\n",
       "    </tr>\n",
       "  </tbody>\n",
       "</table>\n",
       "</div>"
      ],
      "text/plain": [
       "                     Model  Accuracy   ROC_AUC       MCC\n",
       "0  EI_SGD_TFIDF_Char_Level  0.757031  0.650206  0.305014\n",
       "1        NS_SGD_Count_Vect  0.865376  0.581949  0.260911\n",
       "2   TF_LR_TFIDF_Word_Level  0.792992  0.792224  0.583760\n",
       "3  JP_SGD_TFIDF_Word_Level  0.660673  0.643335  0.287878"
      ]
     },
     "execution_count": 222,
     "metadata": {},
     "output_type": "execute_result"
    }
   ],
   "source": [
    "final_df"
   ]
  },
  {
   "cell_type": "code",
   "execution_count": 264,
   "metadata": {},
   "outputs": [],
   "source": [
    "rects = axes.patches"
   ]
  },
  {
   "cell_type": "code",
   "execution_count": 304,
   "metadata": {},
   "outputs": [],
   "source": [
    "# Create an empty list \n",
    "Row_list =[] \n",
    "  \n",
    "# Iterate over each row \n",
    "for col in final_df.columns[1:]:\n",
    "    Row_list.extend(final_df[col].to_list())\n",
    "    \n",
    "Row_list = [round(x,2) for x in Row_list]"
   ]
  },
  {
   "cell_type": "code",
   "execution_count": 314,
   "metadata": {},
   "outputs": [
    {
     "data": {
      "image/png": "[encoded data removed]",
      "text/plain": [
       "<Figure size 720x288 with 1 Axes>"
      ]
     },
     "metadata": {},
     "output_type": "display_data"
    }
   ],
   "source": [
    "\n",
    "fig, axes = plt.subplots(nrows=1, ncols=1, figsize=(10,4))\n",
    "\n",
    "final_df.plot(kind='bar', x='Model', ax = axes)\n",
    "\n",
    "plt.title('Best model for every category',fontsize=26,ha='center', pad=50)\n",
    "plt.xticks(ticks=[0,1,2,3],labels=['Extraversion\\nIntroversion\\n\\nSGD\\nTFIDF',\n",
    "                                   'Intuition\\nSensing\\n\\nSGD\\nCountVectorizer',\n",
    "                                   'Thinking\\nFeeling\\n\\nLogistic Regression\\nTFIDF',\n",
    "                                   'Judging\\nPerceiving\\n\\nSGD\\nTFIDF'], rotation=360)\n",
    "plt.xlabel('')\n",
    "\n",
    "rects = axes.patches\n",
    "\n",
    "for rect, value in zip(rects, Row_list):\n",
    "    height = rect.get_height()\n",
    "    axes.text(rect.get_x() + rect.get_width() / 2, height, s=value, ha='center', va='bottom')\n",
    "\n",
    "labels = ['Accuracy','ROC-AUC','Matthews correlation coefficient']\n",
    "plt.legend(labels=labels, loc=3, ncol=3,  mode=\"\", borderaxespad=.5, frameon=True, bbox_to_anchor=(0.17, 1.03, 1., 0), fontsize=10)\n",
    "\n",
    "plt.savefig('img/Final_Models.png', transparent=True, bbox_inches='tight')\n",
    "plt.show()"
   ]
  }
 ],
 "metadata": {
  "kernelspec": {
   "display_name": "Python 3",
   "language": "python",
   "name": "python3"
  },
  "language_info": {
   "codemirror_mode": {
    "name": "ipython",
    "version": 3
   },
   "file_extension": ".py",
   "mimetype": "text/x-python",
   "name": "python",
   "nbconvert_exporter": "python",
   "pygments_lexer": "ipython3",
   "version": "3.8.2"
  }
 },
 "nbformat": 4,
 "nbformat_minor": 4
}
