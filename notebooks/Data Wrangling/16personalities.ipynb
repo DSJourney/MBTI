{
 "cells": [
  {
   "cell_type": "markdown",
   "metadata": {},
   "source": [
    "## 16Types\n",
    "\n",
    "**This notebook extracts an approximation of what percent of the population is each type of MBTI type according to the website 16personalites (which has a large database on this topic). It will be useful in the EDA to cross-check figures**"
   ]
  },
  {
   "cell_type": "markdown",
   "metadata": {},
   "source": [
    "<br>\n",
    "\n",
    "We use requests and beautifulsoup to extract webscrape the data"
   ]
  },
  {
   "cell_type": "code",
   "execution_count": 66,
   "metadata": {},
   "outputs": [],
   "source": [
    "import pandas as pd\n",
    "import requests\n",
    "from bs4 import BeautifulSoup\n",
    "import re\n",
    "import ast"
   ]
  },
  {
   "cell_type": "markdown",
   "metadata": {},
   "source": [
    "<br>\n",
    "\n",
    "We decide the countries for which we want the data, in our case, English speaking countries (we leave aside some of the smaller countries)."
   ]
  },
  {
   "cell_type": "code",
   "execution_count": 238,
   "metadata": {},
   "outputs": [],
   "source": [
    "countries = ['canada', 'new-zealand', 'ireland', 'australia', 'united-states','united-kingdom']"
   ]
  },
  {
   "cell_type": "markdown",
   "metadata": {},
   "source": [
    "<br>\n",
    "\n",
    "The following code extracts the % of types and the total population and total number of respondents"
   ]
  },
  {
   "cell_type": "code",
   "execution_count": 168,
   "metadata": {},
   "outputs": [],
   "source": [
    "d = {}\n",
    "n = {}\n",
    "\n",
    "for country in countries:\n",
    "    url = 'https://www.16personalities.com/country-profiles/'+country+'#region-switches'\n",
    "    \n",
    "    response = requests.get(url)\n",
    "    soup = BeautifulSoup(response.text, 'html.parser')\n",
    "    \n",
    "    # Extracts the table with the % of MBTI types per country\n",
    "    table = str(soup.findAll(\"country-profiles-top-ten-list\"))\n",
    "    table = re.split('\\[|\\]',table) \n",
    "    result = ast.literal_eval(table[2])\n",
    "    d[country] = pd.DataFrame(result)\n",
    "    \n",
    "    # Extracts the number of population and respondents per country\n",
    "    demographics = str(soup.findAll('div',  {\"class\": \"demographics\"}))\n",
    "    result = re.split('<|>',demographics)\n",
    "    population = result[8]\n",
    "    respondents = result[-5]\n",
    "    n[country] = [int(population.replace(',','')), int(respondents.replace(',',''))]\n"
   ]
  },
  {
   "cell_type": "markdown",
   "metadata": {},
   "source": [
    "<br>\n",
    "\n",
    "Since we have a dictionary with many different dataframes we put them all together"
   ]
  },
  {
   "cell_type": "code",
   "execution_count": 169,
   "metadata": {},
   "outputs": [
    {
     "data": {
      "text/html": [
       "<div>\n",
       "<style scoped>\n",
       "    .dataframe tbody tr th:only-of-type {\n",
       "        vertical-align: middle;\n",
       "    }\n",
       "\n",
       "    .dataframe tbody tr th {\n",
       "        vertical-align: top;\n",
       "    }\n",
       "\n",
       "    .dataframe thead th {\n",
       "        text-align: right;\n",
       "    }\n",
       "</style>\n",
       "<table border=\"1\" class=\"dataframe\">\n",
       "  <thead>\n",
       "    <tr style=\"text-align: right;\">\n",
       "      <th></th>\n",
       "      <th>code</th>\n",
       "      <th>name</th>\n",
       "      <th>percentage</th>\n",
       "      <th>Country</th>\n",
       "    </tr>\n",
       "  </thead>\n",
       "  <tbody>\n",
       "    <tr>\n",
       "      <th>0</th>\n",
       "      <td>infp</td>\n",
       "      <td>Turbulent Mediator</td>\n",
       "      <td>12.75</td>\n",
       "      <td>canada</td>\n",
       "    </tr>\n",
       "    <tr>\n",
       "      <th>1</th>\n",
       "      <td>enfp</td>\n",
       "      <td>Turbulent Campaigner</td>\n",
       "      <td>8.46</td>\n",
       "      <td>canada</td>\n",
       "    </tr>\n",
       "    <tr>\n",
       "      <th>2</th>\n",
       "      <td>infj</td>\n",
       "      <td>Turbulent Advocate</td>\n",
       "      <td>6.50</td>\n",
       "      <td>canada</td>\n",
       "    </tr>\n",
       "    <tr>\n",
       "      <th>3</th>\n",
       "      <td>isfj</td>\n",
       "      <td>Turbulent Defender</td>\n",
       "      <td>5.42</td>\n",
       "      <td>canada</td>\n",
       "    </tr>\n",
       "    <tr>\n",
       "      <th>4</th>\n",
       "      <td>enfp</td>\n",
       "      <td>Assertive Campaigner</td>\n",
       "      <td>4.98</td>\n",
       "      <td>canada</td>\n",
       "    </tr>\n",
       "    <tr>\n",
       "      <th>...</th>\n",
       "      <td>...</td>\n",
       "      <td>...</td>\n",
       "      <td>...</td>\n",
       "      <td>...</td>\n",
       "    </tr>\n",
       "    <tr>\n",
       "      <th>27</th>\n",
       "      <td>istp</td>\n",
       "      <td>Turbulent Virtuoso</td>\n",
       "      <td>1.11</td>\n",
       "      <td>united-kingdom</td>\n",
       "    </tr>\n",
       "    <tr>\n",
       "      <th>28</th>\n",
       "      <td>entj</td>\n",
       "      <td>Turbulent Commander</td>\n",
       "      <td>1.06</td>\n",
       "      <td>united-kingdom</td>\n",
       "    </tr>\n",
       "    <tr>\n",
       "      <th>29</th>\n",
       "      <td>istp</td>\n",
       "      <td>Assertive Virtuoso</td>\n",
       "      <td>1.01</td>\n",
       "      <td>united-kingdom</td>\n",
       "    </tr>\n",
       "    <tr>\n",
       "      <th>30</th>\n",
       "      <td>estj</td>\n",
       "      <td>Turbulent Executive</td>\n",
       "      <td>1.00</td>\n",
       "      <td>united-kingdom</td>\n",
       "    </tr>\n",
       "    <tr>\n",
       "      <th>31</th>\n",
       "      <td>estp</td>\n",
       "      <td>Turbulent Entrepreneur</td>\n",
       "      <td>0.76</td>\n",
       "      <td>united-kingdom</td>\n",
       "    </tr>\n",
       "  </tbody>\n",
       "</table>\n",
       "<p>192 rows × 4 columns</p>\n",
       "</div>"
      ],
      "text/plain": [
       "    code                    name percentage         Country\n",
       "0   infp      Turbulent Mediator      12.75          canada\n",
       "1   enfp    Turbulent Campaigner       8.46          canada\n",
       "2   infj      Turbulent Advocate       6.50          canada\n",
       "3   isfj      Turbulent Defender       5.42          canada\n",
       "4   enfp    Assertive Campaigner       4.98          canada\n",
       "..   ...                     ...        ...             ...\n",
       "27  istp      Turbulent Virtuoso       1.11  united-kingdom\n",
       "28  entj     Turbulent Commander       1.06  united-kingdom\n",
       "29  istp      Assertive Virtuoso       1.01  united-kingdom\n",
       "30  estj     Turbulent Executive       1.00  united-kingdom\n",
       "31  estp  Turbulent Entrepreneur       0.76  united-kingdom\n",
       "\n",
       "[192 rows x 4 columns]"
      ]
     },
     "execution_count": 169,
     "metadata": {},
     "output_type": "execute_result"
    }
   ],
   "source": [
    "final_df = pd.DataFrame()\n",
    "for key, value in d.items():\n",
    "     df = value\n",
    "     df.loc[:,'Country'] = key\n",
    "     final_df = pd.concat([df, final_df], 0)\n",
    "final_df"
   ]
  },
  {
   "cell_type": "markdown",
   "metadata": {},
   "source": [
    "<br>\n",
    "\n",
    "Since the \"percentage\" column is not a float number we change its type"
   ]
  },
  {
   "cell_type": "code",
   "execution_count": 149,
   "metadata": {},
   "outputs": [],
   "source": [
    "final_df['percentage'] = final_df['percentage'].astype('float')\n",
    "final_df['percentage'] = final_df['percentage'].apply(lambda x:x/100)"
   ]
  },
  {
   "cell_type": "markdown",
   "metadata": {},
   "source": [
    "<br>\n",
    "\n",
    "We then calculate what amount of population and respondents for each type"
   ]
  },
  {
   "cell_type": "code",
   "execution_count": 254,
   "metadata": {},
   "outputs": [],
   "source": [
    "amount = []\n",
    "for country in countries: \n",
    "    result = final_df['percentage'][final_df['Country'] == country].multiply(n[country][0])\n",
    "    amount.extend(result.tolist())"
   ]
  },
  {
   "cell_type": "code",
   "execution_count": 258,
   "metadata": {},
   "outputs": [],
   "source": [
    "final_df['population'] = amount"
   ]
  },
  {
   "cell_type": "code",
   "execution_count": 261,
   "metadata": {},
   "outputs": [],
   "source": [
    "amount = []\n",
    "for country in countries: \n",
    "    result = final_df['percentage'][final_df['Country'] == country].multiply(n[country][1])\n",
    "    amount.extend(result.tolist())"
   ]
  },
  {
   "cell_type": "code",
   "execution_count": 262,
   "metadata": {},
   "outputs": [],
   "source": [
    "final_df['respondents'] = amount"
   ]
  },
  {
   "cell_type": "markdown",
   "metadata": {},
   "source": [
    "<br>\n",
    "\n",
    "Finally we check that our data is correct (some values differ a little due to rounding but it is enough for what we need)"
   ]
  },
  {
   "cell_type": "code",
   "execution_count": 266,
   "metadata": {},
   "outputs": [],
   "source": [
    "pd.set_option('display.float_format', lambda x: '%.3f' % x)"
   ]
  },
  {
   "cell_type": "code",
   "execution_count": 269,
   "metadata": {},
   "outputs": [
    {
     "data": {
      "text/html": [
       "<div>\n",
       "<style scoped>\n",
       "    .dataframe tbody tr th:only-of-type {\n",
       "        vertical-align: middle;\n",
       "    }\n",
       "\n",
       "    .dataframe tbody tr th {\n",
       "        vertical-align: top;\n",
       "    }\n",
       "\n",
       "    .dataframe thead th {\n",
       "        text-align: right;\n",
       "    }\n",
       "</style>\n",
       "<table border=\"1\" class=\"dataframe\">\n",
       "  <thead>\n",
       "    <tr style=\"text-align: right;\">\n",
       "      <th></th>\n",
       "      <th>percentage</th>\n",
       "      <th>population</th>\n",
       "      <th>respondents</th>\n",
       "    </tr>\n",
       "    <tr>\n",
       "      <th>Country</th>\n",
       "      <th></th>\n",
       "      <th></th>\n",
       "      <th></th>\n",
       "    </tr>\n",
       "  </thead>\n",
       "  <tbody>\n",
       "    <tr>\n",
       "      <th>australia</th>\n",
       "      <td>1.000</td>\n",
       "      <td>22744188.696</td>\n",
       "      <td>1722174.193</td>\n",
       "    </tr>\n",
       "    <tr>\n",
       "      <th>canada</th>\n",
       "      <td>1.000</td>\n",
       "      <td>35092816.033</td>\n",
       "      <td>2132754.364</td>\n",
       "    </tr>\n",
       "    <tr>\n",
       "      <th>ireland</th>\n",
       "      <td>1.000</td>\n",
       "      <td>4892794.231</td>\n",
       "      <td>210652.063</td>\n",
       "    </tr>\n",
       "    <tr>\n",
       "      <th>new-zealand</th>\n",
       "      <td>1.000</td>\n",
       "      <td>4438393.000</td>\n",
       "      <td>374865.000</td>\n",
       "    </tr>\n",
       "    <tr>\n",
       "      <th>united-kingdom</th>\n",
       "      <td>1.000</td>\n",
       "      <td>64088222.000</td>\n",
       "      <td>3002723.000</td>\n",
       "    </tr>\n",
       "    <tr>\n",
       "      <th>united-states</th>\n",
       "      <td>0.972</td>\n",
       "      <td>312370535.808</td>\n",
       "      <td>22043156.940</td>\n",
       "    </tr>\n",
       "  </tbody>\n",
       "</table>\n",
       "</div>"
      ],
      "text/plain": [
       "                percentage    population  respondents\n",
       "Country                                              \n",
       "australia            1.000  22744188.696  1722174.193\n",
       "canada               1.000  35092816.033  2132754.364\n",
       "ireland              1.000   4892794.231   210652.063\n",
       "new-zealand          1.000   4438393.000   374865.000\n",
       "united-kingdom       1.000  64088222.000  3002723.000\n",
       "united-states        0.972 312370535.808 22043156.940"
      ]
     },
     "execution_count": 269,
     "metadata": {},
     "output_type": "execute_result"
    }
   ],
   "source": [
    "final_df.groupby('Country').sum()"
   ]
  },
  {
   "cell_type": "code",
   "execution_count": 275,
   "metadata": {},
   "outputs": [
    {
     "name": "stdout",
     "output_type": "stream",
     "text": [
      "united-kingdom --> population = 64088222, respondants = 3002723\n",
      "united-states --> population = 321368864, respondants = 22678145\n",
      "australia --> population = 22751014, respondants = 1722691\n",
      "ireland --> population = 4892305, respondants = 210631\n",
      "new-zealand --> population = 4438393, respondants = 374865\n",
      "canada --> population = 35099836, respondants = 2133181\n"
     ]
    }
   ],
   "source": [
    "for k,v in n.items():\n",
    "    print(k + ' --> population = {0}, respondants = {1}'.format(v[0],v[1]))"
   ]
  },
  {
   "cell_type": "markdown",
   "metadata": {},
   "source": [
    "<br>\n",
    "\n",
    "For our analysis we are interested in seeing what percent of the population is each type, so we will extract only this information for the time being."
   ]
  },
  {
   "cell_type": "code",
   "execution_count": 287,
   "metadata": {},
   "outputs": [],
   "source": [
    "types = final_df.groupby('code').sum()"
   ]
  },
  {
   "cell_type": "code",
   "execution_count": 289,
   "metadata": {},
   "outputs": [
    {
     "data": {
      "text/plain": [
       "0.9952666666666667"
      ]
     },
     "execution_count": 289,
     "metadata": {},
     "output_type": "execute_result"
    }
   ],
   "source": [
    "types['percentage'].divide(len(countries)).sum()"
   ]
  },
  {
   "cell_type": "code",
   "execution_count": 290,
   "metadata": {},
   "outputs": [],
   "source": [
    "percent_types = types['percentage'].divide(len(countries))"
   ]
  },
  {
   "cell_type": "code",
   "execution_count": 292,
   "metadata": {},
   "outputs": [],
   "source": [
    "percent_types.to_csv('../../data/16personalities.csv')"
   ]
  },
  {
   "cell_type": "code",
   "execution_count": null,
   "metadata": {},
   "outputs": [],
   "source": []
  }
 ],
 "metadata": {
  "kernelspec": {
   "display_name": "Python 3",
   "language": "python",
   "name": "python3"
  },
  "language_info": {
   "codemirror_mode": {
    "name": "ipython",
    "version": 3
   },
   "file_extension": ".py",
   "mimetype": "text/x-python",
   "name": "python",
   "nbconvert_exporter": "python",
   "pygments_lexer": "ipython3",
   "version": "3.8.2"
  }
 },
 "nbformat": 4,
 "nbformat_minor": 4
}
