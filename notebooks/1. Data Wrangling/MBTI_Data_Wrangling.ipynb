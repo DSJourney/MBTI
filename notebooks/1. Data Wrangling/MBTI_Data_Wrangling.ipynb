{
 "cells": [
  {
   "cell_type": "markdown",
   "metadata": {},
   "source": [
    "# MBTI Project - Data Wrangling\n",
    "\n",
    "***\n",
    "<br>\n"
   ]
  },
  {
   "cell_type": "markdown",
   "metadata": {},
   "source": [
    "<div class=\"span5 alert alert-info\">\n",
    "<h3>Introduction</h3>\n",
    "    <p>This is the first section after the <b>problem identification</b> step. In the next few lines of code I did some datawrangling. This consists on taking raw data and preparing it for processing and analysis. In terms of cleaning the dataset there was little work to do since there were no empty or duplicate values and only 2 columns. The main actions in this notebook are related to creating new features. <b>Note</b>: to practice Object Oriented Programming (OOP), I created a .py document called \"feature_extraction\" to do some of the actions in this notebook. This is not optimal because I will not be creating different instances of this object but it served to practice nonetheless.<p>\n",
    "</div>"
   ]
  },
  {
   "cell_type": "markdown",
   "metadata": {},
   "source": [
    "<br>\n",
    "\n",
    "### Table of Contents\n",
    "\n",
    "- [Importing Libraries](#importing)\n",
    "- [Data Collection](#collection)\n",
    "- [Data Definition](#definition)\n",
    "- [Data Cleaning](#cleaning)\n",
    "- [Identifying and Creating Variables](#variables)\n",
    "    - [Individual Traits (I/E, N/S, F/T, J/P)](#traits)\n",
    "    - [Length of Gathered Posts](#len_posts)\n",
    "    - [Splitting Posts into Individual Posts](#split)\n",
    "    - [Average Number of Characters per Post](#avg_num_char)\n",
    "    - [Number of Hyperlinks per Post](#links)\n",
    "    - [Keirsey Temperaments](#keirsey)\n",
    "    - [Use of Emoticons](#emojis)\n",
    "    - [Mentions of other types and same type](#mentions)\n",
    "    - [Word Extraction](#words)\n",
    "    - [Positive and Negative word count](#pos_neg)    \n",
    "- [Pandas Profile Report](#interim)\n",
    "- [Saving the dataset](#saving)"
   ]
  },
  {
   "cell_type": "markdown",
   "metadata": {},
   "source": [
    "<a id='importing'></a>"
   ]
  },
  {
   "cell_type": "markdown",
   "metadata": {},
   "source": [
    "## Importing libraries\n",
    "\n",
    "***"
   ]
  },
  {
   "cell_type": "code",
   "execution_count": 1,
   "metadata": {},
   "outputs": [],
   "source": [
    "import pandas as pd\n",
    "import numpy as np\n",
    "import re\n",
    "import string\n",
    "import feature_extraction # this is the .py document I created for the purpose of this notebook"
   ]
  },
  {
   "cell_type": "markdown",
   "metadata": {},
   "source": [
    "<a id='collection'></a>"
   ]
  },
  {
   "cell_type": "markdown",
   "metadata": {},
   "source": [
    "## Data Collection\n",
    "\n",
    "***"
   ]
  },
  {
   "cell_type": "markdown",
   "metadata": {},
   "source": [
    "Unfortunately the dataset I am using is very large for GitHub's size limit [link](https://help.github.com/en/github/managing-large-files/conditions-for-large-files). For this reason the csv file is not shared in the repository but can be accessed directly from [Kaggle](https://www.kaggle.com/datasnaek/mbti-type). This dataset was put together by M. Jolly"
   ]
  },
  {
   "cell_type": "code",
   "execution_count": 2,
   "metadata": {},
   "outputs": [],
   "source": [
    "# We load the dataset\n",
    "df = pd.read_csv(r'/Users/diego/Google Drive/2. Business Intelligence/Data/MBTI/mbti_1.csv')"
   ]
  },
  {
   "cell_type": "markdown",
   "metadata": {},
   "source": [
    "<a id='definition'></a>"
   ]
  },
  {
   "cell_type": "markdown",
   "metadata": {},
   "source": [
    "## Data Definition\n",
    "***"
   ]
  },
  {
   "cell_type": "code",
   "execution_count": 3,
   "metadata": {},
   "outputs": [
    {
     "data": {
      "text/plain": [
       "(8675, 2)"
      ]
     },
     "execution_count": 3,
     "metadata": {},
     "output_type": "execute_result"
    }
   ],
   "source": [
    "# Check the shape\n",
    "df.shape"
   ]
  },
  {
   "cell_type": "code",
   "execution_count": 4,
   "metadata": {},
   "outputs": [
    {
     "data": {
      "text/html": [
       "<div>\n",
       "<style scoped>\n",
       "    .dataframe tbody tr th:only-of-type {\n",
       "        vertical-align: middle;\n",
       "    }\n",
       "\n",
       "    .dataframe tbody tr th {\n",
       "        vertical-align: top;\n",
       "    }\n",
       "\n",
       "    .dataframe thead th {\n",
       "        text-align: right;\n",
       "    }\n",
       "</style>\n",
       "<table border=\"1\" class=\"dataframe\">\n",
       "  <thead>\n",
       "    <tr style=\"text-align: right;\">\n",
       "      <th></th>\n",
       "      <th>type</th>\n",
       "      <th>posts</th>\n",
       "    </tr>\n",
       "  </thead>\n",
       "  <tbody>\n",
       "    <tr>\n",
       "      <th>0</th>\n",
       "      <td>INFJ</td>\n",
       "      <td>'http://www.youtube.com/watch?v=qsXHcwe3krw|||...</td>\n",
       "    </tr>\n",
       "    <tr>\n",
       "      <th>1</th>\n",
       "      <td>ENTP</td>\n",
       "      <td>'I'm finding the lack of me in these posts ver...</td>\n",
       "    </tr>\n",
       "    <tr>\n",
       "      <th>2</th>\n",
       "      <td>INTP</td>\n",
       "      <td>'Good one  _____   https://www.youtube.com/wat...</td>\n",
       "    </tr>\n",
       "    <tr>\n",
       "      <th>3</th>\n",
       "      <td>INTJ</td>\n",
       "      <td>'Dear INTP,   I enjoyed our conversation the o...</td>\n",
       "    </tr>\n",
       "    <tr>\n",
       "      <th>4</th>\n",
       "      <td>ENTJ</td>\n",
       "      <td>'You're fired.|||That's another silly misconce...</td>\n",
       "    </tr>\n",
       "  </tbody>\n",
       "</table>\n",
       "</div>"
      ],
      "text/plain": [
       "   type                                              posts\n",
       "0  INFJ  'http://www.youtube.com/watch?v=qsXHcwe3krw|||...\n",
       "1  ENTP  'I'm finding the lack of me in these posts ver...\n",
       "2  INTP  'Good one  _____   https://www.youtube.com/wat...\n",
       "3  INTJ  'Dear INTP,   I enjoyed our conversation the o...\n",
       "4  ENTJ  'You're fired.|||That's another silly misconce..."
      ]
     },
     "execution_count": 4,
     "metadata": {},
     "output_type": "execute_result"
    }
   ],
   "source": [
    "# Look at how the data is organized\n",
    "df.head()"
   ]
  },
  {
   "cell_type": "code",
   "execution_count": 5,
   "metadata": {},
   "outputs": [
    {
     "name": "stdout",
     "output_type": "stream",
     "text": [
      "<class 'pandas.core.frame.DataFrame'>\n",
      "RangeIndex: 8675 entries, 0 to 8674\n",
      "Data columns (total 2 columns):\n",
      " #   Column  Non-Null Count  Dtype \n",
      "---  ------  --------------  ----- \n",
      " 0   type    8675 non-null   object\n",
      " 1   posts   8675 non-null   object\n",
      "dtypes: object(2)\n",
      "memory usage: 135.7+ KB\n"
     ]
    }
   ],
   "source": [
    "# We check the data types and see if there are null values\n",
    "df.info()"
   ]
  },
  {
   "cell_type": "markdown",
   "metadata": {},
   "source": [
    "<br>\n",
    "As we can see, the dataset is complete since it does not have missing values but it only has 2 columns.\n",
    "<br>\n",
    "<br>"
   ]
  },
  {
   "cell_type": "markdown",
   "metadata": {},
   "source": [
    "<a id='cleaning'></a>"
   ]
  },
  {
   "cell_type": "markdown",
   "metadata": {},
   "source": [
    "## Data Cleaning\n",
    "***"
   ]
  },
  {
   "cell_type": "code",
   "execution_count": 6,
   "metadata": {},
   "outputs": [
    {
     "data": {
      "text/plain": [
       "False    8675\n",
       "dtype: int64"
      ]
     },
     "execution_count": 6,
     "metadata": {},
     "output_type": "execute_result"
    }
   ],
   "source": [
    "# Let's check if there are any duplicates\n",
    "duplicate_rows = df.duplicated()\n",
    "duplicate_rows.value_counts()"
   ]
  },
  {
   "cell_type": "markdown",
   "metadata": {},
   "source": [
    "\n",
    "Since there are not missing values and no duplicate values we cannot do much in this section of data cleaning but we can do a lot to create new variables\n",
    "<br>"
   ]
  },
  {
   "cell_type": "markdown",
   "metadata": {},
   "source": [
    "<a id='variables'></a>"
   ]
  },
  {
   "cell_type": "markdown",
   "metadata": {},
   "source": [
    "## Identifying and Creating Variables\n",
    "***\n",
    "\n",
    "**Note**: From here onward I use the feature_extraction.py document mentioned before, most of the different actions here do not require it but it was a good opportunity to practice OOP."
   ]
  },
  {
   "cell_type": "code",
   "execution_count": 7,
   "metadata": {},
   "outputs": [],
   "source": [
    "# we create an instance of the feature extraction class\n",
    "fe = feature_extraction.Feature_Extraction(df)\n",
    "#fe = Feature_Extraction(df)"
   ]
  },
  {
   "cell_type": "code",
   "execution_count": 8,
   "metadata": {},
   "outputs": [
    {
     "name": "stdout",
     "output_type": "stream",
     "text": [
      "      type                                              posts\n",
      "0     INFJ  'http://www.youtube.com/watch?v=qsXHcwe3krw|||...\n",
      "1     ENTP  'I'm finding the lack of me in these posts ver...\n",
      "2     INTP  'Good one  _____   https://www.youtube.com/wat...\n",
      "3     INTJ  'Dear INTP,   I enjoyed our conversation the o...\n",
      "4     ENTJ  'You're fired.|||That's another silly misconce...\n",
      "...    ...                                                ...\n",
      "8670  ISFP  'https://www.youtube.com/watch?v=t8edHB_h908||...\n",
      "8671  ENFP  'So...if this thread already exists someplace ...\n",
      "8672  INTP  'So many questions when i do these things.  I ...\n",
      "8673  INFP  'I am very conflicted right now when it comes ...\n",
      "8674  INFP  'It has been too long since I have been on per...\n",
      "\n",
      "[8675 rows x 2 columns]\n",
      "\n",
      "'The object created is the dataframe: 'df', the target column: 'type', and the text input column:'posts'\n"
     ]
    }
   ],
   "source": [
    "print(repr(fe))\n",
    "print()\n",
    "print(str(fe))"
   ]
  },
  {
   "cell_type": "markdown",
   "metadata": {},
   "source": [
    "<br>\n",
    "<br>\n",
    "\n",
    "**Note**: the feature_extraction document has a method called `.fit()` which will do the first actions in this notebook, all at once. These are:\n",
    "- dummies_types() which creates dummies for the \"type\" column\n",
    "- posts_len() which will generate a column with the length of the \"posts\" column\n",
    "- split_posts() which will separate the \"posts\" column into individual posts\n",
    "- avg_num_char() which will provide the average number of characters per post\n",
    "- num_links() which will return the number of hyperlinks a user made\n",
    "\n",
    "I will not use this method, I will go one by one to show how they work individually."
   ]
  },
  {
   "cell_type": "markdown",
   "metadata": {},
   "source": [
    "<a id='traits'></a>"
   ]
  },
  {
   "cell_type": "markdown",
   "metadata": {},
   "source": [
    "### Individual Traits\n",
    "***"
   ]
  },
  {
   "cell_type": "markdown",
   "metadata": {},
   "source": [
    "We can extract the individual traits and later evaluate them individually generating thus categories of 2 concepts:\n",
    "<ul><li>Introversion (I) – Extroversion (E)</li>\n",
    "<li>Intuition (N) – Sensing (S)</li>\n",
    "<li>Thinking (T) – Feeling (F)</li>\n",
    "<li>Judging (J) – Perceiving (P)</li></ul>"
   ]
  },
  {
   "cell_type": "code",
   "execution_count": 9,
   "metadata": {},
   "outputs": [],
   "source": [
    "# This line of code creates dummy variables for the \"types\" column\n",
    "df = fe.dummies_types(column='type', drop_first=True)"
   ]
  },
  {
   "cell_type": "code",
   "execution_count": 10,
   "metadata": {},
   "outputs": [
    {
     "data": {
      "text/html": [
       "<div>\n",
       "<style scoped>\n",
       "    .dataframe tbody tr th:only-of-type {\n",
       "        vertical-align: middle;\n",
       "    }\n",
       "\n",
       "    .dataframe tbody tr th {\n",
       "        vertical-align: top;\n",
       "    }\n",
       "\n",
       "    .dataframe thead th {\n",
       "        text-align: right;\n",
       "    }\n",
       "</style>\n",
       "<table border=\"1\" class=\"dataframe\">\n",
       "  <thead>\n",
       "    <tr style=\"text-align: right;\">\n",
       "      <th></th>\n",
       "      <th>type</th>\n",
       "      <th>posts</th>\n",
       "      <th>I</th>\n",
       "      <th>J</th>\n",
       "      <th>N</th>\n",
       "      <th>T</th>\n",
       "    </tr>\n",
       "  </thead>\n",
       "  <tbody>\n",
       "    <tr>\n",
       "      <th>0</th>\n",
       "      <td>INFJ</td>\n",
       "      <td>'http://www.youtube.com/watch?v=qsXHcwe3krw|||...</td>\n",
       "      <td>1</td>\n",
       "      <td>1</td>\n",
       "      <td>1</td>\n",
       "      <td>0</td>\n",
       "    </tr>\n",
       "    <tr>\n",
       "      <th>1</th>\n",
       "      <td>ENTP</td>\n",
       "      <td>'I'm finding the lack of me in these posts ver...</td>\n",
       "      <td>0</td>\n",
       "      <td>0</td>\n",
       "      <td>1</td>\n",
       "      <td>1</td>\n",
       "    </tr>\n",
       "    <tr>\n",
       "      <th>2</th>\n",
       "      <td>INTP</td>\n",
       "      <td>'Good one  _____   https://www.youtube.com/wat...</td>\n",
       "      <td>1</td>\n",
       "      <td>0</td>\n",
       "      <td>1</td>\n",
       "      <td>1</td>\n",
       "    </tr>\n",
       "    <tr>\n",
       "      <th>3</th>\n",
       "      <td>INTJ</td>\n",
       "      <td>'Dear INTP,   I enjoyed our conversation the o...</td>\n",
       "      <td>1</td>\n",
       "      <td>1</td>\n",
       "      <td>1</td>\n",
       "      <td>1</td>\n",
       "    </tr>\n",
       "    <tr>\n",
       "      <th>4</th>\n",
       "      <td>ENTJ</td>\n",
       "      <td>'You're fired.|||That's another silly misconce...</td>\n",
       "      <td>0</td>\n",
       "      <td>1</td>\n",
       "      <td>1</td>\n",
       "      <td>1</td>\n",
       "    </tr>\n",
       "    <tr>\n",
       "      <th>...</th>\n",
       "      <td>...</td>\n",
       "      <td>...</td>\n",
       "      <td>...</td>\n",
       "      <td>...</td>\n",
       "      <td>...</td>\n",
       "      <td>...</td>\n",
       "    </tr>\n",
       "    <tr>\n",
       "      <th>8670</th>\n",
       "      <td>ISFP</td>\n",
       "      <td>'https://www.youtube.com/watch?v=t8edHB_h908||...</td>\n",
       "      <td>1</td>\n",
       "      <td>0</td>\n",
       "      <td>0</td>\n",
       "      <td>0</td>\n",
       "    </tr>\n",
       "    <tr>\n",
       "      <th>8671</th>\n",
       "      <td>ENFP</td>\n",
       "      <td>'So...if this thread already exists someplace ...</td>\n",
       "      <td>0</td>\n",
       "      <td>0</td>\n",
       "      <td>1</td>\n",
       "      <td>0</td>\n",
       "    </tr>\n",
       "    <tr>\n",
       "      <th>8672</th>\n",
       "      <td>INTP</td>\n",
       "      <td>'So many questions when i do these things.  I ...</td>\n",
       "      <td>1</td>\n",
       "      <td>0</td>\n",
       "      <td>1</td>\n",
       "      <td>1</td>\n",
       "    </tr>\n",
       "    <tr>\n",
       "      <th>8673</th>\n",
       "      <td>INFP</td>\n",
       "      <td>'I am very conflicted right now when it comes ...</td>\n",
       "      <td>1</td>\n",
       "      <td>0</td>\n",
       "      <td>1</td>\n",
       "      <td>0</td>\n",
       "    </tr>\n",
       "    <tr>\n",
       "      <th>8674</th>\n",
       "      <td>INFP</td>\n",
       "      <td>'It has been too long since I have been on per...</td>\n",
       "      <td>1</td>\n",
       "      <td>0</td>\n",
       "      <td>1</td>\n",
       "      <td>0</td>\n",
       "    </tr>\n",
       "  </tbody>\n",
       "</table>\n",
       "<p>8675 rows × 6 columns</p>\n",
       "</div>"
      ],
      "text/plain": [
       "      type                                              posts  I  J  N  T\n",
       "0     INFJ  'http://www.youtube.com/watch?v=qsXHcwe3krw|||...  1  1  1  0\n",
       "1     ENTP  'I'm finding the lack of me in these posts ver...  0  0  1  1\n",
       "2     INTP  'Good one  _____   https://www.youtube.com/wat...  1  0  1  1\n",
       "3     INTJ  'Dear INTP,   I enjoyed our conversation the o...  1  1  1  1\n",
       "4     ENTJ  'You're fired.|||That's another silly misconce...  0  1  1  1\n",
       "...    ...                                                ... .. .. .. ..\n",
       "8670  ISFP  'https://www.youtube.com/watch?v=t8edHB_h908||...  1  0  0  0\n",
       "8671  ENFP  'So...if this thread already exists someplace ...  0  0  1  0\n",
       "8672  INTP  'So many questions when i do these things.  I ...  1  0  1  1\n",
       "8673  INFP  'I am very conflicted right now when it comes ...  1  0  1  0\n",
       "8674  INFP  'It has been too long since I have been on per...  1  0  1  0\n",
       "\n",
       "[8675 rows x 6 columns]"
      ]
     },
     "execution_count": 10,
     "metadata": {},
     "output_type": "execute_result"
    }
   ],
   "source": [
    "df"
   ]
  },
  {
   "cell_type": "markdown",
   "metadata": {},
   "source": [
    "<a id='len_posts'></a>\n",
    "<br>"
   ]
  },
  {
   "cell_type": "markdown",
   "metadata": {},
   "source": [
    "### Counting Length of Gathered Posts\n",
    "***"
   ]
  },
  {
   "cell_type": "code",
   "execution_count": 11,
   "metadata": {},
   "outputs": [],
   "source": [
    "# First we create a new feature with the length of all the posts. This will probably provide little insights since we do not know how the data was gathered\n",
    "fe.posts_len(df,'posts','posts_len')"
   ]
  },
  {
   "cell_type": "markdown",
   "metadata": {},
   "source": [
    "<a id='split'></a>\n",
    "<br>"
   ]
  },
  {
   "cell_type": "markdown",
   "metadata": {},
   "source": [
    "### Splitting Posts into Individual Posts\n",
    "***"
   ]
  },
  {
   "cell_type": "code",
   "execution_count": 12,
   "metadata": {},
   "outputs": [
    {
     "data": {
      "text/plain": [
       "[\"'http://www.youtube.com/watch?v=qsXHcwe3krw\",\n",
       " 'http://41.media.tumblr.com/tumblr_lfouy03PMA1qa1rooo1_500.jpg',\n",
       " 'enfp and intj moments  https://www.youtube.com/watch?v=iz7lE1g4XM4  sportscenter not top ten plays  https://www.youtube.com/watch?v=uCdfze1etec  pranks',\n",
       " 'What has been the most life-changing experience in your life?',\n",
       " 'http://www.youtube.com/watch?v=vXZeYwwRDw8   http://www.youtube.com/watch?v=u8ejam5DP3E  On repeat for most of today.',\n",
       " 'May the PerC Experience immerse you.',\n",
       " 'The last thing my INFJ friend posted on his facebook before committing suicide the next day. Rest in peace~   http://vimeo.com/22842206',\n",
       " \"Hello ENFJ7. Sorry to hear of your distress. It's only natural for a relationship to not be perfection all the time in every moment of existence. Try to figure the hard times as times of growth, as...\",\n",
       " '84389  84390  http://wallpaperpassion.com/upload/23700/friendship-boy-and-girl-wallpaper.jpg  http://assets.dornob.com/wp-content/uploads/2010/04/round-home-design.jpg ...',\n",
       " 'Welcome and stuff.']"
      ]
     },
     "execution_count": 12,
     "metadata": {},
     "output_type": "execute_result"
    }
   ],
   "source": [
    "# Let's split one observation to see what is contains, when we checked the header we saw that each post is separated with \"\"|||\"\n",
    "df.iloc[0,1].split('|||')[0:10]"
   ]
  },
  {
   "cell_type": "code",
   "execution_count": 13,
   "metadata": {},
   "outputs": [
    {
     "data": {
      "text/html": [
       "<div>\n",
       "<style scoped>\n",
       "    .dataframe tbody tr th:only-of-type {\n",
       "        vertical-align: middle;\n",
       "    }\n",
       "\n",
       "    .dataframe tbody tr th {\n",
       "        vertical-align: top;\n",
       "    }\n",
       "\n",
       "    .dataframe thead th {\n",
       "        text-align: right;\n",
       "    }\n",
       "</style>\n",
       "<table border=\"1\" class=\"dataframe\">\n",
       "  <thead>\n",
       "    <tr style=\"text-align: right;\">\n",
       "      <th></th>\n",
       "      <th>type</th>\n",
       "      <th>posts</th>\n",
       "      <th>I</th>\n",
       "      <th>J</th>\n",
       "      <th>N</th>\n",
       "      <th>T</th>\n",
       "      <th>posts_len</th>\n",
       "      <th>posts_separated</th>\n",
       "      <th>count_posts</th>\n",
       "    </tr>\n",
       "  </thead>\n",
       "  <tbody>\n",
       "    <tr>\n",
       "      <th>0</th>\n",
       "      <td>INFJ</td>\n",
       "      <td>'http://www.youtube.com/watch?v=qsXHcwe3krw|||...</td>\n",
       "      <td>1</td>\n",
       "      <td>1</td>\n",
       "      <td>1</td>\n",
       "      <td>0</td>\n",
       "      <td>4652</td>\n",
       "      <td>['http://www.youtube.com/watch?v=qsXHcwe3krw, ...</td>\n",
       "      <td>50</td>\n",
       "    </tr>\n",
       "    <tr>\n",
       "      <th>1</th>\n",
       "      <td>ENTP</td>\n",
       "      <td>'I'm finding the lack of me in these posts ver...</td>\n",
       "      <td>0</td>\n",
       "      <td>0</td>\n",
       "      <td>1</td>\n",
       "      <td>1</td>\n",
       "      <td>7053</td>\n",
       "      <td>['I'm finding the lack of me in these posts ve...</td>\n",
       "      <td>50</td>\n",
       "    </tr>\n",
       "    <tr>\n",
       "      <th>2</th>\n",
       "      <td>INTP</td>\n",
       "      <td>'Good one  _____   https://www.youtube.com/wat...</td>\n",
       "      <td>1</td>\n",
       "      <td>0</td>\n",
       "      <td>1</td>\n",
       "      <td>1</td>\n",
       "      <td>5265</td>\n",
       "      <td>['Good one  _____   https://www.youtube.com/wa...</td>\n",
       "      <td>50</td>\n",
       "    </tr>\n",
       "    <tr>\n",
       "      <th>3</th>\n",
       "      <td>INTJ</td>\n",
       "      <td>'Dear INTP,   I enjoyed our conversation the o...</td>\n",
       "      <td>1</td>\n",
       "      <td>1</td>\n",
       "      <td>1</td>\n",
       "      <td>1</td>\n",
       "      <td>6271</td>\n",
       "      <td>['Dear INTP,   I enjoyed our conversation the ...</td>\n",
       "      <td>50</td>\n",
       "    </tr>\n",
       "    <tr>\n",
       "      <th>4</th>\n",
       "      <td>ENTJ</td>\n",
       "      <td>'You're fired.|||That's another silly misconce...</td>\n",
       "      <td>0</td>\n",
       "      <td>1</td>\n",
       "      <td>1</td>\n",
       "      <td>1</td>\n",
       "      <td>6111</td>\n",
       "      <td>['You're fired., That's another silly misconce...</td>\n",
       "      <td>50</td>\n",
       "    </tr>\n",
       "  </tbody>\n",
       "</table>\n",
       "</div>"
      ],
      "text/plain": [
       "   type                                              posts  I  J  N  T  \\\n",
       "0  INFJ  'http://www.youtube.com/watch?v=qsXHcwe3krw|||...  1  1  1  0   \n",
       "1  ENTP  'I'm finding the lack of me in these posts ver...  0  0  1  1   \n",
       "2  INTP  'Good one  _____   https://www.youtube.com/wat...  1  0  1  1   \n",
       "3  INTJ  'Dear INTP,   I enjoyed our conversation the o...  1  1  1  1   \n",
       "4  ENTJ  'You're fired.|||That's another silly misconce...  0  1  1  1   \n",
       "\n",
       "   posts_len                                    posts_separated  count_posts  \n",
       "0       4652  ['http://www.youtube.com/watch?v=qsXHcwe3krw, ...           50  \n",
       "1       7053  ['I'm finding the lack of me in these posts ve...           50  \n",
       "2       5265  ['Good one  _____   https://www.youtube.com/wa...           50  \n",
       "3       6271  ['Dear INTP,   I enjoyed our conversation the ...           50  \n",
       "4       6111  ['You're fired., That's another silly misconce...           50  "
      ]
     },
     "execution_count": 13,
     "metadata": {},
     "output_type": "execute_result"
    }
   ],
   "source": [
    "# This will generate a column with the number of posts separated and if we specify count_posts as True it will generate another column with the number of total posts gathered for that person\n",
    "fe.split_posts(column='posts', separator='|||', new_col_name='posts_separated', count_posts=True)"
   ]
  },
  {
   "cell_type": "code",
   "execution_count": 14,
   "metadata": {},
   "outputs": [
    {
     "data": {
      "text/plain": [
       "50    7587\n",
       "47      82\n",
       "48      79\n",
       "42      61\n",
       "49      60\n",
       "46      54\n",
       "44      52\n",
       "39      39\n",
       "40      37\n",
       "37      35\n",
       "Name: count_posts, dtype: int64"
      ]
     },
     "execution_count": 14,
     "metadata": {},
     "output_type": "execute_result"
    }
   ],
   "source": [
    "# Let's check the results from the previous line of code. It does not seem a very reliable category being so skewed towards 50\n",
    "df.count_posts.value_counts().head(10)"
   ]
  },
  {
   "cell_type": "markdown",
   "metadata": {},
   "source": [
    "<a id='avg_num_char'></a>"
   ]
  },
  {
   "cell_type": "markdown",
   "metadata": {},
   "source": [
    "<a id='avg_num_char'></a>\n",
    "<br>\n",
    "### Average Number of Characters per Post\n",
    "***"
   ]
  },
  {
   "cell_type": "code",
   "execution_count": 16,
   "metadata": {},
   "outputs": [],
   "source": [
    "# Maybe the average number of characters used in each post wil provide us with more information since the number of posts was not very useful\n",
    "fe.avg_num_char(column='posts_separated', new_col_name='avg_num_char_x_post')"
   ]
  },
  {
   "cell_type": "markdown",
   "metadata": {},
   "source": [
    "<a id='links'></a>\n",
    "<br>"
   ]
  },
  {
   "cell_type": "markdown",
   "metadata": {},
   "source": [
    "### Number of Hyperlinks per Post\n",
    "***"
   ]
  },
  {
   "cell_type": "code",
   "execution_count": 17,
   "metadata": {},
   "outputs": [],
   "source": [
    "# What about the number of links a persons uses?\n",
    "fe.num_links(column='posts_separated', new_col_name='num_of_links')"
   ]
  },
  {
   "cell_type": "markdown",
   "metadata": {},
   "source": [
    "<a id='keirsey'></a>\n",
    "<br>"
   ]
  },
  {
   "cell_type": "markdown",
   "metadata": {},
   "source": [
    "### Keirsey Temperament\n",
    "***"
   ]
  },
  {
   "cell_type": "code",
   "execution_count": 18,
   "metadata": {},
   "outputs": [
    {
     "data": {
      "text/plain": [
       "array(['INFJ', 'ENTP', 'INTP', 'INTJ', 'ENTJ', 'ENFJ', 'INFP', 'ENFP',\n",
       "       'ISFP', 'ISTP', 'ISFJ', 'ISTJ', 'ESTP', 'ESFP', 'ESTJ', 'ESFJ'],\n",
       "      dtype=object)"
      ]
     },
     "execution_count": 18,
     "metadata": {},
     "output_type": "execute_result"
    }
   ],
   "source": [
    "# Let's check how many unique types of MBTI profiles exist\n",
    "types = df['type'].unique()\n",
    "types"
   ]
  },
  {
   "cell_type": "markdown",
   "metadata": {},
   "source": [
    "<br>\n",
    "This is correct, there are 16 different personality types according to MBTI. In the EDA section we will check how many observations of each type we have, but for now can expect that 16 types are maybe too many to predict. Consequently, we can try to narrow it down. We have several options, to do it into each category (e.g. Introversion and Extroversion) or to do it for through Keirsey's Temperaments."
   ]
  },
  {
   "cell_type": "markdown",
   "metadata": {},
   "source": [
    "We need to be careful howeever, Keirsey's Temperaments (KT) are \"closely associated with the Myers–Briggs Type Indicator (MBTI); however, there are significant practical and theoretical differences between the two personality questionnaires and their associated different descriptions.\" [Wikipedia](https://en.wikipedia.org/wiki/Keirsey_Temperament_Sorter). If we use them we are assuming that the content of the posts assigned to each MBTI profile can be translated into KT. We need to keep this in mind."
   ]
  },
  {
   "cell_type": "code",
   "execution_count": 19,
   "metadata": {},
   "outputs": [],
   "source": [
    "# We extract the Keirsey Temperaments into new columns\n",
    "for num, kt in zip(np.arange(6,10), ['NF','NT','S.P','S.J']):\n",
    "    fe.keisey_temp('type', kt, col_index=int(num))"
   ]
  },
  {
   "cell_type": "code",
   "execution_count": 20,
   "metadata": {},
   "outputs": [
    {
     "data": {
      "text/html": [
       "<div>\n",
       "<style scoped>\n",
       "    .dataframe tbody tr th:only-of-type {\n",
       "        vertical-align: middle;\n",
       "    }\n",
       "\n",
       "    .dataframe tbody tr th {\n",
       "        vertical-align: top;\n",
       "    }\n",
       "\n",
       "    .dataframe thead th {\n",
       "        text-align: right;\n",
       "    }\n",
       "</style>\n",
       "<table border=\"1\" class=\"dataframe\">\n",
       "  <thead>\n",
       "    <tr style=\"text-align: right;\">\n",
       "      <th></th>\n",
       "      <th>type</th>\n",
       "      <th>posts</th>\n",
       "      <th>I</th>\n",
       "      <th>J</th>\n",
       "      <th>N</th>\n",
       "      <th>T</th>\n",
       "      <th>NF</th>\n",
       "      <th>NT</th>\n",
       "      <th>SP</th>\n",
       "      <th>SJ</th>\n",
       "      <th>posts_len</th>\n",
       "      <th>posts_separated</th>\n",
       "      <th>count_posts</th>\n",
       "      <th>avg_num_char_x_post</th>\n",
       "      <th>num_of_links</th>\n",
       "    </tr>\n",
       "  </thead>\n",
       "  <tbody>\n",
       "    <tr>\n",
       "      <th>0</th>\n",
       "      <td>INFJ</td>\n",
       "      <td>'http://www.youtube.com/watch?v=qsXHcwe3krw|||...</td>\n",
       "      <td>1</td>\n",
       "      <td>1</td>\n",
       "      <td>1</td>\n",
       "      <td>0</td>\n",
       "      <td>1</td>\n",
       "      <td>0</td>\n",
       "      <td>0</td>\n",
       "      <td>0</td>\n",
       "      <td>4652</td>\n",
       "      <td>['http://www.youtube.com/watch?v=qsXHcwe3krw, ...</td>\n",
       "      <td>50</td>\n",
       "      <td>90.10</td>\n",
       "      <td>24</td>\n",
       "    </tr>\n",
       "    <tr>\n",
       "      <th>1</th>\n",
       "      <td>ENTP</td>\n",
       "      <td>'I'm finding the lack of me in these posts ver...</td>\n",
       "      <td>0</td>\n",
       "      <td>0</td>\n",
       "      <td>1</td>\n",
       "      <td>1</td>\n",
       "      <td>0</td>\n",
       "      <td>1</td>\n",
       "      <td>0</td>\n",
       "      <td>0</td>\n",
       "      <td>7053</td>\n",
       "      <td>['I'm finding the lack of me in these posts ve...</td>\n",
       "      <td>50</td>\n",
       "      <td>138.12</td>\n",
       "      <td>10</td>\n",
       "    </tr>\n",
       "    <tr>\n",
       "      <th>2</th>\n",
       "      <td>INTP</td>\n",
       "      <td>'Good one  _____   https://www.youtube.com/wat...</td>\n",
       "      <td>1</td>\n",
       "      <td>0</td>\n",
       "      <td>1</td>\n",
       "      <td>1</td>\n",
       "      <td>0</td>\n",
       "      <td>1</td>\n",
       "      <td>0</td>\n",
       "      <td>0</td>\n",
       "      <td>5265</td>\n",
       "      <td>['Good one  _____   https://www.youtube.com/wa...</td>\n",
       "      <td>50</td>\n",
       "      <td>102.36</td>\n",
       "      <td>5</td>\n",
       "    </tr>\n",
       "  </tbody>\n",
       "</table>\n",
       "</div>"
      ],
      "text/plain": [
       "   type                                              posts  I  J  N  T  NF  \\\n",
       "0  INFJ  'http://www.youtube.com/watch?v=qsXHcwe3krw|||...  1  1  1  0   1   \n",
       "1  ENTP  'I'm finding the lack of me in these posts ver...  0  0  1  1   0   \n",
       "2  INTP  'Good one  _____   https://www.youtube.com/wat...  1  0  1  1   0   \n",
       "\n",
       "   NT  SP  SJ  posts_len                                    posts_separated  \\\n",
       "0   0   0   0       4652  ['http://www.youtube.com/watch?v=qsXHcwe3krw, ...   \n",
       "1   1   0   0       7053  ['I'm finding the lack of me in these posts ve...   \n",
       "2   1   0   0       5265  ['Good one  _____   https://www.youtube.com/wa...   \n",
       "\n",
       "   count_posts  avg_num_char_x_post  num_of_links  \n",
       "0           50                90.10            24  \n",
       "1           50               138.12            10  \n",
       "2           50               102.36             5  "
      ]
     },
     "execution_count": 20,
     "metadata": {},
     "output_type": "execute_result"
    }
   ],
   "source": [
    "df.head(3)"
   ]
  },
  {
   "cell_type": "markdown",
   "metadata": {},
   "source": [
    "<a id='emojis'></a>\n",
    "</br>"
   ]
  },
  {
   "cell_type": "markdown",
   "metadata": {},
   "source": [
    "### Use of Emoticons\n",
    "***"
   ]
  },
  {
   "cell_type": "code",
   "execution_count": 21,
   "metadata": {},
   "outputs": [],
   "source": [
    "emoticons = [':D', ';D', ':)',';)',':(','xD','XD']"
   ]
  },
  {
   "cell_type": "code",
   "execution_count": 22,
   "metadata": {},
   "outputs": [],
   "source": [
    "fe.get_emoticons('posts_separated', emoticons, total=True, average=True)"
   ]
  },
  {
   "cell_type": "code",
   "execution_count": 23,
   "metadata": {},
   "outputs": [
    {
     "data": {
      "text/html": [
       "<div>\n",
       "<style scoped>\n",
       "    .dataframe tbody tr th:only-of-type {\n",
       "        vertical-align: middle;\n",
       "    }\n",
       "\n",
       "    .dataframe tbody tr th {\n",
       "        vertical-align: top;\n",
       "    }\n",
       "\n",
       "    .dataframe thead th {\n",
       "        text-align: right;\n",
       "    }\n",
       "</style>\n",
       "<table border=\"1\" class=\"dataframe\">\n",
       "  <thead>\n",
       "    <tr style=\"text-align: right;\">\n",
       "      <th></th>\n",
       "      <th>type</th>\n",
       "      <th>posts</th>\n",
       "      <th>I</th>\n",
       "      <th>J</th>\n",
       "      <th>N</th>\n",
       "      <th>T</th>\n",
       "      <th>NF</th>\n",
       "      <th>NT</th>\n",
       "      <th>SP</th>\n",
       "      <th>SJ</th>\n",
       "      <th>...</th>\n",
       "      <th>num_of_links</th>\n",
       "      <th>:D_count</th>\n",
       "      <th>;D_count</th>\n",
       "      <th>:)_count</th>\n",
       "      <th>;)_count</th>\n",
       "      <th>:(_count</th>\n",
       "      <th>xD_count</th>\n",
       "      <th>XD_count</th>\n",
       "      <th>total_emoticons</th>\n",
       "      <th>avg_emoticons_per_post</th>\n",
       "    </tr>\n",
       "  </thead>\n",
       "  <tbody>\n",
       "    <tr>\n",
       "      <th>0</th>\n",
       "      <td>INFJ</td>\n",
       "      <td>'http://www.youtube.com/watch?v=qsXHcwe3krw|||...</td>\n",
       "      <td>1</td>\n",
       "      <td>1</td>\n",
       "      <td>1</td>\n",
       "      <td>0</td>\n",
       "      <td>1</td>\n",
       "      <td>0</td>\n",
       "      <td>0</td>\n",
       "      <td>0</td>\n",
       "      <td>...</td>\n",
       "      <td>24</td>\n",
       "      <td>0</td>\n",
       "      <td>0</td>\n",
       "      <td>0</td>\n",
       "      <td>0</td>\n",
       "      <td>0</td>\n",
       "      <td>0</td>\n",
       "      <td>0</td>\n",
       "      <td>0</td>\n",
       "      <td>0.00</td>\n",
       "    </tr>\n",
       "    <tr>\n",
       "      <th>1</th>\n",
       "      <td>ENTP</td>\n",
       "      <td>'I'm finding the lack of me in these posts ver...</td>\n",
       "      <td>0</td>\n",
       "      <td>0</td>\n",
       "      <td>1</td>\n",
       "      <td>1</td>\n",
       "      <td>0</td>\n",
       "      <td>1</td>\n",
       "      <td>0</td>\n",
       "      <td>0</td>\n",
       "      <td>...</td>\n",
       "      <td>10</td>\n",
       "      <td>9</td>\n",
       "      <td>3</td>\n",
       "      <td>5</td>\n",
       "      <td>0</td>\n",
       "      <td>0</td>\n",
       "      <td>0</td>\n",
       "      <td>0</td>\n",
       "      <td>17</td>\n",
       "      <td>0.34</td>\n",
       "    </tr>\n",
       "    <tr>\n",
       "      <th>2</th>\n",
       "      <td>INTP</td>\n",
       "      <td>'Good one  _____   https://www.youtube.com/wat...</td>\n",
       "      <td>1</td>\n",
       "      <td>0</td>\n",
       "      <td>1</td>\n",
       "      <td>1</td>\n",
       "      <td>0</td>\n",
       "      <td>1</td>\n",
       "      <td>0</td>\n",
       "      <td>0</td>\n",
       "      <td>...</td>\n",
       "      <td>5</td>\n",
       "      <td>2</td>\n",
       "      <td>0</td>\n",
       "      <td>7</td>\n",
       "      <td>0</td>\n",
       "      <td>0</td>\n",
       "      <td>0</td>\n",
       "      <td>0</td>\n",
       "      <td>9</td>\n",
       "      <td>0.18</td>\n",
       "    </tr>\n",
       "    <tr>\n",
       "      <th>3</th>\n",
       "      <td>INTJ</td>\n",
       "      <td>'Dear INTP,   I enjoyed our conversation the o...</td>\n",
       "      <td>1</td>\n",
       "      <td>1</td>\n",
       "      <td>1</td>\n",
       "      <td>1</td>\n",
       "      <td>0</td>\n",
       "      <td>1</td>\n",
       "      <td>0</td>\n",
       "      <td>0</td>\n",
       "      <td>...</td>\n",
       "      <td>2</td>\n",
       "      <td>0</td>\n",
       "      <td>0</td>\n",
       "      <td>0</td>\n",
       "      <td>0</td>\n",
       "      <td>0</td>\n",
       "      <td>0</td>\n",
       "      <td>0</td>\n",
       "      <td>0</td>\n",
       "      <td>0.00</td>\n",
       "    </tr>\n",
       "    <tr>\n",
       "      <th>4</th>\n",
       "      <td>ENTJ</td>\n",
       "      <td>'You're fired.|||That's another silly misconce...</td>\n",
       "      <td>0</td>\n",
       "      <td>1</td>\n",
       "      <td>1</td>\n",
       "      <td>1</td>\n",
       "      <td>0</td>\n",
       "      <td>1</td>\n",
       "      <td>0</td>\n",
       "      <td>0</td>\n",
       "      <td>...</td>\n",
       "      <td>6</td>\n",
       "      <td>0</td>\n",
       "      <td>0</td>\n",
       "      <td>0</td>\n",
       "      <td>1</td>\n",
       "      <td>0</td>\n",
       "      <td>0</td>\n",
       "      <td>1</td>\n",
       "      <td>2</td>\n",
       "      <td>0.04</td>\n",
       "    </tr>\n",
       "  </tbody>\n",
       "</table>\n",
       "<p>5 rows × 24 columns</p>\n",
       "</div>"
      ],
      "text/plain": [
       "   type                                              posts  I  J  N  T  NF  \\\n",
       "0  INFJ  'http://www.youtube.com/watch?v=qsXHcwe3krw|||...  1  1  1  0   1   \n",
       "1  ENTP  'I'm finding the lack of me in these posts ver...  0  0  1  1   0   \n",
       "2  INTP  'Good one  _____   https://www.youtube.com/wat...  1  0  1  1   0   \n",
       "3  INTJ  'Dear INTP,   I enjoyed our conversation the o...  1  1  1  1   0   \n",
       "4  ENTJ  'You're fired.|||That's another silly misconce...  0  1  1  1   0   \n",
       "\n",
       "   NT  SP  SJ  ...  num_of_links :D_count  ;D_count  :)_count  ;)_count  \\\n",
       "0   0   0   0  ...            24        0         0         0         0   \n",
       "1   1   0   0  ...            10        9         3         5         0   \n",
       "2   1   0   0  ...             5        2         0         7         0   \n",
       "3   1   0   0  ...             2        0         0         0         0   \n",
       "4   1   0   0  ...             6        0         0         0         1   \n",
       "\n",
       "   :(_count  xD_count  XD_count  total_emoticons  avg_emoticons_per_post  \n",
       "0         0         0         0                0                    0.00  \n",
       "1         0         0         0               17                    0.34  \n",
       "2         0         0         0                9                    0.18  \n",
       "3         0         0         0                0                    0.00  \n",
       "4         0         0         1                2                    0.04  \n",
       "\n",
       "[5 rows x 24 columns]"
      ]
     },
     "execution_count": 23,
     "metadata": {},
     "output_type": "execute_result"
    }
   ],
   "source": [
    "df.head()"
   ]
  },
  {
   "cell_type": "markdown",
   "metadata": {},
   "source": [
    "<a id='mentions'></a>\n",
    "</br>"
   ]
  },
  {
   "cell_type": "markdown",
   "metadata": {},
   "source": [
    "### Mentions of same MBTI types and other MBTI types\n",
    "***"
   ]
  },
  {
   "cell_type": "code",
   "execution_count": 23,
   "metadata": {},
   "outputs": [],
   "source": [
    "fe.get_mentions('posts_separated', types, total=True, average=True)"
   ]
  },
  {
   "cell_type": "code",
   "execution_count": 24,
   "metadata": {},
   "outputs": [
    {
     "data": {
      "text/html": [
       "<div>\n",
       "<style scoped>\n",
       "    .dataframe tbody tr th:only-of-type {\n",
       "        vertical-align: middle;\n",
       "    }\n",
       "\n",
       "    .dataframe tbody tr th {\n",
       "        vertical-align: top;\n",
       "    }\n",
       "\n",
       "    .dataframe thead th {\n",
       "        text-align: right;\n",
       "    }\n",
       "</style>\n",
       "<table border=\"1\" class=\"dataframe\">\n",
       "  <thead>\n",
       "    <tr style=\"text-align: right;\">\n",
       "      <th></th>\n",
       "      <th>type</th>\n",
       "      <th>posts</th>\n",
       "      <th>I</th>\n",
       "      <th>J</th>\n",
       "      <th>N</th>\n",
       "      <th>T</th>\n",
       "      <th>NF</th>\n",
       "      <th>NT</th>\n",
       "      <th>SP</th>\n",
       "      <th>SJ</th>\n",
       "      <th>...</th>\n",
       "      <th>ISFP_mentions</th>\n",
       "      <th>ISTP_mentions</th>\n",
       "      <th>ISFJ_mentions</th>\n",
       "      <th>ISTJ_mentions</th>\n",
       "      <th>ESTP_mentions</th>\n",
       "      <th>ESFP_mentions</th>\n",
       "      <th>ESTJ_mentions</th>\n",
       "      <th>ESFJ_mentions</th>\n",
       "      <th>total_mentions</th>\n",
       "      <th>avg_mentions_per_post</th>\n",
       "    </tr>\n",
       "  </thead>\n",
       "  <tbody>\n",
       "    <tr>\n",
       "      <th>0</th>\n",
       "      <td>INFJ</td>\n",
       "      <td>'http://www.youtube.com/watch?v=qsXHcwe3krw|||...</td>\n",
       "      <td>1</td>\n",
       "      <td>1</td>\n",
       "      <td>1</td>\n",
       "      <td>0</td>\n",
       "      <td>1</td>\n",
       "      <td>0</td>\n",
       "      <td>0</td>\n",
       "      <td>0</td>\n",
       "      <td>...</td>\n",
       "      <td>0</td>\n",
       "      <td>0</td>\n",
       "      <td>0</td>\n",
       "      <td>0</td>\n",
       "      <td>0</td>\n",
       "      <td>0</td>\n",
       "      <td>0</td>\n",
       "      <td>0</td>\n",
       "      <td>8</td>\n",
       "      <td>0.16</td>\n",
       "    </tr>\n",
       "    <tr>\n",
       "      <th>1</th>\n",
       "      <td>ENTP</td>\n",
       "      <td>'I'm finding the lack of me in these posts ver...</td>\n",
       "      <td>0</td>\n",
       "      <td>0</td>\n",
       "      <td>1</td>\n",
       "      <td>1</td>\n",
       "      <td>0</td>\n",
       "      <td>1</td>\n",
       "      <td>0</td>\n",
       "      <td>0</td>\n",
       "      <td>...</td>\n",
       "      <td>0</td>\n",
       "      <td>0</td>\n",
       "      <td>0</td>\n",
       "      <td>0</td>\n",
       "      <td>0</td>\n",
       "      <td>0</td>\n",
       "      <td>2</td>\n",
       "      <td>0</td>\n",
       "      <td>19</td>\n",
       "      <td>0.38</td>\n",
       "    </tr>\n",
       "    <tr>\n",
       "      <th>2</th>\n",
       "      <td>INTP</td>\n",
       "      <td>'Good one  _____   https://www.youtube.com/wat...</td>\n",
       "      <td>1</td>\n",
       "      <td>0</td>\n",
       "      <td>1</td>\n",
       "      <td>1</td>\n",
       "      <td>0</td>\n",
       "      <td>1</td>\n",
       "      <td>0</td>\n",
       "      <td>0</td>\n",
       "      <td>...</td>\n",
       "      <td>0</td>\n",
       "      <td>1</td>\n",
       "      <td>0</td>\n",
       "      <td>0</td>\n",
       "      <td>0</td>\n",
       "      <td>0</td>\n",
       "      <td>0</td>\n",
       "      <td>0</td>\n",
       "      <td>4</td>\n",
       "      <td>0.08</td>\n",
       "    </tr>\n",
       "    <tr>\n",
       "      <th>3</th>\n",
       "      <td>INTJ</td>\n",
       "      <td>'Dear INTP,   I enjoyed our conversation the o...</td>\n",
       "      <td>1</td>\n",
       "      <td>1</td>\n",
       "      <td>1</td>\n",
       "      <td>1</td>\n",
       "      <td>0</td>\n",
       "      <td>1</td>\n",
       "      <td>0</td>\n",
       "      <td>0</td>\n",
       "      <td>...</td>\n",
       "      <td>0</td>\n",
       "      <td>0</td>\n",
       "      <td>0</td>\n",
       "      <td>0</td>\n",
       "      <td>0</td>\n",
       "      <td>0</td>\n",
       "      <td>0</td>\n",
       "      <td>3</td>\n",
       "      <td>12</td>\n",
       "      <td>0.24</td>\n",
       "    </tr>\n",
       "    <tr>\n",
       "      <th>4</th>\n",
       "      <td>ENTJ</td>\n",
       "      <td>'You're fired.|||That's another silly misconce...</td>\n",
       "      <td>0</td>\n",
       "      <td>1</td>\n",
       "      <td>1</td>\n",
       "      <td>1</td>\n",
       "      <td>0</td>\n",
       "      <td>1</td>\n",
       "      <td>0</td>\n",
       "      <td>0</td>\n",
       "      <td>...</td>\n",
       "      <td>0</td>\n",
       "      <td>0</td>\n",
       "      <td>0</td>\n",
       "      <td>0</td>\n",
       "      <td>0</td>\n",
       "      <td>0</td>\n",
       "      <td>0</td>\n",
       "      <td>0</td>\n",
       "      <td>5</td>\n",
       "      <td>0.10</td>\n",
       "    </tr>\n",
       "  </tbody>\n",
       "</table>\n",
       "<p>5 rows × 42 columns</p>\n",
       "</div>"
      ],
      "text/plain": [
       "   type                                              posts  I  J  N  T  NF  \\\n",
       "0  INFJ  'http://www.youtube.com/watch?v=qsXHcwe3krw|||...  1  1  1  0   1   \n",
       "1  ENTP  'I'm finding the lack of me in these posts ver...  0  0  1  1   0   \n",
       "2  INTP  'Good one  _____   https://www.youtube.com/wat...  1  0  1  1   0   \n",
       "3  INTJ  'Dear INTP,   I enjoyed our conversation the o...  1  1  1  1   0   \n",
       "4  ENTJ  'You're fired.|||That's another silly misconce...  0  1  1  1   0   \n",
       "\n",
       "   NT  SP  SJ  ...  ISFP_mentions ISTP_mentions  ISFJ_mentions  ISTJ_mentions  \\\n",
       "0   0   0   0  ...              0             0              0              0   \n",
       "1   1   0   0  ...              0             0              0              0   \n",
       "2   1   0   0  ...              0             1              0              0   \n",
       "3   1   0   0  ...              0             0              0              0   \n",
       "4   1   0   0  ...              0             0              0              0   \n",
       "\n",
       "   ESTP_mentions  ESFP_mentions  ESTJ_mentions  ESFJ_mentions  total_mentions  \\\n",
       "0              0              0              0              0               8   \n",
       "1              0              0              2              0              19   \n",
       "2              0              0              0              0               4   \n",
       "3              0              0              0              3              12   \n",
       "4              0              0              0              0               5   \n",
       "\n",
       "   avg_mentions_per_post  \n",
       "0                   0.16  \n",
       "1                   0.38  \n",
       "2                   0.08  \n",
       "3                   0.24  \n",
       "4                   0.10  \n",
       "\n",
       "[5 rows x 42 columns]"
      ]
     },
     "execution_count": 24,
     "metadata": {},
     "output_type": "execute_result"
    }
   ],
   "source": [
    "df.head()"
   ]
  },
  {
   "cell_type": "markdown",
   "metadata": {},
   "source": [
    "<a id='words'></a>\n",
    "</br>"
   ]
  },
  {
   "cell_type": "markdown",
   "metadata": {},
   "source": [
    "### Word Extraction\n",
    "***"
   ]
  },
  {
   "cell_type": "code",
   "execution_count": 25,
   "metadata": {},
   "outputs": [],
   "source": [
    "# Leave spaces before and after the word so it does not take into account words that contain these letters. Here we search for 1st person pronouns.\n",
    "word_list = [' I ', ' me ', ' my ', ' mine ', ' myself ', ' We ', ' us ', ' our',' ourselves ']\n",
    "fe.extract_words(word_list, total=True, total_col_name='total_first_person', average=True, avg_col_name='avg_first_person')"
   ]
  },
  {
   "cell_type": "code",
   "execution_count": 26,
   "metadata": {},
   "outputs": [],
   "source": [
    "# with this list we search for 2nd person pronouns.\n",
    "word_list = [' you ', ' your ', ' yours ', ' yourself ', ' yourselves ']\n",
    "fe.extract_words(word_list, total=True, total_col_name='total_second_person', average=True, avg_col_name='avg_second_person')"
   ]
  },
  {
   "cell_type": "code",
   "execution_count": 27,
   "metadata": {},
   "outputs": [],
   "source": [
    "# with this list we search for 3rd person pronouns.\n",
    "word_list = [' he ', ' him ', ' his ', ' himself ', ' she ', ' her ', ' hers ', ' herself ', ' they ', ' them ', ' their ', ' theirs', ' themselves '] # it, its, itself, left out\n",
    "fe.extract_words(word_list, total=True, total_col_name='total_third_person', average=True, avg_col_name='avg_third_person')"
   ]
  },
  {
   "cell_type": "code",
   "execution_count": 28,
   "metadata": {},
   "outputs": [
    {
     "data": {
      "text/html": [
       "<div>\n",
       "<style scoped>\n",
       "    .dataframe tbody tr th:only-of-type {\n",
       "        vertical-align: middle;\n",
       "    }\n",
       "\n",
       "    .dataframe tbody tr th {\n",
       "        vertical-align: top;\n",
       "    }\n",
       "\n",
       "    .dataframe thead th {\n",
       "        text-align: right;\n",
       "    }\n",
       "</style>\n",
       "<table border=\"1\" class=\"dataframe\">\n",
       "  <thead>\n",
       "    <tr style=\"text-align: right;\">\n",
       "      <th></th>\n",
       "      <th>type</th>\n",
       "      <th>posts</th>\n",
       "      <th>I</th>\n",
       "      <th>J</th>\n",
       "      <th>N</th>\n",
       "      <th>T</th>\n",
       "      <th>NF</th>\n",
       "      <th>NT</th>\n",
       "      <th>SP</th>\n",
       "      <th>SJ</th>\n",
       "      <th>...</th>\n",
       "      <th>her_count</th>\n",
       "      <th>hers_count</th>\n",
       "      <th>herself_count</th>\n",
       "      <th>they_count</th>\n",
       "      <th>them_count</th>\n",
       "      <th>their_count</th>\n",
       "      <th>theirs_count</th>\n",
       "      <th>themselves_count</th>\n",
       "      <th>total_third_person</th>\n",
       "      <th>avg_third_person</th>\n",
       "    </tr>\n",
       "  </thead>\n",
       "  <tbody>\n",
       "    <tr>\n",
       "      <th>0</th>\n",
       "      <td>INFJ</td>\n",
       "      <td>'http://www.youtube.com/watch?v=qsXHcwe3krw|||...</td>\n",
       "      <td>1</td>\n",
       "      <td>1</td>\n",
       "      <td>1</td>\n",
       "      <td>0</td>\n",
       "      <td>1</td>\n",
       "      <td>0</td>\n",
       "      <td>0</td>\n",
       "      <td>0</td>\n",
       "      <td>...</td>\n",
       "      <td>0</td>\n",
       "      <td>0</td>\n",
       "      <td>1</td>\n",
       "      <td>1</td>\n",
       "      <td>1</td>\n",
       "      <td>2</td>\n",
       "      <td>0</td>\n",
       "      <td>0</td>\n",
       "      <td>7</td>\n",
       "      <td>0.14</td>\n",
       "    </tr>\n",
       "    <tr>\n",
       "      <th>1</th>\n",
       "      <td>ENTP</td>\n",
       "      <td>'I'm finding the lack of me in these posts ver...</td>\n",
       "      <td>0</td>\n",
       "      <td>0</td>\n",
       "      <td>1</td>\n",
       "      <td>1</td>\n",
       "      <td>0</td>\n",
       "      <td>1</td>\n",
       "      <td>0</td>\n",
       "      <td>0</td>\n",
       "      <td>...</td>\n",
       "      <td>0</td>\n",
       "      <td>0</td>\n",
       "      <td>0</td>\n",
       "      <td>3</td>\n",
       "      <td>5</td>\n",
       "      <td>4</td>\n",
       "      <td>0</td>\n",
       "      <td>1</td>\n",
       "      <td>20</td>\n",
       "      <td>0.40</td>\n",
       "    </tr>\n",
       "    <tr>\n",
       "      <th>2</th>\n",
       "      <td>INTP</td>\n",
       "      <td>'Good one  _____   https://www.youtube.com/wat...</td>\n",
       "      <td>1</td>\n",
       "      <td>0</td>\n",
       "      <td>1</td>\n",
       "      <td>1</td>\n",
       "      <td>0</td>\n",
       "      <td>1</td>\n",
       "      <td>0</td>\n",
       "      <td>0</td>\n",
       "      <td>...</td>\n",
       "      <td>0</td>\n",
       "      <td>0</td>\n",
       "      <td>0</td>\n",
       "      <td>0</td>\n",
       "      <td>2</td>\n",
       "      <td>0</td>\n",
       "      <td>0</td>\n",
       "      <td>0</td>\n",
       "      <td>3</td>\n",
       "      <td>0.06</td>\n",
       "    </tr>\n",
       "    <tr>\n",
       "      <th>3</th>\n",
       "      <td>INTJ</td>\n",
       "      <td>'Dear INTP,   I enjoyed our conversation the o...</td>\n",
       "      <td>1</td>\n",
       "      <td>1</td>\n",
       "      <td>1</td>\n",
       "      <td>1</td>\n",
       "      <td>0</td>\n",
       "      <td>1</td>\n",
       "      <td>0</td>\n",
       "      <td>0</td>\n",
       "      <td>...</td>\n",
       "      <td>5</td>\n",
       "      <td>0</td>\n",
       "      <td>1</td>\n",
       "      <td>1</td>\n",
       "      <td>2</td>\n",
       "      <td>2</td>\n",
       "      <td>0</td>\n",
       "      <td>0</td>\n",
       "      <td>15</td>\n",
       "      <td>0.30</td>\n",
       "    </tr>\n",
       "    <tr>\n",
       "      <th>4</th>\n",
       "      <td>ENTJ</td>\n",
       "      <td>'You're fired.|||That's another silly misconce...</td>\n",
       "      <td>0</td>\n",
       "      <td>1</td>\n",
       "      <td>1</td>\n",
       "      <td>1</td>\n",
       "      <td>0</td>\n",
       "      <td>1</td>\n",
       "      <td>0</td>\n",
       "      <td>0</td>\n",
       "      <td>...</td>\n",
       "      <td>3</td>\n",
       "      <td>0</td>\n",
       "      <td>0</td>\n",
       "      <td>9</td>\n",
       "      <td>2</td>\n",
       "      <td>6</td>\n",
       "      <td>0</td>\n",
       "      <td>1</td>\n",
       "      <td>37</td>\n",
       "      <td>0.74</td>\n",
       "    </tr>\n",
       "  </tbody>\n",
       "</table>\n",
       "<p>5 rows × 75 columns</p>\n",
       "</div>"
      ],
      "text/plain": [
       "   type                                              posts  I  J  N  T  NF  \\\n",
       "0  INFJ  'http://www.youtube.com/watch?v=qsXHcwe3krw|||...  1  1  1  0   1   \n",
       "1  ENTP  'I'm finding the lack of me in these posts ver...  0  0  1  1   0   \n",
       "2  INTP  'Good one  _____   https://www.youtube.com/wat...  1  0  1  1   0   \n",
       "3  INTJ  'Dear INTP,   I enjoyed our conversation the o...  1  1  1  1   0   \n",
       "4  ENTJ  'You're fired.|||That's another silly misconce...  0  1  1  1   0   \n",
       "\n",
       "   NT  SP  SJ  ...  her_count hers_count  herself_count  they_count  \\\n",
       "0   0   0   0  ...          0          0              1           1   \n",
       "1   1   0   0  ...          0          0              0           3   \n",
       "2   1   0   0  ...          0          0              0           0   \n",
       "3   1   0   0  ...          5          0              1           1   \n",
       "4   1   0   0  ...          3          0              0           9   \n",
       "\n",
       "   them_count  their_count  theirs_count  themselves_count  \\\n",
       "0           1            2             0                 0   \n",
       "1           5            4             0                 1   \n",
       "2           2            0             0                 0   \n",
       "3           2            2             0                 0   \n",
       "4           2            6             0                 1   \n",
       "\n",
       "   total_third_person  avg_third_person  \n",
       "0                   7              0.14  \n",
       "1                  20              0.40  \n",
       "2                   3              0.06  \n",
       "3                  15              0.30  \n",
       "4                  37              0.74  \n",
       "\n",
       "[5 rows x 75 columns]"
      ]
     },
     "execution_count": 28,
     "metadata": {},
     "output_type": "execute_result"
    }
   ],
   "source": [
    "df.head()"
   ]
  },
  {
   "cell_type": "markdown",
   "metadata": {},
   "source": [
    "<a id=pos_neg></a>\n",
    "<br>"
   ]
  },
  {
   "cell_type": "markdown",
   "metadata": {},
   "source": [
    "## Positive and Negative word count\n",
    "***"
   ]
  },
  {
   "cell_type": "markdown",
   "metadata": {},
   "source": [
    "**Note:** the words used in the following two documents are from:<br>\n",
    "- Minqing Hu and Bing Liu. \"Mining and Summarizing Customer Reviews.\" <br>\n",
    "- Proceedings of the ACM SIGKDD International Conference on Knowledge <br>\n",
    "- Discovery and Data Mining (KDD-2004), Aug 22-25, 2004, Seattle, <br>\n",
    "- Washington, USA.<br>\n",
    "\n",
    "The text files can be found in [mkulakowski2's GitHub account](https://gist.github.com/mkulakowski2)"
   ]
  },
  {
   "cell_type": "markdown",
   "metadata": {},
   "source": [
    "The idea is to use this bulk of positive and negative terms to see how many times each person uses them. This is not an exact science since it has some shortcomings. The system does not consider \"negating terms\". For example, the program will not recognize \"not happy\" as \"sad\", it will directly take \"happy\"."
   ]
  },
  {
   "cell_type": "code",
   "execution_count": 29,
   "metadata": {},
   "outputs": [],
   "source": [
    "with open('words/negative-words.txt', mode='r') as file:\n",
    "    negative_list = []\n",
    "    for row in file:\n",
    "        negative_list.append(str(' '+row+' '))"
   ]
  },
  {
   "cell_type": "code",
   "execution_count": 30,
   "metadata": {},
   "outputs": [],
   "source": [
    "neg_list_clean = []\n",
    "for i in negative_list:\n",
    "    i = i.replace('\\n','')\n",
    "    neg_list_clean.append(i)"
   ]
  },
  {
   "cell_type": "code",
   "execution_count": 31,
   "metadata": {},
   "outputs": [],
   "source": [
    "with open('words/positive-words.txt', mode='r') as file:\n",
    "    positive_list = []\n",
    "    for row in file:\n",
    "        positive_list.append(str(' '+row+' '))"
   ]
  },
  {
   "cell_type": "code",
   "execution_count": 32,
   "metadata": {},
   "outputs": [],
   "source": [
    "pos_list_clean = []\n",
    "for i in positive_list:\n",
    "    i = i.replace('\\n','')\n",
    "    pos_list_clean.append(i)"
   ]
  },
  {
   "cell_type": "code",
   "execution_count": 33,
   "metadata": {},
   "outputs": [
    {
     "name": "stdout",
     "output_type": "stream",
     "text": [
      "4783\n",
      "2006\n"
     ]
    }
   ],
   "source": [
    "print(len(neg_list_clean))\n",
    "print(len(pos_list_clean))"
   ]
  },
  {
   "cell_type": "code",
   "execution_count": 34,
   "metadata": {},
   "outputs": [],
   "source": [
    "positive_counter = []\n",
    "for post in df.posts:\n",
    "    inner_count = 0\n",
    "    for item in pos_list_clean:\n",
    "        result = post.casefold().count(item.casefold())\n",
    "        inner_count += result\n",
    "    \n",
    "    positive_counter.append(inner_count)"
   ]
  },
  {
   "cell_type": "code",
   "execution_count": 35,
   "metadata": {},
   "outputs": [],
   "source": [
    "df['positive_words'] = positive_counter"
   ]
  },
  {
   "cell_type": "code",
   "execution_count": 36,
   "metadata": {},
   "outputs": [],
   "source": [
    "df['avg_positive_words'] = df.positive_words / df.count_posts"
   ]
  },
  {
   "cell_type": "code",
   "execution_count": 37,
   "metadata": {},
   "outputs": [],
   "source": [
    "negative_counter = []\n",
    "for post in df.posts:\n",
    "    inner_count = 0\n",
    "    for item in neg_list_clean:\n",
    "        result = post.casefold().count(item.casefold())\n",
    "        inner_count += result\n",
    "    \n",
    "    negative_counter.append(inner_count)"
   ]
  },
  {
   "cell_type": "code",
   "execution_count": 38,
   "metadata": {},
   "outputs": [],
   "source": [
    "df['negative_words'] = negative_counter"
   ]
  },
  {
   "cell_type": "code",
   "execution_count": 39,
   "metadata": {},
   "outputs": [],
   "source": [
    "df['avg_negative_words'] = df.negative_words / df.count_posts"
   ]
  },
  {
   "cell_type": "markdown",
   "metadata": {},
   "source": [
    "<a id=interim></a>\n",
    "<br>"
   ]
  },
  {
   "cell_type": "markdown",
   "metadata": {},
   "source": [
    "## Creating an interim report with Pandas Profiling\n",
    "***"
   ]
  },
  {
   "cell_type": "code",
   "execution_count": 40,
   "metadata": {},
   "outputs": [
    {
     "data": {
      "text/html": [
       "<div>\n",
       "<style scoped>\n",
       "    .dataframe tbody tr th:only-of-type {\n",
       "        vertical-align: middle;\n",
       "    }\n",
       "\n",
       "    .dataframe tbody tr th {\n",
       "        vertical-align: top;\n",
       "    }\n",
       "\n",
       "    .dataframe thead th {\n",
       "        text-align: right;\n",
       "    }\n",
       "</style>\n",
       "<table border=\"1\" class=\"dataframe\">\n",
       "  <thead>\n",
       "    <tr style=\"text-align: right;\">\n",
       "      <th></th>\n",
       "      <th>type</th>\n",
       "      <th>posts</th>\n",
       "      <th>I</th>\n",
       "      <th>J</th>\n",
       "      <th>N</th>\n",
       "      <th>T</th>\n",
       "      <th>NF</th>\n",
       "      <th>NT</th>\n",
       "      <th>SP</th>\n",
       "      <th>SJ</th>\n",
       "      <th>...</th>\n",
       "      <th>them_count</th>\n",
       "      <th>their_count</th>\n",
       "      <th>theirs_count</th>\n",
       "      <th>themselves_count</th>\n",
       "      <th>total_third_person</th>\n",
       "      <th>avg_third_person</th>\n",
       "      <th>positive_words</th>\n",
       "      <th>avg_positive_words</th>\n",
       "      <th>negative_words</th>\n",
       "      <th>avg_negative_words</th>\n",
       "    </tr>\n",
       "  </thead>\n",
       "  <tbody>\n",
       "    <tr>\n",
       "      <th>0</th>\n",
       "      <td>INFJ</td>\n",
       "      <td>'http://www.youtube.com/watch?v=qsXHcwe3krw|||...</td>\n",
       "      <td>1</td>\n",
       "      <td>1</td>\n",
       "      <td>1</td>\n",
       "      <td>0</td>\n",
       "      <td>1</td>\n",
       "      <td>0</td>\n",
       "      <td>0</td>\n",
       "      <td>0</td>\n",
       "      <td>...</td>\n",
       "      <td>1</td>\n",
       "      <td>2</td>\n",
       "      <td>0</td>\n",
       "      <td>0</td>\n",
       "      <td>7</td>\n",
       "      <td>0.14</td>\n",
       "      <td>19</td>\n",
       "      <td>0.38</td>\n",
       "      <td>9</td>\n",
       "      <td>0.18</td>\n",
       "    </tr>\n",
       "    <tr>\n",
       "      <th>1</th>\n",
       "      <td>ENTP</td>\n",
       "      <td>'I'm finding the lack of me in these posts ver...</td>\n",
       "      <td>0</td>\n",
       "      <td>0</td>\n",
       "      <td>1</td>\n",
       "      <td>1</td>\n",
       "      <td>0</td>\n",
       "      <td>1</td>\n",
       "      <td>0</td>\n",
       "      <td>0</td>\n",
       "      <td>...</td>\n",
       "      <td>5</td>\n",
       "      <td>4</td>\n",
       "      <td>0</td>\n",
       "      <td>1</td>\n",
       "      <td>20</td>\n",
       "      <td>0.40</td>\n",
       "      <td>38</td>\n",
       "      <td>0.76</td>\n",
       "      <td>24</td>\n",
       "      <td>0.48</td>\n",
       "    </tr>\n",
       "    <tr>\n",
       "      <th>2</th>\n",
       "      <td>INTP</td>\n",
       "      <td>'Good one  _____   https://www.youtube.com/wat...</td>\n",
       "      <td>1</td>\n",
       "      <td>0</td>\n",
       "      <td>1</td>\n",
       "      <td>1</td>\n",
       "      <td>0</td>\n",
       "      <td>1</td>\n",
       "      <td>0</td>\n",
       "      <td>0</td>\n",
       "      <td>...</td>\n",
       "      <td>2</td>\n",
       "      <td>0</td>\n",
       "      <td>0</td>\n",
       "      <td>0</td>\n",
       "      <td>3</td>\n",
       "      <td>0.06</td>\n",
       "      <td>35</td>\n",
       "      <td>0.70</td>\n",
       "      <td>18</td>\n",
       "      <td>0.36</td>\n",
       "    </tr>\n",
       "  </tbody>\n",
       "</table>\n",
       "<p>3 rows × 79 columns</p>\n",
       "</div>"
      ],
      "text/plain": [
       "   type                                              posts  I  J  N  T  NF  \\\n",
       "0  INFJ  'http://www.youtube.com/watch?v=qsXHcwe3krw|||...  1  1  1  0   1   \n",
       "1  ENTP  'I'm finding the lack of me in these posts ver...  0  0  1  1   0   \n",
       "2  INTP  'Good one  _____   https://www.youtube.com/wat...  1  0  1  1   0   \n",
       "\n",
       "   NT  SP  SJ  ...  them_count their_count  theirs_count  themselves_count  \\\n",
       "0   0   0   0  ...           1           2             0                 0   \n",
       "1   1   0   0  ...           5           4             0                 1   \n",
       "2   1   0   0  ...           2           0             0                 0   \n",
       "\n",
       "   total_third_person  avg_third_person  positive_words  avg_positive_words  \\\n",
       "0                   7              0.14              19                0.38   \n",
       "1                  20              0.40              38                0.76   \n",
       "2                   3              0.06              35                0.70   \n",
       "\n",
       "   negative_words  avg_negative_words  \n",
       "0               9                0.18  \n",
       "1              24                0.48  \n",
       "2              18                0.36  \n",
       "\n",
       "[3 rows x 79 columns]"
      ]
     },
     "execution_count": 40,
     "metadata": {},
     "output_type": "execute_result"
    }
   ],
   "source": [
    "# Let's check the final dataframe\n",
    "df.head(3)"
   ]
  },
  {
   "cell_type": "code",
   "execution_count": 41,
   "metadata": {},
   "outputs": [
    {
     "data": {
      "text/plain": [
       "(8675, 79)"
      ]
     },
     "execution_count": 41,
     "metadata": {},
     "output_type": "execute_result"
    }
   ],
   "source": [
    "# As we can see, we have managed to extract 77 columns + the 2 existing ones to a total of 79\n",
    "df.shape"
   ]
  },
  {
   "cell_type": "code",
   "execution_count": 42,
   "metadata": {},
   "outputs": [
    {
     "name": "stdout",
     "output_type": "stream",
     "text": [
      "<class 'pandas.core.frame.DataFrame'>\n",
      "RangeIndex: 8675 entries, 0 to 8674\n",
      "Data columns (total 79 columns):\n",
      " #   Column                  Non-Null Count  Dtype  \n",
      "---  ------                  --------------  -----  \n",
      " 0   type                    8675 non-null   object \n",
      " 1   posts                   8675 non-null   object \n",
      " 2   I                       8675 non-null   int64  \n",
      " 3   J                       8675 non-null   int64  \n",
      " 4   N                       8675 non-null   int64  \n",
      " 5   T                       8675 non-null   int64  \n",
      " 6   NF                      8675 non-null   int64  \n",
      " 7   NT                      8675 non-null   int64  \n",
      " 8   SP                      8675 non-null   int64  \n",
      " 9   SJ                      8675 non-null   int64  \n",
      " 10  posts_len               8675 non-null   int64  \n",
      " 11  posts_separated         8675 non-null   object \n",
      " 12  count_posts             8675 non-null   int64  \n",
      " 13  avg_num_char_x_post     8675 non-null   float64\n",
      " 14  num_of_links            8675 non-null   int64  \n",
      " 15  :D_count                8675 non-null   int64  \n",
      " 16  ;D_count                8675 non-null   int64  \n",
      " 17  :)_count                8675 non-null   int64  \n",
      " 18  ;)_count                8675 non-null   int64  \n",
      " 19  :(_count                8675 non-null   int64  \n",
      " 20  xD_count                8675 non-null   int64  \n",
      " 21  XD_count                8675 non-null   int64  \n",
      " 22  total_emoticons         8675 non-null   int64  \n",
      " 23  avg_emoticons_per_post  8675 non-null   float64\n",
      " 24  INFJ_mentions           8675 non-null   int64  \n",
      " 25  ENTP_mentions           8675 non-null   int64  \n",
      " 26  INTP_mentions           8675 non-null   int64  \n",
      " 27  INTJ_mentions           8675 non-null   int64  \n",
      " 28  ENTJ_mentions           8675 non-null   int64  \n",
      " 29  ENFJ_mentions           8675 non-null   int64  \n",
      " 30  INFP_mentions           8675 non-null   int64  \n",
      " 31  ENFP_mentions           8675 non-null   int64  \n",
      " 32  ISFP_mentions           8675 non-null   int64  \n",
      " 33  ISTP_mentions           8675 non-null   int64  \n",
      " 34  ISFJ_mentions           8675 non-null   int64  \n",
      " 35  ISTJ_mentions           8675 non-null   int64  \n",
      " 36  ESTP_mentions           8675 non-null   int64  \n",
      " 37  ESFP_mentions           8675 non-null   int64  \n",
      " 38  ESTJ_mentions           8675 non-null   int64  \n",
      " 39  ESFJ_mentions           8675 non-null   int64  \n",
      " 40  total_mentions          8675 non-null   int64  \n",
      " 41  avg_mentions_per_post   8675 non-null   float64\n",
      " 42  I_count                 8675 non-null   int64  \n",
      " 43  me_count                8675 non-null   int64  \n",
      " 44  my_count                8675 non-null   int64  \n",
      " 45  mine_count              8675 non-null   int64  \n",
      " 46  myself_count            8675 non-null   int64  \n",
      " 47  We_count                8675 non-null   int64  \n",
      " 48  us_count                8675 non-null   int64  \n",
      " 49  our_count               8675 non-null   int64  \n",
      " 50  ourselves_count         8675 non-null   int64  \n",
      " 51  total_first_person      8675 non-null   int64  \n",
      " 52  avg_first_person        8675 non-null   float64\n",
      " 53  you_count               8675 non-null   int64  \n",
      " 54  your_count              8675 non-null   int64  \n",
      " 55  yours_count             8675 non-null   int64  \n",
      " 56  yourself_count          8675 non-null   int64  \n",
      " 57  yourselves_count        8675 non-null   int64  \n",
      " 58  total_second_person     8675 non-null   int64  \n",
      " 59  avg_second_person       8675 non-null   float64\n",
      " 60  he_count                8675 non-null   int64  \n",
      " 61  him_count               8675 non-null   int64  \n",
      " 62  his_count               8675 non-null   int64  \n",
      " 63  himself_count           8675 non-null   int64  \n",
      " 64  she_count               8675 non-null   int64  \n",
      " 65  her_count               8675 non-null   int64  \n",
      " 66  hers_count              8675 non-null   int64  \n",
      " 67  herself_count           8675 non-null   int64  \n",
      " 68  they_count              8675 non-null   int64  \n",
      " 69  them_count              8675 non-null   int64  \n",
      " 70  their_count             8675 non-null   int64  \n",
      " 71  theirs_count            8675 non-null   int64  \n",
      " 72  themselves_count        8675 non-null   int64  \n",
      " 73  total_third_person      8675 non-null   int64  \n",
      " 74  avg_third_person        8675 non-null   float64\n",
      " 75  positive_words          8675 non-null   int64  \n",
      " 76  avg_positive_words      8675 non-null   float64\n",
      " 77  negative_words          8675 non-null   int64  \n",
      " 78  avg_negative_words      8675 non-null   float64\n",
      "dtypes: float64(8), int64(68), object(3)\n",
      "memory usage: 5.2+ MB\n"
     ]
    }
   ],
   "source": [
    "# We check the types and make sure there are no null values\n",
    "df.info()"
   ]
  },
  {
   "cell_type": "code",
   "execution_count": 43,
   "metadata": {},
   "outputs": [
    {
     "data": {
      "application/vnd.jupyter.widget-view+json": {
       "model_id": "5316afa0fd97474887632a61ce3c38eb",
       "version_major": 2,
       "version_minor": 0
      },
      "text/plain": [
       "HBox(children=(FloatProgress(value=0.0, description='Summarize dataset', max=93.0, style=ProgressStyle(descrip…"
      ]
     },
     "metadata": {},
     "output_type": "display_data"
    },
    {
     "name": "stdout",
     "output_type": "stream",
     "text": [
      "\n"
     ]
    },
    {
     "data": {
      "application/vnd.jupyter.widget-view+json": {
       "model_id": "4c855d24b0854a04bd299fb8a44ee6b1",
       "version_major": 2,
       "version_minor": 0
      },
      "text/plain": [
       "HBox(children=(FloatProgress(value=0.0, description='Generate report structure', max=1.0, style=ProgressStyle(…"
      ]
     },
     "metadata": {},
     "output_type": "display_data"
    },
    {
     "name": "stderr",
     "output_type": "stream",
     "text": [
      "/Users/diego/.pyenv/versions/venv-MBTI/lib/python3.8/site-packages/pandas_profiling/visualisation/plot.py:154: MatplotlibDeprecationWarning: You are modifying the state of a globally registered colormap. In future versions, you will not be able to modify a registered colormap in-place. To remove this warning, you can make a copy of the colormap first. cmap = copy.copy(mpl.cm.get_cmap(\"RdBu\"))\n",
      "  cmap.set_bad(cmap_bad)\n"
     ]
    },
    {
     "name": "stdout",
     "output_type": "stream",
     "text": [
      "\n"
     ]
    },
    {
     "data": {
      "application/vnd.jupyter.widget-view+json": {
       "model_id": "aa8fd7606cac42fdb92f6157ea1f6a55",
       "version_major": 2,
       "version_minor": 0
      },
      "text/plain": [
       "HBox(children=(FloatProgress(value=0.0, description='Render HTML', max=1.0, style=ProgressStyle(description_wi…"
      ]
     },
     "metadata": {},
     "output_type": "display_data"
    },
    {
     "name": "stdout",
     "output_type": "stream",
     "text": [
      "\n"
     ]
    },
    {
     "data": {
      "application/vnd.jupyter.widget-view+json": {
       "model_id": "6551115a59bc49bf9353feb5c4237b89",
       "version_major": 2,
       "version_minor": 0
      },
      "text/plain": [
       "HBox(children=(FloatProgress(value=0.0, description='Export report to file', max=1.0, style=ProgressStyle(desc…"
      ]
     },
     "metadata": {},
     "output_type": "display_data"
    },
    {
     "name": "stdout",
     "output_type": "stream",
     "text": [
      "\n"
     ]
    }
   ],
   "source": [
    "# We generate the interim pandas report.\n",
    "#from pandas_profiling import ProfileReport\n",
    "#from pandas_profiling.utils.cache import cache_file\n",
    "#report = df.profile_report(sort='None', html={'style':{'full_width':True}}, progress_bar=True)\n",
    "#report.to_file('pandas_profiling/mbti_report_interim.html')"
   ]
  },
  {
   "cell_type": "markdown",
   "metadata": {},
   "source": [
    "<a id='saving'></a>"
   ]
  },
  {
   "cell_type": "markdown",
   "metadata": {},
   "source": [
    "\n",
    "## Saving the dataset\n",
    "***"
   ]
  },
  {
   "cell_type": "markdown",
   "metadata": {},
   "source": [
    "Unfortunately the dataset is too large to upload to GitHub at this point... I have added **find ./* -size +100M | cat >> .gitignore\"** in the gitignore file to avoid uploading it. "
   ]
  },
  {
   "cell_type": "code",
   "execution_count": 44,
   "metadata": {},
   "outputs": [],
   "source": [
    "# finally, we save the new dataframe as a csv file.\n",
    "df.to_csv('../../data/mbti_interim.csv')"
   ]
  }
 ],
 "metadata": {
  "kernelspec": {
   "display_name": "Python 3",
   "language": "python",
   "name": "python3"
  },
  "language_info": {
   "codemirror_mode": {
    "name": "ipython",
    "version": 3
   },
   "file_extension": ".py",
   "mimetype": "text/x-python",
   "name": "python",
   "nbconvert_exporter": "python",
   "pygments_lexer": "ipython3",
   "version": "3.8.2"
  }
 },
 "nbformat": 4,
 "nbformat_minor": 4
}
